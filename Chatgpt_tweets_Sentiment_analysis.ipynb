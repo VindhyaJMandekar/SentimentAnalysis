{
  "cells": [
    {
      "cell_type": "code",
      "execution_count": null,
      "metadata": {
        "id": "0defd031",
        "colab": {
          "base_uri": "https://localhost:8080/",
          "height": 797
        },
        "outputId": "21796049-62b9-45e7-dc69-20905d122e58"
      },
      "outputs": [
        {
          "output_type": "stream",
          "name": "stdout",
          "text": [
            "Looking in indexes: https://pypi.org/simple, https://us-python.pkg.dev/colab-wheels/public/simple/\n",
            "Collecting pyLDAvis\n",
            "  Downloading pyLDAvis-3.4.1-py3-none-any.whl (2.6 MB)\n",
            "\u001b[2K     \u001b[90m━━━━━━━━━━━━━━━━━━━━━━━━━━━━━━━━━━━━━━━━\u001b[0m \u001b[32m2.6/2.6 MB\u001b[0m \u001b[31m28.9 MB/s\u001b[0m eta \u001b[36m0:00:00\u001b[0m\n",
            "\u001b[?25hCollecting numpy>=1.24.2 (from pyLDAvis)\n",
            "  Downloading numpy-1.24.3-cp310-cp310-manylinux_2_17_x86_64.manylinux2014_x86_64.whl (17.3 MB)\n",
            "\u001b[2K     \u001b[90m━━━━━━━━━━━━━━━━━━━━━━━━━━━━━━━━━━━━━━━━\u001b[0m \u001b[32m17.3/17.3 MB\u001b[0m \u001b[31m80.3 MB/s\u001b[0m eta \u001b[36m0:00:00\u001b[0m\n",
            "\u001b[?25hRequirement already satisfied: scipy in /usr/local/lib/python3.10/dist-packages (from pyLDAvis) (1.10.1)\n",
            "Collecting pandas>=2.0.0 (from pyLDAvis)\n",
            "  Downloading pandas-2.0.2-cp310-cp310-manylinux_2_17_x86_64.manylinux2014_x86_64.whl (12.3 MB)\n",
            "\u001b[2K     \u001b[90m━━━━━━━━━━━━━━━━━━━━━━━━━━━━━━━━━━━━━━━━\u001b[0m \u001b[32m12.3/12.3 MB\u001b[0m \u001b[31m71.0 MB/s\u001b[0m eta \u001b[36m0:00:00\u001b[0m\n",
            "\u001b[?25hRequirement already satisfied: joblib>=1.2.0 in /usr/local/lib/python3.10/dist-packages (from pyLDAvis) (1.2.0)\n",
            "Requirement already satisfied: jinja2 in /usr/local/lib/python3.10/dist-packages (from pyLDAvis) (3.1.2)\n",
            "Requirement already satisfied: numexpr in /usr/local/lib/python3.10/dist-packages (from pyLDAvis) (2.8.4)\n",
            "Collecting funcy (from pyLDAvis)\n",
            "  Downloading funcy-2.0-py2.py3-none-any.whl (30 kB)\n",
            "Requirement already satisfied: scikit-learn>=1.0.0 in /usr/local/lib/python3.10/dist-packages (from pyLDAvis) (1.2.2)\n",
            "Requirement already satisfied: gensim in /usr/local/lib/python3.10/dist-packages (from pyLDAvis) (4.3.1)\n",
            "Requirement already satisfied: setuptools in /usr/local/lib/python3.10/dist-packages (from pyLDAvis) (67.7.2)\n",
            "Requirement already satisfied: python-dateutil>=2.8.2 in /usr/local/lib/python3.10/dist-packages (from pandas>=2.0.0->pyLDAvis) (2.8.2)\n",
            "Requirement already satisfied: pytz>=2020.1 in /usr/local/lib/python3.10/dist-packages (from pandas>=2.0.0->pyLDAvis) (2022.7.1)\n",
            "Requirement already satisfied: tzdata>=2022.1 in /usr/local/lib/python3.10/dist-packages (from pandas>=2.0.0->pyLDAvis) (2023.3)\n",
            "Requirement already satisfied: threadpoolctl>=2.0.0 in /usr/local/lib/python3.10/dist-packages (from scikit-learn>=1.0.0->pyLDAvis) (3.1.0)\n",
            "Requirement already satisfied: smart-open>=1.8.1 in /usr/local/lib/python3.10/dist-packages (from gensim->pyLDAvis) (6.3.0)\n",
            "Requirement already satisfied: MarkupSafe>=2.0 in /usr/local/lib/python3.10/dist-packages (from jinja2->pyLDAvis) (2.1.2)\n",
            "Requirement already satisfied: six>=1.5 in /usr/local/lib/python3.10/dist-packages (from python-dateutil>=2.8.2->pandas>=2.0.0->pyLDAvis) (1.16.0)\n",
            "Installing collected packages: funcy, numpy, pandas, pyLDAvis\n",
            "  Attempting uninstall: numpy\n",
            "    Found existing installation: numpy 1.22.4\n",
            "    Uninstalling numpy-1.22.4:\n",
            "      Successfully uninstalled numpy-1.22.4\n",
            "  Attempting uninstall: pandas\n",
            "    Found existing installation: pandas 1.5.3\n",
            "    Uninstalling pandas-1.5.3:\n",
            "      Successfully uninstalled pandas-1.5.3\n",
            "\u001b[31mERROR: pip's dependency resolver does not currently take into account all the packages that are installed. This behaviour is the source of the following dependency conflicts.\n",
            "google-colab 1.0.0 requires pandas==1.5.3, but you have pandas 2.0.2 which is incompatible.\n",
            "numba 0.56.4 requires numpy<1.24,>=1.18, but you have numpy 1.24.3 which is incompatible.\n",
            "tensorflow 2.12.0 requires numpy<1.24,>=1.22, but you have numpy 1.24.3 which is incompatible.\u001b[0m\u001b[31m\n",
            "\u001b[0mSuccessfully installed funcy-2.0 numpy-1.24.3 pandas-2.0.2 pyLDAvis-3.4.1\n"
          ]
        },
        {
          "output_type": "display_data",
          "data": {
            "application/vnd.colab-display-data+json": {
              "pip_warning": {
                "packages": [
                  "numpy"
                ]
              }
            }
          },
          "metadata": {}
        }
      ],
      "source": [
        "!pip install pyLDAvis\n",
        "#you might have to restart runtime after running this command"
      ],
      "id": "0defd031"
    },
    {
      "cell_type": "code",
      "source": [
        "import re\n",
        "import pandas as pd\n",
        "import numpy as np\n",
        "from sklearn.linear_model import LogisticRegression\n",
        "from sklearn.model_selection import train_test_split\n",
        "from sklearn.naive_bayes import MultinomialNB\n",
        "from sklearn.ensemble import RandomForestClassifier\n",
        "from sklearn.feature_extraction.text import CountVectorizer, TfidfVectorizer\n",
        "from sklearn.metrics import  accuracy_score, f1_score, classification_report\n",
        "from sklearn.model_selection import GridSearchCV, RepeatedStratifiedKFold\n",
        "import seaborn as sns\n",
        "import matplotlib.pyplot as plt\n"
      ],
      "metadata": {
        "id": "ZvGDDfPOFar6"
      },
      "id": "ZvGDDfPOFar6",
      "execution_count": null,
      "outputs": []
    },
    {
      "cell_type": "code",
      "execution_count": null,
      "metadata": {
        "colab": {
          "base_uri": "https://localhost:8080/"
        },
        "id": "6rKB7dcT_dTx",
        "outputId": "95eef569-4438-45cf-ecad-2b3ea16f65ce"
      },
      "outputs": [
        {
          "output_type": "stream",
          "name": "stdout",
          "text": [
            "Mounted at /content/drive\n"
          ]
        }
      ],
      "source": [
        "from google.colab import drive\n",
        "drive.mount('/content/drive')"
      ],
      "id": "6rKB7dcT_dTx"
    },
    {
      "cell_type": "code",
      "execution_count": null,
      "metadata": {
        "id": "481ff47c"
      },
      "outputs": [],
      "source": [
        "chatgpt=pd.read_csv(\"/content/drive/Shareddrives/453 Group/Chatgpt_twitter_analysis.csv\")"
      ],
      "id": "481ff47c"
    },
    {
      "cell_type": "code",
      "execution_count": null,
      "metadata": {
        "colab": {
          "base_uri": "https://localhost:8080/",
          "height": 206
        },
        "id": "eb9923da",
        "outputId": "1e458b35-5170-4b33-b677-b4f5b103eadf"
      },
      "outputs": [
        {
          "output_type": "execute_result",
          "data": {
            "text/plain": [
              "   Unnamed: 0                                             tweets   labels\n",
              "0           0  ChatGPT: Optimizing Language Models for Dialog...  neutral\n",
              "1           1  Try talking with ChatGPT, our new AI system wh...     good\n",
              "2           2  ChatGPT: Optimizing Language Models for Dialog...  neutral\n",
              "3           3  THRILLED to share that ChatGPT, our new model ...     good\n",
              "4           4  As of 2 minutes ago, @OpenAI released their ne...      bad"
            ],
            "text/html": [
              "\n",
              "  <div id=\"df-b15f8ad1-f89d-4a0a-a5e6-48c8a8508174\">\n",
              "    <div class=\"colab-df-container\">\n",
              "      <div>\n",
              "<style scoped>\n",
              "    .dataframe tbody tr th:only-of-type {\n",
              "        vertical-align: middle;\n",
              "    }\n",
              "\n",
              "    .dataframe tbody tr th {\n",
              "        vertical-align: top;\n",
              "    }\n",
              "\n",
              "    .dataframe thead th {\n",
              "        text-align: right;\n",
              "    }\n",
              "</style>\n",
              "<table border=\"1\" class=\"dataframe\">\n",
              "  <thead>\n",
              "    <tr style=\"text-align: right;\">\n",
              "      <th></th>\n",
              "      <th>Unnamed: 0</th>\n",
              "      <th>tweets</th>\n",
              "      <th>labels</th>\n",
              "    </tr>\n",
              "  </thead>\n",
              "  <tbody>\n",
              "    <tr>\n",
              "      <th>0</th>\n",
              "      <td>0</td>\n",
              "      <td>ChatGPT: Optimizing Language Models for Dialog...</td>\n",
              "      <td>neutral</td>\n",
              "    </tr>\n",
              "    <tr>\n",
              "      <th>1</th>\n",
              "      <td>1</td>\n",
              "      <td>Try talking with ChatGPT, our new AI system wh...</td>\n",
              "      <td>good</td>\n",
              "    </tr>\n",
              "    <tr>\n",
              "      <th>2</th>\n",
              "      <td>2</td>\n",
              "      <td>ChatGPT: Optimizing Language Models for Dialog...</td>\n",
              "      <td>neutral</td>\n",
              "    </tr>\n",
              "    <tr>\n",
              "      <th>3</th>\n",
              "      <td>3</td>\n",
              "      <td>THRILLED to share that ChatGPT, our new model ...</td>\n",
              "      <td>good</td>\n",
              "    </tr>\n",
              "    <tr>\n",
              "      <th>4</th>\n",
              "      <td>4</td>\n",
              "      <td>As of 2 minutes ago, @OpenAI released their ne...</td>\n",
              "      <td>bad</td>\n",
              "    </tr>\n",
              "  </tbody>\n",
              "</table>\n",
              "</div>\n",
              "      <button class=\"colab-df-convert\" onclick=\"convertToInteractive('df-b15f8ad1-f89d-4a0a-a5e6-48c8a8508174')\"\n",
              "              title=\"Convert this dataframe to an interactive table.\"\n",
              "              style=\"display:none;\">\n",
              "        \n",
              "  <svg xmlns=\"http://www.w3.org/2000/svg\" height=\"24px\"viewBox=\"0 0 24 24\"\n",
              "       width=\"24px\">\n",
              "    <path d=\"M0 0h24v24H0V0z\" fill=\"none\"/>\n",
              "    <path d=\"M18.56 5.44l.94 2.06.94-2.06 2.06-.94-2.06-.94-.94-2.06-.94 2.06-2.06.94zm-11 1L8.5 8.5l.94-2.06 2.06-.94-2.06-.94L8.5 2.5l-.94 2.06-2.06.94zm10 10l.94 2.06.94-2.06 2.06-.94-2.06-.94-.94-2.06-.94 2.06-2.06.94z\"/><path d=\"M17.41 7.96l-1.37-1.37c-.4-.4-.92-.59-1.43-.59-.52 0-1.04.2-1.43.59L10.3 9.45l-7.72 7.72c-.78.78-.78 2.05 0 2.83L4 21.41c.39.39.9.59 1.41.59.51 0 1.02-.2 1.41-.59l7.78-7.78 2.81-2.81c.8-.78.8-2.07 0-2.86zM5.41 20L4 18.59l7.72-7.72 1.47 1.35L5.41 20z\"/>\n",
              "  </svg>\n",
              "      </button>\n",
              "      \n",
              "  <style>\n",
              "    .colab-df-container {\n",
              "      display:flex;\n",
              "      flex-wrap:wrap;\n",
              "      gap: 12px;\n",
              "    }\n",
              "\n",
              "    .colab-df-convert {\n",
              "      background-color: #E8F0FE;\n",
              "      border: none;\n",
              "      border-radius: 50%;\n",
              "      cursor: pointer;\n",
              "      display: none;\n",
              "      fill: #1967D2;\n",
              "      height: 32px;\n",
              "      padding: 0 0 0 0;\n",
              "      width: 32px;\n",
              "    }\n",
              "\n",
              "    .colab-df-convert:hover {\n",
              "      background-color: #E2EBFA;\n",
              "      box-shadow: 0px 1px 2px rgba(60, 64, 67, 0.3), 0px 1px 3px 1px rgba(60, 64, 67, 0.15);\n",
              "      fill: #174EA6;\n",
              "    }\n",
              "\n",
              "    [theme=dark] .colab-df-convert {\n",
              "      background-color: #3B4455;\n",
              "      fill: #D2E3FC;\n",
              "    }\n",
              "\n",
              "    [theme=dark] .colab-df-convert:hover {\n",
              "      background-color: #434B5C;\n",
              "      box-shadow: 0px 1px 3px 1px rgba(0, 0, 0, 0.15);\n",
              "      filter: drop-shadow(0px 1px 2px rgba(0, 0, 0, 0.3));\n",
              "      fill: #FFFFFF;\n",
              "    }\n",
              "  </style>\n",
              "\n",
              "      <script>\n",
              "        const buttonEl =\n",
              "          document.querySelector('#df-b15f8ad1-f89d-4a0a-a5e6-48c8a8508174 button.colab-df-convert');\n",
              "        buttonEl.style.display =\n",
              "          google.colab.kernel.accessAllowed ? 'block' : 'none';\n",
              "\n",
              "        async function convertToInteractive(key) {\n",
              "          const element = document.querySelector('#df-b15f8ad1-f89d-4a0a-a5e6-48c8a8508174');\n",
              "          const dataTable =\n",
              "            await google.colab.kernel.invokeFunction('convertToInteractive',\n",
              "                                                     [key], {});\n",
              "          if (!dataTable) return;\n",
              "\n",
              "          const docLinkHtml = 'Like what you see? Visit the ' +\n",
              "            '<a target=\"_blank\" href=https://colab.research.google.com/notebooks/data_table.ipynb>data table notebook</a>'\n",
              "            + ' to learn more about interactive tables.';\n",
              "          element.innerHTML = '';\n",
              "          dataTable['output_type'] = 'display_data';\n",
              "          await google.colab.output.renderOutput(dataTable, element);\n",
              "          const docLink = document.createElement('div');\n",
              "          docLink.innerHTML = docLinkHtml;\n",
              "          element.appendChild(docLink);\n",
              "        }\n",
              "      </script>\n",
              "    </div>\n",
              "  </div>\n",
              "  "
            ]
          },
          "metadata": {},
          "execution_count": 4
        }
      ],
      "source": [
        "chatgpt.head()"
      ],
      "id": "eb9923da"
    },
    {
      "cell_type": "code",
      "execution_count": null,
      "metadata": {
        "colab": {
          "base_uri": "https://localhost:8080/"
        },
        "id": "97764805",
        "outputId": "fdfe1c6b-80bc-4b93-c5eb-429d4c251a3a"
      },
      "outputs": [
        {
          "output_type": "execute_result",
          "data": {
            "text/plain": [
              "Unnamed: 0     int64\n",
              "tweets        object\n",
              "labels        object\n",
              "dtype: object"
            ]
          },
          "metadata": {},
          "execution_count": 5
        }
      ],
      "source": [
        "chatgpt.dtypes"
      ],
      "id": "97764805"
    },
    {
      "cell_type": "code",
      "execution_count": null,
      "metadata": {
        "colab": {
          "base_uri": "https://localhost:8080/"
        },
        "id": "3a7bb964",
        "outputId": "c4dd5811-2549-494c-e53e-0f52f7d49fcb"
      },
      "outputs": [
        {
          "output_type": "stream",
          "name": "stdout",
          "text": [
            "(219294, 3)\n"
          ]
        }
      ],
      "source": [
        "print(chatgpt.shape)"
      ],
      "id": "3a7bb964"
    },
    {
      "cell_type": "code",
      "execution_count": null,
      "metadata": {
        "colab": {
          "base_uri": "https://localhost:8080/"
        },
        "id": "9c3f790e",
        "outputId": "c2f9352c-e892-45d3-a9c9-a953051d69e1"
      },
      "outputs": [
        {
          "output_type": "stream",
          "name": "stdout",
          "text": [
            "Unnamed: 0    0\n",
            "tweets        0\n",
            "labels        0\n",
            "dtype: int64\n"
          ]
        }
      ],
      "source": [
        "print(chatgpt.isna().sum())"
      ],
      "id": "9c3f790e"
    },
    {
      "cell_type": "markdown",
      "metadata": {
        "id": "92316392"
      },
      "source": [
        "## Data Preprocessing"
      ],
      "id": "92316392"
    },
    {
      "cell_type": "code",
      "execution_count": null,
      "metadata": {
        "id": "34c7d3cc"
      },
      "outputs": [],
      "source": [
        "chatgpt = chatgpt[['tweets', 'labels']]"
      ],
      "id": "34c7d3cc"
    },
    {
      "cell_type": "code",
      "execution_count": null,
      "metadata": {
        "colab": {
          "base_uri": "https://localhost:8080/",
          "height": 206
        },
        "id": "b2a52e51",
        "outputId": "5f437428-db5f-4e41-914a-90c2c66effc6"
      },
      "outputs": [
        {
          "output_type": "execute_result",
          "data": {
            "text/plain": [
              "                                              tweets   labels\n",
              "0  ChatGPT: Optimizing Language Models for Dialog...  neutral\n",
              "1  Try talking with ChatGPT, our new AI system wh...     good\n",
              "2  ChatGPT: Optimizing Language Models for Dialog...  neutral\n",
              "3  THRILLED to share that ChatGPT, our new model ...     good\n",
              "4  As of 2 minutes ago, @OpenAI released their ne...      bad"
            ],
            "text/html": [
              "\n",
              "  <div id=\"df-90787135-e97c-478f-94bb-9a65ba08719e\">\n",
              "    <div class=\"colab-df-container\">\n",
              "      <div>\n",
              "<style scoped>\n",
              "    .dataframe tbody tr th:only-of-type {\n",
              "        vertical-align: middle;\n",
              "    }\n",
              "\n",
              "    .dataframe tbody tr th {\n",
              "        vertical-align: top;\n",
              "    }\n",
              "\n",
              "    .dataframe thead th {\n",
              "        text-align: right;\n",
              "    }\n",
              "</style>\n",
              "<table border=\"1\" class=\"dataframe\">\n",
              "  <thead>\n",
              "    <tr style=\"text-align: right;\">\n",
              "      <th></th>\n",
              "      <th>tweets</th>\n",
              "      <th>labels</th>\n",
              "    </tr>\n",
              "  </thead>\n",
              "  <tbody>\n",
              "    <tr>\n",
              "      <th>0</th>\n",
              "      <td>ChatGPT: Optimizing Language Models for Dialog...</td>\n",
              "      <td>neutral</td>\n",
              "    </tr>\n",
              "    <tr>\n",
              "      <th>1</th>\n",
              "      <td>Try talking with ChatGPT, our new AI system wh...</td>\n",
              "      <td>good</td>\n",
              "    </tr>\n",
              "    <tr>\n",
              "      <th>2</th>\n",
              "      <td>ChatGPT: Optimizing Language Models for Dialog...</td>\n",
              "      <td>neutral</td>\n",
              "    </tr>\n",
              "    <tr>\n",
              "      <th>3</th>\n",
              "      <td>THRILLED to share that ChatGPT, our new model ...</td>\n",
              "      <td>good</td>\n",
              "    </tr>\n",
              "    <tr>\n",
              "      <th>4</th>\n",
              "      <td>As of 2 minutes ago, @OpenAI released their ne...</td>\n",
              "      <td>bad</td>\n",
              "    </tr>\n",
              "  </tbody>\n",
              "</table>\n",
              "</div>\n",
              "      <button class=\"colab-df-convert\" onclick=\"convertToInteractive('df-90787135-e97c-478f-94bb-9a65ba08719e')\"\n",
              "              title=\"Convert this dataframe to an interactive table.\"\n",
              "              style=\"display:none;\">\n",
              "        \n",
              "  <svg xmlns=\"http://www.w3.org/2000/svg\" height=\"24px\"viewBox=\"0 0 24 24\"\n",
              "       width=\"24px\">\n",
              "    <path d=\"M0 0h24v24H0V0z\" fill=\"none\"/>\n",
              "    <path d=\"M18.56 5.44l.94 2.06.94-2.06 2.06-.94-2.06-.94-.94-2.06-.94 2.06-2.06.94zm-11 1L8.5 8.5l.94-2.06 2.06-.94-2.06-.94L8.5 2.5l-.94 2.06-2.06.94zm10 10l.94 2.06.94-2.06 2.06-.94-2.06-.94-.94-2.06-.94 2.06-2.06.94z\"/><path d=\"M17.41 7.96l-1.37-1.37c-.4-.4-.92-.59-1.43-.59-.52 0-1.04.2-1.43.59L10.3 9.45l-7.72 7.72c-.78.78-.78 2.05 0 2.83L4 21.41c.39.39.9.59 1.41.59.51 0 1.02-.2 1.41-.59l7.78-7.78 2.81-2.81c.8-.78.8-2.07 0-2.86zM5.41 20L4 18.59l7.72-7.72 1.47 1.35L5.41 20z\"/>\n",
              "  </svg>\n",
              "      </button>\n",
              "      \n",
              "  <style>\n",
              "    .colab-df-container {\n",
              "      display:flex;\n",
              "      flex-wrap:wrap;\n",
              "      gap: 12px;\n",
              "    }\n",
              "\n",
              "    .colab-df-convert {\n",
              "      background-color: #E8F0FE;\n",
              "      border: none;\n",
              "      border-radius: 50%;\n",
              "      cursor: pointer;\n",
              "      display: none;\n",
              "      fill: #1967D2;\n",
              "      height: 32px;\n",
              "      padding: 0 0 0 0;\n",
              "      width: 32px;\n",
              "    }\n",
              "\n",
              "    .colab-df-convert:hover {\n",
              "      background-color: #E2EBFA;\n",
              "      box-shadow: 0px 1px 2px rgba(60, 64, 67, 0.3), 0px 1px 3px 1px rgba(60, 64, 67, 0.15);\n",
              "      fill: #174EA6;\n",
              "    }\n",
              "\n",
              "    [theme=dark] .colab-df-convert {\n",
              "      background-color: #3B4455;\n",
              "      fill: #D2E3FC;\n",
              "    }\n",
              "\n",
              "    [theme=dark] .colab-df-convert:hover {\n",
              "      background-color: #434B5C;\n",
              "      box-shadow: 0px 1px 3px 1px rgba(0, 0, 0, 0.15);\n",
              "      filter: drop-shadow(0px 1px 2px rgba(0, 0, 0, 0.3));\n",
              "      fill: #FFFFFF;\n",
              "    }\n",
              "  </style>\n",
              "\n",
              "      <script>\n",
              "        const buttonEl =\n",
              "          document.querySelector('#df-90787135-e97c-478f-94bb-9a65ba08719e button.colab-df-convert');\n",
              "        buttonEl.style.display =\n",
              "          google.colab.kernel.accessAllowed ? 'block' : 'none';\n",
              "\n",
              "        async function convertToInteractive(key) {\n",
              "          const element = document.querySelector('#df-90787135-e97c-478f-94bb-9a65ba08719e');\n",
              "          const dataTable =\n",
              "            await google.colab.kernel.invokeFunction('convertToInteractive',\n",
              "                                                     [key], {});\n",
              "          if (!dataTable) return;\n",
              "\n",
              "          const docLinkHtml = 'Like what you see? Visit the ' +\n",
              "            '<a target=\"_blank\" href=https://colab.research.google.com/notebooks/data_table.ipynb>data table notebook</a>'\n",
              "            + ' to learn more about interactive tables.';\n",
              "          element.innerHTML = '';\n",
              "          dataTable['output_type'] = 'display_data';\n",
              "          await google.colab.output.renderOutput(dataTable, element);\n",
              "          const docLink = document.createElement('div');\n",
              "          docLink.innerHTML = docLinkHtml;\n",
              "          element.appendChild(docLink);\n",
              "        }\n",
              "      </script>\n",
              "    </div>\n",
              "  </div>\n",
              "  "
            ]
          },
          "metadata": {},
          "execution_count": 5
        }
      ],
      "source": [
        "chatgpt.head()"
      ],
      "id": "b2a52e51"
    },
    {
      "cell_type": "code",
      "execution_count": null,
      "metadata": {
        "colab": {
          "base_uri": "https://localhost:8080/"
        },
        "id": "599c6daf",
        "outputId": "dd097f76-31da-4632-9cc0-90c5ddc047ba"
      },
      "outputs": [
        {
          "output_type": "stream",
          "name": "stdout",
          "text": [
            "ChatGPT: Optimizing Language Models for Dialogue https://t.co/K9rKRygYyn @OpenAI\n",
            "\n",
            "Try talking with ChatGPT, our new AI system which is optimized for dialogue. Your feedback will help us improve it. https://t.co/sHDm57g3Kr\n",
            "\n",
            "ChatGPT: Optimizing Language Models for Dialogue https://t.co/GLEbMoKN6w #AI #MachineLearning #DataScience #ArtificialIntelligence\\n\\nTrending AI/ML Article Identified &amp; Digested via Granola; a Machine-Driven RSS Bot by Ramsey Elbasheer https://t.co/RprmAXUp34\n",
            "\n",
            "THRILLED to share that ChatGPT, our new model optimized for dialog, is now public, free, and accessible to everyone. https://t.co/dyvtHecYbd https://t.co/DdhzhqhCBX https://t.co/l8qTLure71\n",
            "\n",
            "As of 2 minutes ago, @OpenAI released their new ChatGPT. \\n\\nAnd you can use it right now 👇 https://t.co/VyPGPNw988 https://t.co/cSn5h6h1M1\n",
            "\n",
            "Just launched ChatGPT, our new AI system which is optimized for dialogue: https://t.co/ArX6m0FfLE.\\n\\nTry it out here: https://t.co/YM1gp5bA64\n",
            "\n",
            "As of 2 minutes ago, @OpenAI released their new ChatGPT. \\n\\nAnd you can use it right now \\n \\nhttps://t.co/kUcnWYhQ1b\\n\\n🤯 https://t.co/kCE59Xs0YG https://t.co/cSn5h6h1M1\n",
            "\n",
            "ChatGPT coming out strong refusing to help me stalk someone but agreeing providing that someone is Waldo. https://t.co/CVIJERbW38\n",
            "\n",
            "#0penAl just deployed a thing I've been helping build the last couple of months, it's a chatbot based on GPT 3. I'm really excited to share this vl\\nhttps://t.co/zp7HniUxBu\\nhttps://t.co/NISJLWhOMw\n",
            "\n",
            "Research preview of our newest model: ChatGPT\\n\\nWe're trying something new with this preview: Free and immediately available for everyone (no waitlist!) https://t.co/0RDT7QNZRD\n",
            "\n"
          ]
        }
      ],
      "source": [
        "# View the first 10 rows in the tweets column\n",
        "\n",
        "for i in chatgpt.tweets.head(10):\n",
        "    print(i)\n",
        "    print()"
      ],
      "id": "599c6daf"
    },
    {
      "cell_type": "code",
      "execution_count": null,
      "metadata": {
        "id": "c7fedfd8"
      },
      "outputs": [],
      "source": [
        "# Remove all the tweet links since they all begin with https:\n",
        "\n",
        "chatgpt['tweet_text'] = chatgpt['tweets'].str.split('https:')\n",
        "chatgpt = chatgpt[['tweet_text', 'labels']]"
      ],
      "id": "c7fedfd8"
    },
    {
      "cell_type": "code",
      "execution_count": null,
      "metadata": {
        "colab": {
          "base_uri": "https://localhost:8080/",
          "height": 206
        },
        "id": "0db93ea2",
        "outputId": "8cdfd846-6d8b-4a71-dbcd-ddb0fca4910f"
      },
      "outputs": [
        {
          "output_type": "execute_result",
          "data": {
            "text/plain": [
              "                                          tweet_text   labels\n",
              "0  [ChatGPT: Optimizing Language Models for Dialo...  neutral\n",
              "1  [Try talking with ChatGPT, our new AI system w...     good\n",
              "2  [ChatGPT: Optimizing Language Models for Dialo...  neutral\n",
              "3  [THRILLED to share that ChatGPT, our new model...     good\n",
              "4  [As of 2 minutes ago, @OpenAI released their n...      bad"
            ],
            "text/html": [
              "\n",
              "  <div id=\"df-cf135be6-9173-488d-b502-2603165663dc\">\n",
              "    <div class=\"colab-df-container\">\n",
              "      <div>\n",
              "<style scoped>\n",
              "    .dataframe tbody tr th:only-of-type {\n",
              "        vertical-align: middle;\n",
              "    }\n",
              "\n",
              "    .dataframe tbody tr th {\n",
              "        vertical-align: top;\n",
              "    }\n",
              "\n",
              "    .dataframe thead th {\n",
              "        text-align: right;\n",
              "    }\n",
              "</style>\n",
              "<table border=\"1\" class=\"dataframe\">\n",
              "  <thead>\n",
              "    <tr style=\"text-align: right;\">\n",
              "      <th></th>\n",
              "      <th>tweet_text</th>\n",
              "      <th>labels</th>\n",
              "    </tr>\n",
              "  </thead>\n",
              "  <tbody>\n",
              "    <tr>\n",
              "      <th>0</th>\n",
              "      <td>[ChatGPT: Optimizing Language Models for Dialo...</td>\n",
              "      <td>neutral</td>\n",
              "    </tr>\n",
              "    <tr>\n",
              "      <th>1</th>\n",
              "      <td>[Try talking with ChatGPT, our new AI system w...</td>\n",
              "      <td>good</td>\n",
              "    </tr>\n",
              "    <tr>\n",
              "      <th>2</th>\n",
              "      <td>[ChatGPT: Optimizing Language Models for Dialo...</td>\n",
              "      <td>neutral</td>\n",
              "    </tr>\n",
              "    <tr>\n",
              "      <th>3</th>\n",
              "      <td>[THRILLED to share that ChatGPT, our new model...</td>\n",
              "      <td>good</td>\n",
              "    </tr>\n",
              "    <tr>\n",
              "      <th>4</th>\n",
              "      <td>[As of 2 minutes ago, @OpenAI released their n...</td>\n",
              "      <td>bad</td>\n",
              "    </tr>\n",
              "  </tbody>\n",
              "</table>\n",
              "</div>\n",
              "      <button class=\"colab-df-convert\" onclick=\"convertToInteractive('df-cf135be6-9173-488d-b502-2603165663dc')\"\n",
              "              title=\"Convert this dataframe to an interactive table.\"\n",
              "              style=\"display:none;\">\n",
              "        \n",
              "  <svg xmlns=\"http://www.w3.org/2000/svg\" height=\"24px\"viewBox=\"0 0 24 24\"\n",
              "       width=\"24px\">\n",
              "    <path d=\"M0 0h24v24H0V0z\" fill=\"none\"/>\n",
              "    <path d=\"M18.56 5.44l.94 2.06.94-2.06 2.06-.94-2.06-.94-.94-2.06-.94 2.06-2.06.94zm-11 1L8.5 8.5l.94-2.06 2.06-.94-2.06-.94L8.5 2.5l-.94 2.06-2.06.94zm10 10l.94 2.06.94-2.06 2.06-.94-2.06-.94-.94-2.06-.94 2.06-2.06.94z\"/><path d=\"M17.41 7.96l-1.37-1.37c-.4-.4-.92-.59-1.43-.59-.52 0-1.04.2-1.43.59L10.3 9.45l-7.72 7.72c-.78.78-.78 2.05 0 2.83L4 21.41c.39.39.9.59 1.41.59.51 0 1.02-.2 1.41-.59l7.78-7.78 2.81-2.81c.8-.78.8-2.07 0-2.86zM5.41 20L4 18.59l7.72-7.72 1.47 1.35L5.41 20z\"/>\n",
              "  </svg>\n",
              "      </button>\n",
              "      \n",
              "  <style>\n",
              "    .colab-df-container {\n",
              "      display:flex;\n",
              "      flex-wrap:wrap;\n",
              "      gap: 12px;\n",
              "    }\n",
              "\n",
              "    .colab-df-convert {\n",
              "      background-color: #E8F0FE;\n",
              "      border: none;\n",
              "      border-radius: 50%;\n",
              "      cursor: pointer;\n",
              "      display: none;\n",
              "      fill: #1967D2;\n",
              "      height: 32px;\n",
              "      padding: 0 0 0 0;\n",
              "      width: 32px;\n",
              "    }\n",
              "\n",
              "    .colab-df-convert:hover {\n",
              "      background-color: #E2EBFA;\n",
              "      box-shadow: 0px 1px 2px rgba(60, 64, 67, 0.3), 0px 1px 3px 1px rgba(60, 64, 67, 0.15);\n",
              "      fill: #174EA6;\n",
              "    }\n",
              "\n",
              "    [theme=dark] .colab-df-convert {\n",
              "      background-color: #3B4455;\n",
              "      fill: #D2E3FC;\n",
              "    }\n",
              "\n",
              "    [theme=dark] .colab-df-convert:hover {\n",
              "      background-color: #434B5C;\n",
              "      box-shadow: 0px 1px 3px 1px rgba(0, 0, 0, 0.15);\n",
              "      filter: drop-shadow(0px 1px 2px rgba(0, 0, 0, 0.3));\n",
              "      fill: #FFFFFF;\n",
              "    }\n",
              "  </style>\n",
              "\n",
              "      <script>\n",
              "        const buttonEl =\n",
              "          document.querySelector('#df-cf135be6-9173-488d-b502-2603165663dc button.colab-df-convert');\n",
              "        buttonEl.style.display =\n",
              "          google.colab.kernel.accessAllowed ? 'block' : 'none';\n",
              "\n",
              "        async function convertToInteractive(key) {\n",
              "          const element = document.querySelector('#df-cf135be6-9173-488d-b502-2603165663dc');\n",
              "          const dataTable =\n",
              "            await google.colab.kernel.invokeFunction('convertToInteractive',\n",
              "                                                     [key], {});\n",
              "          if (!dataTable) return;\n",
              "\n",
              "          const docLinkHtml = 'Like what you see? Visit the ' +\n",
              "            '<a target=\"_blank\" href=https://colab.research.google.com/notebooks/data_table.ipynb>data table notebook</a>'\n",
              "            + ' to learn more about interactive tables.';\n",
              "          element.innerHTML = '';\n",
              "          dataTable['output_type'] = 'display_data';\n",
              "          await google.colab.output.renderOutput(dataTable, element);\n",
              "          const docLink = document.createElement('div');\n",
              "          docLink.innerHTML = docLinkHtml;\n",
              "          element.appendChild(docLink);\n",
              "        }\n",
              "      </script>\n",
              "    </div>\n",
              "  </div>\n",
              "  "
            ]
          },
          "metadata": {},
          "execution_count": 8
        }
      ],
      "source": [
        "chatgpt.head()"
      ],
      "id": "0db93ea2"
    },
    {
      "cell_type": "code",
      "execution_count": null,
      "metadata": {
        "colab": {
          "base_uri": "https://localhost:8080/"
        },
        "id": "ab25b95a",
        "outputId": "8ada5298-fd01-493b-dfcf-f74bcbfbd859"
      },
      "outputs": [
        {
          "output_type": "stream",
          "name": "stdout",
          "text": [
            "['ChatGPT: Optimizing Language Models for Dialogue ', '//t.co/K9rKRygYyn @OpenAI']\n",
            "['Try talking with ChatGPT, our new AI system which is optimized for dialogue. Your feedback will help us improve it. ', '//t.co/sHDm57g3Kr']\n",
            "['ChatGPT: Optimizing Language Models for Dialogue ', '//t.co/GLEbMoKN6w #AI #MachineLearning #DataScience #ArtificialIntelligence\\\\n\\\\nTrending AI/ML Article Identified &amp; Digested via Granola; a Machine-Driven RSS Bot by Ramsey Elbasheer ', '//t.co/RprmAXUp34']\n",
            "['THRILLED to share that ChatGPT, our new model optimized for dialog, is now public, free, and accessible to everyone. ', '//t.co/dyvtHecYbd ', '//t.co/DdhzhqhCBX ', '//t.co/l8qTLure71']\n",
            "['As of 2 minutes ago, @OpenAI released their new ChatGPT. \\\\n\\\\nAnd you can use it right now 👇 ', '//t.co/VyPGPNw988 ', '//t.co/cSn5h6h1M1']\n",
            "['Just launched ChatGPT, our new AI system which is optimized for dialogue: ', '//t.co/ArX6m0FfLE.\\\\n\\\\nTry it out here: ', '//t.co/YM1gp5bA64']\n",
            "['As of 2 minutes ago, @OpenAI released their new ChatGPT. \\\\n\\\\nAnd you can use it right now \\\\n \\\\n', '//t.co/kUcnWYhQ1b\\\\n\\\\n🤯 ', '//t.co/kCE59Xs0YG ', '//t.co/cSn5h6h1M1']\n",
            "['ChatGPT coming out strong refusing to help me stalk someone but agreeing providing that someone is Waldo. ', '//t.co/CVIJERbW38']\n",
            "[\"#0penAl just deployed a thing I've been helping build the last couple of months, it's a chatbot based on GPT 3. I'm really excited to share this vl\\\\n\", '//t.co/zp7HniUxBu\\\\n', '//t.co/NISJLWhOMw']\n",
            "[\"Research preview of our newest model: ChatGPT\\\\n\\\\nWe're trying something new with this preview: Free and immediately available for everyone (no waitlist!) \", '//t.co/0RDT7QNZRD']\n"
          ]
        }
      ],
      "source": [
        "# View the first 10 rows in the tweets column\n",
        "\n",
        "for i in chatgpt.tweet_text.head(10):\n",
        "    print(i)\n"
      ],
      "id": "ab25b95a"
    },
    {
      "cell_type": "code",
      "execution_count": null,
      "metadata": {
        "id": "e64f98ba"
      },
      "outputs": [],
      "source": [
        "text = [i[0] for i in chatgpt.tweet_text]"
      ],
      "id": "e64f98ba"
    },
    {
      "cell_type": "code",
      "execution_count": null,
      "metadata": {
        "id": "dcd703c2"
      },
      "outputs": [],
      "source": [
        "# Remove all non-alphanumeric characters from the text list\n",
        "string = r'[A-Za-z0-9 ]'\n",
        "\n",
        "trim_list=[]\n",
        "\n",
        "for row in text:\n",
        "    s=''\n",
        "    for letter in row:\n",
        "        if bool(re.match(string, letter)):\n",
        "            s+=letter\n",
        "    trim_list.append(s)"
      ],
      "id": "dcd703c2"
    },
    {
      "cell_type": "code",
      "execution_count": null,
      "metadata": {
        "id": "9971a5c7"
      },
      "outputs": [],
      "source": [
        "# Remove the non-printing characters from text\n",
        "\n",
        "rep_list = ['\\U0001fae1', '\\\\n', '@', '#', '\\xa0', '***']\n",
        "\n",
        "for i in trim_list:\n",
        "    for j in rep_list:\n",
        "        if j in i:\n",
        "            i.replace(j,'')"
      ],
      "id": "9971a5c7"
    },
    {
      "cell_type": "code",
      "execution_count": null,
      "metadata": {
        "id": "953fea13"
      },
      "outputs": [],
      "source": [
        "chatgpt['tweet_text'] = trim_list"
      ],
      "id": "953fea13"
    },
    {
      "cell_type": "code",
      "execution_count": null,
      "metadata": {
        "colab": {
          "base_uri": "https://localhost:8080/"
        },
        "id": "1cc86b08",
        "outputId": "08b112ee-ed9e-4295-adaa-c0821f0e5659"
      },
      "outputs": [
        {
          "output_type": "stream",
          "name": "stdout",
          "text": [
            "ChatGPT Optimizing Language Models for Dialogue \n",
            "Try talking with ChatGPT our new AI system which is optimized for dialogue Your feedback will help us improve it \n",
            "ChatGPT Optimizing Language Models for Dialogue \n",
            "THRILLED to share that ChatGPT our new model optimized for dialog is now public free and accessible to everyone \n",
            "As of 2 minutes ago OpenAI released their new ChatGPT nnAnd you can use it right now  \n",
            "Just launched ChatGPT our new AI system which is optimized for dialogue \n",
            "As of 2 minutes ago OpenAI released their new ChatGPT nnAnd you can use it right now n n\n",
            "ChatGPT coming out strong refusing to help me stalk someone but agreeing providing that someone is Waldo \n",
            "0penAl just deployed a thing Ive been helping build the last couple of months its a chatbot based on GPT 3 Im really excited to share this vln\n",
            "Research preview of our newest model ChatGPTnnWere trying something new with this preview Free and immediately available for everyone no waitlist \n"
          ]
        }
      ],
      "source": [
        "# View the first 10 rows in the tweets column\n",
        "\n",
        "for i in chatgpt.tweet_text.head(10):\n",
        "    print(i)\n"
      ],
      "id": "1cc86b08"
    },
    {
      "cell_type": "code",
      "execution_count": null,
      "metadata": {
        "colab": {
          "base_uri": "https://localhost:8080/",
          "height": 206
        },
        "id": "435ae6a4",
        "outputId": "691b4dae-8b89-40ec-ac7f-fc12c67e2e82"
      },
      "outputs": [
        {
          "output_type": "execute_result",
          "data": {
            "text/plain": [
              "                                          tweet_text   labels\n",
              "0   ChatGPT Optimizing Language Models for Dialogue   neutral\n",
              "1  Try talking with ChatGPT our new AI system whi...     good\n",
              "2   ChatGPT Optimizing Language Models for Dialogue   neutral\n",
              "3  THRILLED to share that ChatGPT our new model o...     good\n",
              "4  As of 2 minutes ago OpenAI released their new ...      bad"
            ],
            "text/html": [
              "\n",
              "  <div id=\"df-97ffffdf-1656-49bb-8b9c-5cbaa591adea\">\n",
              "    <div class=\"colab-df-container\">\n",
              "      <div>\n",
              "<style scoped>\n",
              "    .dataframe tbody tr th:only-of-type {\n",
              "        vertical-align: middle;\n",
              "    }\n",
              "\n",
              "    .dataframe tbody tr th {\n",
              "        vertical-align: top;\n",
              "    }\n",
              "\n",
              "    .dataframe thead th {\n",
              "        text-align: right;\n",
              "    }\n",
              "</style>\n",
              "<table border=\"1\" class=\"dataframe\">\n",
              "  <thead>\n",
              "    <tr style=\"text-align: right;\">\n",
              "      <th></th>\n",
              "      <th>tweet_text</th>\n",
              "      <th>labels</th>\n",
              "    </tr>\n",
              "  </thead>\n",
              "  <tbody>\n",
              "    <tr>\n",
              "      <th>0</th>\n",
              "      <td>ChatGPT Optimizing Language Models for Dialogue</td>\n",
              "      <td>neutral</td>\n",
              "    </tr>\n",
              "    <tr>\n",
              "      <th>1</th>\n",
              "      <td>Try talking with ChatGPT our new AI system whi...</td>\n",
              "      <td>good</td>\n",
              "    </tr>\n",
              "    <tr>\n",
              "      <th>2</th>\n",
              "      <td>ChatGPT Optimizing Language Models for Dialogue</td>\n",
              "      <td>neutral</td>\n",
              "    </tr>\n",
              "    <tr>\n",
              "      <th>3</th>\n",
              "      <td>THRILLED to share that ChatGPT our new model o...</td>\n",
              "      <td>good</td>\n",
              "    </tr>\n",
              "    <tr>\n",
              "      <th>4</th>\n",
              "      <td>As of 2 minutes ago OpenAI released their new ...</td>\n",
              "      <td>bad</td>\n",
              "    </tr>\n",
              "  </tbody>\n",
              "</table>\n",
              "</div>\n",
              "      <button class=\"colab-df-convert\" onclick=\"convertToInteractive('df-97ffffdf-1656-49bb-8b9c-5cbaa591adea')\"\n",
              "              title=\"Convert this dataframe to an interactive table.\"\n",
              "              style=\"display:none;\">\n",
              "        \n",
              "  <svg xmlns=\"http://www.w3.org/2000/svg\" height=\"24px\"viewBox=\"0 0 24 24\"\n",
              "       width=\"24px\">\n",
              "    <path d=\"M0 0h24v24H0V0z\" fill=\"none\"/>\n",
              "    <path d=\"M18.56 5.44l.94 2.06.94-2.06 2.06-.94-2.06-.94-.94-2.06-.94 2.06-2.06.94zm-11 1L8.5 8.5l.94-2.06 2.06-.94-2.06-.94L8.5 2.5l-.94 2.06-2.06.94zm10 10l.94 2.06.94-2.06 2.06-.94-2.06-.94-.94-2.06-.94 2.06-2.06.94z\"/><path d=\"M17.41 7.96l-1.37-1.37c-.4-.4-.92-.59-1.43-.59-.52 0-1.04.2-1.43.59L10.3 9.45l-7.72 7.72c-.78.78-.78 2.05 0 2.83L4 21.41c.39.39.9.59 1.41.59.51 0 1.02-.2 1.41-.59l7.78-7.78 2.81-2.81c.8-.78.8-2.07 0-2.86zM5.41 20L4 18.59l7.72-7.72 1.47 1.35L5.41 20z\"/>\n",
              "  </svg>\n",
              "      </button>\n",
              "      \n",
              "  <style>\n",
              "    .colab-df-container {\n",
              "      display:flex;\n",
              "      flex-wrap:wrap;\n",
              "      gap: 12px;\n",
              "    }\n",
              "\n",
              "    .colab-df-convert {\n",
              "      background-color: #E8F0FE;\n",
              "      border: none;\n",
              "      border-radius: 50%;\n",
              "      cursor: pointer;\n",
              "      display: none;\n",
              "      fill: #1967D2;\n",
              "      height: 32px;\n",
              "      padding: 0 0 0 0;\n",
              "      width: 32px;\n",
              "    }\n",
              "\n",
              "    .colab-df-convert:hover {\n",
              "      background-color: #E2EBFA;\n",
              "      box-shadow: 0px 1px 2px rgba(60, 64, 67, 0.3), 0px 1px 3px 1px rgba(60, 64, 67, 0.15);\n",
              "      fill: #174EA6;\n",
              "    }\n",
              "\n",
              "    [theme=dark] .colab-df-convert {\n",
              "      background-color: #3B4455;\n",
              "      fill: #D2E3FC;\n",
              "    }\n",
              "\n",
              "    [theme=dark] .colab-df-convert:hover {\n",
              "      background-color: #434B5C;\n",
              "      box-shadow: 0px 1px 3px 1px rgba(0, 0, 0, 0.15);\n",
              "      filter: drop-shadow(0px 1px 2px rgba(0, 0, 0, 0.3));\n",
              "      fill: #FFFFFF;\n",
              "    }\n",
              "  </style>\n",
              "\n",
              "      <script>\n",
              "        const buttonEl =\n",
              "          document.querySelector('#df-97ffffdf-1656-49bb-8b9c-5cbaa591adea button.colab-df-convert');\n",
              "        buttonEl.style.display =\n",
              "          google.colab.kernel.accessAllowed ? 'block' : 'none';\n",
              "\n",
              "        async function convertToInteractive(key) {\n",
              "          const element = document.querySelector('#df-97ffffdf-1656-49bb-8b9c-5cbaa591adea');\n",
              "          const dataTable =\n",
              "            await google.colab.kernel.invokeFunction('convertToInteractive',\n",
              "                                                     [key], {});\n",
              "          if (!dataTable) return;\n",
              "\n",
              "          const docLinkHtml = 'Like what you see? Visit the ' +\n",
              "            '<a target=\"_blank\" href=https://colab.research.google.com/notebooks/data_table.ipynb>data table notebook</a>'\n",
              "            + ' to learn more about interactive tables.';\n",
              "          element.innerHTML = '';\n",
              "          dataTable['output_type'] = 'display_data';\n",
              "          await google.colab.output.renderOutput(dataTable, element);\n",
              "          const docLink = document.createElement('div');\n",
              "          docLink.innerHTML = docLinkHtml;\n",
              "          element.appendChild(docLink);\n",
              "        }\n",
              "      </script>\n",
              "    </div>\n",
              "  </div>\n",
              "  "
            ]
          },
          "metadata": {},
          "execution_count": 19
        }
      ],
      "source": [
        "chatgpt.head()"
      ],
      "id": "435ae6a4"
    },
    {
      "cell_type": "code",
      "execution_count": null,
      "metadata": {
        "colab": {
          "base_uri": "https://localhost:8080/",
          "height": 536
        },
        "id": "4sHpF2zWUdOE",
        "outputId": "97a0c306-a901-48fc-ede1-8989ead3d1f2"
      },
      "outputs": [
        {
          "output_type": "stream",
          "name": "stdout",
          "text": [
            "labels\n",
            "bad        107796\n",
            "good        56011\n",
            "neutral     55487\n",
            "Name: count, dtype: int64\n"
          ]
        },
        {
          "output_type": "display_data",
          "data": {
            "text/plain": [
              "<Figure size 640x480 with 1 Axes>"
            ],
            "image/png": "[encoded data removed]"
          },
          "metadata": {}
        }
      ],
      "source": [
        "# Assuming you have loaded your dataset and it is stored in the variable 'df'\n",
        "label_counts = chatgpt['labels'].value_counts()\n",
        "print(label_counts)\n",
        "\n",
        "sns.countplot(data=chatgpt, x='labels', palette='coolwarm')\n",
        "plt.show()\n"
      ],
      "id": "4sHpF2zWUdOE"
    },
    {
      "cell_type": "code",
      "execution_count": null,
      "metadata": {
        "id": "75c11314"
      },
      "outputs": [],
      "source": [
        "chatgpt['lab_int'] = np.where(chatgpt['labels']=='good', 1, np.where(chatgpt['labels']=='bad', -1, 0))\n",
        "chatgpt['labels']=chatgpt['lab_int']\n",
        "chatgpt = chatgpt[['tweet_text', 'labels']]"
      ],
      "id": "75c11314"
    },
    {
      "cell_type": "code",
      "execution_count": null,
      "metadata": {
        "colab": {
          "base_uri": "https://localhost:8080/",
          "height": 472
        },
        "id": "8zPFwDu1Zuz5",
        "outputId": "9f27cff5-55bc-43c0-f06e-2a9927cf3fea"
      },
      "outputs": [
        {
          "output_type": "display_data",
          "data": {
            "text/plain": [
              "<Figure size 640x480 with 1 Axes>"
            ],
            "image/png": "[encoded data removed]"
          },
          "metadata": {}
        }
      ],
      "source": [
        "# Text Length Analysis\n",
        "chatgpt['text_length'] = chatgpt['tweet_text'].str.len()\n",
        "\n",
        "# Distribution of Text Length\n",
        "sns.histplot(data=chatgpt, x='text_length', bins=20)\n",
        "plt.xlabel('Text Length')\n",
        "plt.ylabel('Frequency')\n",
        "plt.title('Distribution of Text Length')\n",
        "plt.show()"
      ],
      "id": "8zPFwDu1Zuz5"
    },
    {
      "cell_type": "code",
      "execution_count": null,
      "metadata": {
        "colab": {
          "base_uri": "https://localhost:8080/",
          "height": 518
        },
        "id": "bd720_19ZuiC",
        "outputId": "36645ff9-aeb8-42e2-8b2c-2fc272936779"
      },
      "outputs": [
        {
          "output_type": "display_data",
          "data": {
            "text/plain": [
              "<Figure size 640x480 with 1 Axes>"
            ],
            "image/png": "[encoded data removed]"
          },
          "metadata": {}
        }
      ],
      "source": [
        "# Word Frequency Analysis\n",
        "word_freq = chatgpt['tweet_text'].str.split(expand=True).stack().value_counts()\n",
        "top_20_words = word_freq.head(20)\n",
        "\n",
        "sns.barplot(x=top_20_words.index, y=top_20_words.values)\n",
        "plt.xlabel('Word')\n",
        "plt.ylabel('Frequency')\n",
        "plt.title('Top 20 Most Frequent Words')\n",
        "plt.xticks(rotation=90)\n",
        "plt.show()"
      ],
      "id": "bd720_19ZuiC"
    },
    {
      "cell_type": "code",
      "execution_count": null,
      "metadata": {
        "colab": {
          "base_uri": "https://localhost:8080/",
          "height": 112
        },
        "id": "-z3aUFkXaE8M",
        "outputId": "d5720d02-1c5b-498e-92c0-b9be90fb6890"
      },
      "outputs": [
        {
          "output_type": "execute_result",
          "data": {
            "text/plain": [
              "             text_length    labels\n",
              "text_length     1.000000  0.344137\n",
              "labels          0.344137  1.000000"
            ],
            "text/html": [
              "\n",
              "  <div id=\"df-cc995cb1-9c1c-4d5c-acc9-0c46076b306f\">\n",
              "    <div class=\"colab-df-container\">\n",
              "      <div>\n",
              "<style scoped>\n",
              "    .dataframe tbody tr th:only-of-type {\n",
              "        vertical-align: middle;\n",
              "    }\n",
              "\n",
              "    .dataframe tbody tr th {\n",
              "        vertical-align: top;\n",
              "    }\n",
              "\n",
              "    .dataframe thead th {\n",
              "        text-align: right;\n",
              "    }\n",
              "</style>\n",
              "<table border=\"1\" class=\"dataframe\">\n",
              "  <thead>\n",
              "    <tr style=\"text-align: right;\">\n",
              "      <th></th>\n",
              "      <th>text_length</th>\n",
              "      <th>labels</th>\n",
              "    </tr>\n",
              "  </thead>\n",
              "  <tbody>\n",
              "    <tr>\n",
              "      <th>text_length</th>\n",
              "      <td>1.000000</td>\n",
              "      <td>0.344137</td>\n",
              "    </tr>\n",
              "    <tr>\n",
              "      <th>labels</th>\n",
              "      <td>0.344137</td>\n",
              "      <td>1.000000</td>\n",
              "    </tr>\n",
              "  </tbody>\n",
              "</table>\n",
              "</div>\n",
              "      <button class=\"colab-df-convert\" onclick=\"convertToInteractive('df-cc995cb1-9c1c-4d5c-acc9-0c46076b306f')\"\n",
              "              title=\"Convert this dataframe to an interactive table.\"\n",
              "              style=\"display:none;\">\n",
              "        \n",
              "  <svg xmlns=\"http://www.w3.org/2000/svg\" height=\"24px\"viewBox=\"0 0 24 24\"\n",
              "       width=\"24px\">\n",
              "    <path d=\"M0 0h24v24H0V0z\" fill=\"none\"/>\n",
              "    <path d=\"M18.56 5.44l.94 2.06.94-2.06 2.06-.94-2.06-.94-.94-2.06-.94 2.06-2.06.94zm-11 1L8.5 8.5l.94-2.06 2.06-.94-2.06-.94L8.5 2.5l-.94 2.06-2.06.94zm10 10l.94 2.06.94-2.06 2.06-.94-2.06-.94-.94-2.06-.94 2.06-2.06.94z\"/><path d=\"M17.41 7.96l-1.37-1.37c-.4-.4-.92-.59-1.43-.59-.52 0-1.04.2-1.43.59L10.3 9.45l-7.72 7.72c-.78.78-.78 2.05 0 2.83L4 21.41c.39.39.9.59 1.41.59.51 0 1.02-.2 1.41-.59l7.78-7.78 2.81-2.81c.8-.78.8-2.07 0-2.86zM5.41 20L4 18.59l7.72-7.72 1.47 1.35L5.41 20z\"/>\n",
              "  </svg>\n",
              "      </button>\n",
              "      \n",
              "  <style>\n",
              "    .colab-df-container {\n",
              "      display:flex;\n",
              "      flex-wrap:wrap;\n",
              "      gap: 12px;\n",
              "    }\n",
              "\n",
              "    .colab-df-convert {\n",
              "      background-color: #E8F0FE;\n",
              "      border: none;\n",
              "      border-radius: 50%;\n",
              "      cursor: pointer;\n",
              "      display: none;\n",
              "      fill: #1967D2;\n",
              "      height: 32px;\n",
              "      padding: 0 0 0 0;\n",
              "      width: 32px;\n",
              "    }\n",
              "\n",
              "    .colab-df-convert:hover {\n",
              "      background-color: #E2EBFA;\n",
              "      box-shadow: 0px 1px 2px rgba(60, 64, 67, 0.3), 0px 1px 3px 1px rgba(60, 64, 67, 0.15);\n",
              "      fill: #174EA6;\n",
              "    }\n",
              "\n",
              "    [theme=dark] .colab-df-convert {\n",
              "      background-color: #3B4455;\n",
              "      fill: #D2E3FC;\n",
              "    }\n",
              "\n",
              "    [theme=dark] .colab-df-convert:hover {\n",
              "      background-color: #434B5C;\n",
              "      box-shadow: 0px 1px 3px 1px rgba(0, 0, 0, 0.15);\n",
              "      filter: drop-shadow(0px 1px 2px rgba(0, 0, 0, 0.3));\n",
              "      fill: #FFFFFF;\n",
              "    }\n",
              "  </style>\n",
              "\n",
              "      <script>\n",
              "        const buttonEl =\n",
              "          document.querySelector('#df-cc995cb1-9c1c-4d5c-acc9-0c46076b306f button.colab-df-convert');\n",
              "        buttonEl.style.display =\n",
              "          google.colab.kernel.accessAllowed ? 'block' : 'none';\n",
              "\n",
              "        async function convertToInteractive(key) {\n",
              "          const element = document.querySelector('#df-cc995cb1-9c1c-4d5c-acc9-0c46076b306f');\n",
              "          const dataTable =\n",
              "            await google.colab.kernel.invokeFunction('convertToInteractive',\n",
              "                                                     [key], {});\n",
              "          if (!dataTable) return;\n",
              "\n",
              "          const docLinkHtml = 'Like what you see? Visit the ' +\n",
              "            '<a target=\"_blank\" href=https://colab.research.google.com/notebooks/data_table.ipynb>data table notebook</a>'\n",
              "            + ' to learn more about interactive tables.';\n",
              "          element.innerHTML = '';\n",
              "          dataTable['output_type'] = 'display_data';\n",
              "          await google.colab.output.renderOutput(dataTable, element);\n",
              "          const docLink = document.createElement('div');\n",
              "          docLink.innerHTML = docLinkHtml;\n",
              "          element.appendChild(docLink);\n",
              "        }\n",
              "      </script>\n",
              "    </div>\n",
              "  </div>\n",
              "  "
            ]
          },
          "metadata": {},
          "execution_count": 24
        }
      ],
      "source": [
        "# Correlation Analysis (example with text length and sentiment)\n",
        "correlation_matrix = chatgpt[['text_length', 'labels']].corr()\n",
        "correlation_matrix\n",
        "# # Plot correlation matrix as a heatmap\n",
        "# sns.heatmap(correlation_matrix, annot=True, cmap='coolwarm', square=True)\n",
        "# plt.xlabel('Features')\n",
        "# plt.ylabel('Features')\n",
        "# plt.title('Correlation Matrix')\n",
        "# plt.show()"
      ],
      "id": "-z3aUFkXaE8M"
    },
    {
      "cell_type": "code",
      "execution_count": null,
      "metadata": {
        "colab": {
          "base_uri": "https://localhost:8080/"
        },
        "id": "ZUhPDsIyPPuz",
        "outputId": "db9a98ed-b864-4f75-fb0f-7ed73cbaf8da"
      },
      "outputs": [
        {
          "output_type": "stream",
          "name": "stdout",
          "text": [
            "Looking in indexes: https://pypi.org/simple, https://us-python.pkg.dev/colab-wheels/public/simple/\n",
            "Requirement already satisfied: wordcloud in /usr/local/lib/python3.10/dist-packages (1.8.2.2)\n",
            "Requirement already satisfied: numpy>=1.6.1 in /usr/local/lib/python3.10/dist-packages (from wordcloud) (1.22.4)\n",
            "Requirement already satisfied: pillow in /usr/local/lib/python3.10/dist-packages (from wordcloud) (8.4.0)\n",
            "Requirement already satisfied: matplotlib in /usr/local/lib/python3.10/dist-packages (from wordcloud) (3.7.1)\n",
            "Requirement already satisfied: contourpy>=1.0.1 in /usr/local/lib/python3.10/dist-packages (from matplotlib->wordcloud) (1.0.7)\n",
            "Requirement already satisfied: cycler>=0.10 in /usr/local/lib/python3.10/dist-packages (from matplotlib->wordcloud) (0.11.0)\n",
            "Requirement already satisfied: fonttools>=4.22.0 in /usr/local/lib/python3.10/dist-packages (from matplotlib->wordcloud) (4.39.3)\n",
            "Requirement already satisfied: kiwisolver>=1.0.1 in /usr/local/lib/python3.10/dist-packages (from matplotlib->wordcloud) (1.4.4)\n",
            "Requirement already satisfied: packaging>=20.0 in /usr/local/lib/python3.10/dist-packages (from matplotlib->wordcloud) (23.1)\n",
            "Requirement already satisfied: pyparsing>=2.3.1 in /usr/local/lib/python3.10/dist-packages (from matplotlib->wordcloud) (3.0.9)\n",
            "Requirement already satisfied: python-dateutil>=2.7 in /usr/local/lib/python3.10/dist-packages (from matplotlib->wordcloud) (2.8.2)\n",
            "Requirement already satisfied: six>=1.5 in /usr/local/lib/python3.10/dist-packages (from python-dateutil>=2.7->matplotlib->wordcloud) (1.16.0)\n"
          ]
        }
      ],
      "source": [
        "!pip install wordcloud\n"
      ],
      "id": "ZUhPDsIyPPuz"
    },
    {
      "cell_type": "code",
      "execution_count": null,
      "metadata": {
        "id": "M38NV7m4PYxz"
      },
      "outputs": [],
      "source": [
        "from wordcloud import WordCloud, STOPWORDS\n",
        "import matplotlib.pyplot as plt\n",
        "from PIL import Image\n",
        ""
      ],
      "id": "M38NV7m4PYxz"
    },
    {
      "cell_type": "code",
      "execution_count": null,
      "metadata": {
        "colab": {
          "base_uri": "https://localhost:8080/",
          "height": 356
        },
        "id": "pdONO0w_QkYy",
        "outputId": "b1faa60a-b2e7-4abe-e6a6-b8308e850244"
      },
      "outputs": [
        {
          "output_type": "error",
          "ename": "FileNotFoundError",
          "evalue": "ignored",
          "traceback": [
            "\u001b[0;31m---------------------------------------------------------------------------\u001b[0m",
            "\u001b[0;31mFileNotFoundError\u001b[0m                         Traceback (most recent call last)",
            "\u001b[0;32m<ipython-input-27-340d1deaef92>\u001b[0m in \u001b[0;36m<cell line: 20>\u001b[0;34m()\u001b[0m\n\u001b[1;32m     18\u001b[0m     \u001b[0mcomment_words\u001b[0m \u001b[0;34m+=\u001b[0m \u001b[0;34m\" \"\u001b[0m\u001b[0;34m.\u001b[0m\u001b[0mjoin\u001b[0m\u001b[0;34m(\u001b[0m\u001b[0mtokens\u001b[0m\u001b[0;34m)\u001b[0m\u001b[0;34m+\u001b[0m\u001b[0;34m\" \"\u001b[0m\u001b[0;34m\u001b[0m\u001b[0;34m\u001b[0m\u001b[0m\n\u001b[1;32m     19\u001b[0m \u001b[0;34m\u001b[0m\u001b[0m\n\u001b[0;32m---> 20\u001b[0;31m \u001b[0mmask\u001b[0m \u001b[0;34m=\u001b[0m \u001b[0mnp\u001b[0m\u001b[0;34m.\u001b[0m\u001b[0marray\u001b[0m\u001b[0;34m(\u001b[0m\u001b[0mImage\u001b[0m\u001b[0;34m.\u001b[0m\u001b[0mopen\u001b[0m\u001b[0;34m(\u001b[0m\u001b[0;34m\"comment.png\"\u001b[0m\u001b[0;34m)\u001b[0m\u001b[0;34m)\u001b[0m\u001b[0;34m\u001b[0m\u001b[0;34m\u001b[0m\u001b[0m\n\u001b[0m\u001b[1;32m     21\u001b[0m \u001b[0;34m\u001b[0m\u001b[0m\n\u001b[1;32m     22\u001b[0m wordcloud = WordCloud(width = 800, height = 800,\n",
            "\u001b[0;32m/usr/local/lib/python3.10/dist-packages/PIL/Image.py\u001b[0m in \u001b[0;36mopen\u001b[0;34m(fp, mode, formats)\u001b[0m\n\u001b[1;32m   2973\u001b[0m \u001b[0;34m\u001b[0m\u001b[0m\n\u001b[1;32m   2974\u001b[0m     \u001b[0;32mif\u001b[0m \u001b[0mfilename\u001b[0m\u001b[0;34m:\u001b[0m\u001b[0;34m\u001b[0m\u001b[0;34m\u001b[0m\u001b[0m\n\u001b[0;32m-> 2975\u001b[0;31m         \u001b[0mfp\u001b[0m \u001b[0;34m=\u001b[0m \u001b[0mbuiltins\u001b[0m\u001b[0;34m.\u001b[0m\u001b[0mopen\u001b[0m\u001b[0;34m(\u001b[0m\u001b[0mfilename\u001b[0m\u001b[0;34m,\u001b[0m \u001b[0;34m\"rb\"\u001b[0m\u001b[0;34m)\u001b[0m\u001b[0;34m\u001b[0m\u001b[0;34m\u001b[0m\u001b[0m\n\u001b[0m\u001b[1;32m   2976\u001b[0m         \u001b[0mexclusive_fp\u001b[0m \u001b[0;34m=\u001b[0m \u001b[0;32mTrue\u001b[0m\u001b[0;34m\u001b[0m\u001b[0;34m\u001b[0m\u001b[0m\n\u001b[1;32m   2977\u001b[0m \u001b[0;34m\u001b[0m\u001b[0m\n",
            "\u001b[0;31mFileNotFoundError\u001b[0m: [Errno 2] No such file or directory: 'comment.png'"
          ]
        }
      ],
      "source": [
        "## All words\n",
        "comment_words = ''\n",
        "stopwords = set(STOPWORDS)\n",
        "stopwords.update(['chatgpt','openai', 'ai', 'write', 'will','use','using','try', 'talking', 'make', 'new', 'asked', 'system', 'optimized', 'dialogue', 'feedback', 'help', 'us', 'improve'])\n",
        "\n",
        "for val in chatgpt.tweet_text:\n",
        "\n",
        "    # typecaste each val to string\n",
        "    val = str(val)\n",
        "\n",
        "    # split the value\n",
        "    tokens = val.split()\n",
        "\n",
        "    # Converts each token into lowercase\n",
        "    for i in range(len(tokens)):\n",
        "        tokens[i] = tokens[i].lower()\n",
        "\n",
        "    comment_words += \" \".join(tokens)+\" \"\n",
        "\n",
        "mask = np.array(Image.open(\"comment.png\"))\n",
        "\n",
        "wordcloud = WordCloud(width = 800, height = 800,\n",
        "                background_color ='white',\n",
        "                stopwords = stopwords,\n",
        "                min_font_size = 10, mask=mask).generate(comment_words)\n",
        "\n",
        "# plot the WordCloud image\n",
        "plt.figure(figsize = (8, 8), facecolor = None)\n",
        "plt.imshow(wordcloud)\n",
        "plt.axis(\"off\")\n",
        "plt.tight_layout(pad = 0)\n",
        "\n",
        "plt.show()"
      ],
      "id": "pdONO0w_QkYy"
    },
    {
      "cell_type": "code",
      "execution_count": null,
      "metadata": {
        "id": "chbB-4phX8oQ"
      },
      "outputs": [],
      "source": [
        "## Positive words\n",
        "comment_words = ''\n",
        "stopwords = set(STOPWORDS)\n",
        "stopwords.update(['chatgpt','openai','one', 'ai', 'write', 'will','use','using','try', 'talking', 'make', 'new', 'asked', 'system', 'optimized', 'dialogue', 'feedback', 'help', 'us', 'improve'])\n",
        "\n",
        "for val, label in zip(chatgpt.tweet_text, chatgpt.labels):\n",
        "    if label == 1:\n",
        "      # typecaste each val to string\n",
        "      val = str(val)\n",
        "\n",
        "      # split the value\n",
        "      tokens = val.split()\n",
        "\n",
        "      # Converts each token into lowercase\n",
        "      for i in range(len(tokens)):\n",
        "          tokens[i] = tokens[i].lower()\n",
        "\n",
        "      comment_words += \" \".join(tokens)+\" \"\n",
        "\n",
        "mask = np.array(Image.open(\"comment.png\"))\n",
        "\n",
        "wordcloud = WordCloud(width = 800, height = 800,\n",
        "                background_color ='white',\n",
        "                stopwords = stopwords,\n",
        "                min_font_size = 10, mask=mask).generate(comment_words)\n",
        "\n",
        "# plot the WordCloud image\n",
        "plt.figure(figsize = (8, 8), facecolor = None)\n",
        "plt.imshow(wordcloud)\n",
        "plt.axis(\"off\")\n",
        "plt.tight_layout(pad = 0)\n",
        "\n",
        "plt.show()"
      ],
      "id": "chbB-4phX8oQ"
    },
    {
      "cell_type": "markdown",
      "metadata": {
        "id": "lEkHrw99Z-Sz"
      },
      "source": [
        "##Topic Analysis - LDA"
      ],
      "id": "lEkHrw99Z-Sz"
    },
    {
      "cell_type": "code",
      "execution_count": null,
      "metadata": {
        "id": "6bZFjmv5aFia",
        "colab": {
          "base_uri": "https://localhost:8080/"
        },
        "outputId": "aeb3c246-abf3-4f03-b677-a35e0e01782f"
      },
      "outputs": [
        {
          "output_type": "stream",
          "name": "stderr",
          "text": [
            "[nltk_data] Downloading package stopwords to /root/nltk_data...\n",
            "[nltk_data]   Package stopwords is already up-to-date!\n"
          ]
        },
        {
          "output_type": "stream",
          "name": "stdout",
          "text": [
            "['try', 'talking', 'chatgpt', 'new', 'ai', 'system', 'optimized', 'dialogue', 'feedback', 'help', 'us', 'improve']\n"
          ]
        }
      ],
      "source": [
        "#generate model for positive comments\n",
        "import gensim\n",
        "from gensim.utils import simple_preprocess\n",
        "import nltk\n",
        "nltk.download('stopwords')\n",
        "from nltk.corpus import stopwords\n",
        "stop_words = stopwords.words('english')\n",
        "stop_words.extend(['from', 'subject', 're', 'edu', 'use'])\n",
        "def sent_to_words(sentences):\n",
        "    for sentence in sentences:\n",
        "        # deacc=True removes punctuations\n",
        "        yield(gensim.utils.simple_preprocess(str(sentence), deacc=True))\n",
        "def remove_stopwords(texts):\n",
        "    return [[word for word in simple_preprocess(str(doc))\n",
        "             if word not in stop_words] for doc in texts]\n",
        "#model for positive comments\n",
        "chatgpt_pos = chatgpt[chatgpt['labels'] == 1]\n",
        "data = chatgpt_pos.tweet_text.values.tolist()\n",
        "data_words = list(sent_to_words(data))\n",
        "# remove stop words\n",
        "data_words = remove_stopwords(data_words)\n",
        "print(data_words[:1][0][:30])"
      ],
      "id": "6bZFjmv5aFia"
    },
    {
      "cell_type": "code",
      "execution_count": null,
      "metadata": {
        "id": "XLAqq6jYaOBR",
        "colab": {
          "base_uri": "https://localhost:8080/"
        },
        "outputId": "3a62c6a3-8bf8-4869-cc8e-37c17b6a4d45"
      },
      "outputs": [
        {
          "output_type": "stream",
          "name": "stdout",
          "text": [
            "[(0, 1), (1, 1), (2, 1), (3, 1), (4, 1), (5, 1), (6, 1), (7, 1), (8, 1), (9, 1), (10, 1), (11, 1)]\n"
          ]
        }
      ],
      "source": [
        "import gensim.corpora as corpora\n",
        "# Create Dictionary\n",
        "id2word = corpora.Dictionary(data_words)\n",
        "# Create Corpus\n",
        "texts = data_words\n",
        "# Term Document Frequency\n",
        "corpus = [id2word.doc2bow(text) for text in texts]\n",
        "# View\n",
        "print(corpus[:1][0][:30])"
      ],
      "id": "XLAqq6jYaOBR"
    },
    {
      "cell_type": "code",
      "execution_count": null,
      "metadata": {
        "id": "AMob0eGHaOjY",
        "colab": {
          "base_uri": "https://localhost:8080/"
        },
        "outputId": "4a0a26d8-bc10-473c-8038-c7319df9a79e"
      },
      "outputs": [
        {
          "output_type": "stream",
          "name": "stdout",
          "text": [
            "[(0,\n",
            "  '0.069*\"chatgpt\" + 0.014*\"resources\" + 0.014*\"free\" + 0.014*\"good\" + '\n",
            "  '0.014*\"staking\" + 0.013*\"teacher\" + 0.013*\"alpha\" + 0.013*\"qualified\" + '\n",
            "  '0.012*\"email\" + 0.012*\"didnt\"'),\n",
            " (1,\n",
            "  '0.033*\"chatgpt\" + 0.031*\"price\" + 0.027*\"alzheimers\" + 0.027*\"join\" + '\n",
            "  '0.026*\"passed\" + 0.026*\"increases\" + 0.024*\"bad\" + 0.015*\"significant\" + '\n",
            "  '0.010*\"another\" + 0.008*\"amp\"'),\n",
            " (2,\n",
            "  '0.063*\"chatgpt\" + 0.034*\"ai\" + 0.027*\"new\" + 0.021*\"like\" + 0.009*\"could\" + '\n",
            "  '0.007*\"bring\" + 0.006*\"disease\" + 0.006*\"google\" + 0.006*\"wealth\" + '\n",
            "  '0.006*\"optimistic\"'),\n",
            " (3,\n",
            "  '0.079*\"chatgpt\" + 0.023*\"awesome\" + 0.018*\"ai\" + 0.015*\"check\" + '\n",
            "  '0.014*\"master\" + 0.014*\"nn\" + 0.013*\"mainly\" + 0.013*\"youre\" + '\n",
            "  '0.013*\"ideas\" + 0.012*\"looking\"'),\n",
            " (4,\n",
            "  '0.051*\"chatgpt\" + 0.037*\"create\" + 0.031*\"favorite\" + 0.024*\"seo\" + '\n",
            "  '0.021*\"youtube\" + 0.020*\"write\" + 0.019*\"new\" + 0.018*\"resolution\" + '\n",
            "  '0.018*\"nnwhy\" + 0.018*\"connect\"'),\n",
            " (5,\n",
            "  '0.064*\"chatgpt\" + 0.030*\"get\" + 0.025*\"much\" + 0.014*\"easier\" + '\n",
            "  '0.013*\"thing\" + 0.013*\"think\" + 0.013*\"goodbye\" + 0.012*\"make\" + '\n",
            "  '0.011*\"thought\" + 0.011*\"free\"'),\n",
            " (6,\n",
            "  '0.070*\"chatgpt\" + 0.045*\"year\" + 0.029*\"write\" + 0.027*\"new\" + '\n",
            "  '0.021*\"great\" + 0.018*\"artificial\" + 0.017*\"intelligence\" + 0.014*\"article\" '\n",
            "  '+ 0.013*\"read\" + 0.012*\"take\"'),\n",
            " (7,\n",
            "  '0.035*\"episode\" + 0.035*\"podcast\" + 0.034*\"chatgpt\" + 0.032*\"datachaz\" + '\n",
            "  '0.018*\"guys\" + 0.014*\"want\" + 0.010*\"nn\" + 0.009*\"ai\" + 0.009*\"make\" + '\n",
            "  '0.006*\"new\"'),\n",
            " (8,\n",
            "  '0.063*\"chatgpt\" + 0.025*\"ai\" + 0.010*\"open\" + 0.010*\"like\" + 0.010*\"openai\" '\n",
            "  '+ 0.009*\"source\" + 0.009*\"intelligence\" + 0.009*\"new\" + 0.008*\"search\" + '\n",
            "  '0.008*\"amp\"'),\n",
            " (9,\n",
            "  '0.069*\"chatgpt\" + 0.030*\"running\" + 0.021*\"im\" + 0.018*\"luck\" + '\n",
            "  '0.014*\"good\" + 0.013*\"school\" + 0.013*\"habits\" + 0.012*\"reason\" + '\n",
            "  '0.012*\"fun\" + 0.012*\"theres\"')]\n"
          ]
        }
      ],
      "source": [
        "from pprint import pprint\n",
        "# number of topics\n",
        "num_topics = 10\n",
        "# Build LDA model\n",
        "lda_model = gensim.models.LdaMulticore(corpus=corpus,\n",
        "                                       id2word=id2word,\n",
        "                                       num_topics=num_topics)\n",
        "# Print the Keyword in the 10 topics\n",
        "pprint(lda_model.print_topics())\n",
        "doc_lda = lda_model[corpus]"
      ],
      "id": "AMob0eGHaOjY"
    },
    {
      "cell_type": "code",
      "execution_count": null,
      "metadata": {
        "id": "-dgyZUOQaSdw",
        "colab": {
          "base_uri": "https://localhost:8080/",
          "height": 862
        },
        "outputId": "4e160602-5583-4b04-f7ab-41f211ab59a9"
      },
      "outputs": [
        {
          "output_type": "execute_result",
          "data": {
            "text/plain": [
              "<IPython.core.display.HTML object>"
            ],
            "text/html": [
              "\n",
              "<link rel=\"stylesheet\" type=\"text/css\" href=\"https://cdn.jsdelivr.net/gh/bmabey/pyLDAvis@3.4.0/pyLDAvis/js/ldavis.v1.0.0.css\">\n",
              "\n",
              "\n",
              "<div id=\"ldavis_el49861402423273371364774806528\" style=\"background-color:white;\"></div>\n",
              "<script type=\"text/javascript\">\n",
              "\n",
              "var ldavis_el49861402423273371364774806528_data = {\"mdsDat\": {\"x\": [0.08498414066272623, 0.0798886168443584, 0.052376970149807626, 0.04663693311908825, 0.02534344716091041, 0.031322156779822016, 0.06712307805364416, 0.007969266414001572, -0.23331189880059167, -0.16233271038376704], \"y\": [0.062357061600303444, -0.0005384732788772132, 0.10625177237694809, 0.07913411277664259, -0.0003480280783567091, 0.07450005583842143, -0.10797933646825632, -0.23842886170823724, 0.0510294004314587, -0.02597770349004629], \"topics\": [1, 2, 3, 4, 5, 6, 7, 8, 9, 10], \"cluster\": [1, 1, 1, 1, 1, 1, 1, 1, 1, 1], \"Freq\": [24.091513793384852, 19.603696421307216, 10.031831186262878, 9.616922802296516, 9.25268491859153, 8.54571027034503, 7.1043314070672565, 5.1722207751694, 3.449300703022854, 3.131787722552467]}, \"tinfo\": {\"Term\": [\"chatgpt\", \"year\", \"new\", \"create\", \"running\", \"write\", \"awesome\", \"favorite\", \"get\", \"much\", \"seo\", \"artificial\", \"intelligence\", \"episode\", \"podcast\", \"luck\", \"join\", \"price\", \"asked\", \"datachaz\", \"im\", \"youtube\", \"resources\", \"alzheimers\", \"free\", \"bad\", \"passed\", \"increases\", \"staking\", \"great\", \"disease\", \"driving\", \"notion\", \"nytimes\", \"programmed\", \"hi\", \"breakthroughs\", \"optimistic\", \"alert\", \"obsessed\", \"grammarly\", \"tackle\", \"reviewers\", \"gaining\", \"keyword\", \"journalists\", \"grab\", \"texttoimage\", \"seeking\", \"evolving\", \"biden\", \"evolve\", \"critical\", \"relationships\", \"bits\", \"rescue\", \"disrupted\", \"overcome\", \"naturally\", \"relying\", \"wealth\", \"york\", \"disrupt\", \"pretrained\", \"everyones\", \"bring\", \"resume\", \"revolutionize\", \"experts\", \"realtime\", \"expert\", \"assistants\", \"trust\", \"blown\", \"change\", \"bots\", \"improving\", \"potentially\", \"technology\", \"chat\", \"era\", \"world\", \"human\", \"new\", \"away\", \"conversation\", \"like\", \"chatbots\", \"ai\", \"forward\", \"future\", \"ability\", \"creativity\", \"fascinating\", \"learning\", \"going\", \"chatbot\", \"humans\", \"could\", \"people\", \"chatgpt\", \"tool\", \"google\", \"gpt\", \"innovation\", \"things\", \"next\", \"best\", \"writing\", \"early\", \"search\", \"really\", \"using\", \"year\", \"work\", \"im\", \"playlist\", \"daughters\", \"ceo\", \"quora\", \"wishing\", \"harder\", \"survey\", \"bigdata\", \"participating\", \"nnhow\", \"classroom\", \"macbook\", \"discord\", \"tough\", \"chatgptnjoin\", \"routine\", \"silicon\", \"designer\", \"spread\", \"maximize\", \"sam\", \"archive\", \"serve\", \"patient\", \"altman\", \"organize\", \"accounts\", \"influence\", \"thursday\", \"accelerate\", \"health\", \"healthy\", \"published\", \"floor\", \"advance\", \"legit\", \"protect\", \"lab\", \"open\", \"management\", \"biggest\", \"source\", \"excitement\", \"reached\", \"updates\", \"lately\", \"googles\", \"overall\", \"eat\", \"ethics\", \"retweet\", \"community\", \"spot\", \"music\", \"security\", \"data\", \"example\", \"wanted\", \"delivered\", \"amp\", \"search\", \"training\", \"intelligence\", \"model\", \"artificial\", \"models\", \"internet\", \"language\", \"openai\", \"ai\", \"chatgpt\", \"dalle\", \"help\", \"gpt\", \"like\", \"one\", \"new\", \"could\", \"make\", \"good\", \"year\", \"habits\", \"forbes\", \"popping\", \"ben\", \"landscape\", \"wordpress\", \"increasing\", \"quotes\", \"steve\", \"embrace\", \"boss\", \"visit\", \"forum\", \"primary\", \"fingertips\", \"measure\", \"panel\", \"backend\", \"conservative\", \"target\", \"opinions\", \"emotions\", \"pleased\", \"approval\", \"aspect\", \"svg\", \"azure\", \"dig\", \"confused\", \"performs\", \"alien\", \"curiosity\", \"proven\", \"running\", \"school\", \"xmas\", \"reason\", \"luck\", \"collection\", \"nthe\", \"services\", \"heart\", \"trend\", \"loved\", \"plugin\", \"afraid\", \"stack\", \"telling\", \"fun\", \"theres\", \"love\", \"im\", \"gift\", \"become\", \"may\", \"helped\", \"good\", \"another\", \"working\", \"chatgpt\", \"need\", \"see\", \"code\", \"playing\", \"much\", \"day\", \"game\", \"tell\", \"think\", \"know\", \"like\", \"asking\", \"time\", \"one\", \"way\", \"using\", \"get\", \"qualified\", \"staking\", \"resources\", \"jasper\", \"eth\", \"rewards\", \"explainer\", \"lawyers\", \"alpha\", \"rlhf\", \"dm\", \"avatar\", \"women\", \"blogengage\", \"star\", \"capitalizetitle\", \"path\", \"beginner\", \"african\", \"monetize\", \"funniest\", \"causing\", \"garbage\", \"competing\", \"graph\", \"events\", \"forms\", \"defi\", \"hearing\", \"ends\", \"bullet\", \"men\", \"documents\", \"teacher\", \"openaichatgpt\", \"btc\", \"bet\", \"everywhere\", \"email\", \"bar\", \"dear\", \"didnt\", \"lol\", \"half\", \"looks\", \"pretty\", \"nthis\", \"asking\", \"free\", \"answer\", \"gave\", \"ive\", \"questions\", \"good\", \"chatgpt\", \"asked\", \"question\", \"far\", \"still\", \"answers\", \"write\", \"tell\", \"need\", \"im\", \"lets\", \"think\", \"amazing\", \"see\", \"great\", \"really\", \"mainly\", \"calm\", \"everybody\", \"edit\", \"allowing\", \"bio\", \"november\", \"repo\", \"eye\", \"professionals\", \"frontend\", \"networks\", \"aiartwork\", \"genuine\", \"gratitude\", \"ecommerce\", \"designers\", \"aspects\", \"copyright\", \"elixir\", \"reports\", \"warrior\", \"css\", \"shake\", \"section\", \"owner\", \"speaker\", \"edition\", \"christian\", \"shares\", \"awesome\", \"master\", \"javascript\", \"html\", \"nearly\", \"itn\", \"convince\", \"gamechanger\", \"recommend\", \"saved\", \"practices\", \"stream\", \"check\", \"looking\", \"regex\", \"youre\", \"ideas\", \"turn\", \"prompt\", \"five\", \"website\", \"million\", \"nn\", \"race\", \"chatgpt\", \"code\", \"smart\", \"help\", \"highly\", \"wow\", \"ai\", \"using\", \"wrote\", \"prompts\", \"asked\", \"write\", \"improve\", \"build\", \"create\", \"make\", \"used\", \"think\", \"like\", \"get\", \"time\", \"impressive\", \"free\", \"new\", \"great\", \"see\", \"goodbye\", \"holidays\", \"santa\", \"claus\", \"considerations\", \"newsletter\", \"campaign\", \"pisces\", \"revenue\", \"piscesbaishui\", \"parts\", \"freemint\", \"lamda\", \"aigc\", \"nft\", \"reflect\", \"hosting\", \"cheer\", \"selling\", \"james\", \"giveaway\", \"stocks\", \"leveraging\", \"poe\", \"hypothetical\", \"thousands\", \"processes\", \"blows\", \"bread\", \"informed\", \"upcoming\", \"consciousness\", \"alexa\", \"profit\", \"affect\", \"easier\", \"sales\", \"paid\", \"wonderful\", \"win\", \"original\", \"get\", \"much\", \"thought\", \"boilerplate\", \"thanks\", \"two\", \"nfts\", \"share\", \"say\", \"thing\", \"copy\", \"want\", \"better\", \"think\", \"free\", \"chatgpt\", \"guys\", \"make\", \"things\", \"nn\", \"writing\", \"code\", \"openai\", \"ask\", \"ai\", \"great\", \"need\", \"amp\", \"would\", \"rank\", \"sol\", \"techcrunch\", \"solana\", \"outline\", \"spirit\", \"updated\", \"profitable\", \"jesus\", \"university\", \"appropriate\", \"entrepreneurs\", \"artwork\", \"meal\", \"missed\", \"cardano\", \"signal\", \"premium\", \"politically\", \"older\", \"emerging\", \"grace\", \"photo\", \"countries\", \"inappropriate\", \"exercise\", \"citations\", \"figma\", \"datasets\", \"humour\", \"comprehensive\", \"copywriter\", \"journal\", \"assets\", \"winning\", \"traditional\", \"degree\", \"hand\", \"musk\", \"season\", \"article\", \"moment\", \"elon\", \"list\", \"year\", \"joke\", \"read\", \"alternative\", \"study\", \"artificial\", \"write\", \"years\", \"take\", \"intelligence\", \"happy\", \"great\", \"heres\", \"quick\", \"new\", \"chatgpt\", \"lets\", \"asked\", \"tell\", \"brain\", \"could\", \"good\", \"next\", \"ai\", \"resolution\", \"nnwhy\", \"merry\", \"lessons\", \"fusion\", \"eve\", \"nocode\", \"decision\", \"score\", \"volume\", \"transcript\", \"lists\", \"ainn\", \"waves\", \"presented\", \"supporting\", \"sold\", \"concern\", \"childrens\", \"employees\", \"goto\", \"medicine\", \"interviewed\", \"regards\", \"aliens\", \"sex\", \"hate\", \"golden\", \"emerged\", \"mother\", \"shes\", \"connect\", \"dreams\", \"youtube\", \"chatgptnni\", \"local\", \"bedtime\", \"higher\", \"recipe\", \"favorite\", \"gt\", \"knew\", \"holiday\", \"film\", \"videos\", \"apple\", \"seo\", \"create\", \"peoples\", \"script\", \"blog\", \"christmas\", \"post\", \"scripts\", \"send\", \"asked\", \"story\", \"write\", \"delivered\", \"images\", \"video\", \"chatgpt\", \"results\", \"popular\", \"new\", \"music\", \"one\", \"ai\", \"internet\", \"make\", \"thing\", \"using\", \"increases\", \"alzheimers\", \"passed\", \"price\", \"beat\", \"lensa\", \"ecosystem\", \"determine\", \"breaks\", \"parameters\", \"grapeswap\", \"utilize\", \"freedom\", \"earning\", \"trends\", \"organization\", \"sheets\", \"gtgt\", \"detection\", \"essentially\", \"income\", \"hadnt\", \"heavily\", \"comfortable\", \"grape\", \"deepmind\", \"string\", \"appreciation\", \"lambda\", \"regulated\", \"yield\", \"instagram\", \"professor\", \"wins\", \"indian\", \"predictions\", \"bad\", \"join\", \"american\", \"passive\", \"chatgptnn\", \"law\", \"significant\", \"front\", \"cars\", \"per\", \"proof\", \"legal\", \"chatgptn\", \"art\", \"artists\", \"another\", \"study\", \"chatgpt\", \"amp\", \"blockchain\", \"become\", \"test\", \"openais\", \"great\", \"ai\", \"nn\", \"may\", \"need\", \"email\", \"like\", \"people\", \"datachaz\", \"tsla\", \"glass\", \"scarily\", \"quiz\", \"overview\", \"crafting\", \"download\", \"automatic\", \"catch\", \"keywords\", \"none\", \"interests\", \"mixed\", \"greetings\", \"greeting\", \"passing\", \"affects\", \"supply\", \"investor\", \"fulfill\", \"recorded\", \"massively\", \"remains\", \"city\", \"adopt\", \"formulas\", \"spreadsheet\", \"nnwere\", \"rights\", \"doge\", \"episode\", \"podcast\", \"collaboration\", \"chrome\", \"marketers\", \"improvements\", \"robot\", \"chatgptlike\", \"files\", \"guys\", \"month\", \"safety\", \"drive\", \"microsoft\", \"healthcare\", \"extension\", \"want\", \"suggest\", \"pro\", \"chatgpt\", \"nn\", \"number\", \"happens\", \"make\", \"peace\", \"ai\", \"things\", \"new\", \"happy\", \"product\", \"using\", \"openai\", \"super\", \"going\", \"amp\", \"create\"], \"Freq\": [54443.0, 5279.0, 10251.0, 3320.0, 2856.0, 5060.0, 1877.0, 1788.0, 4238.0, 3404.0, 1964.0, 2513.0, 2795.0, 1007.0, 1004.0, 1783.0, 1069.0, 907.0, 3482.0, 853.0, 3957.0, 1049.0, 1190.0, 806.0, 2802.0, 937.0, 779.0, 776.0, 1118.0, 3896.0, 1315.7587271635118, 142.1436725193812, 127.52006899768503, 129.482415053079, 100.83159593113454, 94.91816495118024, 92.98805220311604, 1261.1949114389322, 87.16359758560542, 75.28760254837053, 75.52680573076914, 71.48468203815891, 66.86558692673563, 66.37637236096433, 64.26406251705507, 65.7992514924697, 53.67319724796399, 49.3205828748269, 53.28815508826252, 59.07964708399712, 47.10105185134294, 68.20999441659347, 87.72662833811782, 69.06239562062751, 47.23773255215671, 43.16975705362147, 41.80870684721948, 41.594124005369395, 41.92600392432835, 41.10800005901379, 1288.1546775235167, 93.7552132867467, 110.02542948847906, 67.16515582453039, 85.3790189374936, 1391.6468364665554, 121.74869292909521, 174.42949048927963, 151.69245504853808, 107.51888334045563, 127.51638655753015, 116.28074753807296, 597.2962407447819, 291.2876637731977, 749.7852745522788, 271.56004276916286, 138.3490494554926, 151.09179884418342, 1052.7402956291958, 1111.8206959395882, 200.7195067927073, 1118.2027951430862, 1120.938322115286, 5517.296593147844, 456.3802076900226, 573.6330716050869, 4216.060357829438, 454.2405186644422, 6905.063094169113, 249.99897307112948, 1022.3073667678798, 582.007705699664, 340.7896546495508, 375.16162279108937, 709.9605929312678, 866.9416776648444, 1101.5662000578918, 571.374205425403, 1848.1115011606496, 1142.1939405760563, 12987.868865525286, 1018.0502746532409, 1302.4671268080997, 1134.5798977571062, 787.6123997729085, 1141.3442055543421, 891.2435827877684, 1165.6837002611849, 922.5604885818493, 756.5506822991714, 1040.4270765814283, 895.7594978390078, 1010.4237019729846, 1096.6821366389602, 787.4147914258957, 825.8517669952928, 913.1644521525739, 909.5704033809677, 115.85812527290096, 99.78891630193245, 87.26061744782514, 940.3447475803571, 76.99542015507352, 75.81448603285676, 70.2618614416562, 68.52145861766485, 59.56139805346501, 58.55906020632719, 55.01200149375034, 53.26667590167021, 48.35782971235775, 48.05722953763957, 47.27601737407898, 46.58054504286325, 47.38101534759332, 45.97927172749672, 61.94404699481089, 44.41136522682213, 43.647470310688504, 43.62520110880069, 43.87147571630978, 40.23366197978774, 40.008048891505055, 39.78690131814877, 38.998801170780155, 39.075220821644656, 988.0745838537201, 938.9425564358888, 128.66053280467946, 87.00970220715725, 62.568280256204176, 56.78369210859848, 58.70820256759425, 52.165123847082846, 1660.7531367876634, 130.74885664130178, 133.78116503850745, 1467.187249305418, 88.51902679469619, 76.77291298321839, 94.31610184515161, 74.76952635370908, 1042.8402037232638, 74.44826222756681, 728.1932118562379, 174.81321536181773, 83.95557213243546, 182.098231117877, 702.6716363258186, 1236.100451517214, 209.56655712280784, 628.5535449322701, 832.839586875062, 732.1546975945978, 594.4010143690888, 1316.9958909110724, 1383.04068155417, 223.97995510482852, 1434.517347528124, 651.5872351924573, 1278.6365145083469, 480.9645602169885, 819.9123589587396, 893.6827433730523, 1619.4552764451398, 4157.265120299785, 10611.101410327208, 477.92668695150854, 1075.3699330843062, 815.6818137850762, 1654.518305071352, 886.3782116628703, 1428.9848566692551, 892.4889040099862, 855.3367537863153, 818.7774371520879, 774.6565930728299, 1108.3753355489953, 150.48519231447108, 96.65093622628821, 67.77563294684472, 67.35064573327375, 65.48059047449505, 61.679542752798795, 55.32342892844501, 52.65243278203118, 165.39052206036925, 48.080474664151225, 48.33973657940733, 42.64655879802129, 41.90080989119362, 41.64335020370698, 44.71527730794025, 40.17385500228134, 38.9508617443628, 37.01772104585816, 37.61515706217126, 65.11195523916325, 36.73581179876973, 35.48587971637445, 34.23470051227682, 37.633744402992534, 32.94651838581301, 32.682267983747494, 32.020526787919735, 31.65238691629806, 31.385823987163715, 36.50677204836043, 98.73374397539939, 37.310660225607506, 2532.1493726233734, 1117.871423022204, 88.03900576548425, 1059.8307673200875, 1505.6553981039885, 95.61510332652276, 68.66802942598564, 170.86875679833284, 66.71158174045681, 104.91125304497528, 112.15690567239352, 84.22819016841868, 77.36072657492231, 89.71358403216264, 645.9940265723308, 1012.3288227055242, 1012.2872420250529, 1005.0942622423887, 1838.5291373339217, 169.88711021636536, 761.1877258645125, 804.6617611137359, 142.40055785359868, 1234.0355771614754, 527.1367268077882, 245.77537687539598, 5937.287840060093, 669.2400963064961, 679.6958053460587, 527.1151399027926, 267.45561934673975, 600.6525647280366, 319.20203937076406, 237.40431764095197, 337.59454045174584, 506.98666532625657, 379.67223750495367, 696.8154955111795, 353.5659426871104, 339.6470488687991, 348.5907585091963, 305.0299176152535, 329.21844294519497, 292.39707760193795, 1068.4434074240594, 1117.0122032282934, 1187.2427457998049, 167.86085965523196, 138.7842053809937, 86.02986797910592, 83.71602456560272, 76.27914868046902, 1070.9407486007601, 85.03230411445703, 63.56826320549346, 62.5619033988561, 60.745892165937946, 61.49773282428253, 60.26341350970284, 58.81288965468904, 65.32827249413987, 45.8828167506506, 45.04676795316075, 44.798281398830774, 107.69352379510593, 42.45752517096348, 66.26667971150324, 41.87649187443424, 41.37303754536171, 69.5632966346785, 40.065339170514605, 40.72205193102177, 39.685419384268876, 51.228367941364574, 69.70913363920478, 65.84865054013652, 71.04171646414842, 1087.345509720178, 172.96536958163333, 70.97720016257476, 58.166275761923394, 74.36691184669807, 1023.7687655657352, 857.6880174821965, 863.21593532474, 980.3636411078099, 954.4590717359627, 89.26638327587807, 872.0953791043369, 810.9252581313062, 141.78899079859679, 918.152248599631, 1184.0106499508252, 641.0629899764798, 280.49171798011827, 571.7694085179244, 607.4361276176339, 1155.6537929521257, 5628.27882473875, 880.2300647963493, 332.30872200454905, 293.8258505914973, 420.0056095090331, 342.39861721707376, 812.51267032496, 376.0007764854517, 484.2505207163174, 573.6566177229447, 357.650122003287, 532.0773074631271, 426.93110374027447, 423.12652236042004, 394.6060217052363, 365.13156940346704, 1047.4297049188215, 108.71360533932327, 105.75832079967523, 69.63442691717931, 67.9157211665127, 67.8488131704108, 63.088408661535894, 63.937034951261204, 61.57150139447988, 56.7395327431818, 59.447637444097765, 70.43733205412262, 48.300180290522505, 47.40355069345732, 45.02182164547763, 44.52829768658396, 51.765560812805326, 44.23177371731102, 43.57465555231467, 44.679668360628234, 62.53273846564799, 42.020297072836236, 43.52535734037657, 41.57784378394774, 50.15933267963346, 41.18276930940139, 39.123678140092174, 37.476111784773074, 37.40683898062832, 38.061748460831254, 1832.876956436305, 1091.9609046611008, 159.4702563875606, 76.30421876659986, 65.81625376978437, 88.21347472391521, 71.66065414248322, 86.83511765700898, 169.0202604529541, 174.06328018632172, 66.23595439099839, 60.6703625906223, 1162.2143097518124, 977.2416144486955, 60.57662894677987, 1001.2916479585124, 999.7315175106653, 164.38057135891157, 874.1974779729435, 112.90077578674925, 223.0378761795055, 168.47908216810163, 1073.4581322454326, 100.62638428389614, 6249.124806925116, 571.0577768216257, 255.65270258103948, 686.4256581144922, 122.86146665163223, 254.97251950186978, 1414.430647775662, 594.2454222364659, 207.41335525547188, 246.62967876852073, 495.3253273130462, 517.3244890834504, 211.0065410248554, 178.9653849114967, 367.5517824157165, 367.8535594731468, 265.3258236041905, 316.3932793071634, 360.18059768450496, 301.26530378608595, 258.96642773394086, 221.410961715784, 250.51661502356964, 276.7137840316544, 242.3449037390385, 224.15158597118446, 937.3444575097245, 480.53459857934087, 199.37068573354765, 116.14755199965853, 112.21722360509317, 104.75251577227985, 78.61938421642871, 74.67787652569518, 71.50879204046282, 65.4474675674434, 63.546618251188896, 57.65741931469501, 55.84134350037737, 63.22919579253835, 281.9820710778033, 47.580768171767865, 47.09848078169037, 45.7262688281317, 102.99790912285653, 47.22364564049583, 88.67215000426515, 46.38005408560238, 37.505380849120726, 36.812837022727095, 39.07880316967585, 35.57371849177752, 40.87944595715132, 33.49920627372397, 37.00473413692184, 32.21806359796014, 138.2025814903511, 64.18473298538895, 72.7066392054562, 50.4093039836285, 57.960422347331985, 1016.7908127720623, 235.31787372058818, 79.27130343053292, 108.16187030497484, 339.1783189795154, 730.0255466610673, 2194.1142828353695, 1787.502076160781, 832.6558282767002, 560.6147300250516, 446.2018434568411, 751.3485188570813, 149.10426129768305, 689.613018682266, 751.9016819670233, 963.1669691831975, 188.51156867900164, 726.9095935196873, 776.8937025582368, 950.9339352900171, 798.110887059403, 4689.546391507488, 394.14320311570367, 858.5375783450429, 658.8831522356094, 711.6640870718126, 450.1113060937633, 430.2118874899315, 484.6383672228036, 325.48261243957944, 666.2869337525077, 424.51424638702025, 371.27538450868724, 360.90839398196914, 344.59812318919097, 639.38407764501, 104.32386483290833, 76.58415322415048, 73.95272640853617, 52.34384038361151, 47.15279800298971, 44.948416843232856, 39.89589529063014, 41.835839135517304, 34.03344169152513, 43.50205899850321, 32.10139186618377, 31.401323840702684, 29.217539760975544, 28.34556086187088, 621.6523398488562, 24.207659664110494, 20.359892771599235, 20.360040850572403, 19.861051730739174, 47.47638934195024, 19.815956394874732, 20.390568036028974, 19.430815325578916, 19.450451655127956, 26.910550449882702, 19.7366689189678, 21.053113907416215, 19.788896725373178, 18.85142637469508, 61.46297015977383, 617.0546146568206, 36.542703354275766, 27.413590587339026, 59.28518680414984, 84.24544903516264, 556.7916059818043, 644.5087947484119, 134.68744417826926, 90.90103476869506, 869.6419167501249, 620.7382553988691, 159.4887824141743, 676.3447021698443, 2721.872267793621, 519.3103639928297, 766.7226303373739, 628.3891715790002, 440.9481278185343, 1076.5713662168175, 1761.5789421666643, 656.1998694269429, 718.6585084995397, 1046.6490340059788, 707.3014435734386, 1300.7917012224036, 516.0199081814409, 367.9543608402348, 1639.4570565686602, 4220.592134889368, 378.11218352230514, 650.5070367659121, 361.1678873971812, 300.7626382913674, 508.5468560022238, 479.4709149964953, 327.2906619709687, 358.2282236218479, 790.5460696666229, 776.131792334301, 199.08024914094804, 56.490457171592695, 53.044414500010795, 51.914889043178725, 68.39499622071156, 50.15357309661872, 60.40258060155135, 42.53823580043033, 42.57156358555167, 39.31109538107682, 48.61385714583013, 35.024845488350415, 34.231121081497534, 31.25426247175908, 30.33160851169763, 28.69644993658934, 36.76332173743585, 28.97516457705692, 26.689836973906704, 25.878247395731847, 25.724989380771884, 25.256359755279803, 25.087189930402463, 25.233794709145965, 24.227082037812657, 24.887030707052386, 23.5866567152791, 24.728721160891034, 26.9124662704971, 772.3109455555219, 82.2808084377874, 938.4939191346249, 46.024659919603806, 42.27199597786861, 34.29613387736579, 701.8047943178747, 60.86886157305498, 1386.4388180418448, 290.1987627522611, 90.0267565640832, 261.1772642373402, 61.8886753700244, 113.7984512779627, 543.5703845494744, 1074.9255095442454, 1622.727105911233, 69.12703188296946, 182.23234531565893, 220.03593082419096, 410.89011049323494, 296.8991876626275, 85.48903385032027, 96.40459192400988, 749.8433775461274, 237.05265025113292, 888.9825065409727, 277.20312376566216, 119.33171579731278, 228.54509139016946, 2258.066645397695, 324.16829768297947, 147.2825155790161, 838.333883386618, 336.70845693958665, 415.3303653498947, 648.1333020371226, 237.62209745335105, 315.8166175754702, 282.8149026327704, 294.2534995326003, 775.2760280338821, 805.1583948355732, 778.5203329276515, 905.025052917147, 77.94640116984387, 70.37252655998446, 49.36840220154878, 42.67043636803551, 53.13737934528436, 63.11030148758247, 64.10683366449145, 40.03174085171807, 51.64823685313719, 42.72441955936396, 106.2847898137671, 37.30939329982737, 33.424164681919514, 34.09382945699673, 32.41249338324148, 31.797202088927733, 62.14512256195367, 30.587030953033626, 29.345862619379005, 28.947157996362268, 47.27192484181588, 28.29933402348443, 26.349384669666144, 25.717112361337357, 25.480549033431927, 25.112237344269722, 39.993958095534616, 41.34582826148282, 50.541841623860776, 55.203496295282314, 62.67865506681318, 75.37347627051086, 702.9109438116269, 788.4712619179269, 54.86188006111653, 57.62118186003915, 172.02561470467228, 132.91661393791156, 453.41523168586633, 44.519672217864425, 46.23066344149834, 85.66025959039818, 49.115864395539695, 119.66198758791255, 117.5152998347231, 174.43030431596117, 62.56834010036308, 293.75938186298214, 178.06629547009993, 965.8778860766412, 227.3414732741428, 82.33878694342336, 176.42987349369616, 98.12893203164079, 115.82897558810093, 164.45082257228142, 219.37848694474854, 149.80264382939208, 117.68897178612525, 98.45923329578244, 88.49715709146813, 96.77740764843766, 90.06809945616797, 852.6701702966594, 111.85225005317854, 73.90790187420876, 76.22128133509425, 50.3359439497031, 47.21676847728558, 44.45280124560513, 46.22970348858868, 43.41700205431901, 43.3009171713177, 43.06355319351979, 42.76969633411346, 41.83054491849415, 40.019502622759134, 39.305987021500485, 36.619640772908156, 43.06611766074367, 35.24597224776357, 32.88715353611592, 33.23695619078955, 30.89978469095663, 30.928624844778728, 30.59541507015493, 30.18918791966554, 76.8258676940175, 30.289795854415047, 28.978762498435714, 28.503300949791594, 28.144455828264284, 27.82541745494195, 31.57986585650602, 943.2948237587274, 925.3615324380876, 59.32188372888202, 105.86968684036684, 53.42631346119484, 58.93205984329015, 139.63926266866457, 66.89756858385556, 37.3778806825514, 475.0286541429467, 126.11214257030966, 76.85566524893652, 41.027120650588564, 71.31855465558178, 71.02445222901099, 79.12930013051943, 361.11958325529577, 70.16318290586986, 53.961519325042744, 895.6621049146175, 270.5621965456216, 77.9333507382128, 55.3979504656025, 229.20836277070975, 60.81246398342981, 240.2200669091685, 134.34167642246607, 169.2112315084397, 106.44861609327074, 81.15619907226801, 98.98574914547754, 82.54284535578803, 70.45684393323363, 72.93682983565357, 74.38919486589775, 71.46255026731436], \"Total\": [54443.0, 5279.0, 10251.0, 3320.0, 2856.0, 5060.0, 1877.0, 1788.0, 4238.0, 3404.0, 1964.0, 2513.0, 2795.0, 1007.0, 1004.0, 1783.0, 1069.0, 907.0, 3482.0, 853.0, 3957.0, 1049.0, 1190.0, 806.0, 2802.0, 937.0, 779.0, 776.0, 1118.0, 3896.0, 1316.6084726186525, 142.98748200300003, 128.40693247664726, 130.57630763522843, 101.69151443151185, 95.76207474861499, 93.84804308597204, 1273.122746706116, 88.00858418487178, 76.13134768024625, 76.38218989314183, 72.32913592695243, 67.7104144952387, 67.23444602887649, 65.10796262030907, 66.76008725419469, 54.51710796670914, 50.16446369567878, 54.20487925058986, 60.11052901267606, 47.945640516926304, 69.48193330407051, 89.38461724043731, 70.41617423572623, 48.16605023553759, 44.01822912814203, 42.652581783228015, 42.437888089934496, 42.78618999165889, 41.95187280662214, 1332.415929340596, 95.78954959255773, 112.91137870419543, 68.59385002005153, 87.51558816796921, 1507.8085373089934, 125.60799633355072, 182.1148880543193, 157.9582493320948, 111.11644412368076, 133.24565765500807, 121.0530070671053, 666.9438063249312, 316.35430320489536, 901.3317165125533, 302.9802113920756, 149.28379498385382, 164.38734439107634, 1391.5410940095474, 1552.4907350063095, 228.61142955776785, 1584.7270279742195, 1617.6133632217352, 10251.886088325047, 591.3534265007867, 771.5709086025486, 7927.1440758569715, 602.850512520839, 15035.759160139429, 299.6999524091959, 1616.623070730613, 824.3636816894996, 435.59075800656507, 494.3545788359932, 1092.7274689026867, 1423.2748477538955, 1937.3417301120915, 852.6224292201783, 3779.5948069218693, 2087.573753428952, 54443.40691036226, 1908.8724045796116, 2764.458115211057, 2329.598291774936, 1400.82262408374, 2517.7468155060155, 1754.4526627148311, 2688.034249705664, 1860.2938304599552, 1371.4662177333666, 2581.198653728541, 1926.340350686719, 3240.042279539406, 5279.52941298995, 1650.4782254968607, 3957.150175789442, 914.053007747823, 910.4726635244666, 116.73782072432788, 100.77361619564577, 88.1408147509541, 950.6729814180834, 77.87569346435943, 76.69874235135437, 71.14523521534282, 69.40124524993422, 60.44219759890742, 59.43867532638842, 55.89467395308193, 54.14844918800939, 49.2374206476968, 48.943506973619726, 48.15763595320839, 47.46075570333581, 48.278005272780135, 46.859400956169075, 63.143660916454024, 45.293886918652895, 44.5283286353074, 44.50766936457766, 44.79932793286796, 41.11347334202923, 40.8878760169298, 40.66659873851983, 39.879390638703455, 39.96081691193873, 1010.6155914034316, 966.7658482483068, 132.23389314125504, 89.25062897035005, 64.0163876843806, 58.08496607351317, 60.18944242265063, 53.37253450736799, 1865.8606328258816, 136.88688218530214, 140.81749974634118, 1687.1147115480328, 92.45609115821016, 79.88671246671505, 99.30183457868107, 77.81573578627051, 1256.0514363615564, 77.59080665545973, 914.6300999546471, 195.28445193843135, 88.38992987620813, 209.7699409937821, 959.8445725320438, 1840.636015251051, 251.14753784600126, 884.5173143650908, 1313.5127548793666, 1139.784478670533, 898.1513264598196, 2412.960692898551, 2581.198653728541, 286.22041234918953, 2795.1017445829366, 1080.605309492881, 2513.9422782225047, 742.5138244341692, 1473.8448354815082, 1690.20805470825, 3847.2086822681053, 15035.759160139429, 54443.40691036226, 814.0786612406201, 3308.4624452948287, 2329.598291774936, 7927.1440758569715, 3031.9904846936297, 10251.886088325047, 3779.5948069218693, 3923.8285992161123, 4640.369140934311, 5279.52941298995, 1109.2667160314306, 151.6995006446537, 97.51268091957027, 68.63713596429685, 68.21198494762457, 66.34988204293224, 62.58312797181909, 56.18463897168507, 53.51369258723092, 168.3355558043844, 48.94655799820934, 49.26370415077997, 43.50773577278107, 42.76197807605851, 42.510686959463996, 45.66715985764637, 41.035711152582195, 39.82257171746309, 37.87977886861906, 38.49944868881412, 66.65869736684861, 37.61064147137088, 36.37011485571015, 35.095957348236084, 38.59939580756845, 33.8102617158137, 33.54336872611324, 32.883888718147695, 32.51352397293413, 32.24717102896724, 37.52383706513541, 103.04256846063063, 38.39437459861937, 2856.973516171476, 1258.6855332224693, 92.45575314926239, 1233.5197027576287, 1783.487251080704, 102.06328497163751, 72.41248776209495, 197.24827146682807, 71.51578933516844, 117.69686370175461, 126.71461446064671, 92.87225281862142, 85.10949730456163, 102.29273583198108, 1052.9158604386673, 1842.049247771822, 1850.5290180891843, 1836.2650933721725, 3957.150175789442, 225.47043306895654, 1656.8663102036276, 1893.2727760853875, 199.9316224503125, 4640.369140934311, 1404.0243242113843, 457.3956320717178, 54443.40691036226, 2416.9948037721397, 2908.7221317091717, 2069.296272867001, 716.9776426035045, 3404.654838987076, 1018.0752841576351, 604.9101567794099, 1288.5036999307606, 3652.3804167308535, 1904.3636285447644, 7927.1440758569715, 1763.6578662038576, 2362.0226579932137, 3031.9904846936297, 1837.547410953632, 3240.042279539406, 4238.8165563575485, 1069.36828384625, 1118.3973120320775, 1190.2035197294792, 168.72425945850222, 139.74006799642115, 86.89654257054384, 84.57935766210828, 77.14486937188367, 1085.317615822898, 86.18362344312175, 64.4315670022821, 63.42520046124687, 61.609209023913614, 62.39338230364172, 61.162504957638106, 59.70786813251384, 66.36673777458985, 46.746121114471606, 45.91080477494226, 45.66160722021321, 109.80664005727017, 43.32093334826561, 67.61802981975825, 42.74113968676763, 42.23807524762194, 71.03032066741505, 40.92869499385427, 41.599895289605165, 40.548686616462746, 52.35071714193228, 71.4138203988808, 67.62893050316447, 73.0855592474503, 1186.6860952591294, 183.29651407800907, 73.80303996277318, 60.09543184849854, 78.01738374194322, 1355.9156826430642, 1131.5799399388427, 1216.4715330495223, 1415.339952142578, 1414.701934754069, 96.92531439229312, 1468.070948095493, 1422.2262636075538, 172.03048343417203, 1763.6578662038576, 2802.1284582916437, 1359.3170000731209, 503.94639593098645, 1559.0883146052906, 1726.7042446914643, 4640.369140934311, 54443.40691036226, 3482.553961335308, 824.4179789093466, 679.0840682905244, 1242.0536413314242, 977.8562710241135, 5060.110640854435, 1288.5036999307606, 2416.9948037721397, 3957.150175789442, 1220.023961504803, 3652.3804167308535, 2009.2295805948872, 2908.7221317091717, 3896.6694404378004, 1926.340350686719, 1048.8901808132575, 109.68989116614038, 106.94004298254065, 70.5076220520674, 68.78239268706771, 68.71548145022282, 63.955211122742966, 64.81690476477524, 62.438130946573956, 57.60675523538222, 60.3594297915234, 71.54118308525958, 49.167254500365395, 48.27018746974311, 45.8886113881131, 45.394944836068575, 52.77489962991891, 45.098354817508735, 44.44126384041138, 45.572147325947824, 63.82314365471532, 42.88764017157195, 44.427789264541275, 42.44682867608513, 51.214923594550555, 42.06353171229869, 39.990496223415086, 38.342887564336976, 38.273727714299426, 38.9554102415831, 1877.3969083395566, 1139.2592437777776, 163.24302580258382, 78.34766217444526, 68.01564027476053, 92.2908220103344, 75.06676361604202, 92.2033392026849, 189.17611406916618, 205.52648804733627, 70.29078110273049, 63.87411070857188, 1752.0528375412296, 1543.7499709639558, 64.07540751865301, 1741.8118544411197, 1757.8994631169828, 213.99041019685427, 1727.4261440288553, 138.434259760819, 341.1262488497942, 248.2602723159682, 3551.8183958489467, 125.91843944506496, 54443.40691036226, 2069.296272867001, 609.5990289244772, 3308.4624452948287, 187.66983509685735, 665.5833422750761, 15035.759160139429, 3240.042279539406, 542.0012619090421, 786.1309082218412, 3482.553961335308, 5060.110640854435, 664.9071117604412, 471.5582259833424, 3320.210900448882, 3923.8285992161123, 1669.2904036891548, 3652.3804167308535, 7927.1440758569715, 4238.8165563575485, 2362.0226579932137, 1051.4628223748869, 2802.1284582916437, 10251.886088325047, 3896.6694404378004, 2908.7221317091717, 938.475924748557, 481.4153688728505, 200.25122321746002, 117.02812877804229, 113.09805401939037, 105.63300958230668, 79.5230465368564, 75.57277631792397, 72.46656581071896, 66.360311041827, 64.50932970808473, 58.5708847387477, 56.73044052122518, 64.32277487520768, 287.01967469168125, 48.46138187129069, 47.979045132124845, 46.606878597599355, 104.99304595499285, 48.144520931842756, 90.42107842831335, 47.32186506877501, 38.385938459954765, 37.69367878302307, 40.02522398486598, 36.454170989612415, 41.893318013364514, 34.38262531064414, 37.99471382281566, 33.09860202312517, 142.71053197812967, 66.11813679071993, 75.23544197770453, 52.34795462873729, 60.750979088852475, 1324.2328227118564, 278.24724017456896, 86.51132955383501, 122.73061369140471, 473.5759945890199, 1166.536080769283, 4238.8165563575485, 3404.654838987076, 1390.277604378861, 919.9113490693667, 717.5733416495352, 1401.4142524728436, 202.95300478015523, 1576.8370207717896, 1864.8968009536623, 2780.1050237904, 290.0455181208893, 1955.292670522019, 2237.526480894091, 3652.3804167308535, 2802.1284582916437, 54443.40691036226, 1014.7317063007957, 3923.8285992161123, 2517.7468155060155, 3551.8183958489467, 1860.2938304599552, 2069.296272867001, 3847.2086822681053, 1354.6842362823613, 15035.759160139429, 3896.6694404378004, 2416.9948037721397, 2412.960692898551, 1778.1754086468036, 640.3033643820876, 105.23754886634882, 77.49535258368574, 74.8763023364042, 53.306636488798425, 48.07010194447499, 45.932736757990384, 40.80650462916593, 42.85828405073881, 34.97895388077751, 44.72789897415177, 33.01318781558153, 32.31290783863172, 30.128027953051838, 29.282775321333233, 643.3278163319512, 25.118240857961133, 21.270466581147673, 21.271718784402808, 20.771577866466703, 49.65561357181721, 20.726548661764134, 21.34110399389812, 20.341373419827768, 20.365231347880172, 28.18687903334051, 20.675463014283928, 22.058027703055927, 20.742803302472, 19.761954827516444, 64.66349795593739, 667.0965726047382, 38.39857499788658, 28.876328158116763, 64.04499440250687, 93.11132148344613, 694.3835228539235, 822.2942389834861, 162.77771154054, 107.2174288109512, 1265.5150269148162, 889.8108984308176, 208.041974973705, 1074.68356121668, 5279.52941298995, 914.7981116642356, 1528.7438845090533, 1199.5623158734488, 804.0686853365046, 2513.9422782225047, 5060.110640854435, 1430.1562953237324, 1696.9658157246743, 2795.1017445829366, 1724.7555547126553, 3896.6694404378004, 1249.8691926898932, 930.2018165170381, 10251.886088325047, 54443.40691036226, 1220.023961504803, 3482.553961335308, 1288.5036999307606, 953.147621980881, 3779.5948069218693, 4640.369140934311, 1754.4526627148311, 15035.759160139429, 791.4546805519221, 777.0333448168284, 199.9775026345051, 57.39738211699901, 53.94354691696268, 52.834149729229516, 69.677822284456, 51.1181680087088, 61.60815115057784, 43.43520716356241, 43.47277009974977, 40.22633614535021, 49.83850964325846, 35.92489170934531, 35.1373722514569, 32.150627432780084, 31.227954781465343, 29.5928326925135, 37.91582984144831, 29.903498799751777, 27.603517908504564, 26.77704457133191, 26.621319061549066, 26.15520217117951, 25.986117592664634, 26.139608196615903, 25.125615524947538, 25.823511859342183, 24.48334034746499, 25.68504129974935, 27.970891695450952, 833.5429928757719, 86.54734872518885, 1049.1042340597585, 48.41866582594968, 44.64048262342977, 35.92525352763337, 847.5111553294877, 65.85041273700251, 1788.5503562700637, 363.4416161134967, 102.36976870447585, 325.91292006661774, 69.01014323328353, 135.90867142214583, 809.7576798309997, 1964.013874647549, 3320.210900448882, 79.97921233698237, 275.07237203621037, 352.85091191333345, 813.1268188043139, 594.6119667501868, 121.14310067107883, 145.4533426966164, 3482.553961335308, 595.7231033601731, 5060.110640854435, 898.1513264598196, 222.93334559021312, 754.1638674237771, 54443.40691036226, 1480.0641020586452, 338.75835031471405, 10251.886088325047, 1840.636015251051, 3031.9904846936297, 15035.759160139429, 1473.8448354815082, 3923.8285992161123, 2780.1050237904, 3240.042279539406, 776.1864012530492, 806.1285669848177, 779.8630759656472, 907.8078973677036, 78.85927575301, 71.35293289279467, 50.298165344425335, 43.56573699460589, 54.30187996113949, 64.49843940524481, 65.5549579777798, 40.94389934958617, 52.88037011352221, 43.753850953169895, 108.85588282900135, 38.285469009621835, 34.32596343831175, 35.04398524798178, 33.32197617090729, 32.6924593780878, 63.92694989944933, 31.48240453942888, 30.24120205293465, 29.842723802924592, 48.757815179207135, 29.196880737059836, 27.26243859719151, 26.616750121956418, 26.380626398684036, 26.007620026390267, 41.51187534227522, 43.01037203108884, 52.87797352319123, 58.30150151193935, 67.2677323551617, 82.98004843256054, 937.8174349915564, 1069.182957668978, 59.266896939377865, 62.596268262716755, 214.4577215778496, 166.2521301171011, 972.5867362929091, 48.25427067239297, 50.89283430994743, 128.41190904951077, 55.733916124067804, 223.7904308863582, 221.16680586287015, 474.5670413120309, 83.9956431521085, 1404.0243242113843, 804.0686853365046, 54443.40691036226, 2412.960692898551, 183.43641887906105, 1656.8663102036276, 441.6154934877747, 903.6532774267548, 3896.6694404378004, 15035.759160139429, 3551.8183958489467, 1893.2727760853875, 2416.9948037721397, 1355.9156826430642, 7927.1440758569715, 2087.573753428952, 853.5633717201458, 112.78933694949636, 74.79539468359731, 77.51960220641676, 51.22337729785534, 48.10408329971915, 45.35356014909945, 47.16831887991959, 44.304484693386215, 44.1882680593052, 43.964914142261435, 43.674335098867225, 42.71786606021633, 40.91235075319079, 40.19340754937422, 37.508308064629986, 44.12311333430337, 36.141848567105036, 33.77459760878759, 34.138061880012195, 31.788105112850182, 31.823707208409303, 31.482762651697882, 31.079799524818966, 79.10399769601408, 31.19564019538267, 29.866453735201127, 29.39075065548171, 29.03273628060134, 28.71270663774454, 32.60047748121033, 1007.9710952457618, 1004.5629636258252, 61.84214643653589, 115.75869767221235, 56.56718381774002, 65.68539669814609, 175.93964184988357, 78.56294329513132, 39.70751984059525, 1014.7317063007957, 187.30936386143097, 103.22996752884725, 45.03838640881411, 103.69050738343017, 106.92320986845655, 133.04159990863175, 1955.292670522019, 111.04517531108169, 74.43635386093652, 54443.40691036226, 3551.8183958489467, 204.42473515645736, 83.89185680991073, 3923.8285992161123, 109.82955393066007, 15035.759160139429, 2517.7468155060155, 10251.886088325047, 1724.7555547126553, 493.5498083410294, 3240.042279539406, 3847.2086822681053, 643.206056227599, 1423.2748477538955, 2412.960692898551, 3320.210900448882], \"Category\": [\"Default\", \"Default\", \"Default\", \"Default\", \"Default\", \"Default\", \"Default\", \"Default\", \"Default\", \"Default\", \"Default\", \"Default\", \"Default\", \"Default\", \"Default\", \"Default\", \"Default\", \"Default\", \"Default\", \"Default\", \"Default\", \"Default\", \"Default\", \"Default\", \"Default\", \"Default\", \"Default\", \"Default\", \"Default\", \"Default\", \"Topic1\", \"Topic1\", \"Topic1\", \"Topic1\", \"Topic1\", \"Topic1\", \"Topic1\", \"Topic1\", \"Topic1\", \"Topic1\", \"Topic1\", \"Topic1\", \"Topic1\", \"Topic1\", \"Topic1\", \"Topic1\", \"Topic1\", \"Topic1\", \"Topic1\", \"Topic1\", \"Topic1\", \"Topic1\", \"Topic1\", \"Topic1\", \"Topic1\", \"Topic1\", \"Topic1\", \"Topic1\", \"Topic1\", \"Topic1\", \"Topic1\", \"Topic1\", \"Topic1\", \"Topic1\", \"Topic1\", \"Topic1\", \"Topic1\", \"Topic1\", \"Topic1\", \"Topic1\", \"Topic1\", \"Topic1\", \"Topic1\", \"Topic1\", \"Topic1\", \"Topic1\", \"Topic1\", \"Topic1\", \"Topic1\", \"Topic1\", \"Topic1\", \"Topic1\", \"Topic1\", \"Topic1\", \"Topic1\", \"Topic1\", \"Topic1\", \"Topic1\", \"Topic1\", \"Topic1\", \"Topic1\", \"Topic1\", \"Topic1\", \"Topic1\", \"Topic1\", \"Topic1\", \"Topic1\", \"Topic1\", \"Topic1\", \"Topic1\", \"Topic1\", \"Topic1\", \"Topic1\", \"Topic1\", \"Topic1\", \"Topic1\", \"Topic1\", \"Topic1\", \"Topic1\", \"Topic1\", \"Topic1\", \"Topic1\", \"Topic1\", \"Topic1\", \"Topic1\", \"Topic1\", \"Topic2\", \"Topic2\", \"Topic2\", \"Topic2\", \"Topic2\", \"Topic2\", \"Topic2\", \"Topic2\", \"Topic2\", \"Topic2\", \"Topic2\", \"Topic2\", \"Topic2\", \"Topic2\", \"Topic2\", \"Topic2\", \"Topic2\", \"Topic2\", \"Topic2\", \"Topic2\", \"Topic2\", \"Topic2\", \"Topic2\", \"Topic2\", \"Topic2\", \"Topic2\", \"Topic2\", \"Topic2\", \"Topic2\", \"Topic2\", \"Topic2\", \"Topic2\", \"Topic2\", \"Topic2\", \"Topic2\", \"Topic2\", \"Topic2\", \"Topic2\", \"Topic2\", \"Topic2\", \"Topic2\", \"Topic2\", \"Topic2\", \"Topic2\", \"Topic2\", \"Topic2\", \"Topic2\", \"Topic2\", \"Topic2\", \"Topic2\", \"Topic2\", \"Topic2\", \"Topic2\", \"Topic2\", \"Topic2\", \"Topic2\", \"Topic2\", \"Topic2\", \"Topic2\", \"Topic2\", \"Topic2\", \"Topic2\", \"Topic2\", \"Topic2\", \"Topic2\", \"Topic2\", \"Topic2\", \"Topic2\", \"Topic2\", \"Topic2\", \"Topic2\", \"Topic2\", \"Topic2\", \"Topic2\", \"Topic2\", \"Topic2\", \"Topic2\", \"Topic2\", \"Topic2\", \"Topic2\", \"Topic2\", \"Topic3\", \"Topic3\", \"Topic3\", \"Topic3\", \"Topic3\", \"Topic3\", \"Topic3\", \"Topic3\", \"Topic3\", \"Topic3\", \"Topic3\", \"Topic3\", \"Topic3\", \"Topic3\", \"Topic3\", \"Topic3\", \"Topic3\", \"Topic3\", \"Topic3\", \"Topic3\", \"Topic3\", \"Topic3\", \"Topic3\", \"Topic3\", \"Topic3\", \"Topic3\", \"Topic3\", \"Topic3\", \"Topic3\", \"Topic3\", \"Topic3\", \"Topic3\", \"Topic3\", \"Topic3\", \"Topic3\", \"Topic3\", \"Topic3\", \"Topic3\", \"Topic3\", \"Topic3\", \"Topic3\", \"Topic3\", \"Topic3\", \"Topic3\", \"Topic3\", \"Topic3\", \"Topic3\", \"Topic3\", \"Topic3\", \"Topic3\", \"Topic3\", \"Topic3\", \"Topic3\", \"Topic3\", \"Topic3\", \"Topic3\", \"Topic3\", \"Topic3\", \"Topic3\", \"Topic3\", \"Topic3\", \"Topic3\", \"Topic3\", \"Topic3\", \"Topic3\", \"Topic3\", \"Topic3\", \"Topic3\", \"Topic3\", \"Topic3\", \"Topic3\", \"Topic3\", \"Topic3\", \"Topic3\", \"Topic3\", \"Topic3\", \"Topic3\", \"Topic4\", \"Topic4\", \"Topic4\", \"Topic4\", \"Topic4\", \"Topic4\", \"Topic4\", \"Topic4\", \"Topic4\", \"Topic4\", \"Topic4\", \"Topic4\", \"Topic4\", \"Topic4\", \"Topic4\", \"Topic4\", \"Topic4\", \"Topic4\", \"Topic4\", \"Topic4\", \"Topic4\", \"Topic4\", \"Topic4\", \"Topic4\", \"Topic4\", \"Topic4\", \"Topic4\", \"Topic4\", \"Topic4\", \"Topic4\", \"Topic4\", \"Topic4\", \"Topic4\", \"Topic4\", \"Topic4\", \"Topic4\", \"Topic4\", \"Topic4\", \"Topic4\", \"Topic4\", \"Topic4\", \"Topic4\", \"Topic4\", \"Topic4\", \"Topic4\", \"Topic4\", \"Topic4\", \"Topic4\", \"Topic4\", \"Topic4\", \"Topic4\", \"Topic4\", \"Topic4\", \"Topic4\", \"Topic4\", \"Topic4\", \"Topic4\", \"Topic4\", \"Topic4\", \"Topic4\", \"Topic4\", \"Topic4\", \"Topic4\", \"Topic4\", \"Topic4\", \"Topic4\", \"Topic4\", \"Topic4\", \"Topic4\", \"Topic4\", \"Topic5\", \"Topic5\", \"Topic5\", \"Topic5\", \"Topic5\", \"Topic5\", \"Topic5\", \"Topic5\", \"Topic5\", \"Topic5\", \"Topic5\", \"Topic5\", \"Topic5\", \"Topic5\", \"Topic5\", \"Topic5\", \"Topic5\", \"Topic5\", \"Topic5\", \"Topic5\", \"Topic5\", \"Topic5\", \"Topic5\", \"Topic5\", \"Topic5\", \"Topic5\", \"Topic5\", \"Topic5\", \"Topic5\", \"Topic5\", \"Topic5\", \"Topic5\", \"Topic5\", \"Topic5\", \"Topic5\", \"Topic5\", \"Topic5\", \"Topic5\", \"Topic5\", \"Topic5\", \"Topic5\", \"Topic5\", \"Topic5\", \"Topic5\", \"Topic5\", \"Topic5\", \"Topic5\", \"Topic5\", \"Topic5\", \"Topic5\", \"Topic5\", \"Topic5\", \"Topic5\", \"Topic5\", \"Topic5\", \"Topic5\", \"Topic5\", \"Topic5\", \"Topic5\", \"Topic5\", \"Topic5\", \"Topic5\", \"Topic5\", \"Topic5\", \"Topic5\", \"Topic5\", \"Topic5\", \"Topic5\", \"Topic5\", \"Topic5\", \"Topic5\", \"Topic5\", \"Topic5\", \"Topic5\", \"Topic5\", \"Topic5\", \"Topic5\", \"Topic5\", \"Topic5\", \"Topic5\", \"Topic6\", \"Topic6\", \"Topic6\", \"Topic6\", \"Topic6\", \"Topic6\", \"Topic6\", \"Topic6\", \"Topic6\", \"Topic6\", \"Topic6\", \"Topic6\", \"Topic6\", \"Topic6\", \"Topic6\", \"Topic6\", \"Topic6\", \"Topic6\", \"Topic6\", \"Topic6\", \"Topic6\", \"Topic6\", \"Topic6\", \"Topic6\", \"Topic6\", \"Topic6\", \"Topic6\", \"Topic6\", \"Topic6\", \"Topic6\", \"Topic6\", \"Topic6\", \"Topic6\", \"Topic6\", \"Topic6\", \"Topic6\", \"Topic6\", \"Topic6\", \"Topic6\", \"Topic6\", \"Topic6\", \"Topic6\", \"Topic6\", \"Topic6\", \"Topic6\", \"Topic6\", \"Topic6\", \"Topic6\", \"Topic6\", \"Topic6\", \"Topic6\", \"Topic6\", \"Topic6\", \"Topic6\", \"Topic6\", \"Topic6\", \"Topic6\", \"Topic6\", \"Topic6\", \"Topic6\", \"Topic6\", \"Topic6\", \"Topic6\", \"Topic6\", \"Topic6\", \"Topic6\", \"Topic6\", \"Topic6\", \"Topic6\", \"Topic6\", \"Topic7\", \"Topic7\", \"Topic7\", \"Topic7\", \"Topic7\", \"Topic7\", \"Topic7\", \"Topic7\", \"Topic7\", \"Topic7\", \"Topic7\", \"Topic7\", \"Topic7\", \"Topic7\", \"Topic7\", \"Topic7\", \"Topic7\", \"Topic7\", \"Topic7\", \"Topic7\", \"Topic7\", \"Topic7\", \"Topic7\", \"Topic7\", \"Topic7\", \"Topic7\", \"Topic7\", \"Topic7\", \"Topic7\", \"Topic7\", \"Topic7\", \"Topic7\", \"Topic7\", \"Topic7\", \"Topic7\", \"Topic7\", \"Topic7\", \"Topic7\", \"Topic7\", \"Topic7\", \"Topic7\", \"Topic7\", \"Topic7\", \"Topic7\", \"Topic7\", \"Topic7\", \"Topic7\", \"Topic7\", \"Topic7\", \"Topic7\", \"Topic7\", \"Topic7\", \"Topic7\", \"Topic7\", \"Topic7\", \"Topic7\", \"Topic7\", \"Topic7\", \"Topic7\", \"Topic7\", \"Topic7\", \"Topic7\", \"Topic7\", \"Topic7\", \"Topic7\", \"Topic7\", \"Topic7\", \"Topic7\", \"Topic8\", \"Topic8\", \"Topic8\", \"Topic8\", \"Topic8\", \"Topic8\", \"Topic8\", \"Topic8\", \"Topic8\", \"Topic8\", \"Topic8\", \"Topic8\", \"Topic8\", \"Topic8\", \"Topic8\", \"Topic8\", \"Topic8\", \"Topic8\", \"Topic8\", \"Topic8\", \"Topic8\", \"Topic8\", \"Topic8\", \"Topic8\", \"Topic8\", \"Topic8\", \"Topic8\", \"Topic8\", \"Topic8\", \"Topic8\", \"Topic8\", \"Topic8\", \"Topic8\", \"Topic8\", \"Topic8\", \"Topic8\", \"Topic8\", \"Topic8\", \"Topic8\", \"Topic8\", \"Topic8\", \"Topic8\", \"Topic8\", \"Topic8\", \"Topic8\", \"Topic8\", \"Topic8\", \"Topic8\", \"Topic8\", \"Topic8\", \"Topic8\", \"Topic8\", \"Topic8\", \"Topic8\", \"Topic8\", \"Topic8\", \"Topic8\", \"Topic8\", \"Topic8\", \"Topic8\", \"Topic8\", \"Topic8\", \"Topic8\", \"Topic8\", \"Topic8\", \"Topic8\", \"Topic8\", \"Topic8\", \"Topic8\", \"Topic8\", \"Topic8\", \"Topic8\", \"Topic9\", \"Topic9\", \"Topic9\", \"Topic9\", \"Topic9\", \"Topic9\", \"Topic9\", \"Topic9\", \"Topic9\", \"Topic9\", \"Topic9\", \"Topic9\", \"Topic9\", \"Topic9\", \"Topic9\", \"Topic9\", \"Topic9\", \"Topic9\", \"Topic9\", \"Topic9\", \"Topic9\", \"Topic9\", \"Topic9\", \"Topic9\", \"Topic9\", \"Topic9\", \"Topic9\", \"Topic9\", \"Topic9\", \"Topic9\", \"Topic9\", \"Topic9\", \"Topic9\", \"Topic9\", \"Topic9\", \"Topic9\", \"Topic9\", \"Topic9\", \"Topic9\", \"Topic9\", \"Topic9\", \"Topic9\", \"Topic9\", \"Topic9\", \"Topic9\", \"Topic9\", \"Topic9\", \"Topic9\", \"Topic9\", \"Topic9\", \"Topic9\", \"Topic9\", \"Topic9\", \"Topic9\", \"Topic9\", \"Topic9\", \"Topic9\", \"Topic9\", \"Topic9\", \"Topic9\", \"Topic9\", \"Topic9\", \"Topic9\", \"Topic9\", \"Topic9\", \"Topic9\", \"Topic9\", \"Topic10\", \"Topic10\", \"Topic10\", \"Topic10\", \"Topic10\", \"Topic10\", \"Topic10\", \"Topic10\", \"Topic10\", \"Topic10\", \"Topic10\", \"Topic10\", \"Topic10\", \"Topic10\", \"Topic10\", \"Topic10\", \"Topic10\", \"Topic10\", \"Topic10\", \"Topic10\", \"Topic10\", \"Topic10\", \"Topic10\", \"Topic10\", \"Topic10\", \"Topic10\", \"Topic10\", \"Topic10\", \"Topic10\", \"Topic10\", \"Topic10\", \"Topic10\", \"Topic10\", \"Topic10\", \"Topic10\", \"Topic10\", \"Topic10\", \"Topic10\", \"Topic10\", \"Topic10\", \"Topic10\", \"Topic10\", \"Topic10\", \"Topic10\", \"Topic10\", \"Topic10\", \"Topic10\", \"Topic10\", \"Topic10\", \"Topic10\", \"Topic10\", \"Topic10\", \"Topic10\", \"Topic10\", \"Topic10\", \"Topic10\", \"Topic10\", \"Topic10\", \"Topic10\", \"Topic10\", \"Topic10\", \"Topic10\", \"Topic10\", \"Topic10\", \"Topic10\", \"Topic10\", \"Topic10\"], \"logprob\": [30.0, 29.0, 28.0, 27.0, 26.0, 25.0, 24.0, 23.0, 22.0, 21.0, 20.0, 19.0, 18.0, 17.0, 16.0, 15.0, 14.0, 13.0, 12.0, 11.0, 10.0, 9.0, 8.0, 7.0, 6.0, 5.0, 4.0, 3.0, 2.0, 1.0, -5.0506, -7.2759, -7.3845, -7.3692, -7.6193, -7.6797, -7.7003, -5.0929, -7.7649, -7.9114, -7.9082, -7.9632, -8.03, -8.0374, -8.0697, -8.0461, -8.2498, -8.3344, -8.257, -8.1538, -8.3804, -8.0101, -7.7585, -7.9977, -8.3775, -8.4676, -8.4996, -8.5048, -8.4968, -8.5165, -5.0718, -7.692, -7.532, -8.0256, -7.7856, -4.9945, -7.4308, -7.0712, -7.2109, -7.5551, -7.3845, -7.4767, -5.8403, -6.5584, -5.6129, -6.6285, -7.3029, -7.2148, -5.2736, -5.219, -6.9308, -5.2132, -5.2108, -3.6171, -6.1094, -5.8807, -3.8861, -6.1141, -3.3927, -6.7113, -5.3029, -5.8662, -6.4015, -6.3054, -5.6675, -5.4678, -5.2282, -5.8847, -4.7108, -5.192, -2.761, -5.3071, -5.0607, -5.1987, -5.5637, -5.1928, -5.4401, -5.1717, -5.4056, -5.604, -5.2853, -5.4351, -5.3146, -5.2327, -5.564, -5.5163, -5.2097, -5.2136, -7.2742, -7.4235, -7.5577, -5.1803, -7.6828, -7.6983, -7.7744, -7.7994, -7.9396, -7.9565, -8.019, -8.0513, -8.148, -8.1542, -8.1706, -8.1854, -8.1684, -8.1984, -7.9004, -8.2331, -8.2504, -8.2509, -8.2453, -8.3319, -8.3375, -8.343, -8.3631, -8.3611, -5.1308, -5.1818, -7.1694, -7.5606, -7.8903, -7.9873, -7.954, -8.0722, -4.6116, -7.1533, -7.1304, -4.7355, -7.5434, -7.6857, -7.4799, -7.7122, -5.0769, -7.7165, -5.436, -6.8629, -7.5963, -6.822, -5.4717, -4.9069, -6.6815, -5.5832, -5.3017, -5.4306, -5.639, -4.8435, -4.7945, -6.615, -4.758, -5.5472, -4.873, -5.8508, -5.3174, -5.2312, -4.6367, -3.694, -2.7569, -5.8571, -5.0462, -5.3226, -4.6153, -5.2394, -4.7619, -5.2326, -5.2751, -5.3188, -5.3742, -4.346, -6.3428, -6.7855, -7.1404, -7.1467, -7.1749, -7.2347, -7.3434, -7.3929, -6.2483, -7.4838, -7.4784, -7.6037, -7.6213, -7.6275, -7.5563, -7.6634, -7.6943, -7.7452, -7.7292, -7.1805, -7.7529, -7.7875, -7.8234, -7.7287, -7.8617, -7.8698, -7.8903, -7.9018, -7.9103, -7.7591, -6.7642, -7.7373, -3.5198, -4.3374, -6.8788, -4.3908, -4.0396, -6.7963, -7.1273, -6.2157, -7.1562, -6.7035, -6.6367, -6.9231, -7.0081, -6.86, -4.8858, -4.4366, -4.4367, -4.4438, -3.8399, -6.2215, -4.7217, -4.6662, -6.398, -4.2386, -5.0892, -5.8522, -2.6676, -4.8505, -4.835, -5.0892, -5.7677, -4.9586, -5.5908, -5.8869, -5.5348, -5.1281, -5.4173, -4.8101, -5.4886, -5.5287, -5.5027, -5.6362, -5.5599, -5.6785, -4.3404, -4.296, -4.235, -6.1913, -6.3815, -6.8597, -6.887, -6.98, -4.3381, -6.8714, -7.1623, -7.1782, -7.2077, -7.1954, -7.2157, -7.24, -7.135, -7.4883, -7.5067, -7.5122, -6.6351, -7.5659, -7.1207, -7.5797, -7.5918, -7.0722, -7.6239, -7.6076, -7.6334, -7.3781, -7.0701, -7.127, -7.0511, -4.3229, -6.1613, -7.052, -7.2511, -7.0054, -4.3831, -4.5601, -4.5537, -4.4265, -4.4532, -6.8228, -4.5435, -4.6162, -6.36, -4.492, -4.2377, -4.8513, -5.6778, -4.9657, -4.9051, -4.262, -2.6788, -4.5342, -5.5083, -5.6314, -5.2741, -5.4784, -4.6143, -5.3848, -5.1318, -4.9624, -5.4348, -5.0376, -5.2578, -5.2667, -5.3365, -5.4141, -4.3217, -6.5871, -6.6146, -7.0325, -7.0575, -7.0585, -7.1312, -7.1179, -7.1556, -7.2373, -7.1907, -7.0211, -7.3983, -7.4171, -7.4686, -7.4797, -7.3291, -7.4863, -7.5013, -7.4763, -7.1401, -7.5376, -7.5024, -7.5482, -7.3606, -7.5578, -7.6091, -7.6521, -7.6539, -7.6366, -3.7621, -4.28, -6.2039, -6.9411, -7.0889, -6.796, -7.0038, -6.8118, -6.1458, -6.1164, -7.0826, -7.1703, -4.2177, -4.391, -7.1719, -4.3667, -4.3683, -6.1736, -4.5025, -6.5493, -5.8684, -6.149, -4.2971, -6.6644, -2.5356, -4.9283, -5.732, -4.7443, -6.4647, -5.7346, -4.0213, -4.8885, -5.9411, -5.7679, -5.0706, -5.0271, -5.9239, -6.0886, -5.3689, -5.3681, -5.6948, -5.5188, -5.3892, -5.5678, -5.7191, -5.8758, -5.7523, -5.6528, -5.7854, -5.8635, -4.3532, -5.0214, -5.9011, -6.4414, -6.4759, -6.5447, -6.8317, -6.8831, -6.9265, -7.015, -7.0445, -7.1418, -7.1738, -7.0495, -5.5545, -7.3339, -7.3441, -7.3736, -6.5616, -7.3414, -6.7113, -7.3594, -7.5718, -7.5904, -7.5307, -7.6247, -7.4857, -7.6848, -7.5852, -7.7238, -6.2676, -7.0345, -6.9099, -7.2761, -7.1365, -4.2719, -5.7354, -6.8234, -6.5127, -5.3698, -4.6032, -3.5028, -3.7077, -4.4717, -4.8673, -5.0955, -4.5744, -6.1916, -4.6602, -4.5737, -4.3261, -5.9571, -4.6075, -4.541, -4.3388, -4.514, -2.7432, -5.2196, -4.4411, -4.7057, -4.6287, -5.0868, -5.132, -5.0129, -5.411, -4.6946, -5.1453, -5.2794, -5.3077, -5.3539, -4.5511, -6.3641, -6.6732, -6.7081, -7.0537, -7.1582, -7.2061, -7.3253, -7.2778, -7.4842, -7.2388, -7.5427, -7.5647, -7.6368, -7.6671, -4.5792, -7.8249, -7.998, -7.998, -8.0228, -7.1513, -8.0251, -7.9965, -8.0447, -8.0437, -7.7191, -8.0291, -7.9645, -8.0264, -8.075, -6.8931, -4.5866, -7.4131, -7.7005, -6.9292, -6.5778, -4.6894, -4.5431, -6.1086, -6.5018, -4.2435, -4.5807, -5.9396, -4.4949, -3.1025, -4.7591, -4.3694, -4.5684, -4.9226, -4.03, -3.5376, -4.5251, -4.4342, -4.0582, -4.4501, -3.8408, -4.7654, -5.1036, -3.6094, -2.6638, -5.0764, -4.5338, -5.1222, -5.3052, -4.78, -4.8389, -5.2207, -5.1304, -4.0214, -4.0398, -5.4005, -6.6601, -6.723, -6.7446, -6.4689, -6.7791, -6.5931, -6.9438, -6.943, -7.0227, -6.8103, -7.1381, -7.161, -7.252, -7.282, -7.3374, -7.0897, -7.3277, -7.4099, -7.4408, -7.4467, -7.4651, -7.4718, -7.466, -7.5067, -7.4798, -7.5335, -7.4862, -7.4016, -4.0448, -6.284, -3.8499, -6.865, -6.95, -7.1591, -4.1405, -6.5854, -3.4597, -5.0236, -6.1941, -5.129, -6.5688, -5.9597, -4.396, -3.7142, -3.3023, -6.4582, -5.4889, -5.3004, -4.6758, -5.0008, -6.2458, -6.1256, -4.0743, -5.2259, -3.9041, -5.0694, -5.9123, -5.2624, -2.9719, -4.9129, -5.7018, -3.9628, -4.8749, -4.6651, -4.2201, -5.2235, -4.939, -5.0494, -5.0097, -3.6358, -3.598, -3.6316, -3.4811, -5.933, -6.0352, -6.3897, -6.5355, -6.3162, -6.1442, -6.1285, -6.5994, -6.3446, -6.5343, -5.6229, -6.6698, -6.7798, -6.7599, -6.8105, -6.8297, -6.1596, -6.8685, -6.9099, -6.9236, -6.4331, -6.9462, -7.0176, -7.0419, -7.0511, -7.0657, -6.6003, -6.5671, -6.3662, -6.278, -6.151, -5.9666, -3.7338, -3.6189, -6.2842, -6.2351, -5.1414, -5.3993, -4.1722, -6.4931, -6.4554, -5.8386, -6.3949, -5.5044, -5.5225, -5.1275, -6.1528, -4.6063, -5.1069, -3.416, -4.8626, -5.8782, -5.1161, -5.7028, -5.5369, -5.1864, -4.8982, -5.2797, -5.521, -5.6994, -5.8061, -5.7166, -5.7885, -3.4441, -5.4753, -5.8896, -5.8588, -6.2737, -6.3377, -6.398, -6.3588, -6.4216, -6.4243, -6.4298, -6.4366, -6.4588, -6.5031, -6.5211, -6.5919, -6.4297, -6.6301, -6.6994, -6.6888, -6.7617, -6.7608, -6.7716, -6.785, -5.8509, -6.7817, -6.8259, -6.8424, -6.8551, -6.8665, -6.7399, -3.3431, -3.3623, -6.1095, -5.5303, -6.2142, -6.1161, -5.2534, -5.9893, -6.5714, -4.0291, -5.3553, -5.8505, -6.4782, -5.9253, -5.9294, -5.8214, -4.3033, -5.9416, -6.2042, -3.3949, -4.592, -5.8366, -6.1779, -4.7578, -6.0847, -4.7109, -5.2921, -5.0613, -5.5248, -5.7961, -5.5975, -5.7792, -5.9375, -5.9029, -5.8832, -5.9233], \"loglift\": [30.0, 29.0, 28.0, 27.0, 26.0, 25.0, 24.0, 23.0, 22.0, 21.0, 20.0, 19.0, 18.0, 17.0, 16.0, 15.0, 14.0, 13.0, 12.0, 11.0, 10.0, 9.0, 8.0, 7.0, 6.0, 5.0, 4.0, 3.0, 2.0, 1.0, 1.4227, 1.4174, 1.4164, 1.4149, 1.4148, 1.4145, 1.4141, 1.4139, 1.4137, 1.4122, 1.412, 1.4116, 1.4108, 1.4105, 1.4103, 1.4088, 1.4077, 1.4063, 1.4063, 1.406, 1.4055, 1.4048, 1.4046, 1.4039, 1.4038, 1.4038, 1.4033, 1.4032, 1.403, 1.403, 1.3895, 1.4018, 1.3974, 1.4023, 1.3986, 1.3431, 1.3921, 1.3802, 1.3828, 1.3904, 1.3794, 1.3831, 1.313, 1.3408, 1.2392, 1.3138, 1.3472, 1.339, 1.1443, 1.0894, 1.2932, 1.0746, 1.0565, 0.8037, 1.1642, 1.1269, 0.7919, 1.1403, 0.6451, 1.242, 0.965, 1.0752, 1.1779, 1.1474, 0.9921, 0.9276, 0.8587, 1.023, 0.7079, 0.8203, -0.0098, 0.7947, 0.6707, 0.7039, 0.8475, 0.6322, 0.746, 0.5878, 0.722, 0.8284, 0.5147, 0.6576, 0.2581, -0.1482, 0.6832, -0.1436, 1.6285, 1.6285, 1.6219, 1.6196, 1.6194, 1.6185, 1.6181, 1.6179, 1.617, 1.6167, 1.6148, 1.6145, 1.6135, 1.613, 1.6114, 1.6112, 1.611, 1.6107, 1.6107, 1.6105, 1.6103, 1.6098, 1.6095, 1.6094, 1.6085, 1.6078, 1.6077, 1.6076, 1.6071, 1.607, 1.6069, 1.6003, 1.6021, 1.604, 1.6066, 1.6068, 1.6045, 1.6066, 1.513, 1.5836, 1.5782, 1.4898, 1.5859, 1.5897, 1.5779, 1.5895, 1.4434, 1.5881, 1.4015, 1.5187, 1.578, 1.488, 1.3176, 1.2313, 1.4485, 1.2878, 1.1738, 1.1868, 1.2167, 1.024, 1.0055, 1.3842, 0.9624, 1.1236, 0.9534, 1.1952, 1.043, 0.9922, 0.7642, 0.3439, -0.0058, 1.0969, 0.5056, 0.58, 0.0627, 0.3996, -0.341, 0.1861, 0.1061, -0.1053, -0.2897, 2.2986, 2.2914, 2.2905, 2.2868, 2.2867, 2.2862, 2.2849, 2.284, 2.2832, 2.2818, 2.2816, 2.2805, 2.2794, 2.2791, 2.2788, 2.2783, 2.2782, 2.2773, 2.2764, 2.2762, 2.2759, 2.2759, 2.2748, 2.2746, 2.2741, 2.2735, 2.2734, 2.2728, 2.2726, 2.2723, 2.2719, 2.2567, 2.2708, 2.1787, 2.1808, 2.2505, 2.1476, 2.1301, 2.2341, 2.2463, 2.1558, 2.2299, 2.1844, 2.1774, 2.2017, 2.2039, 2.1682, 1.8109, 1.7008, 1.6961, 1.6968, 1.5328, 2.0164, 1.5216, 1.4438, 1.9601, 0.9749, 1.3198, 1.6783, 0.0835, 1.0153, 0.8456, 0.9319, 1.3133, 0.5645, 1.1396, 1.3641, 0.96, 0.3248, 0.6868, -0.1321, 0.6923, 0.36, 0.1363, 0.5036, 0.0128, -0.3745, 2.3408, 2.3404, 2.3392, 2.3365, 2.3348, 2.3316, 2.3314, 2.3304, 2.3283, 2.3282, 2.3282, 2.3279, 2.3275, 2.3272, 2.3268, 2.3265, 2.3259, 2.323, 2.3226, 2.3226, 2.3222, 2.3215, 2.3215, 2.3212, 2.321, 2.3208, 2.3203, 2.3203, 2.3201, 2.32, 2.3175, 2.315, 2.3133, 2.2542, 2.2836, 2.3026, 2.309, 2.2937, 2.0607, 2.0645, 1.9986, 1.9744, 1.9481, 2.2593, 1.8208, 1.7798, 2.1483, 1.6889, 1.4802, 1.59, 1.7557, 1.3385, 1.2969, 0.9515, 0.0723, 0.9663, 1.433, 1.5039, 1.2574, 1.2923, 0.5126, 1.11, 0.734, 0.4104, 1.1146, 0.4153, 0.7928, 0.4138, 0.0517, 0.6785, 2.3789, 2.3713, 2.3691, 2.3678, 2.3676, 2.3676, 2.3666, 2.3666, 2.3663, 2.3651, 2.365, 2.3647, 2.3625, 2.3621, 2.3612, 2.361, 2.3609, 2.3609, 2.3606, 2.3605, 2.3598, 2.3598, 2.3597, 2.3596, 2.3594, 2.3591, 2.3583, 2.3574, 2.3573, 2.357, 2.3563, 2.3379, 2.3569, 2.3538, 2.3474, 2.3351, 2.3338, 2.3203, 2.2676, 2.2141, 2.3208, 2.3288, 1.9698, 1.923, 2.3241, 1.8266, 1.8159, 2.1165, 1.6992, 2.1764, 1.9553, 1.9926, 1.1837, 2.156, 0.2155, 1.0928, 1.5113, 0.8075, 1.9566, 1.4207, 0.0166, 0.6842, 1.4197, 1.221, 0.4299, 0.0998, 1.2325, 1.4114, 0.1793, 0.0131, 0.5411, -0.0659, -0.7112, -0.2638, 0.1697, 0.8223, -0.0344, -1.232, -0.3973, -0.1829, 2.4585, 2.4579, 2.4553, 2.4522, 2.4519, 2.4514, 2.4483, 2.4478, 2.4464, 2.4459, 2.4447, 2.444, 2.4439, 2.4426, 2.442, 2.4414, 2.4412, 2.4407, 2.4406, 2.4404, 2.4402, 2.4396, 2.4365, 2.4361, 2.4358, 2.4353, 2.4352, 2.4337, 2.4333, 2.4328, 2.4276, 2.4301, 2.4256, 2.422, 2.4127, 2.1956, 2.2922, 2.3723, 2.3334, 2.126, 1.991, 1.8012, 1.8154, 1.9471, 1.9645, 1.9846, 1.8364, 2.1514, 1.6327, 1.5514, 1.3997, 2.0289, 1.4702, 1.4019, 1.1141, 1.2039, 0.0079, 1.5141, 0.9401, 1.1192, 0.8521, 1.0407, 0.8891, 0.388, 1.0337, -0.6567, 0.2428, 0.5864, 0.5598, 0.8188, 2.643, 2.6357, 2.6326, 2.6321, 2.6262, 2.6252, 2.6228, 2.6219, 2.6203, 2.6171, 2.6167, 2.6165, 2.6158, 2.6138, 2.6119, 2.6102, 2.6075, 2.6007, 2.6007, 2.5996, 2.5996, 2.5995, 2.5989, 2.5987, 2.5985, 2.5981, 2.598, 2.5978, 2.5974, 2.5973, 2.5937, 2.5665, 2.5949, 2.5925, 2.5672, 2.5444, 2.4236, 2.4009, 2.455, 2.4794, 2.2693, 2.2844, 2.3787, 2.1814, 1.9819, 2.0783, 1.9544, 1.9979, 2.0437, 1.7964, 1.5893, 1.8654, 1.7853, 1.6622, 1.7531, 1.5473, 1.7598, 1.717, 0.8114, 0.0873, 1.473, 0.9667, 1.3726, 1.491, 0.6387, 0.3746, 0.9654, -1.0926, 2.9607, 2.9607, 2.9574, 2.9459, 2.9451, 2.9443, 2.9433, 2.9428, 2.9421, 2.941, 2.9409, 2.9389, 2.937, 2.9365, 2.9357, 2.9336, 2.9327, 2.9311, 2.931, 2.9303, 2.9282, 2.9277, 2.9276, 2.9269, 2.9267, 2.9266, 2.9255, 2.9249, 2.9246, 2.9239, 2.9233, 2.8856, 2.9113, 2.8505, 2.9112, 2.9074, 2.9155, 2.7732, 2.8832, 2.7072, 2.7368, 2.8334, 2.7404, 2.853, 2.7843, 2.5633, 2.3591, 2.2459, 2.816, 2.5501, 2.4896, 2.2793, 2.2674, 2.6133, 2.5506, 1.4262, 2.0404, 1.2228, 1.7863, 2.3369, 1.768, -0.2208, 1.4433, 2.1289, 0.4581, 1.2632, 0.974, -0.1822, 1.1369, 0.4422, 0.6764, 0.563, 3.3658, 3.3658, 3.3653, 3.3639, 3.3554, 3.3532, 3.3483, 3.3462, 3.3453, 3.3452, 3.3447, 3.3445, 3.3434, 3.3432, 3.3431, 3.3412, 3.3404, 3.3395, 3.3393, 3.3392, 3.3387, 3.3381, 3.3369, 3.3365, 3.336, 3.3358, 3.3329, 3.3326, 3.3323, 3.332, 3.3297, 3.3275, 3.3218, 3.3124, 3.2963, 3.2709, 3.0787, 3.0624, 3.2898, 3.2842, 3.1465, 3.1432, 2.6038, 3.2864, 3.2709, 2.9621, 3.2406, 2.741, 2.7347, 2.3661, 3.0725, 1.8027, 1.8595, -0.6649, 1.0048, 2.566, 1.1272, 1.8628, 1.3127, 0.2017, -0.8604, 0.2011, 0.589, 0.1664, 0.6377, -1.0386, 0.2238, 3.4625, 3.4552, 3.4516, 3.4467, 3.4461, 3.4449, 3.4435, 3.4435, 3.4433, 3.4433, 3.4429, 3.4426, 3.4426, 3.4415, 3.4412, 3.4396, 3.4393, 3.4385, 3.4369, 3.4368, 3.4352, 3.435, 3.435, 3.4345, 3.4343, 3.4341, 3.4334, 3.4329, 3.4325, 3.4322, 3.4318, 3.3973, 3.3814, 3.422, 3.3743, 3.4064, 3.3551, 3.2325, 3.3028, 3.4031, 2.7046, 3.068, 3.1685, 3.3703, 3.0893, 3.0545, 2.944, 1.7745, 3.0045, 3.1419, -0.6438, 0.8889, 2.4992, 3.0486, 0.6234, 2.8724, -0.6731, 0.5328, -0.6405, 0.6784, 1.6583, -0.0248, -0.3782, 1.2521, 0.4924, -0.0157, -0.375]}, \"token.table\": {\"Topic\": [1, 2, 3, 4, 5, 6, 7, 9, 10, 2, 2, 10, 2, 4, 6, 10, 2, 3, 4, 1, 2, 3, 4, 5, 6, 7, 8, 9, 10, 5, 6, 8, 1, 1, 2, 6, 3, 8, 5, 4, 7, 1, 2, 4, 5, 7, 2, 9, 1, 2, 3, 4, 5, 6, 7, 8, 9, 10, 5, 9, 1, 2, 3, 4, 5, 6, 7, 8, 9, 10, 1, 2, 3, 4, 5, 6, 7, 8, 9, 10, 1, 2, 3, 4, 5, 6, 7, 8, 9, 10, 1, 2, 3, 4, 5, 6, 7, 8, 9, 10, 1, 2, 3, 4, 6, 7, 8, 9, 7, 3, 2, 1, 2, 3, 4, 5, 6, 7, 8, 9, 10, 1, 2, 4, 5, 6, 7, 8, 9, 1, 2, 3, 5, 7, 8, 9, 1, 3, 9, 7, 1, 2, 3, 4, 5, 6, 7, 8, 9, 10, 1, 2, 3, 4, 5, 6, 7, 8, 9, 10, 1, 2, 3, 4, 5, 6, 7, 8, 9, 10, 3, 5, 6, 7, 1, 5, 8, 10, 4, 1, 2, 3, 4, 5, 6, 7, 8, 9, 1, 2, 3, 4, 5, 6, 7, 8, 10, 3, 3, 1, 2, 4, 5, 6, 7, 9, 1, 2, 3, 4, 6, 9, 1, 2, 3, 4, 5, 6, 7, 8, 9, 10, 8, 4, 3, 1, 2, 3, 4, 5, 6, 7, 8, 9, 10, 2, 4, 1, 2, 3, 4, 5, 6, 7, 8, 9, 10, 1, 2, 2, 3, 6, 7, 10, 5, 1, 1, 2, 3, 4, 5, 7, 8, 9, 10, 1, 2, 4, 5, 6, 7, 8, 9, 4, 1, 2, 3, 4, 5, 6, 8, 6, 2, 6, 3, 1, 2, 6, 8, 9, 1, 2, 3, 4, 5, 7, 8, 9, 6, 9, 1, 1, 2, 3, 5, 6, 7, 8, 9, 4, 6, 1, 2, 3, 4, 5, 6, 7, 8, 9, 10, 4, 8, 5, 6, 4, 7, 10, 5, 7, 9, 10, 4, 2, 1, 2, 3, 4, 5, 6, 7, 9, 10, 1, 2, 3, 5, 6, 7, 9, 10, 1, 2, 3, 4, 5, 6, 7, 8, 9, 10, 1, 2, 3, 5, 6, 7, 8, 1, 2, 3, 4, 5, 6, 7, 8, 9, 10, 5, 6, 10, 1, 2, 6, 9, 10, 2, 2, 4, 5, 7, 9, 4, 8, 1, 2, 3, 4, 5, 6, 7, 8, 9, 10, 6, 8, 5, 1, 2, 3, 4, 5, 6, 7, 8, 9, 4, 10, 7, 2, 10, 2, 6, 1, 2, 3, 4, 5, 6, 7, 8, 9, 10, 6, 10, 1, 3, 9, 1, 2, 3, 9, 4, 5, 7, 8, 3, 1, 2, 8, 2, 6, 3, 6, 1, 2, 3, 4, 5, 6, 7, 10, 2, 3, 5, 1, 2, 3, 4, 5, 6, 7, 8, 10, 5, 6, 7, 1, 2, 3, 4, 5, 6, 7, 8, 9, 10, 7, 10, 1, 2, 3, 4, 5, 6, 7, 8, 9, 10, 1, 2, 3, 4, 5, 6, 7, 8, 1, 8, 5, 2, 3, 1, 2, 3, 4, 5, 6, 7, 8, 9, 10, 1, 2, 3, 4, 5, 6, 7, 8, 9, 10, 10, 7, 2, 1, 2, 3, 4, 5, 6, 7, 8, 9, 10, 1, 2, 4, 5, 6, 7, 9, 8, 9, 4, 1, 2, 4, 5, 6, 7, 1, 2, 4, 5, 8, 2, 5, 9, 9, 1, 2, 3, 4, 5, 6, 8, 9, 10, 3, 2, 1, 1, 4, 9, 1, 4, 4, 7, 10, 10, 1, 2, 7, 8, 5, 9, 10, 1, 1, 2, 3, 6, 7, 10, 9, 1, 2, 3, 4, 5, 6, 7, 9, 2, 7, 8, 10, 5, 9, 5, 5, 5, 1, 2, 4, 5, 7, 9, 10, 2, 3, 4, 5, 6, 8, 9, 3, 4, 8, 7, 10, 3, 8, 4, 7, 2, 3, 4, 5, 7, 8, 9, 10, 1, 2, 6, 7, 10, 9, 4, 2, 6, 10, 8, 4, 5, 1, 2, 2, 4, 1, 1, 1, 2, 3, 4, 5, 6, 7, 9, 10, 2, 6, 9, 7, 1, 3, 5, 6, 1, 4, 8, 4, 1, 2, 4, 5, 6, 10, 5, 1, 2, 3, 4, 5, 6, 7, 8, 9, 10, 1, 2, 4, 5, 6, 7, 8, 9, 10, 1, 2, 3, 4, 5, 6, 7, 8, 9, 10, 7, 7, 10, 8, 10, 3, 1, 2, 5, 8, 9, 2, 7, 3, 4, 10, 3, 1, 2, 3, 4, 5, 6, 7, 9, 10, 1, 2, 3, 4, 5, 6, 8, 9, 10, 9, 6, 1, 7, 9, 5, 10, 1, 2, 3, 4, 5, 6, 7, 8, 9, 10, 4, 10, 8, 1, 2, 3, 4, 5, 6, 7, 8, 9, 10, 1, 1, 2, 3, 4, 5, 6, 7, 8, 9, 10, 2, 5, 6, 7, 3, 4, 1, 2, 3, 4, 5, 6, 7, 8, 9, 10, 5, 1, 2, 3, 4, 5, 6, 7, 8, 9, 10, 3, 4, 7, 4, 6, 10, 1, 2, 3, 4, 5, 6, 7, 8, 9, 10, 8, 1, 2, 3, 4, 5, 6, 7, 8, 9, 10, 6, 1, 2, 3, 4, 5, 6, 7, 8, 9, 10, 1, 2, 5, 6, 7, 8, 1, 2, 3, 4, 5, 6, 7, 8, 9, 10, 1, 7, 1, 4, 9, 4, 9, 4, 5, 1, 2, 3, 4, 5, 6, 7, 8, 9, 10, 10, 10, 1, 2, 3, 4, 5, 6, 7, 8, 9, 9, 1, 2, 3, 4, 5, 6, 8, 9, 10, 3, 9, 1, 4, 7, 1, 2, 3, 4, 5, 6, 7, 9, 10, 1, 2, 3, 4, 6, 7, 8, 10, 1, 2, 3, 4, 5, 6, 7, 8, 9, 10, 2, 4, 10, 8, 2, 3, 7, 8, 2, 5, 6, 10, 2, 5, 9, 10, 4, 3, 8, 9, 1, 2, 3, 4, 5, 6, 7, 8, 9, 10, 1, 2, 3, 7, 8, 1, 2, 3, 4, 5, 6, 7, 8, 9, 10, 1, 1, 2, 6, 8, 1, 2, 3, 4, 5, 6, 10, 2, 3, 4, 8, 10, 6, 6, 5, 10, 1, 2, 3, 4, 5, 6, 7, 8, 9, 10, 1, 2, 3, 4, 5, 6, 7, 8, 9, 10, 7, 6, 1, 2, 3, 4, 5, 6, 7, 8, 9, 10, 1, 2, 3, 4, 5, 6, 7, 8, 9, 10, 1, 2, 4, 6, 7, 8, 9, 1, 2, 3, 4, 5, 6, 7, 8, 9, 10, 1, 2, 3, 4, 5, 6, 7, 8, 10, 1, 4, 5, 10, 1, 2, 9, 10, 7, 3, 9, 9, 3, 4, 9, 2, 6, 1, 2, 3, 4, 5, 6, 7, 8, 9, 10, 4, 9, 1, 2, 3, 4, 5, 6, 7, 8, 9, 10, 10, 1, 2, 3, 4, 5, 6, 7, 8, 9, 10, 8, 10, 1, 5, 10, 1, 2, 3, 4, 5, 6, 7, 8, 9, 10, 6, 4, 1, 5, 7, 1, 2, 5, 6, 7, 8, 9, 10, 1, 3, 4, 5, 6, 7, 8, 10, 5, 7, 1, 1, 10, 1, 2, 8, 1, 2, 3, 4, 5, 6, 7, 8, 9, 10, 2, 9, 6, 3, 1, 2, 3, 4, 5, 6, 7, 8, 10, 2, 8, 4, 5, 7, 9, 4, 1, 2, 3, 4, 5, 6, 7, 8, 9, 10, 1, 4, 5, 6, 9, 2, 9, 8, 1, 2, 3, 4, 5, 6, 7, 8, 9, 10, 6, 1, 2, 3, 4, 5, 6, 7, 8, 9, 10, 1, 2, 3, 4, 5, 6, 7, 8, 9, 10, 8, 1, 8, 1, 2, 3, 4, 5, 6, 7, 8, 10, 1, 2, 3, 4, 5, 6, 7, 8, 9, 10, 1, 2, 3, 4, 5, 6, 7, 9, 10, 1, 2, 3, 4, 5, 6, 7, 8, 9, 10, 2, 3, 4, 5, 1, 2, 3, 4, 5, 2, 1, 5, 1, 2, 3, 4, 5, 6, 7, 8, 9, 10, 2, 3, 6, 8, 9, 2, 10, 10, 1, 4, 5, 9, 2, 1, 2, 3, 4, 5, 6, 7, 8, 9, 10, 7, 3, 8, 4, 6, 8, 2, 4, 6, 10, 2, 5, 6, 7, 7, 10, 1, 2, 3, 4, 5, 6, 7, 8, 9, 10, 1, 2, 3, 4, 5, 6, 7, 9, 10, 1, 2, 3, 4, 5, 6, 7, 8, 4, 2, 6, 10, 8, 1, 2, 3, 4, 5, 6, 7, 8, 9, 10, 1, 2, 4, 5, 6, 7, 8, 1, 2, 5, 7, 9, 1, 5, 7, 1, 2, 3, 4, 5, 6, 7, 8, 9, 10, 5, 1, 2, 3, 4, 5, 6, 7, 8, 9, 10, 6, 1, 2, 3, 4, 5, 6, 7, 8, 9, 10, 4, 6, 1, 4, 6, 9, 1, 2, 3, 4, 5, 6, 7, 8, 9, 10, 2, 10, 8, 8, 10, 1, 5, 3, 4, 5, 1, 4, 1, 2, 3, 5, 6, 9, 10, 1, 1, 7, 1, 2, 3, 4, 5, 6, 7, 8, 9, 10, 1, 2, 3, 4, 5, 6, 7, 8, 9, 10, 1, 2, 3, 4, 5, 6, 7, 8, 9, 10, 4, 5, 7, 1, 2, 3, 4, 5, 6, 7, 8, 9, 10, 3, 4, 1, 4, 5, 9, 2, 1, 2, 4, 5, 6, 7, 8, 9, 10, 7, 2, 5, 10, 1, 10, 5, 6, 9, 3, 9, 2, 6, 9, 10, 4, 5, 9, 4, 2, 2, 7, 8, 9, 10, 1, 2, 3, 4, 5, 6, 7, 8, 9, 10, 1, 3, 8, 1, 3, 5, 9, 3, 7, 6, 6, 1, 2, 3, 4, 5, 6, 7, 8, 9, 10, 2, 3, 1, 3, 7, 6, 7, 10, 6, 7, 3, 1, 2, 3, 6, 8, 10, 1, 2, 4, 5, 6, 7, 8, 9, 10, 1, 2, 8, 9, 1, 5, 5, 9, 7, 8, 1, 4, 1, 2, 3, 4, 5, 6, 7, 8, 9, 10, 3, 9, 10, 3, 9, 10, 6, 1, 2, 3, 4, 5, 6, 7, 8, 9, 10, 5, 2, 3, 9, 2, 6, 7, 1, 1, 2, 3, 4, 5, 6, 7, 8, 9, 10, 1, 2, 3, 4, 5, 6, 7, 8, 9, 10, 1, 3, 4, 9, 2, 10, 3, 1, 2, 3, 8, 4, 1, 2, 3, 4, 5, 6, 7, 8, 9, 10, 1, 2, 3, 4, 5, 6, 7, 8, 9, 10, 1, 2, 3, 4, 5, 6, 7, 9, 10, 2, 3, 2, 5, 6, 7, 2, 4, 9, 1, 2, 3, 4, 5, 6, 7, 8, 9, 10, 1, 2, 3, 4, 5, 6, 7, 8, 9, 10, 1, 2, 6, 1, 2, 3, 4, 5, 6, 7, 9, 10, 7, 8, 1, 2, 4, 5, 6, 10, 6, 8, 5, 8, 9, 1, 2, 1, 10, 5, 5, 9, 1, 8, 4, 6, 1, 2, 3, 4, 5, 6, 7, 8, 9, 10, 1, 2, 1, 2, 6, 1, 1, 6, 4, 10, 4, 1, 5, 6, 10, 2, 1, 2, 3, 4, 5, 6, 8, 10, 5, 6, 7, 10, 5, 6, 2, 6, 1, 3, 5, 6, 1, 2, 3, 4, 5, 6, 7, 8, 9, 10, 10, 1, 2, 3, 4, 5, 6, 7, 8, 9, 8, 1, 2, 3, 6, 7, 8, 10, 2, 3, 8, 1, 2, 3, 4, 5, 6, 7, 8, 9, 10, 2, 7, 5, 1, 2, 5, 6, 7, 8, 9, 1, 2, 3, 4, 5, 6, 7, 8, 9, 10, 1, 3, 6, 2, 6, 8, 1, 2, 3, 6, 7, 8, 2, 2, 3, 5, 7, 8, 8, 5, 1, 2, 3, 4, 5, 6, 7, 8, 9, 10, 5, 9, 8, 7, 1, 2, 5, 9, 10, 2, 1, 2, 3, 4, 5, 6, 7, 8, 9, 10, 7, 7, 8, 1, 2, 3, 4, 5, 6, 7, 8, 5, 7, 1, 2, 3, 4, 5, 6, 7, 2, 10, 1, 2, 3, 4, 8, 4, 8, 4, 3, 1, 2, 3, 4, 5, 6, 7, 8, 9, 10, 6, 1, 2, 3, 4, 5, 6, 7, 8, 9, 10, 2, 5, 9, 1, 2, 3, 5, 6, 7, 8, 9, 1, 2, 4, 10, 1, 2, 3, 4, 5, 6, 7, 8, 9, 10, 10, 8, 2, 3, 1, 1, 2, 3, 4, 5, 6, 7, 8, 9, 10, 3, 1, 4, 6, 7, 7, 1, 2, 3, 4, 5, 6, 7, 8, 9, 10, 1, 2, 3, 4, 5, 7, 8, 9, 10, 1, 2, 3, 4, 5, 6, 7, 9, 1, 2, 3, 4, 5, 6, 7, 8, 9, 10, 1, 1, 2, 3, 4, 5, 6, 7, 8, 9, 10, 1, 2, 3, 4, 5, 6, 7, 9, 10, 1, 2, 3, 4, 5, 6, 7, 8, 9, 10, 1, 2, 3, 4, 5, 6, 7, 8, 9, 10, 1, 2, 3, 4, 5, 6, 7, 8, 9, 10, 1, 2, 3, 4, 5, 6, 7, 8, 9, 10, 6, 2, 1, 2, 3, 4, 5, 6, 7, 8, 9, 10, 1, 2, 3, 4, 5, 6, 7, 8, 9, 10, 2, 1, 4, 7, 1, 2, 3, 4, 5, 6, 7, 8, 9, 10, 8, 2, 3, 9, 3, 9, 1, 2, 3, 5, 6, 7, 8, 10, 10, 1, 3, 5, 6, 7, 8, 10, 1, 2, 3, 4, 5, 6, 7, 8, 9, 10, 7, 5, 6, 7, 1, 2, 4, 6, 1, 2, 3, 4, 5, 6, 7, 8, 9, 10, 1, 2, 3, 4, 5, 6, 7, 8, 9, 10, 9, 1, 2, 3, 4, 5, 6, 7, 8, 9, 10, 1, 2, 3, 8, 3, 8, 1, 2, 3, 4, 5, 6, 7, 8, 9, 10, 1, 2, 3, 4, 5, 7, 10, 5, 8, 1, 2, 3, 4, 5, 6, 7, 8, 9, 10, 1, 3, 2, 5, 6, 10, 2, 5, 6, 7, 10, 2, 4, 5, 7, 5, 7, 8, 9, 2, 4, 1, 3, 4, 6, 3, 1, 2, 3, 4, 5, 6, 7, 8, 9, 10, 1, 2, 3, 4, 5, 6, 7, 8, 9, 10, 1, 2, 3, 4, 5, 6, 7, 8, 9, 10, 1, 2, 3, 4, 5, 6, 7, 8, 9, 10, 1, 2, 3, 4, 5, 6, 7, 8, 9, 10, 1, 2, 3, 4, 5, 6, 7, 8, 9, 10, 1, 2, 3, 4, 5, 6, 7, 8, 9, 10, 1, 2, 3, 4, 5, 6, 7, 8, 9, 10, 1, 3, 1, 2, 3, 4, 5, 6, 7, 8, 9, 10, 1, 2, 3, 4, 5, 6, 7, 8, 9, 10, 1, 9, 1, 8, 1, 2, 3, 4, 5, 6, 7, 8, 9, 10, 2, 3, 5, 6, 8], \"Freq\": [0.7059990789589552, 0.11038817213963045, 0.06307895550836026, 0.032752534590879366, 0.021835023060586243, 0.03639170510097707, 0.018195852550488535, 0.0024261136733984712, 0.006065284183496178, 0.9759560242710735, 0.9782851029835306, 0.9616728431314694, 0.9841230078555558, 0.032921280117557655, 0.954717123409172, 0.9684064702726826, 0.08224699030885733, 0.9047168933974307, 0.980161428678781, 0.45923853438045953, 0.276474234238895, 0.013035590548670538, 0.015296866460174611, 0.09404247467255174, 0.04429440461946213, 0.023809905185837, 0.04309725854866586, 0.014565277194687998, 0.015961947610616985, 0.9762595143408562, 0.9794353574177421, 0.9831754671385546, 0.9885399339824268, 0.013291607967111334, 0.013291607967111334, 0.9702873815991274, 0.9860398854140073, 0.9620521384486078, 0.9886251022027209, 0.9868079024848019, 0.012899449705683685, 0.016672747830892978, 0.41681869577232444, 0.03001094609560736, 0.012504560873169732, 0.5235242818900395, 0.9821575909784683, 0.9986000161375761, 0.38970160879682625, 0.18564329512288147, 0.07963251265324674, 0.21251926814335223, 0.022396644183725646, 0.029364489040884737, 0.013437986510235388, 0.049770320408279216, 0.005474735244910714, 0.012940283306152595, 0.0674913013261259, 0.928005393234231, 0.10112058630631766, 0.5458025088746736, 0.002901000426820589, 0.010775144442476473, 0.021550288884952945, 0.1496087362974618, 0.02693786110619118, 0.01657714529611765, 0.09407529955546767, 0.030667718797817656, 0.03418744189276119, 0.1737861629548694, 0.3753496224476072, 0.1381742443165765, 0.014957005828083021, 0.03774863375659048, 0.009259098845956156, 0.006410145354892724, 0.20939808159316228, 0.0014244767455317163, 0.2376193338144267, 0.1302124522760171, 0.08460131080080208, 0.47156034976794897, 0.011770617154894202, 0.05664609505792835, 0.0029426542887235506, 0.0014713271443617753, 0.0029426542887235506, 0.0007356635721808876, 0.21680077766231573, 0.07260780761332272, 0.2658877461896325, 0.349744650757132, 0.015339677664786491, 0.051132258882621635, 0.005113225888262163, 0.0010226451776524327, 0.016362322842438923, 0.006135871065914596, 0.01605418549746038, 0.10373473706051321, 0.0061746867297924534, 0.0061746867297924534, 0.03828305772471321, 0.1593069176286453, 0.6718059162014189, 0.9768284963742566, 0.9837260638025402, 0.9687725472947908, 0.9714335199145815, 0.16646752328520217, 0.1601459717680426, 0.07585861820591491, 0.002107183839053192, 0.05900114749348938, 0.006321551517159576, 0.09271608891834045, 0.05057241213727661, 0.3666499879952554, 0.016857470712425535, 0.17147168969539753, 0.08534074878849278, 0.0031607684736478805, 0.0023705763552359102, 0.04583114286789427, 0.687467143018414, 0.0015803842368239402, 0.003950960592059851, 0.0023866896435833563, 0.5087626756905187, 0.0011933448217916782, 0.04375597679902819, 0.42841079102321244, 0.0019889080363194632, 0.013922356254236243, 0.04762151761557873, 0.2023914498662096, 0.750038902445365, 0.9593689356220032, 0.18306849179893206, 0.16018493032406556, 0.07086522263184467, 0.16609036554338594, 0.06791250502218447, 0.2399083057848908, 0.052410737571468455, 0.02805081729177185, 0.02140720267003641, 0.009596332231395633, 0.02957599541702634, 0.10911532289776708, 0.026417393964722556, 0.2526881161843027, 0.14213706535367027, 0.02526881161843027, 0.1869317768590694, 0.21535918992980346, 0.009188658770338282, 0.003445747038876855, 0.07200943132658606, 0.020979125662076256, 0.20071920228040527, 0.5205091177780001, 0.10035960114020263, 0.009639057736629632, 0.05499932943841613, 0.003969023773906319, 0.011340067925446624, 0.005103030566450981, 0.9844713681385935, 0.975645346222645, 0.034630441741912155, 0.9350219270316281, 0.9582578971846261, 0.008260843941246777, 0.02478253182374033, 0.9705563736399591, 0.9932960328362436, 0.7711124677137444, 0.08624284178377405, 0.018601397247480677, 0.020292433360888013, 0.05073108340222003, 0.038893830608368686, 0.0016910361134073342, 0.010146216680444006, 0.0016910361134073342, 0.0047938717487076045, 0.010120395913938275, 0.0026632620826153356, 0.0031959144991384027, 0.976351879486782, 0.0005326524165230671, 0.0005326524165230671, 0.0005326524165230671, 0.0005326524165230671, 0.9838010090593484, 0.9793440834685627, 0.01279566742124819, 0.09703381127779877, 0.06184572586936625, 0.002132611236874698, 0.05758050339561685, 0.018127195513434936, 0.7496128497614564, 0.000883720155072779, 0.022976724031892253, 0.21562771783775808, 0.7582318930524443, 0.001767440310145558, 0.9891036819092623, 0.16476887623265665, 0.07966846762897684, 0.45930078686099524, 0.10622462350530246, 0.021124214901622647, 0.0488874687723267, 0.007242587966270622, 0.0048283919775137475, 0.10622462350530246, 0.0006035489971892184, 0.9464094658050921, 0.9840388657564868, 0.9907173288141238, 0.433774234881001, 0.10714149197746851, 0.027901430202465757, 0.12425436916831419, 0.08184419526056623, 0.05803497482112878, 0.11718600685035618, 0.023065182300705027, 0.02418123950880366, 0.002976152554929681, 0.016640199916043777, 0.9651315951305391, 0.21228799035718907, 0.13005432672408845, 0.0934067157571632, 0.1081551445609258, 0.04379836432632533, 0.3472584600158651, 0.03620068888196277, 0.01206689629398759, 0.0022346104248125165, 0.01474842880376261, 0.9802768196079795, 0.990889780849946, 0.9515862747270634, 0.02840556043961383, 0.007101390109903458, 0.007101390109903458, 0.007101390109903458, 0.9895877692315797, 0.9757910347675288, 0.21260772663531202, 0.05996628187149826, 0.03270888102081723, 0.005451480170136205, 0.005451480170136205, 0.22351068697558443, 0.005451480170136205, 0.44702137395116887, 0.01090296034027241, 0.06801739542023583, 0.005668116285019652, 0.005668116285019652, 0.2805717561084728, 0.005668116285019652, 0.008502174427529478, 0.6234927913521617, 0.002834058142509826, 0.9776677869960514, 0.9198547231757617, 0.00632202558883685, 0.003161012794418425, 0.00632202558883685, 0.0379321535330211, 0.003161012794418425, 0.022127089560928976, 0.9597870930985568, 0.38916793489087037, 0.6098413728317829, 0.9806613981264225, 0.8977483999706329, 0.07921309411505585, 0.009901636764381981, 0.006601091176254654, 0.006601091176254654, 0.32628733768822044, 0.3126483171417675, 0.023081419386304983, 0.0010491554266502264, 0.015737331399753397, 0.31579578342171816, 0.0010491554266502264, 0.005245777133251132, 0.9738196785096368, 0.9760251401595825, 0.9909636572262337, 0.923194136096564, 0.03183428055505393, 0.005968927604072612, 0.007958570138763483, 0.014590711921066386, 0.0013264283564605804, 0.012601069386375514, 0.001989642534690871, 0.9620199931576388, 0.027099154736834895, 0.13996150711265806, 0.2905261587035478, 0.027568175643402346, 0.008482515582585337, 0.3795925723206938, 0.03605069122598768, 0.05089509349551202, 0.02544754674775601, 0.0021206288956463343, 0.04029194901728035, 0.9802024259312283, 0.014002891799017547, 0.993710531036124, 0.9934227049939041, 0.9881444748463835, 0.9668476695853825, 0.03264276697957079, 0.058947394867603684, 0.019649131622534562, 0.9038600546365898, 0.9731089696090731, 0.969508197396248, 0.9936796770768044, 0.8321020843490471, 0.11427535291726913, 0.009985225012188565, 0.0033284083373961884, 0.009985225012188565, 0.0188609805785784, 0.008875755566389835, 0.0033284083373961884, 0.0011094694457987294, 0.7162683647161867, 0.2228676746329142, 0.0045088835908393046, 0.02318854418145928, 0.00579713604536482, 0.024476796635984798, 0.0025765049090510314, 0.0006441262272627578, 0.5688206591906942, 0.31950997099731376, 0.0010323423941754888, 0.0005161711970877444, 0.06761842681849452, 0.001548513591263233, 0.010839595138842632, 0.016001307109720076, 0.012388108730105865, 0.0010323423941754888, 0.7530888513332837, 0.14597316942142946, 0.023223004226136504, 0.04810479446842562, 0.011611502113068252, 0.0016587860161526074, 0.016587860161526073, 0.23855964821202222, 0.19489963252061654, 0.10904901689519371, 0.10337339853228064, 0.11477973834900884, 0.08614449877690054, 0.07753004889921049, 0.04147425975229028, 0.01774319527046608, 0.016457456482751147, 0.012728647350231999, 0.12728647350231997, 0.8528193724655438, 0.04521474170133963, 0.34363203693018113, 0.058779164211741515, 0.5335339520758076, 0.01808589668053585, 0.9748682885614423, 0.06994385601804921, 0.02331461867268307, 0.009325847469073228, 0.08393262722165906, 0.8020228823402977, 0.020653191965154402, 0.9500468303971025, 0.04109465106146132, 0.11129801329145773, 0.033674783508697466, 0.05650514520950931, 0.6632220074085841, 0.022830361700811843, 0.025684156913413324, 0.012556698935446513, 0.01027366276536533, 0.022259602658291546, 0.9869787761836809, 0.9758457128519141, 0.9667205733445308, 0.0012298204620411848, 0.008608743234288294, 0.017217486468576588, 0.0885470732669653, 0.033205152475111986, 0.05165245940572976, 0.292697269965802, 0.5054562098989269, 0.0012298204620411848, 0.07774793757169603, 0.9156979313999755, 0.967330210993714, 0.012641586128717087, 0.9734021319112157, 0.9926839589479881, 0.9912146866844957, 0.04832560774946472, 0.14352705501591023, 0.2546759528396791, 0.010148377627387592, 0.27593922024944356, 0.2078001133226983, 0.006765585084925061, 0.029961876804668126, 0.0038660486199571776, 0.01884698702229124, 0.0323404040002469, 0.9540419180072836, 0.058787055518224274, 0.9405928882915884, 0.9717611633411959, 0.009534254481481135, 0.8676171578147832, 0.009534254481481135, 0.10487679929629248, 0.9826598052321688, 0.03092935061080098, 0.9433451936294299, 0.9799670177345517, 0.9842058346747767, 0.0671830973070708, 0.004798792664790771, 0.9261669843046187, 0.015124443133738697, 0.9679643605592766, 0.9767744454984688, 0.9902911325140739, 0.7439368094367574, 0.07646737239855173, 0.0012960571592974869, 0.010368457274379895, 0.16200714491218587, 0.0025921143185949737, 0.0025921143185949737, 0.0012960571592974869, 0.013321474802282492, 0.013321474802282492, 0.9591461857643394, 0.010343204126841971, 0.13446165364894563, 0.006895469417894647, 0.0034477347089473236, 0.16893900073841886, 0.6516218599910442, 0.0034477347089473236, 0.013790938835789295, 0.006895469417894647, 0.9900708530253334, 0.0734526334150918, 0.9249035676961558, 0.48894130043136164, 0.23600413419089533, 0.03307232822181829, 0.016933032049570966, 0.02539954807435645, 0.03704100760843649, 0.13467052051924408, 0.023018340442385533, 0.0029103648835200097, 0.0021166290061963708, 0.9340568902530316, 0.9701553716036926, 0.08192250677908035, 0.1963730677204426, 0.017468769827892132, 0.01837232688795552, 0.11083633270110871, 0.009035570600633862, 0.05120156673692522, 0.4888243694942919, 0.004818970987004726, 0.02138418375483347, 0.7828448922115574, 0.09642077851286043, 0.02066159539561295, 0.0045914656434695444, 0.025253061039082494, 0.04361892361296067, 0.013774396930408633, 0.013774396930408633, 0.984509445996588, 0.011187607340870319, 0.9903711332113772, 0.029114181108036014, 0.9607679765651884, 0.12160986979947165, 0.5871668461024995, 0.00982706018581589, 0.015968972801950823, 0.007370295139361918, 0.0012283825232269863, 0.06510427373103028, 0.052820448498760414, 0.07615971644007315, 0.0626475086845763, 0.07122528748374088, 0.7111223147186193, 0.04522240475158151, 0.01582784166305353, 0.06218080653342458, 0.02713344285094891, 0.04070016427642336, 0.006783360712737227, 0.009044480950316302, 0.01017504106910584, 0.9993399766920522, 0.9641898304852807, 0.9994808591807283, 0.1257274407814628, 0.15126582719019746, 0.31333635632255186, 0.02848512330205017, 0.12179845825704211, 0.11885172136372657, 0.01571593009768285, 0.05598800097299516, 0.010804701942156962, 0.057952492235205516, 0.212088810128775, 0.002466148954985756, 0.7094288493842358, 0.04192453223475785, 0.009042546168281105, 0.0016440993033238372, 0.02383943989819564, 0.9781258199918608, 0.9590065545755159, 0.985579403855974, 0.008640758028560265, 0.01152101070474702, 0.0014401263380933774, 0.1728151605712053, 0.002880252676186755, 0.8021503703180113, 0.002226796243661144, 0.6613584843673597, 0.025608156802103155, 0.001113398121830572, 0.3084112797470684, 0.9902918591053234, 0.9853168905037649, 0.9603271977590129, 0.9870141759641082, 0.025435585242614165, 0.0763067557278425, 0.09820962079787136, 0.692413153826719, 0.05440389065781363, 0.03179448155326771, 0.0021196321035511804, 0.018370144897443565, 0.0014130880690341203, 0.9731209187050952, 0.9839935741671395, 0.9995378484710475, 0.9742153648497851, 0.008856503316816228, 0.017713006633632455, 0.9847000637254595, 0.9933019322304111, 0.9714641405371327, 0.01368259352869201, 0.9815807151427023, 0.975230856056289, 0.023108737927380524, 0.011554368963690262, 0.011554368963690262, 0.9474582550226014, 0.04440656425489958, 0.02220328212744979, 0.9103345672254415, 0.9930939269006828, 0.5519640150167898, 0.3769688187102779, 0.0021874399538314, 0.02916586605108533, 0.021145252887036864, 0.018957812933205465, 0.9827706376296627, 0.09439427709095465, 0.06041233733821098, 0.020389163851646203, 0.018123701201463293, 0.03322678553601604, 0.767991838412007, 0.004530925300365823, 0.0015103084334552744, 0.7959501879897661, 0.044826864982940126, 0.12464055141597986, 0.03280014510946839, 0.9912998057934687, 0.9741906024695747, 0.992800465576721, 0.9649768796863905, 0.987445241018475, 0.004806722297874709, 0.1634285581277401, 0.014420166893624126, 0.019226889191498835, 0.7642688453620787, 0.019226889191498835, 0.009613444595749417, 0.10988883889118882, 0.014012670731091192, 0.7552092015072306, 0.014750179716938098, 0.039087976249885956, 0.0007375089858469049, 0.06490079075452763, 0.9801850786160679, 0.011881031255952338, 0.9802583985434392, 0.9465193684904047, 0.020138709967880954, 0.9837641303768855, 0.9697861843591601, 0.9741986888494719, 0.9693096037486169, 0.01785765493167368, 0.0009920919406485379, 0.01388928716907953, 0.01785765493167368, 0.005952551643891227, 0.005952551643891227, 0.0029762758219456136, 0.9355427000315711, 0.8792211325077659, 0.0743619863315026, 0.008748468980176775, 0.01749693796035355, 0.013122703470265163, 0.9788189878870991, 0.9947039671081304, 0.8961286895240049, 0.0409658829496688, 0.061448824424503196, 0.9842119210112311, 0.9854946358437643, 0.9912096259144564, 0.9712555417768429, 0.011426535785609917, 0.03845296850664782, 0.9485065564973127, 0.9786716742957454, 0.9815252164484882, 0.04644035604024436, 0.6341773210085828, 0.0441564041038389, 0.01370371161843276, 0.09288071208048872, 0.03121400979754129, 0.11115232757173239, 0.010658442369892147, 0.015226346242703068, 0.962619108001266, 0.01081594503372209, 0.02163189006744418, 0.9578924991327835, 0.9606316802564041, 0.015009870004006314, 0.007504935002003157, 0.015009870004006314, 0.9622795937705789, 0.01899236040336669, 0.01899236040336669, 0.9931501293208823, 0.06013156791179688, 0.18791114972436526, 0.12026313582359376, 0.00751644598897461, 0.022549337966923832, 0.5937992331289942, 0.9929829586515194, 0.37403321894946034, 0.039759436659982, 0.06332058431034171, 0.4329360880753596, 0.025033719378507187, 0.01914343246591726, 0.029451434562949633, 0.002945143456294963, 0.002945143456294963, 0.010308002097032372, 0.7585648359583815, 0.08091358250222737, 0.08698210118989443, 0.02831975387577958, 0.004045679125111368, 0.002022839562555684, 0.010114197812778421, 0.026296914313223896, 0.002022839562555684, 0.010064016334176992, 0.11461796380590464, 0.002795560092826942, 0.034105833132488696, 0.009504904315611604, 0.01900980863122321, 0.02460092881687709, 0.7749292577316284, 0.0011182240371307769, 0.008945792297046215, 0.9520343469824663, 0.025184146580155914, 0.9318134234657688, 0.8984186540580524, 0.0869437407152954, 0.9879868570472418, 0.0072236453731017065, 0.014447290746203413, 0.8162719271604929, 0.02167093611930512, 0.13724926208893243, 0.9747830463906565, 0.01120440283207651, 0.9887969265723907, 0.9773094403817731, 0.9709890654282832, 0.988329988592541, 0.8341676332956571, 0.016683352665913143, 0.04337671693137417, 0.010010011599547886, 0.0033366705331826286, 0.06339674013046995, 0.020020023199095772, 0.0033366705331826286, 0.006673341066365257, 0.011063018866344042, 0.14738796102580934, 0.013561119900679795, 0.4225359463790757, 0.08957476565975338, 0.2847835179142757, 0.0010706147290010363, 0.026408496648692232, 0.003568715763336788, 0.9833516650577094, 0.9902530968877438, 0.041447108662741254, 0.020723554331370627, 0.9325599449116783, 0.9774777562309857, 0.9752075466577089, 0.1737195682401424, 0.07165932189905874, 0.5493881345594503, 0.04614426031378783, 0.009228852062757566, 0.0217149460300178, 0.08848840507232254, 0.00977172571350801, 0.01954345142701602, 0.00977172571350801, 0.9835470782429194, 0.009106917391138144, 0.9825086229792209, 0.6321819962263185, 0.23443931171210836, 0.009278600727392151, 0.020412921600262732, 0.040825843200525465, 0.01793862807295816, 0.03154724247313331, 0.0068043072000875775, 0.0012371467636522868, 0.006185733818261434, 0.9816396787392833, 0.08596317885758797, 0.014878242494582535, 0.3917937190240067, 0.018184518604489764, 0.1669669435503151, 0.01653138054953615, 0.1339041824512428, 0.14878242494582533, 0.001653138054953615, 0.018184518604489764, 0.010845594190485464, 0.9435666945722354, 0.03253678257145639, 0.010845594190485464, 0.014788954997144802, 0.9760710298115569, 0.017859042296301125, 0.10318557771196206, 0.09127954951442797, 0.5556146492182572, 0.12699763410703022, 0.007937352131689389, 0.04167109869136929, 0.04365543672429164, 0.001984338032922347, 0.007937352131689389, 0.9736858807407929, 0.12715813313307603, 0.10639762160114524, 0.06888715190140668, 0.0846934504541267, 0.07101038603535414, 0.5175972988756379, 0.008492936535789865, 0.003774638460351051, 0.006605617305614339, 0.005426042786754635, 0.7539791257153802, 0.23949925169782665, 0.004435171327737531, 0.01105936820685908, 0.9842837704104581, 0.9893657265001138, 0.6091585201328006, 0.10749856237637656, 0.12014545206771499, 0.004215629897112806, 0.0203755445027119, 0.05550579364531862, 0.018970334537007628, 0.002107814948556403, 0.011944284708486285, 0.05129016374820581, 0.9681099974384677, 0.1092585491804039, 0.17649457944526784, 0.26592711970141697, 0.249118112135201, 0.019395008730249214, 0.049134022116631336, 0.10322454646432637, 0.01551600698419937, 0.00668050300708584, 0.005387502425069226, 0.9984273174093918, 0.47097837830709793, 0.26298101461540724, 0.07632598911121172, 0.018810196368639856, 0.01229897454872606, 0.12009586912285446, 0.009766832729870695, 0.0010852036366522993, 0.0025321418188553654, 0.024959683643002887, 0.12340258966543072, 0.8303800065873821, 0.021495934973978253, 0.007961457397769723, 0.015922914795539447, 0.978136195882532, 0.4872084616508008, 0.3502749821207519, 0.003863327008684764, 0.015024049478218527, 0.03391142596512182, 0.05752064657375093, 0.030906616069478112, 0.007297395460848999, 0.013736273808656939, 0.00042925855652052933, 0.9905147579173695, 0.9649459891455805, 0.9949963480534335, 0.020509532601584904, 0.9639480322744904, 0.015254376340824678, 0.9762800858127794, 0.9706881707946281, 0.9806354700821633, 0.12292548991432621, 0.15038483734821537, 0.034131712230908946, 0.10136861903164687, 0.06210431849533809, 0.10906750148974664, 0.3338748692662597, 0.0390076711210388, 0.0420872241042787, 0.00487595889012985, 0.9864481206735818, 0.9703083758721323, 0.08804715415420929, 0.033017682807828484, 0.01100589426927616, 0.00275147356731904, 0.02476326210587136, 0.027514735673190405, 0.008254420701957121, 0.7979273345225217, 0.01100589426927616, 0.9702092886812322, 0.1015046631148311, 0.019709643323268175, 0.0019709643323268175, 0.0009854821661634088, 0.01675319682477795, 0.388279973468383, 0.0029564464984902263, 0.0009854821661634088, 0.4681040289276191, 0.9988580600020502, 0.9846770109689458, 0.04126888857755466, 0.9182327708505913, 0.030951666433166, 0.04256383948799974, 0.07661491107839953, 0.03769940068937119, 0.0060805484982856765, 0.03405107159039979, 0.0012161096996571353, 0.7843907562788522, 0.014593316395885625, 0.004864438798628541, 0.1192010807754422, 0.02384021615508844, 0.01192010807754422, 0.01192010807754422, 0.0596005403877211, 0.08344075654280954, 0.03576032423263266, 0.6556059442649321, 0.08638905356349087, 0.08233050742292419, 0.1066817842663243, 0.11827763038222912, 0.020872523008628668, 0.09740510737360045, 0.4099131601972352, 0.008696884586928612, 0.0075372999753381305, 0.06145798441429552, 0.9887732357743428, 0.0031556592631096047, 0.0063113185262192095, 0.9552004796129313, 0.9776219646759797, 0.0019789918313278944, 0.00692647140964763, 0.012863446903631313, 0.2151076462097986, 0.08417255721252989, 0.028057519070843296, 0.6640279513432914, 0.9712796554629892, 0.0010343766298860375, 0.02068753259772075, 0.006206259779316225, 0.986468449110261, 0.936856051269957, 0.055931704553430266, 0.9589565900600766, 0.20734707174192155, 0.3249243471174426, 0.04110670810043925, 0.027505223802499795, 0.20734707174192155, 0.06347359339038414, 0.0601487861175545, 0.0483608330593403, 0.01632178115752735, 0.0033248072728296455, 0.12004104056107753, 0.01000342004675646, 0.7102428233197087, 0.09503249044418638, 0.06002052028053877, 0.040804269997439385, 0.18401925685119724, 0.03680385137023945, 0.07600795391679886, 0.03920410254655941, 0.02880301411583957, 0.4128432023270338, 0.15841657763711764, 0.014401507057919784, 0.00800083725439988, 0.9920419983525262, 0.06017619907335932, 0.10029366512226552, 0.010619329248239879, 0.8283076813627106, 0.042628054721053917, 0.11722715048289827, 0.08525610944210783, 0.05861357524144913, 0.6554063413362039, 0.03197104104079044, 0.0053285068401317396, 0.021478129797889496, 0.1196638660168129, 0.05216117236630306, 0.8008274110355941, 0.0030683042568413568, 0.9991371923297276, 0.9795943181147364, 0.9700353257609899, 0.012763622707381447, 0.692996253299583, 0.12672991251241258, 0.031527929454307525, 0.011745699208467509, 0.04141904457722753, 0.03770987640613253, 0.01360028329401501, 0.019164035550657516, 0.014836672684380011, 0.009891115122920008, 0.6696985446679434, 0.2005577077727116, 0.028148450213713906, 0.04808693578176126, 0.008209964645666557, 0.02345704184476159, 0.0011728520922380794, 0.016419929291333114, 0.0035185562767142383, 0.0011728520922380794, 0.9614433473729278, 0.9743855528390389, 0.12173619964622456, 0.03754480923668608, 0.027874176554509363, 0.09499974458373599, 0.5688607460103952, 0.010239493428187113, 0.044939998934821215, 0.029011898046530153, 0.029011898046530153, 0.0352693662526445, 0.20873607604119168, 0.06014429309661455, 0.4647283823725805, 0.14505388335065864, 0.01971115488040309, 0.079350033749315, 0.009855577440201544, 0.003537899593918503, 0.004043313821621147, 0.005054142277026433, 0.013456937059180354, 0.32745213510672194, 0.0044856456863934515, 0.04037081117754106, 0.053827748236721415, 0.5337918366808206, 0.022428228431967255, 0.33191853537125643, 0.11032249313199353, 0.06372075034347903, 0.2358618818684, 0.2101833705359532, 0.014265839629137095, 0.015216895604412903, 0.007608447802206451, 0.0019021119505516128, 0.008559503777482257, 0.27673038345586715, 0.245147024474491, 0.0646706874380559, 0.015039694753036256, 0.31733755928906504, 0.01654366422833988, 0.01654366422833988, 0.007519847376518128, 0.040607175833197895, 0.015224084047104857, 0.015224084047104857, 0.06089633618841943, 0.8982209587791866, 0.9244137986639859, 0.04019190428973852, 0.00669865071495642, 0.02009595214486926, 0.9329626398758156, 0.015642854876900893, 0.9698570023678553, 0.998471499563592, 0.9906823453745925, 0.05946387457928133, 0.9365560246236809, 0.9836082003610392, 0.9668082046982649, 0.5625266086171478, 0.3676411211139989, 0.0014277325091805783, 0.0014277325091805783, 0.007138662545902891, 0.0007138662545902891, 0.009280261309673759, 0.0007138662545902891, 0.04711517280295908, 0.0028554650183611565, 0.023250205770765666, 0.9532584366013923, 0.039354560245681985, 0.5133981268413969, 0.004293224754074398, 0.0010733061885185996, 0.04722547229481838, 0.00035776872950619987, 0.37458385979299125, 0.0017888436475309993, 0.017172899016297594, 0.00035776872950619987, 0.9831951797591105, 0.2306891416347239, 0.5563679298249223, 0.016283939409509923, 0.013569949507924936, 0.006106477278566221, 0.004070984852377481, 0.008141969704754962, 0.16148239914430673, 0.003392487376981234, 0.0006784974753962468, 0.9766608461394207, 0.9666629615936536, 0.021670627224189717, 0.9535075978643475, 0.021670627224189717, 0.3450734605346611, 0.05900884455239557, 0.12122469152611699, 0.3668810769996768, 0.05067063825694837, 0.02693882033913711, 0.007696805811182031, 0.007055405326916862, 0.003207002421325846, 0.011545208716773047, 0.9762273897488142, 0.995707437325097, 0.0122516719484156, 0.9740079198990401, 0.9799739054012823, 0.1907998986859637, 0.02805880863028878, 0.03273527673533691, 0.005611761726057756, 0.002805880863028878, 0.001870587242019252, 0.7370113733555853, 0.000935293621009626, 0.007651961575724432, 0.21972061096008727, 0.1803676657135045, 0.0010931373679606332, 0.0010931373679606332, 0.5673382939715687, 0.02076960999125203, 0.0021862747359212664, 0.026042633093937447, 0.9635774244756855, 0.9886146455845602, 0.9829826863609542, 0.9780526321707539, 0.09768508932425454, 0.009768508932425455, 0.8791658039182909, 0.40328432474152726, 0.15385717076727537, 0.19954172317940153, 0.07036471291063107, 0.045684552412126135, 0.07876646967607955, 0.025730380094185986, 0.0021004391913621214, 0.006826427371926894, 0.013652854743853788, 0.9742838799012157, 0.9476651396438067, 0.9871243636658896, 0.9822320821105679, 0.36800203280735433, 0.5289289667681266, 0.026623941280274833, 0.0023665725582466515, 0.06803896104959124, 0.0017749294186849888, 0.0029582156978083148, 0.0005916431395616629, 0.0011832862791233258, 0.9638153420022367, 0.02570174245339298, 0.06014960525893061, 0.12631417104375428, 0.006014960525893061, 0.799989749943777, 0.9851594878414438, 0.6497502993248441, 0.14001661379817062, 0.06039932359921086, 0.00823627139989239, 0.03202994433291485, 0.07046587753241268, 0.00732113013323768, 0.01189683646651123, 0.00183028253330942, 0.0183028253330942, 0.01340539891771965, 0.3708827033902436, 0.0536215956708786, 0.0178738652236262, 0.536215956708786, 0.9813210517823145, 0.9810388608015959, 0.9756542534614108, 0.049179361957772325, 0.24179852962571394, 0.07458869896928802, 0.2934368596813749, 0.0024589680978886162, 0.003278624130518155, 0.30982998033396564, 0.012294840489443081, 0.007376904293665849, 0.0057375922284067715, 0.9899458375791076, 0.5318434936536997, 0.20877632400305335, 0.0879257388701681, 0.04453053919823434, 0.04541358105202369, 0.037718502040430785, 0.015642455695697048, 0.00845197202912663, 0.012236437116795272, 0.007568930175337282, 0.006513545244960387, 0.06234393305890656, 0.033498232688367706, 0.08653710111161657, 0.016749116344183853, 0.005583038781394617, 0.6290223693704602, 0.11352178855502389, 0.008374558172091926, 0.03815076500619655, 0.969514097905435, 0.022401191502242974, 0.9408500430942048, 0.012016665547965953, 0.05089411290903227, 0.0049480387550448045, 0.6743469960446776, 0.08906469759080649, 0.06503136649487458, 0.07422058132567207, 0.025447056454516136, 0.0035343133964605747, 0.148987857053291, 0.020728745329153534, 0.04534413040752335, 0.08356275460815017, 0.6328745058307188, 0.029797571410658204, 0.005829959623824431, 0.0051821863322883835, 0.0038866397492162874, 0.02396761178683377, 0.16211750549845969, 0.043594623327316895, 0.023159643642637097, 0.5939767428346926, 0.08923274462310177, 0.012260987810807875, 0.03201480150599834, 0.03814529541140228, 0.005449327915914612, 0.0713404619370222, 0.19114887129690683, 0.5473065973031093, 0.025595432908702625, 0.017971261403982693, 0.005445836789085665, 0.04302211063377675, 0.060448788358850876, 0.014703759330531295, 0.022327930835251225, 0.04735049722195538, 0.8838759481431672, 0.02367524861097769, 0.03945874768496282, 0.036445452559648664, 0.07569440147003953, 0.844413100843552, 0.043173843801429954, 0.000560699270148441, 0.9926196988075596, 0.000953388656212464, 0.9981979230544499, 0.14603084347631082, 0.21789942612957372, 0.05479342294486357, 0.0688103450935496, 0.09378595183120834, 0.21891883864947817, 0.056322541724720225, 0.08053358907245065, 0.004587356339569974, 0.058361366764529105, 0.9569945484087136, 0.021915905688749165, 0.007305301896249722, 0.007305301896249722, 0.007305301896249722, 0.03535618825296338, 0.9369389887035295, 0.984665810397937, 0.021066320182240635, 0.018433030159460555, 0.9585175682919489, 0.0008777633409266932, 0.9816600097604121, 0.17852683684538231, 0.10458080974966183, 0.42518965580039275, 0.15845577234797245, 0.011620089972184647, 0.0015845577234797246, 0.037501199455686814, 0.013204647695664372, 0.06232593712353583, 0.007922788617398624, 0.9625588520161482, 0.9853908178278211, 0.9709809434248083, 0.9759137030403247, 0.014786571258186736, 0.9951119369847734, 0.18323760274160078, 0.009644084354821093, 0.11572901225785312, 0.6847299891922977, 0.29807427225334715, 0.6767091586292205, 0.01611212282450525, 0.004028030706126312, 0.9561935196627794, 0.977699869687404, 0.3211163196698008, 0.6033655343651589, 0.00925407261296256, 0.00462703630648128, 0.044419548542220286, 0.005552443567777536, 0.003701629045185024, 0.005552443567777536, 0.001850814522592512, 0.001850814522592512, 0.30437143735636535, 0.6477993865858926, 0.032322630515720215, 0.0013467762714883423, 0.005387105085953369, 0.0013467762714883423, 0.0013467762714883423, 0.0013467762714883423, 0.006733881357441711, 0.13823161777059667, 0.05619171454089296, 0.08765907468379301, 0.0033715028724535774, 0.012362177198996451, 0.0011238342908178591, 0.6979010945978905, 0.0033715028724535774, 0.9855106453650992, 0.30430939930033535, 0.021355045564935813, 0.6726839352954781, 0.9733291727369722, 0.15801895506096625, 0.10691245286652734, 0.17652303344171136, 0.0020560087089716798, 0.016448069671773438, 0.5251633673773376, 0.007049172716474331, 0.002937155298530971, 0.003230870828384068, 0.0020560087089716798, 0.0038030332678485835, 0.6715070170086928, 0.007606066535697167, 0.01901516633924292, 0.007606066535697167, 0.10702822196659585, 0.1830888873235675, 0.0061433472097373034, 0.12901029140448336, 0.012286694419474607, 0.829351873314536, 0.024573388838949214, 0.9816251460620319, 0.9703650474123596, 0.014702500718369087, 0.19114645976026462, 0.10839907458266089, 0.2767900034190845, 0.20024867212980105, 0.009515949295424429, 0.15349639950445493, 0.0028961584812161306, 0.011584633924864522, 0.04054621873702583, 0.004964843110656224, 0.9784574000765005, 0.5381448791440256, 0.1393889853719073, 0.0033164629129775005, 0.021069293800092356, 0.0270194184380814, 0.011022362034307575, 0.159873021010886, 0.08174105650221015, 0.0018533175101933092, 0.016484771538035223, 0.9940074642878233, 0.5078506926606222, 0.15332417096038986, 0.021659176566895224, 0.04388833146449821, 0.025649024881849607, 0.038758526488128296, 0.18638291414144048, 0.006269761637785459, 0.0045598266456621525, 0.011399566614155381, 0.013936326853888435, 0.9825110431991346, 0.11825397720027608, 0.1281084753002991, 0.7341601084517141, 0.01478174715003451, 0.15344252978613662, 0.1224724779026962, 0.01013565334367141, 0.0320962355882928, 0.30209877882665065, 0.20046069946372344, 0.028154592621309472, 0.032940873366932084, 0.04223188893196421, 0.07629894600374867, 0.9942184718950039, 0.9644285584858434, 0.9986701409614899, 0.97592028238761, 0.9845599229538193, 0.9968309150542066, 0.9850643738645515, 0.9528743195054091, 0.013809772746455206, 0.027619545492910413, 0.16857477477877889, 0.8254351040891931, 0.0195671037408393, 0.2690476764365404, 0.21034636521402247, 0.06848486309293755, 0.024458879676049126, 0.02935065561125895, 0.38155852294636633, 0.9879280731414773, 0.9851395290544712, 0.9628541523697953, 0.13819304582756242, 0.29221727590267377, 0.11510590213322026, 0.07453849249887616, 0.06563345135962989, 0.053100430496987, 0.1065306773324646, 0.13687378047360002, 0.004947245077359037, 0.012862837201133496, 0.032692688257007885, 0.8902058228670507, 0.03590836251179555, 0.0010718914182625537, 0.007503239927837875, 0.009111077055231705, 0.012326751310019366, 0.01018296847349426, 0.0010718914182625537, 0.0005359457091312768, 0.19494653447232313, 0.4208245857475882, 0.023913441561938302, 0.06836125142162798, 0.049126526687025426, 0.12606542562543563, 0.05250559995121236, 0.025473013837716888, 0.017675152458823964, 0.021574083148270425, 0.943825914367215, 0.027278205617549567, 0.027278205617549567, 0.327559261272078, 0.3673975498051686, 0.023239001644302835, 0.0442647650367673, 0.04205152678492894, 0.005533095629595913, 0.02213238251838365, 0.025452239896141197, 0.1283678186066252, 0.015492667762868556, 0.9751165649439538, 0.015001793306830059, 0.9904779435152812, 0.0015709404338069487, 0.007069231952131269, 0.9664241018100426, 0.9729170694782687, 0.04971985089544025, 0.15173126911194698, 0.02057373140500976, 0.042004701618561596, 0.6257843302357136, 0.02057373140500976, 0.029146119490430493, 0.058292238980860986, 0.00257171642562622, 0.9754882961135056, 0.9537212356690061, 0.01288812480633792, 0.02577624961267584, 0.9896816710339938, 0.9770480336806336, 0.9747160623702995, 0.9131751922832165, 0.06935507789492784, 0.9747607358690304, 0.9767678192052045, 0.9839028543250097, 0.9921045574277467, 0.9988932980772572, 0.9745459182403113, 0.04792617967909828, 0.01597539322636609, 0.9265728071292333, 0.9794062836231022, 0.9885936655002273, 0.009105017403888768, 0.273150522116663, 0.05463010442333261, 0.10015519144277645, 0.5554060616372148, 0.5470465405709397, 0.1183191729606148, 0.11209184806795086, 0.053650799075258535, 0.023472224595425608, 0.07041667378627682, 0.007185374876150697, 0.0028741499504602785, 0.04311224925690418, 0.02107709963670871, 0.1250324891656379, 0.012503248916563788, 0.8627241752429013, 0.21804831193035423, 0.10123671625337874, 0.007787439711798365, 0.6697198152146594, 0.9613246375055065, 0.9371586402333464, 0.9924208644192933, 0.97950113523474, 0.2064220572660805, 0.04044756527511037, 0.3723965492570506, 0.17713244103237988, 0.029289616233700612, 0.019526410822467075, 0.06694769424845855, 0.06834243787863475, 0.015342179931938416, 0.002789487260352439, 0.9988479795603785, 0.9623285529576754, 0.021534957312879875, 0.9044682071409548, 0.06460487193863963, 0.07565478994535987, 0.0019909155248778914, 0.9207984302560248, 0.9815969466122926, 0.9402155135044716, 0.9947424179631248, 0.15054979442608532, 0.020663697274168575, 0.005903913506905307, 0.374898507688487, 0.4339376427575401, 0.011807827013810614, 0.1261326784422245, 0.1194056022586392, 0.03363538091792654, 0.17322221172732166, 0.03195361187203021, 0.010090614275377961, 0.49948540663120905, 0.001681769045896327, 0.005045307137688981, 0.9185621956442831, 0.03041596674318818, 0.012166386697275272, 0.03041596674318818, 0.04267985008753108, 0.9389567019256838, 0.08435762731193189, 0.9038317211992702, 0.9402708644730103, 0.9676306969309652, 0.9767639515847906, 0.014578566441564038, 0.07523416121467812, 0.05906233216853235, 0.08578100624477318, 0.5702327546271397, 0.0787497762247098, 0.0168749520481521, 0.0766404072186908, 0.029531166084266175, 0.0035156150100316874, 0.0049218610140443625, 0.0011015546382661114, 0.9969069476308309, 0.002203109276532223, 0.9821809441391317, 0.2552516212104663, 0.7254519760718516, 0.9786763604382079, 0.06483641460131796, 0.4153582810396932, 0.004052275912582373, 0.03241820730065898, 0.18235241606620675, 0.11346372555230644, 0.0060784138688735586, 0.0020261379562911863, 0.014182965694038305, 0.1641171744595861, 0.9894672902005502, 0.018911466029639352, 0.018911466029639352, 0.9644847675116069, 0.019102943125327634, 0.9551471562663818, 0.9802358806152319, 0.9931998806844639, 0.03183927729131398, 0.08220322500666517, 0.08104543310516285, 0.16730092976708616, 0.5059550609565167, 0.03068148538981165, 0.04515388415859073, 0.03531265299582095, 0.0046311676060093055, 0.01620908662103257, 0.1399258047858852, 0.07632316624684649, 0.03816158312342324, 0.06614674408060028, 0.31419703438285135, 0.03943363589420402, 0.03688953035264247, 0.20988870717882782, 0.01653668602015007, 0.06105853299747718, 0.03588479222504036, 0.03588479222504036, 0.03588479222504036, 0.8791774095134889, 0.9802383545224035, 0.016614209398684805, 0.9636828412183718, 0.007562357700017036, 0.9755441433021976, 0.015124715400034072, 0.007562357700017036, 0.9987204746326227, 0.18801142620040298, 0.15768700261969282, 0.06064884716142031, 0.4027083451518309, 0.05579693938850669, 0.08126945519630323, 0.038815262183309, 0.007277861659370438, 0.003638930829685219, 0.003638930829685219, 0.33879571547849563, 0.12046069883679844, 0.12972690643962909, 0.35153675093238773, 0.01679500128013055, 0.020269829131192046, 0.005791379751769156, 0.0005791379751769155, 0.009845345578007566, 0.006370517726946071, 0.03547617238973168, 0.4407645660542421, 0.07202738030642493, 0.021500710539231322, 0.023650781593154452, 0.011825390796577226, 0.3956130739218563, 0.001075035526961566, 0.9761168169224452, 0.9923232268042873, 0.9789152516885962, 0.17471626949123717, 0.8021065099370435, 0.023824945839714163, 0.9979644580138269, 0.9638649234950329, 0.025035452558312545, 0.012517726279156273, 0.19296888313946547, 0.059525994459970706, 0.014390899759553358, 0.08045821229204832, 0.07326276241227164, 0.04448096289316492, 0.5017190961626102, 0.01962395421757276, 0.013082636145048506, 0.0006541318072524253, 0.46513068143985353, 0.17546224366815905, 0.06229428769283753, 0.18947845839904748, 0.03478097729516762, 0.05502662079533981, 0.005191190641069794, 0.0020764762564279174, 0.0036338334487488557, 0.006748547833390732, 0.9719533490451518, 0.017999136093428736, 0.008999568046714368, 0.004053441537108903, 0.03891303875624547, 0.8593296058670875, 0.0543161165972593, 0.0008106883074217807, 0.005674818151952464, 0.0016213766148435614, 0.028374090759762324, 0.007296194766796026, 0.06074373468205051, 0.9263419539012702, 0.005286079613805695, 0.01057215922761139, 0.005286079613805695, 0.8933474547331625, 0.07929119420708543, 0.9741165539572447, 0.9904793909402732, 0.9558327951885445, 0.9520033092609247, 0.04681983488168482, 0.9612567383956001, 0.979888509265138, 0.014201282742973016, 0.9773103620186442, 0.9652571914449871, 0.9873967328779453, 0.9871027403606356, 0.015668297466041835, 0.976868012450527, 0.999425512839718, 0.9973084269401191, 0.0016803848811122479, 0.12026506132566617, 0.3736324658038955, 0.05472735936729753, 0.041890077540400576, 0.04932218807176197, 0.02702585647767779, 0.08513144790468505, 0.21890943746919012, 0.004729524883593614, 0.02364762441796807, 0.9712757432737823, 0.023883829752633992, 0.045254023909760764, 0.950334502104976, 0.9935616403854762, 0.9895080468708599, 0.9554408311093222, 0.03843727481474285, 0.9896826439346995, 0.975178005795955, 0.9862662603887513, 0.028418836979707703, 0.16482925448230468, 0.00568376739594154, 0.7957274354318157, 0.9807225302811204, 0.00910053938296272, 0.0238014106939025, 0.8862525276023696, 0.01925114100242114, 0.04095242722333224, 0.011550684601452683, 0.005600331927977059, 0.003500207454985662, 0.22280351869308426, 0.009687109508394968, 0.009687109508394968, 0.7459074321464125, 0.15094489337486225, 0.8445726176926817, 0.9818879535989018, 0.993751732462072, 0.024327764501325077, 0.043789976102385136, 0.8466062046461127, 0.08271439930450526, 0.23754665661577665, 0.09062163649676355, 0.1179689942561419, 0.08418696408279218, 0.01876779454074985, 0.4032394712755396, 0.012333122126778472, 0.006970895115135658, 0.002681113505821407, 0.025738689655885508, 0.980397187767161, 0.003972398083577769, 0.020656470034604402, 0.8882282114879892, 0.0007944796167155539, 0.003972398083577769, 0.005561357317008877, 0.019861990417888848, 0.03892950121906214, 0.019067510801173294, 0.9738971041892278, 0.003635406902545489, 0.03635406902545489, 0.03998947592800038, 0.06907273114836429, 0.14178086919927407, 0.661644056263279, 0.05089569663563685, 0.016509400774133157, 0.2724051127731971, 0.7016495329006592, 0.4029135837715242, 0.5357975830346327, 0.018208594651213113, 0.0023245014448357165, 0.0003874169074726194, 0.011235090316705963, 0.021695346818466688, 0.0007748338149452388, 0.0003874169074726194, 0.006198670519561911, 0.149229469289099, 0.8487426065817505, 0.9762779379665065, 0.035835509586076945, 0.8361618903417953, 0.051762402735444475, 0.067689295884812, 0.0039817232873418824, 0.0039817232873418824, 0.0039817232873418824, 0.20077545174686048, 0.2220906538158765, 0.23377963559565948, 0.14542468508377054, 0.0770097623138643, 0.03300418384879899, 0.04606833995561525, 0.011688981779782974, 0.01718967908791614, 0.012720362525057942, 0.9777717565789661, 0.00952444031796799, 0.9810173527507031, 0.31625261508046504, 0.013750113699150655, 0.6600054575592315, 0.014256518429649446, 0.34164728093909924, 0.02800387548681141, 0.019857293527011727, 0.04938865313128558, 0.5473484754240412, 0.988134999639567, 0.10646481129509743, 0.8669277491172219, 0.005069752918814163, 0.010139505837628326, 0.015209258756442488, 0.9564030115507455, 0.9894732141358565, 0.2822105227984772, 0.20357208498496895, 0.010146895201743, 0.013317799952287688, 0.026635599904575376, 0.4375848555751669, 0.006975990451198313, 0.0006341809501089375, 0.001268361900217875, 0.016488704702832375, 0.9754742605543595, 0.9613714137785329, 0.9652892118698936, 0.9554809246282583, 0.09150854795658689, 0.3835133526719878, 0.05655022626530651, 0.4657682272397063, 0.0010281859320964818, 0.9759615286279171, 0.25754634202255366, 0.0820211280326604, 0.00820211280326604, 0.10498704388180531, 0.41994817552722125, 0.0820211280326604, 0.004921267681959624, 0.001640422560653208, 0.029527606091757745, 0.009842535363919248, 0.9882404248323904, 0.9882966665144982, 0.9606777071998911, 0.029636396184419427, 0.8695318640508659, 0.056901880674085296, 0.00414909546581872, 0.0029636396184419427, 0.01600365393958649, 0.018967293558028432, 0.0017781837710651655, 0.9752317096071658, 0.9777387211345828, 0.10001619298294788, 0.7324102465313787, 0.0010418353435723737, 0.02292037755859222, 0.0031255060307171212, 0.01666936549715798, 0.12397840588511247, 0.9735282088487468, 0.9867049787172132, 0.0293275957046216, 0.009775865234873865, 0.8798278711386479, 0.0293275957046216, 0.04887932617436933, 0.9987506121330544, 0.0008941366267977211, 0.9809931761551743, 0.9904007261993074, 0.24556105296149214, 0.17873624182770903, 0.048307092385867306, 0.3381496467010711, 0.047501974179436184, 0.09017323912028563, 0.012076773096466827, 0.0008051182064311217, 0.032204728257244866, 0.005635827445017852, 0.9720665052644505, 0.10743246256357748, 0.10407519810846569, 0.14939826825247493, 0.01678632227555898, 0.01678632227555898, 0.018464954503114882, 0.181292280576037, 0.3978358379307479, 0.0033572644551117963, 0.005035896682667695, 0.031311590530396234, 0.9550035111770852, 0.9536931154309298, 0.18530755234876875, 0.004974699391913255, 0.028604521503501217, 0.0012436748479783138, 0.00994939878382651, 0.5484606079584364, 0.0012436748479783138, 0.22137412294013986, 0.05403206382620059, 0.009005343971033431, 0.3061816950151367, 0.6303740779723402, 0.1228222266179126, 0.1585805963927479, 0.25341801188252855, 0.11504866797120927, 0.1554711729340666, 0.013992405564065993, 0.00777355864670333, 0.02643009939879132, 0.03420365804549465, 0.10882982105384661, 0.977065674689606, 0.9642113537228537, 0.9887552402373123, 0.9760350356757301, 0.9816237825888758, 0.170893248003442, 0.23748268601857628, 0.05421440971143677, 0.02121433423491004, 0.030053640166122556, 0.04242866846982008, 0.42369739763611997, 0.0035357223724850066, 0.015321463614101695, 0.0017678611862425033, 0.9870271210153918, 0.03454999613107212, 0.9159962388896438, 0.002528048497395521, 0.04550487295311938, 0.9936079704502173, 0.7567149863795365, 0.13222749999414504, 0.00934216032567329, 0.0021558831520784518, 0.05030394021516387, 0.00934216032567329, 0.015809809781908647, 0.0014372554347189678, 0.0007186277173594839, 0.022277459238144, 0.06363970860495502, 0.027939384265590006, 0.26231977449359506, 0.29181134677394005, 0.020954538199192504, 0.28016993666327755, 0.013193598125417504, 0.03337204231723251, 0.006208752059020001, 0.0028492305156749523, 0.003798974020899936, 0.6135343043753397, 0.16240613939347226, 0.007597948041799872, 0.008547691547024856, 0.1358133212471727, 0.0655323018605239, 0.18341747786129775, 0.038495026217803235, 0.14039362502963532, 0.08831211897025447, 0.13133597180191692, 0.03396619960394403, 0.07699005243560647, 0.07699005243560647, 0.221912504079101, 0.009057653227718407, 0.9767870797394951, 0.1212419622501682, 0.11706120493119689, 0.022297372367847026, 0.005574343091961757, 0.05853060246559844, 0.6215392547537358, 0.0013935857729904392, 0.041807573189713176, 0.0027871715459808783, 0.005574343091961757, 0.050255899308204184, 0.2745160951458895, 0.5468706462355122, 0.027559686717402294, 0.02053466853453504, 0.022696212590801887, 0.02647891468926887, 0.01675196643606806, 0.014050036365734502, 0.109348386984865, 0.1802090193401887, 0.05575328941662525, 0.10467230464669644, 0.014028247014505708, 0.3463897916658717, 0.07481731741069711, 0.10179471551551578, 0.0053954796209637335, 0.0075536714693492275, 0.453182978118744, 0.04925038500151118, 0.0607686202034775, 0.05242782919515706, 0.0337603445574875, 0.2617419654515796, 0.028994178267018677, 0.0027802636694401472, 0.0035746247178516178, 0.05322219024356853, 0.1774185397095101, 0.0955541209237948, 0.13881357968012595, 0.1456584307491657, 0.08651891751266233, 0.2603781346662718, 0.061877453664119265, 0.00821382128284769, 0.020260759164357635, 0.005202086812470204, 0.08559441626995497, 0.0870329778879374, 0.01222777375285071, 0.07912088898903401, 0.0985414708317969, 0.5991609138896847, 0.010789212134868274, 0.010069931325877055, 0.0079120888989034, 0.009350650516885836, 0.9875413161983074, 0.9779487443358778, 0.30440012824045726, 0.22226713119087632, 0.14394442781885322, 0.04106649852479048, 0.10965178472083231, 0.12150603171767906, 0.029635617492116843, 0.01312434488936603, 0.008043953319288857, 0.005927123498423368, 0.5332991338539428, 0.22840709465650202, 0.0461005145178261, 0.012048998112613639, 0.06757916332726781, 0.09691585438406623, 0.003667086382099803, 0.006286433797885377, 0.0031432168989426884, 0.0026193474157855737, 0.9787907279851756, 0.02147966507333452, 0.07517882775667081, 0.9021459330800499, 0.0454195418604176, 0.7826136443641186, 0.041925730948077784, 0.01397524364935926, 0.06987621824679631, 0.003493810912339815, 0.03144429821105834, 0.003493810912339815, 0.003493810912339815, 0.010481432737019446, 0.9891249143161343, 0.09346043432282226, 0.8921223276269398, 0.00849640312025657, 0.018372916079710123, 0.9737645522246365, 0.8951278868450051, 0.026988780507889602, 0.03448566398230338, 0.004498130084648267, 0.004498130084648267, 0.004498130084648267, 0.01049563686417929, 0.019491897033475824, 0.9930016704517928, 0.03738485286625991, 0.014019319824847463, 0.766389483758328, 0.03738485286625991, 0.009346213216564977, 0.09346213216564976, 0.03738485286625991, 0.20693381667004246, 0.04852241218469961, 0.012844167931244014, 0.03282398471317915, 0.043527457989215826, 0.5358872286869031, 0.031396854943040925, 0.01855268701179691, 0.03639180913852471, 0.03282398471317915, 0.9720130600785208, 0.028028765253380168, 0.9669924012416158, 0.9796934207751484, 0.020140614808232118, 0.9466088959869096, 0.010070307404116059, 0.010070307404116059, 0.22404729528993567, 0.2480095728610518, 0.14317460848741878, 0.025160391449671922, 0.15875008890864425, 0.05151889677789965, 0.05870758004923448, 0.04433021350656481, 0.014377366542669669, 0.031750017781728854, 0.3117243272959939, 0.15586216364799696, 0.10154188483206138, 0.04166612295540512, 0.18333094100378255, 0.03456745015559536, 0.038579743477226966, 0.09073955665843783, 0.011110966121441367, 0.03055515683396376, 0.9769465203710328, 0.03712720962839014, 0.18033216105218067, 0.05966872975991272, 0.07823233457410779, 0.12994523369936548, 0.025193463676407592, 0.1630945280104281, 0.30364753588933363, 0.001325971772442505, 0.023867491903965088, 0.02943152896827019, 0.014715764484135096, 0.11772611587308077, 0.8387985755957005, 0.9743481702692881, 0.9899803133913103, 0.12785809703529225, 0.14268963629138612, 0.05216610359039923, 0.01943443074936442, 0.07262339911604598, 0.3718113461786298, 0.012785809703529223, 0.013808674479811562, 0.0025571619407058445, 0.18462709211896197, 0.021056612411492103, 0.6422266785505091, 0.19214158825486544, 0.0035094354019153504, 0.030707559766759315, 0.10616042090793935, 0.0035094354019153504, 0.9793031239764896, 0.9742548504577757, 0.3629838316138178, 0.2214908837583566, 0.16598211190736797, 0.029386996862288097, 0.07401169580131817, 0.12190161661393581, 0.005986240101577205, 0.002721018227989639, 0.006530443747175133, 0.008707258329566843, 0.9666651168283636, 0.033022721382335404, 0.12898450397282157, 0.6537169178622548, 0.1729564939635562, 0.04104052399135232, 0.15836951377800879, 0.11613764343720644, 0.7158302022765997, 0.004223187034080234, 0.002111593517040117, 0.015614022755865174, 0.03122804551173035, 0.015614022755865174, 0.9212273425960452, 0.01715221690808793, 0.01715221690808793, 0.01715221690808793, 0.943371929944836, 0.9870569071300562, 0.9901117213876719, 0.01629585267966494, 0.0814792633983247, 0.01629585267966494, 0.8799760447019067, 0.9796550950601723, 0.47683149516442797, 0.09027686503113058, 0.13632412504700928, 0.08724744003008593, 0.07391797002548947, 0.07512974002590733, 0.030900135010655434, 0.00424119500146251, 0.019994205006894694, 0.005452965001880371, 0.17271699697301246, 0.09401051733974096, 0.5378276108273552, 0.05028469532125679, 0.01311774660554525, 0.09619680844066517, 0.01093145550462104, 0.002186291100924208, 0.002186291100924208, 0.019676619908317875, 0.7054842760075571, 0.038492433664097485, 0.045433692193688834, 0.0031551175134506134, 0.07824691433357521, 0.008203305534971594, 0.07319872631205424, 0.00946535254035184, 0.030920151631816013, 0.007572282032281472, 0.1602766513439109, 0.24519515784542156, 0.1529657865457676, 0.09335411973013757, 0.036554323990716515, 0.19401910425841845, 0.07873239013385096, 0.014621729596286607, 0.01293460695056123, 0.011809858520077644, 0.12470264011760271, 0.07211718946560157, 0.1607612348504035, 0.13221484735360287, 0.38312256903600833, 0.022536621708000488, 0.010517090130400229, 0.0871416039376019, 0.0060097657888001305, 0.0015024414472000326, 0.036758089536277926, 0.08794274109485849, 0.032212734378566144, 0.16066842361824707, 0.1021716789798693, 0.043477310204199704, 0.3482137299081812, 0.17568785805242515, 0.007509717217089039, 0.005335851706879054, 0.4961581793623373, 0.0478419046189036, 0.039778662267402995, 0.015051385722801132, 0.01236363827230093, 0.2418972705450182, 0.07418182963380558, 0.06074309238130457, 0.009675890821800728, 0.003762846430700283, 0.03690028309077327, 0.09963076434508783, 0.014760113236309307, 0.11070084927231981, 0.3819179299895033, 0.07749059449062386, 0.07933560864516252, 0.19557150038109833, 0.003690028309077327, 0.0018450141545386634, 0.043263938302923355, 0.9518066426643138, 0.20778367051065205, 0.14679338618573867, 0.042806845519970244, 0.02310812014794854, 0.02765397984918432, 0.012122292536628743, 0.5155762544484912, 0.012311703357513566, 0.0034093947759268337, 0.008523486939817084, 0.19857969435131798, 0.19788047007543305, 0.03915655944955566, 0.037058886621900884, 0.03216431669070643, 0.010488364138273837, 0.4586911249805091, 0.0006992242758849224, 0.01957827972477783, 0.006293018482964301, 0.024089492265882084, 0.9635796906352833, 0.9813179036735259, 0.010439552166739637, 0.1039147824941609, 0.07233846737162582, 0.06717143398793826, 0.12687937531055005, 0.5746889352301384, 0.029279855840896166, 0.016075214971472403, 0.0011482296408194574, 0.0005741148204097287, 0.008037607485736202, 0.049566094875790966, 0.04861290074356422, 0.0066723589255872455, 0.0009531941322267493, 0.8940960960286909], \"Term\": [\"ability\", \"ability\", \"ability\", \"ability\", \"ability\", \"ability\", \"ability\", \"ability\", \"ability\", \"accelerate\", \"accounts\", \"adopt\", \"advance\", \"affect\", \"affect\", \"affects\", \"afraid\", \"afraid\", \"african\", \"ai\", \"ai\", \"ai\", \"ai\", \"ai\", \"ai\", \"ai\", \"ai\", \"ai\", \"ai\", \"aiartwork\", \"aigc\", \"ainn\", \"alert\", \"alexa\", \"alexa\", \"alexa\", \"alien\", \"aliens\", \"allowing\", \"alpha\", \"alpha\", \"alternative\", \"alternative\", \"alternative\", \"alternative\", \"alternative\", \"altman\", \"alzheimers\", \"amazing\", \"amazing\", \"amazing\", \"amazing\", \"amazing\", \"amazing\", \"amazing\", \"amazing\", \"amazing\", \"amazing\", \"american\", \"american\", \"amp\", \"amp\", \"amp\", \"amp\", \"amp\", \"amp\", \"amp\", \"amp\", \"amp\", \"amp\", \"another\", \"another\", \"another\", \"another\", \"another\", \"another\", \"another\", \"another\", \"another\", \"another\", \"answer\", \"answer\", \"answer\", \"answer\", \"answer\", \"answer\", \"answer\", \"answer\", \"answer\", \"answer\", \"answers\", \"answers\", \"answers\", \"answers\", \"answers\", \"answers\", \"answers\", \"answers\", \"answers\", \"answers\", \"apple\", \"apple\", \"apple\", \"apple\", \"apple\", \"apple\", \"apple\", \"appreciation\", \"appropriate\", \"approval\", \"archive\", \"art\", \"art\", \"art\", \"art\", \"art\", \"art\", \"art\", \"art\", \"art\", \"art\", \"article\", \"article\", \"article\", \"article\", \"article\", \"article\", \"article\", \"article\", \"artificial\", \"artificial\", \"artificial\", \"artificial\", \"artificial\", \"artificial\", \"artificial\", \"artists\", \"artists\", \"artists\", \"artwork\", \"ask\", \"ask\", \"ask\", \"ask\", \"ask\", \"ask\", \"ask\", \"ask\", \"ask\", \"ask\", \"asked\", \"asked\", \"asked\", \"asked\", \"asked\", \"asked\", \"asked\", \"asked\", \"asked\", \"asked\", \"asking\", \"asking\", \"asking\", \"asking\", \"asking\", \"asking\", \"asking\", \"asking\", \"asking\", \"asking\", \"aspect\", \"aspects\", \"assets\", \"assets\", \"assistants\", \"assistants\", \"assistants\", \"automatic\", \"avatar\", \"away\", \"away\", \"away\", \"away\", \"away\", \"away\", \"away\", \"away\", \"away\", \"awesome\", \"awesome\", \"awesome\", \"awesome\", \"awesome\", \"awesome\", \"awesome\", \"awesome\", \"awesome\", \"azure\", \"backend\", \"bad\", \"bad\", \"bad\", \"bad\", \"bad\", \"bad\", \"bad\", \"bar\", \"bar\", \"bar\", \"bar\", \"bar\", \"beat\", \"become\", \"become\", \"become\", \"become\", \"become\", \"become\", \"become\", \"become\", \"become\", \"become\", \"bedtime\", \"beginner\", \"ben\", \"best\", \"best\", \"best\", \"best\", \"best\", \"best\", \"best\", \"best\", \"best\", \"best\", \"bet\", \"bet\", \"better\", \"better\", \"better\", \"better\", \"better\", \"better\", \"better\", \"better\", \"better\", \"better\", \"biden\", \"bigdata\", \"biggest\", \"biggest\", \"biggest\", \"biggest\", \"biggest\", \"bio\", \"bits\", \"blockchain\", \"blockchain\", \"blockchain\", \"blockchain\", \"blockchain\", \"blockchain\", \"blockchain\", \"blockchain\", \"blockchain\", \"blog\", \"blog\", \"blog\", \"blog\", \"blog\", \"blog\", \"blog\", \"blog\", \"blogengage\", \"blown\", \"blown\", \"blown\", \"blown\", \"blown\", \"blown\", \"blown\", \"blows\", \"boilerplate\", \"boilerplate\", \"boss\", \"bots\", \"bots\", \"bots\", \"bots\", \"bots\", \"brain\", \"brain\", \"brain\", \"brain\", \"brain\", \"brain\", \"brain\", \"brain\", \"bread\", \"breaks\", \"breakthroughs\", \"bring\", \"bring\", \"bring\", \"bring\", \"bring\", \"bring\", \"bring\", \"bring\", \"btc\", \"btc\", \"build\", \"build\", \"build\", \"build\", \"build\", \"build\", \"build\", \"build\", \"build\", \"build\", \"bullet\", \"bullet\", \"calm\", \"campaign\", \"capitalizetitle\", \"cardano\", \"cardano\", \"cars\", \"cars\", \"cars\", \"catch\", \"causing\", \"ceo\", \"change\", \"change\", \"change\", \"change\", \"change\", \"change\", \"change\", \"change\", \"change\", \"chat\", \"chat\", \"chat\", \"chat\", \"chat\", \"chat\", \"chat\", \"chat\", \"chatbot\", \"chatbot\", \"chatbot\", \"chatbot\", \"chatbot\", \"chatbot\", \"chatbot\", \"chatbot\", \"chatbot\", \"chatbot\", \"chatbots\", \"chatbots\", \"chatbots\", \"chatbots\", \"chatbots\", \"chatbots\", \"chatbots\", \"chatgpt\", \"chatgpt\", \"chatgpt\", \"chatgpt\", \"chatgpt\", \"chatgpt\", \"chatgpt\", \"chatgpt\", \"chatgpt\", \"chatgpt\", \"chatgptlike\", \"chatgptlike\", \"chatgptlike\", \"chatgptn\", \"chatgptn\", \"chatgptn\", \"chatgptn\", \"chatgptn\", \"chatgptnjoin\", \"chatgptnn\", \"chatgptnn\", \"chatgptnn\", \"chatgptnn\", \"chatgptnn\", \"chatgptnni\", \"chatgptnni\", \"check\", \"check\", \"check\", \"check\", \"check\", \"check\", \"check\", \"check\", \"check\", \"check\", \"cheer\", \"childrens\", \"christian\", \"christmas\", \"christmas\", \"christmas\", \"christmas\", \"christmas\", \"christmas\", \"christmas\", \"christmas\", \"christmas\", \"chrome\", \"chrome\", \"citations\", \"city\", \"city\", \"classroom\", \"claus\", \"code\", \"code\", \"code\", \"code\", \"code\", \"code\", \"code\", \"code\", \"code\", \"code\", \"collaboration\", \"collaboration\", \"collection\", \"collection\", \"comfortable\", \"community\", \"community\", \"community\", \"community\", \"competing\", \"comprehensive\", \"comprehensive\", \"concern\", \"confused\", \"connect\", \"connect\", \"connect\", \"consciousness\", \"consciousness\", \"conservative\", \"considerations\", \"conversation\", \"conversation\", \"conversation\", \"conversation\", \"conversation\", \"conversation\", \"conversation\", \"conversation\", \"convince\", \"convince\", \"convince\", \"copy\", \"copy\", \"copy\", \"copy\", \"copy\", \"copy\", \"copy\", \"copy\", \"copy\", \"copyright\", \"copywriter\", \"copywriter\", \"could\", \"could\", \"could\", \"could\", \"could\", \"could\", \"could\", \"could\", \"could\", \"could\", \"countries\", \"crafting\", \"create\", \"create\", \"create\", \"create\", \"create\", \"create\", \"create\", \"create\", \"create\", \"create\", \"creativity\", \"creativity\", \"creativity\", \"creativity\", \"creativity\", \"creativity\", \"creativity\", \"creativity\", \"critical\", \"critical\", \"css\", \"curiosity\", \"curiosity\", \"dalle\", \"dalle\", \"dalle\", \"dalle\", \"dalle\", \"dalle\", \"dalle\", \"dalle\", \"dalle\", \"dalle\", \"data\", \"data\", \"data\", \"data\", \"data\", \"data\", \"data\", \"data\", \"data\", \"data\", \"datachaz\", \"datasets\", \"daughters\", \"day\", \"day\", \"day\", \"day\", \"day\", \"day\", \"day\", \"day\", \"day\", \"day\", \"dear\", \"dear\", \"dear\", \"dear\", \"dear\", \"dear\", \"dear\", \"decision\", \"deepmind\", \"defi\", \"degree\", \"degree\", \"degree\", \"degree\", \"degree\", \"degree\", \"delivered\", \"delivered\", \"delivered\", \"delivered\", \"delivered\", \"designer\", \"designers\", \"detection\", \"determine\", \"didnt\", \"didnt\", \"didnt\", \"didnt\", \"didnt\", \"didnt\", \"didnt\", \"didnt\", \"didnt\", \"dig\", \"discord\", \"disease\", \"disrupt\", \"disrupt\", \"disrupt\", \"disrupted\", \"dm\", \"documents\", \"documents\", \"doge\", \"download\", \"dreams\", \"dreams\", \"dreams\", \"dreams\", \"drive\", \"drive\", \"drive\", \"driving\", \"early\", \"early\", \"early\", \"early\", \"early\", \"early\", \"earning\", \"easier\", \"easier\", \"easier\", \"easier\", \"easier\", \"easier\", \"easier\", \"easier\", \"eat\", \"eat\", \"eat\", \"eat\", \"ecommerce\", \"ecosystem\", \"edit\", \"edition\", \"elixir\", \"elon\", \"elon\", \"elon\", \"elon\", \"elon\", \"elon\", \"elon\", \"email\", \"email\", \"email\", \"email\", \"email\", \"email\", \"email\", \"embrace\", \"embrace\", \"emerged\", \"emerging\", \"emerging\", \"emotions\", \"employees\", \"ends\", \"entrepreneurs\", \"episode\", \"episode\", \"episode\", \"episode\", \"episode\", \"episode\", \"episode\", \"episode\", \"era\", \"era\", \"era\", \"era\", \"era\", \"essentially\", \"eth\", \"ethics\", \"ethics\", \"ethics\", \"eve\", \"events\", \"everybody\", \"everyones\", \"everyones\", \"everywhere\", \"everywhere\", \"evolve\", \"evolving\", \"example\", \"example\", \"example\", \"example\", \"example\", \"example\", \"example\", \"example\", \"example\", \"excitement\", \"excitement\", \"excitement\", \"exercise\", \"expert\", \"expert\", \"expert\", \"expert\", \"experts\", \"experts\", \"experts\", \"explainer\", \"extension\", \"extension\", \"extension\", \"extension\", \"extension\", \"extension\", \"eye\", \"far\", \"far\", \"far\", \"far\", \"far\", \"far\", \"far\", \"far\", \"far\", \"far\", \"fascinating\", \"fascinating\", \"fascinating\", \"fascinating\", \"fascinating\", \"fascinating\", \"fascinating\", \"fascinating\", \"fascinating\", \"favorite\", \"favorite\", \"favorite\", \"favorite\", \"favorite\", \"favorite\", \"favorite\", \"favorite\", \"favorite\", \"favorite\", \"figma\", \"files\", \"files\", \"film\", \"film\", \"fingertips\", \"five\", \"five\", \"five\", \"five\", \"five\", \"floor\", \"floor\", \"forbes\", \"forms\", \"formulas\", \"forum\", \"forward\", \"forward\", \"forward\", \"forward\", \"forward\", \"forward\", \"forward\", \"forward\", \"forward\", \"free\", \"free\", \"free\", \"free\", \"free\", \"free\", \"free\", \"free\", \"free\", \"freedom\", \"freemint\", \"front\", \"front\", \"front\", \"frontend\", \"fulfill\", \"fun\", \"fun\", \"fun\", \"fun\", \"fun\", \"fun\", \"fun\", \"fun\", \"fun\", \"fun\", \"funniest\", \"funniest\", \"fusion\", \"future\", \"future\", \"future\", \"future\", \"future\", \"future\", \"future\", \"future\", \"future\", \"future\", \"gaining\", \"game\", \"game\", \"game\", \"game\", \"game\", \"game\", \"game\", \"game\", \"game\", \"game\", \"gamechanger\", \"gamechanger\", \"gamechanger\", \"gamechanger\", \"garbage\", \"garbage\", \"gave\", \"gave\", \"gave\", \"gave\", \"gave\", \"gave\", \"gave\", \"gave\", \"gave\", \"gave\", \"genuine\", \"get\", \"get\", \"get\", \"get\", \"get\", \"get\", \"get\", \"get\", \"get\", \"get\", \"gift\", \"gift\", \"gift\", \"giveaway\", \"giveaway\", \"glass\", \"going\", \"going\", \"going\", \"going\", \"going\", \"going\", \"going\", \"going\", \"going\", \"going\", \"golden\", \"good\", \"good\", \"good\", \"good\", \"good\", \"good\", \"good\", \"good\", \"good\", \"good\", \"goodbye\", \"google\", \"google\", \"google\", \"google\", \"google\", \"google\", \"google\", \"google\", \"google\", \"google\", \"googles\", \"googles\", \"googles\", \"googles\", \"googles\", \"goto\", \"gpt\", \"gpt\", \"gpt\", \"gpt\", \"gpt\", \"gpt\", \"gpt\", \"gpt\", \"gpt\", \"gpt\", \"grab\", \"grace\", \"grammarly\", \"grape\", \"grape\", \"grapeswap\", \"grapeswap\", \"graph\", \"gratitude\", \"great\", \"great\", \"great\", \"great\", \"great\", \"great\", \"great\", \"great\", \"great\", \"great\", \"greeting\", \"greetings\", \"gt\", \"gt\", \"gt\", \"gt\", \"gt\", \"gt\", \"gt\", \"gt\", \"gt\", \"gtgt\", \"guys\", \"guys\", \"guys\", \"guys\", \"guys\", \"guys\", \"guys\", \"guys\", \"guys\", \"habits\", \"hadnt\", \"half\", \"half\", \"half\", \"hand\", \"hand\", \"hand\", \"hand\", \"hand\", \"hand\", \"hand\", \"hand\", \"hand\", \"happens\", \"happens\", \"happens\", \"happens\", \"happens\", \"happens\", \"happens\", \"happens\", \"happy\", \"happy\", \"happy\", \"happy\", \"happy\", \"happy\", \"happy\", \"happy\", \"happy\", \"happy\", \"harder\", \"harder\", \"harder\", \"hate\", \"health\", \"health\", \"health\", \"health\", \"healthcare\", \"healthcare\", \"healthcare\", \"healthcare\", \"healthy\", \"healthy\", \"healthy\", \"healthy\", \"hearing\", \"heart\", \"heart\", \"heavily\", \"help\", \"help\", \"help\", \"help\", \"help\", \"help\", \"help\", \"help\", \"help\", \"help\", \"helped\", \"helped\", \"helped\", \"helped\", \"helped\", \"heres\", \"heres\", \"heres\", \"heres\", \"heres\", \"heres\", \"heres\", \"heres\", \"heres\", \"heres\", \"hi\", \"higher\", \"higher\", \"higher\", \"higher\", \"highly\", \"highly\", \"highly\", \"highly\", \"highly\", \"highly\", \"highly\", \"holiday\", \"holiday\", \"holiday\", \"holiday\", \"holiday\", \"holidays\", \"hosting\", \"html\", \"html\", \"human\", \"human\", \"human\", \"human\", \"human\", \"human\", \"human\", \"human\", \"human\", \"human\", \"humans\", \"humans\", \"humans\", \"humans\", \"humans\", \"humans\", \"humans\", \"humans\", \"humans\", \"humans\", \"humour\", \"hypothetical\", \"ideas\", \"ideas\", \"ideas\", \"ideas\", \"ideas\", \"ideas\", \"ideas\", \"ideas\", \"ideas\", \"ideas\", \"im\", \"im\", \"im\", \"im\", \"im\", \"im\", \"im\", \"im\", \"im\", \"im\", \"images\", \"images\", \"images\", \"images\", \"images\", \"images\", \"images\", \"impressive\", \"impressive\", \"impressive\", \"impressive\", \"impressive\", \"impressive\", \"impressive\", \"impressive\", \"impressive\", \"impressive\", \"improve\", \"improve\", \"improve\", \"improve\", \"improve\", \"improve\", \"improve\", \"improve\", \"improve\", \"improvements\", \"improvements\", \"improvements\", \"improvements\", \"improving\", \"improving\", \"improving\", \"improving\", \"inappropriate\", \"income\", \"income\", \"increases\", \"increasing\", \"indian\", \"indian\", \"influence\", \"informed\", \"innovation\", \"innovation\", \"innovation\", \"innovation\", \"innovation\", \"innovation\", \"innovation\", \"innovation\", \"innovation\", \"innovation\", \"instagram\", \"instagram\", \"intelligence\", \"intelligence\", \"intelligence\", \"intelligence\", \"intelligence\", \"intelligence\", \"intelligence\", \"intelligence\", \"intelligence\", \"intelligence\", \"interests\", \"internet\", \"internet\", \"internet\", \"internet\", \"internet\", \"internet\", \"internet\", \"internet\", \"internet\", \"internet\", \"interviewed\", \"investor\", \"itn\", \"itn\", \"itn\", \"ive\", \"ive\", \"ive\", \"ive\", \"ive\", \"ive\", \"ive\", \"ive\", \"ive\", \"ive\", \"james\", \"jasper\", \"javascript\", \"javascript\", \"jesus\", \"join\", \"join\", \"join\", \"join\", \"join\", \"join\", \"join\", \"join\", \"joke\", \"joke\", \"joke\", \"joke\", \"joke\", \"joke\", \"joke\", \"joke\", \"journal\", \"journal\", \"journalists\", \"keyword\", \"keywords\", \"knew\", \"knew\", \"knew\", \"know\", \"know\", \"know\", \"know\", \"know\", \"know\", \"know\", \"know\", \"know\", \"know\", \"lab\", \"lambda\", \"lamda\", \"landscape\", \"language\", \"language\", \"language\", \"language\", \"language\", \"language\", \"language\", \"language\", \"language\", \"lately\", \"lately\", \"law\", \"law\", \"law\", \"law\", \"lawyers\", \"learning\", \"learning\", \"learning\", \"learning\", \"learning\", \"learning\", \"learning\", \"learning\", \"learning\", \"learning\", \"legal\", \"legal\", \"legal\", \"legal\", \"legal\", \"legit\", \"lensa\", \"lessons\", \"lets\", \"lets\", \"lets\", \"lets\", \"lets\", \"lets\", \"lets\", \"lets\", \"lets\", \"lets\", \"leveraging\", \"like\", \"like\", \"like\", \"like\", \"like\", \"like\", \"like\", \"like\", \"like\", \"like\", \"list\", \"list\", \"list\", \"list\", \"list\", \"list\", \"list\", \"list\", \"list\", \"list\", \"lists\", \"local\", \"local\", \"lol\", \"lol\", \"lol\", \"lol\", \"lol\", \"lol\", \"lol\", \"lol\", \"lol\", \"looking\", \"looking\", \"looking\", \"looking\", \"looking\", \"looking\", \"looking\", \"looking\", \"looking\", \"looking\", \"looks\", \"looks\", \"looks\", \"looks\", \"looks\", \"looks\", \"looks\", \"looks\", \"looks\", \"love\", \"love\", \"love\", \"love\", \"love\", \"love\", \"love\", \"love\", \"love\", \"love\", \"loved\", \"loved\", \"loved\", \"loved\", \"luck\", \"luck\", \"luck\", \"luck\", \"luck\", \"macbook\", \"mainly\", \"mainly\", \"make\", \"make\", \"make\", \"make\", \"make\", \"make\", \"make\", \"make\", \"make\", \"make\", \"management\", \"management\", \"management\", \"management\", \"management\", \"marketers\", \"marketers\", \"massively\", \"master\", \"master\", \"master\", \"master\", \"maximize\", \"may\", \"may\", \"may\", \"may\", \"may\", \"may\", \"may\", \"may\", \"may\", \"may\", \"meal\", \"measure\", \"medicine\", \"men\", \"men\", \"merry\", \"microsoft\", \"microsoft\", \"microsoft\", \"microsoft\", \"million\", \"million\", \"million\", \"million\", \"missed\", \"mixed\", \"model\", \"model\", \"model\", \"model\", \"model\", \"model\", \"model\", \"model\", \"model\", \"model\", \"models\", \"models\", \"models\", \"models\", \"models\", \"models\", \"models\", \"models\", \"models\", \"moment\", \"moment\", \"moment\", \"moment\", \"moment\", \"moment\", \"moment\", \"moment\", \"monetize\", \"month\", \"month\", \"month\", \"mother\", \"much\", \"much\", \"much\", \"much\", \"much\", \"much\", \"much\", \"much\", \"much\", \"much\", \"music\", \"music\", \"music\", \"music\", \"music\", \"music\", \"music\", \"musk\", \"musk\", \"musk\", \"musk\", \"musk\", \"naturally\", \"nearly\", \"nearly\", \"need\", \"need\", \"need\", \"need\", \"need\", \"need\", \"need\", \"need\", \"need\", \"need\", \"networks\", \"new\", \"new\", \"new\", \"new\", \"new\", \"new\", \"new\", \"new\", \"new\", \"new\", \"newsletter\", \"next\", \"next\", \"next\", \"next\", \"next\", \"next\", \"next\", \"next\", \"next\", \"next\", \"nft\", \"nft\", \"nfts\", \"nfts\", \"nfts\", \"nfts\", \"nn\", \"nn\", \"nn\", \"nn\", \"nn\", \"nn\", \"nn\", \"nn\", \"nn\", \"nn\", \"nnhow\", \"nnwere\", \"nnwhy\", \"nocode\", \"none\", \"notion\", \"november\", \"nthe\", \"nthe\", \"nthe\", \"nthis\", \"nthis\", \"number\", \"number\", \"number\", \"number\", \"number\", \"number\", \"number\", \"nytimes\", \"obsessed\", \"older\", \"one\", \"one\", \"one\", \"one\", \"one\", \"one\", \"one\", \"one\", \"one\", \"one\", \"open\", \"open\", \"open\", \"open\", \"open\", \"open\", \"open\", \"open\", \"open\", \"open\", \"openai\", \"openai\", \"openai\", \"openai\", \"openai\", \"openai\", \"openai\", \"openai\", \"openai\", \"openai\", \"openaichatgpt\", \"openaichatgpt\", \"openaichatgpt\", \"openais\", \"openais\", \"openais\", \"openais\", \"openais\", \"openais\", \"openais\", \"openais\", \"openais\", \"openais\", \"opinions\", \"opinions\", \"optimistic\", \"optimistic\", \"optimistic\", \"organization\", \"organize\", \"original\", \"original\", \"original\", \"original\", \"original\", \"original\", \"original\", \"original\", \"original\", \"outline\", \"overall\", \"overall\", \"overall\", \"overcome\", \"overview\", \"owner\", \"paid\", \"paid\", \"panel\", \"parameters\", \"participating\", \"parts\", \"passed\", \"passing\", \"passive\", \"passive\", \"passive\", \"path\", \"patient\", \"peace\", \"peace\", \"peace\", \"peace\", \"peace\", \"people\", \"people\", \"people\", \"people\", \"people\", \"people\", \"people\", \"people\", \"people\", \"people\", \"peoples\", \"peoples\", \"peoples\", \"per\", \"per\", \"per\", \"per\", \"performs\", \"photo\", \"pisces\", \"piscesbaishui\", \"playing\", \"playing\", \"playing\", \"playing\", \"playing\", \"playing\", \"playing\", \"playing\", \"playing\", \"playing\", \"playlist\", \"pleased\", \"plugin\", \"plugin\", \"plugin\", \"podcast\", \"podcast\", \"podcast\", \"poe\", \"politically\", \"popping\", \"popular\", \"popular\", \"popular\", \"popular\", \"popular\", \"popular\", \"post\", \"post\", \"post\", \"post\", \"post\", \"post\", \"post\", \"post\", \"post\", \"potentially\", \"potentially\", \"potentially\", \"potentially\", \"practices\", \"practices\", \"predictions\", \"predictions\", \"premium\", \"presented\", \"pretrained\", \"pretrained\", \"pretty\", \"pretty\", \"pretty\", \"pretty\", \"pretty\", \"pretty\", \"pretty\", \"pretty\", \"pretty\", \"pretty\", \"price\", \"price\", \"price\", \"primary\", \"pro\", \"pro\", \"processes\", \"product\", \"product\", \"product\", \"product\", \"product\", \"product\", \"product\", \"product\", \"product\", \"product\", \"professionals\", \"professor\", \"professor\", \"professor\", \"profit\", \"profit\", \"profitable\", \"programmed\", \"prompt\", \"prompt\", \"prompt\", \"prompt\", \"prompt\", \"prompt\", \"prompt\", \"prompt\", \"prompt\", \"prompt\", \"prompts\", \"prompts\", \"prompts\", \"prompts\", \"prompts\", \"prompts\", \"prompts\", \"prompts\", \"prompts\", \"prompts\", \"proof\", \"proof\", \"proof\", \"proof\", \"protect\", \"protect\", \"proven\", \"published\", \"published\", \"published\", \"published\", \"qualified\", \"question\", \"question\", \"question\", \"question\", \"question\", \"question\", \"question\", \"question\", \"question\", \"question\", \"questions\", \"questions\", \"questions\", \"questions\", \"questions\", \"questions\", \"questions\", \"questions\", \"questions\", \"questions\", \"quick\", \"quick\", \"quick\", \"quick\", \"quick\", \"quick\", \"quick\", \"quick\", \"quiz\", \"quora\", \"quotes\", \"race\", \"race\", \"race\", \"rank\", \"reached\", \"reached\", \"reached\", \"read\", \"read\", \"read\", \"read\", \"read\", \"read\", \"read\", \"read\", \"read\", \"read\", \"really\", \"really\", \"really\", \"really\", \"really\", \"really\", \"really\", \"really\", \"really\", \"really\", \"realtime\", \"realtime\", \"realtime\", \"reason\", \"reason\", \"reason\", \"reason\", \"reason\", \"reason\", \"reason\", \"reason\", \"reason\", \"recipe\", \"recipe\", \"recommend\", \"recommend\", \"recommend\", \"recommend\", \"recommend\", \"recorded\", \"reflect\", \"regards\", \"regex\", \"regex\", \"regulated\", \"relationships\", \"relationships\", \"relying\", \"remains\", \"repo\", \"reports\", \"reports\", \"rescue\", \"resolution\", \"resources\", \"resources\", \"results\", \"results\", \"results\", \"results\", \"results\", \"results\", \"results\", \"results\", \"results\", \"results\", \"resume\", \"resume\", \"retweet\", \"retweet\", \"revenue\", \"reviewers\", \"revolutionize\", \"revolutionize\", \"rewards\", \"rights\", \"rlhf\", \"robot\", \"robot\", \"robot\", \"robot\", \"routine\", \"running\", \"running\", \"running\", \"running\", \"running\", \"running\", \"running\", \"running\", \"safety\", \"safety\", \"safety\", \"safety\", \"sales\", \"sales\", \"sam\", \"santa\", \"saved\", \"saved\", \"saved\", \"saved\", \"say\", \"say\", \"say\", \"say\", \"say\", \"say\", \"say\", \"say\", \"say\", \"say\", \"scarily\", \"school\", \"school\", \"school\", \"school\", \"school\", \"school\", \"school\", \"school\", \"school\", \"score\", \"script\", \"script\", \"script\", \"script\", \"script\", \"script\", \"script\", \"scripts\", \"scripts\", \"scripts\", \"search\", \"search\", \"search\", \"search\", \"search\", \"search\", \"search\", \"search\", \"search\", \"search\", \"season\", \"season\", \"section\", \"security\", \"security\", \"security\", \"security\", \"security\", \"security\", \"security\", \"see\", \"see\", \"see\", \"see\", \"see\", \"see\", \"see\", \"see\", \"see\", \"see\", \"seeking\", \"selling\", \"selling\", \"send\", \"send\", \"send\", \"seo\", \"seo\", \"seo\", \"seo\", \"seo\", \"seo\", \"serve\", \"services\", \"services\", \"services\", \"services\", \"services\", \"sex\", \"shake\", \"share\", \"share\", \"share\", \"share\", \"share\", \"share\", \"share\", \"share\", \"share\", \"share\", \"shares\", \"sheets\", \"shes\", \"signal\", \"significant\", \"significant\", \"significant\", \"significant\", \"significant\", \"silicon\", \"smart\", \"smart\", \"smart\", \"smart\", \"smart\", \"smart\", \"smart\", \"smart\", \"smart\", \"smart\", \"sol\", \"solana\", \"sold\", \"source\", \"source\", \"source\", \"source\", \"source\", \"source\", \"source\", \"source\", \"speaker\", \"spirit\", \"spot\", \"spot\", \"spot\", \"spot\", \"spot\", \"spot\", \"spot\", \"spread\", \"spreadsheet\", \"stack\", \"stack\", \"stack\", \"stack\", \"stack\", \"staking\", \"staking\", \"star\", \"steve\", \"still\", \"still\", \"still\", \"still\", \"still\", \"still\", \"still\", \"still\", \"still\", \"still\", \"stocks\", \"story\", \"story\", \"story\", \"story\", \"story\", \"story\", \"story\", \"story\", \"story\", \"story\", \"stream\", \"stream\", \"string\", \"study\", \"study\", \"study\", \"study\", \"study\", \"study\", \"study\", \"study\", \"suggest\", \"suggest\", \"suggest\", \"suggest\", \"super\", \"super\", \"super\", \"super\", \"super\", \"super\", \"super\", \"super\", \"super\", \"super\", \"supply\", \"supporting\", \"survey\", \"svg\", \"tackle\", \"take\", \"take\", \"take\", \"take\", \"take\", \"take\", \"take\", \"take\", \"take\", \"take\", \"target\", \"teacher\", \"teacher\", \"teacher\", \"teacher\", \"techcrunch\", \"technology\", \"technology\", \"technology\", \"technology\", \"technology\", \"technology\", \"technology\", \"technology\", \"technology\", \"technology\", \"tell\", \"tell\", \"tell\", \"tell\", \"tell\", \"tell\", \"tell\", \"tell\", \"tell\", \"telling\", \"telling\", \"telling\", \"telling\", \"telling\", \"telling\", \"telling\", \"telling\", \"test\", \"test\", \"test\", \"test\", \"test\", \"test\", \"test\", \"test\", \"test\", \"test\", \"texttoimage\", \"thanks\", \"thanks\", \"thanks\", \"thanks\", \"thanks\", \"thanks\", \"thanks\", \"thanks\", \"thanks\", \"thanks\", \"theres\", \"theres\", \"theres\", \"theres\", \"theres\", \"theres\", \"theres\", \"theres\", \"theres\", \"thing\", \"thing\", \"thing\", \"thing\", \"thing\", \"thing\", \"thing\", \"thing\", \"thing\", \"thing\", \"things\", \"things\", \"things\", \"things\", \"things\", \"things\", \"things\", \"things\", \"things\", \"things\", \"think\", \"think\", \"think\", \"think\", \"think\", \"think\", \"think\", \"think\", \"think\", \"think\", \"thought\", \"thought\", \"thought\", \"thought\", \"thought\", \"thought\", \"thought\", \"thought\", \"thought\", \"thought\", \"thousands\", \"thursday\", \"time\", \"time\", \"time\", \"time\", \"time\", \"time\", \"time\", \"time\", \"time\", \"time\", \"tool\", \"tool\", \"tool\", \"tool\", \"tool\", \"tool\", \"tool\", \"tool\", \"tool\", \"tool\", \"tough\", \"traditional\", \"traditional\", \"traditional\", \"training\", \"training\", \"training\", \"training\", \"training\", \"training\", \"training\", \"training\", \"training\", \"training\", \"transcript\", \"trend\", \"trend\", \"trend\", \"trends\", \"trends\", \"trust\", \"trust\", \"trust\", \"trust\", \"trust\", \"trust\", \"trust\", \"trust\", \"tsla\", \"turn\", \"turn\", \"turn\", \"turn\", \"turn\", \"turn\", \"turn\", \"two\", \"two\", \"two\", \"two\", \"two\", \"two\", \"two\", \"two\", \"two\", \"two\", \"university\", \"upcoming\", \"upcoming\", \"updated\", \"updates\", \"updates\", \"updates\", \"updates\", \"used\", \"used\", \"used\", \"used\", \"used\", \"used\", \"used\", \"used\", \"used\", \"used\", \"using\", \"using\", \"using\", \"using\", \"using\", \"using\", \"using\", \"using\", \"using\", \"using\", \"utilize\", \"video\", \"video\", \"video\", \"video\", \"video\", \"video\", \"video\", \"video\", \"video\", \"video\", \"videos\", \"videos\", \"videos\", \"videos\", \"visit\", \"volume\", \"want\", \"want\", \"want\", \"want\", \"want\", \"want\", \"want\", \"want\", \"want\", \"want\", \"wanted\", \"wanted\", \"wanted\", \"wanted\", \"wanted\", \"wanted\", \"wanted\", \"warrior\", \"waves\", \"way\", \"way\", \"way\", \"way\", \"way\", \"way\", \"way\", \"way\", \"way\", \"way\", \"wealth\", \"wealth\", \"website\", \"website\", \"website\", \"website\", \"win\", \"win\", \"win\", \"win\", \"win\", \"winning\", \"winning\", \"winning\", \"winning\", \"wins\", \"wins\", \"wins\", \"wins\", \"wishing\", \"women\", \"wonderful\", \"wonderful\", \"wonderful\", \"wonderful\", \"wordpress\", \"work\", \"work\", \"work\", \"work\", \"work\", \"work\", \"work\", \"work\", \"work\", \"work\", \"working\", \"working\", \"working\", \"working\", \"working\", \"working\", \"working\", \"working\", \"working\", \"working\", \"world\", \"world\", \"world\", \"world\", \"world\", \"world\", \"world\", \"world\", \"world\", \"world\", \"would\", \"would\", \"would\", \"would\", \"would\", \"would\", \"would\", \"would\", \"would\", \"would\", \"wow\", \"wow\", \"wow\", \"wow\", \"wow\", \"wow\", \"wow\", \"wow\", \"wow\", \"wow\", \"write\", \"write\", \"write\", \"write\", \"write\", \"write\", \"write\", \"write\", \"write\", \"write\", \"writing\", \"writing\", \"writing\", \"writing\", \"writing\", \"writing\", \"writing\", \"writing\", \"writing\", \"writing\", \"wrote\", \"wrote\", \"wrote\", \"wrote\", \"wrote\", \"wrote\", \"wrote\", \"wrote\", \"wrote\", \"wrote\", \"xmas\", \"xmas\", \"year\", \"year\", \"year\", \"year\", \"year\", \"year\", \"year\", \"year\", \"year\", \"year\", \"years\", \"years\", \"years\", \"years\", \"years\", \"years\", \"years\", \"years\", \"years\", \"years\", \"yield\", \"yield\", \"york\", \"york\", \"youre\", \"youre\", \"youre\", \"youre\", \"youre\", \"youre\", \"youre\", \"youre\", \"youre\", \"youre\", \"youtube\", \"youtube\", \"youtube\", \"youtube\", \"youtube\"]}, \"R\": 30, \"lambda.step\": 0.01, \"plot.opts\": {\"xlab\": \"PC1\", \"ylab\": \"PC2\"}, \"topic.order\": [3, 9, 10, 1, 4, 6, 7, 5, 2, 8]};\n",
              "\n",
              "function LDAvis_load_lib(url, callback){\n",
              "  var s = document.createElement('script');\n",
              "  s.src = url;\n",
              "  s.async = true;\n",
              "  s.onreadystatechange = s.onload = callback;\n",
              "  s.onerror = function(){console.warn(\"failed to load library \" + url);};\n",
              "  document.getElementsByTagName(\"head\")[0].appendChild(s);\n",
              "}\n",
              "\n",
              "if(typeof(LDAvis) !== \"undefined\"){\n",
              "   // already loaded: just create the visualization\n",
              "   !function(LDAvis){\n",
              "       new LDAvis(\"#\" + \"ldavis_el49861402423273371364774806528\", ldavis_el49861402423273371364774806528_data);\n",
              "   }(LDAvis);\n",
              "}else if(typeof define === \"function\" && define.amd){\n",
              "   // require.js is available: use it to load d3/LDAvis\n",
              "   require.config({paths: {d3: \"https://d3js.org/d3.v5\"}});\n",
              "   require([\"d3\"], function(d3){\n",
              "      window.d3 = d3;\n",
              "      LDAvis_load_lib(\"https://cdn.jsdelivr.net/gh/bmabey/pyLDAvis@3.4.0/pyLDAvis/js/ldavis.v3.0.0.js\", function(){\n",
              "        new LDAvis(\"#\" + \"ldavis_el49861402423273371364774806528\", ldavis_el49861402423273371364774806528_data);\n",
              "      });\n",
              "    });\n",
              "}else{\n",
              "    // require.js not available: dynamically load d3 & LDAvis\n",
              "    LDAvis_load_lib(\"https://d3js.org/d3.v5.js\", function(){\n",
              "         LDAvis_load_lib(\"https://cdn.jsdelivr.net/gh/bmabey/pyLDAvis@3.4.0/pyLDAvis/js/ldavis.v3.0.0.js\", function(){\n",
              "                 new LDAvis(\"#\" + \"ldavis_el49861402423273371364774806528\", ldavis_el49861402423273371364774806528_data);\n",
              "            })\n",
              "         });\n",
              "}\n",
              "</script>"
            ]
          },
          "metadata": {},
          "execution_count": 21
        }
      ],
      "source": [
        "import pyLDAvis.gensim\n",
        "import pickle\n",
        "import pyLDAvis\n",
        "import os\n",
        "import pandas as pd\n",
        "\n",
        "# Assuming you have already trained your LDA model and have the following variables:\n",
        "# lda_model: Trained LDA model\n",
        "# corpus: Corpus of documents used for training the LDA model\n",
        "# id2word: Mapping of word IDs to words in the vocabulary\n",
        "\n",
        "pyLDAvis.enable_notebook()\n",
        "\n",
        "# Prepare the data for visualization\n",
        "vis_data = pyLDAvis.gensim.prepare(lda_model, corpus, id2word)\n",
        "\n",
        "# Display the visualization\n",
        "pyLDAvis.display(vis_data)\n"
      ],
      "id": "-dgyZUOQaSdw"
    },
    {
      "cell_type": "code",
      "execution_count": null,
      "metadata": {
        "id": "CNpSNB1xW4KD",
        "colab": {
          "base_uri": "https://localhost:8080/",
          "height": 1000
        },
        "outputId": "a5ac68e3-fe92-4d0f-d459-0c5c0e952c5f"
      },
      "outputs": [
        {
          "output_type": "stream",
          "name": "stderr",
          "text": [
            "/usr/local/lib/python3.10/dist-packages/ipykernel/ipkernel.py:283: DeprecationWarning: `should_run_async` will not call `transform_cell` automatically in the future. Please pass the result to `transformed_cell` argument and any exception that happen during thetransform in `preprocessing_exc_tuple` in IPython 7.17 and above.\n",
            "  and should_run_async(code)\n"
          ]
        },
        {
          "output_type": "stream",
          "name": "stdout",
          "text": [
            "['minutes', 'ago', 'openai', 'released', 'new', 'chatgpt', 'nnand', 'right']\n",
            "[(0, 1), (1, 1), (2, 1), (3, 1), (4, 1), (5, 1), (6, 1), (7, 1)]\n",
            "[(0,\n",
            "  '0.147*\"chatgpt\" + 0.064*\"write\" + 0.057*\"asked\" + 0.024*\"stablediffusion\" + '\n",
            "  '0.018*\"review\" + 0.016*\"heres\" + 0.013*\"poem\" + 0.012*\"story\" + '\n",
            "  '0.010*\"wrote\" + 0.009*\"ai\"'),\n",
            " (1,\n",
            "  '0.069*\"chatgpt\" + 0.054*\"ai\" + 0.031*\"seo\" + 0.018*\"generative\" + '\n",
            "  '0.016*\"sejournal\" + 0.016*\"amp\" + 0.015*\"nchatgpt\" + 0.014*\"post\" + '\n",
            "  '0.013*\"martinibuster\" + 0.013*\"mind\"'),\n",
            " (2,\n",
            "  '0.084*\"chatgpt\" + 0.015*\"questions\" + 0.011*\"letters\" + 0.009*\"christmas\" + '\n",
            "  '0.009*\"gpt\" + 0.009*\"cover\" + 0.008*\"published\" + 0.007*\"chat\" + '\n",
            "  '0.007*\"email\" + 0.006*\"nn\"'),\n",
            " (3,\n",
            "  '0.120*\"chatgpt\" + 0.063*\"google\" + 0.043*\"search\" + 0.031*\"gpt\" + '\n",
            "  '0.030*\"openai\" + 0.019*\"new\" + 0.018*\"ai\" + 0.017*\"dalle\" + 0.015*\"chat\" + '\n",
            "  '0.013*\"midjourney\"'),\n",
            " (4,\n",
            "  '0.104*\"chatgpt\" + 0.029*\"ai\" + 0.010*\"going\" + 0.007*\"im\" + 0.007*\"get\" + '\n",
            "  '0.007*\"time\" + 0.006*\"using\" + 0.006*\"make\" + 0.006*\"world\" + '\n",
            "  '0.006*\"change\"'),\n",
            " (5,\n",
            "  '0.096*\"chatgpt\" + 0.025*\"code\" + 0.023*\"using\" + 0.014*\"cheating\" + '\n",
            "  '0.013*\"learning\" + 0.011*\"ai\" + 0.011*\"students\" + 0.008*\"student\" + '\n",
            "  '0.007*\"generate\" + 0.007*\"write\"'),\n",
            " (6,\n",
            "  '0.106*\"chatgpt\" + 0.014*\"know\" + 0.014*\"ai\" + 0.009*\"dont\" + 0.008*\"think\" '\n",
            "  '+ 0.008*\"really\" + 0.007*\"one\" + 0.007*\"wrong\" + 0.006*\"like\" + '\n",
            "  '0.006*\"answer\"'),\n",
            " (7,\n",
            "  '0.108*\"chatgpt\" + 0.084*\"ai\" + 0.047*\"chatbot\" + 0.045*\"via\" + 0.040*\"new\" '\n",
            "  '+ 0.016*\"bot\" + 0.013*\"future\" + 0.013*\"could\" + 0.012*\"openais\" + '\n",
            "  '0.010*\"professor\"'),\n",
            " (8,\n",
            "  '0.105*\"chatgpt\" + 0.016*\"twitter\" + 0.015*\"youtube\" + 0.013*\"content\" + '\n",
            "  '0.010*\"elonmusk\" + 0.010*\"chrome\" + 0.009*\"ai\" + 0.009*\"strategy\" + '\n",
            "  '0.008*\"hack\" + 0.008*\"made\"'),\n",
            " (9,\n",
            "  '0.068*\"red\" + 0.057*\"chatgpt\" + 0.039*\"chatgpts\" + 0.025*\"mean\" + '\n",
            "  '0.019*\"machine\" + 0.017*\"chatgptnn\" + 0.016*\"book\" + 0.014*\"googles\" + '\n",
            "  '0.014*\"building\" + 0.010*\"inside\"')]\n"
          ]
        },
        {
          "output_type": "execute_result",
          "data": {
            "text/plain": [
              "PreparedData(topic_coordinates=              x         y  topics  cluster       Freq\n",
              "topic                                                \n",
              "4     -0.161334  0.018690       1        1  22.783406\n",
              "6     -0.159060  0.056112       2        1  16.755771\n",
              "5     -0.132888  0.102978       3        1  12.632381\n",
              "3     -0.081110 -0.083030       4        1  10.728843\n",
              "7     -0.046098 -0.165128       5        1   8.799434\n",
              "0      0.065687  0.137407       6        1   8.244793\n",
              "8      0.071890 -0.002042       7        1   5.838069\n",
              "2      0.033398  0.096999       8        1   5.571012\n",
              "1      0.089153 -0.220817       9        1   5.267494\n",
              "9      0.320361  0.058829      10        1   3.378799, topic_info=           Term           Freq          Total Category  logprob  loglift\n",
              "29       google    6735.000000    6735.000000  Default  30.0000  30.0000\n",
              "14           ai   23401.000000   23401.000000  Default  29.0000  29.0000\n",
              "45        write    6780.000000    6780.000000  Default  28.0000  28.0000\n",
              "1       chatgpt  102914.000000  102914.000000  Default  27.0000  27.0000\n",
              "37        asked    5382.000000    5382.000000  Default  26.0000  26.0000\n",
              "..          ...            ...            ...      ...      ...      ...\n",
              "647       crazy     303.288137     637.653572  Topic10  -4.6963   2.6445\n",
              "1       chatgpt    1878.325050  102914.542925  Topic10  -2.8729  -0.6159\n",
              "235  developers     201.470051     435.107153  Topic10  -5.1054   2.6177\n",
              "316        yall     170.284139     278.893619  Topic10  -5.2736   2.8943\n",
              "676       build     206.418894    1227.560522  Topic10  -5.0811   1.6048\n",
              "\n",
              "[669 rows x 6 columns], token_table=      Topic      Freq      Term\n",
              "term                           \n",
              "4476      1  0.009686  academic\n",
              "4476      5  0.004843  academic\n",
              "4476      6  0.043585  academic\n",
              "4476      8  0.939500  academic\n",
              "1745      1  0.076164   account\n",
              "...     ...       ...       ...\n",
              "1313      8  0.058305      year\n",
              "1313      9  0.006247      year\n",
              "3529      4  0.994574      york\n",
              "3529     10  0.003282      york\n",
              "4285      7  0.999057   youtube\n",
              "\n",
              "[1858 rows x 3 columns], R=30, lambda_step=0.01, plot_opts={'xlab': 'PC1', 'ylab': 'PC2'}, topic_order=[5, 7, 6, 4, 8, 1, 9, 3, 2, 10])"
            ],
            "text/html": [
              "\n",
              "<link rel=\"stylesheet\" type=\"text/css\" href=\"https://cdn.jsdelivr.net/gh/bmabey/pyLDAvis@3.4.0/pyLDAvis/js/ldavis.v1.0.0.css\">\n",
              "\n",
              "\n",
              "<div id=\"ldavis_el49861402423839325449324954759\" style=\"background-color:white;\"></div>\n",
              "<script type=\"text/javascript\">\n",
              "\n",
              "var ldavis_el49861402423839325449324954759_data = {\"mdsDat\": {\"x\": [-0.16133358835439074, -0.15906046336555865, -0.13288750389946344, -0.08111027670610747, -0.04609773589719674, 0.06568705675142744, 0.07189041801423159, 0.03339812253688083, 0.08915273753776472, 0.32036123338241146], \"y\": [0.018690446583817404, 0.056112404603286294, 0.10297834194939365, -0.0830296203197356, -0.16512751730688854, 0.13740705169370726, -0.002041890307541362, 0.0969990365134587, -0.22081686425577607, 0.05882861084627817], \"topics\": [1, 2, 3, 4, 5, 6, 7, 8, 9, 10], \"cluster\": [1, 1, 1, 1, 1, 1, 1, 1, 1, 1], \"Freq\": [22.783405902748196, 16.755770914956003, 12.632380679927124, 10.72884260208272, 8.79943447372832, 8.244792609702504, 5.8380688786661725, 5.571011507007818, 5.267493754730957, 3.3787986764501796]}, \"tinfo\": {\"Term\": [\"google\", \"ai\", \"write\", \"chatgpt\", \"asked\", \"search\", \"chatbot\", \"via\", \"new\", \"red\", \"gpt\", \"seo\", \"code\", \"stablediffusion\", \"chatgpts\", \"dalle\", \"openai\", \"cheating\", \"bot\", \"review\", \"learning\", \"chat\", \"future\", \"midjourney\", \"mean\", \"questions\", \"content\", \"heres\", \"amp\", \"students\", \"plagiarism\", \"master\", \"changer\", \"copywriting\", \"proven\", \"experts\", \"ceo\", \"changing\", \"obsessed\", \"tools\", \"fall\", \"metaverse\", \"hear\", \"anytime\", \"flood\", \"study\", \"teams\", \"panic\", \"earn\", \"danger\", \"wild\", \"film\", \"utc\", \"introducing\", \"tipping\", \"creepy\", \"notes\", \"programmer\", \"expose\", \"expert\", \"program\", \"teacher\", \"tutorial\", \"economy\", \"market\", \"implications\", \"ago\", \"game\", \"marketing\", \"forward\", \"going\", \"ways\", \"job\", \"change\", \"release\", \"beyond\", \"video\", \"copy\", \"point\", \"world\", \"real\", \"im\", \"online\", \"attention\", \"react\", \"get\", \"chatgpt\", \"time\", \"ai\", \"take\", \"pay\", \"people\", \"next\", \"amp\", \"year\", \"make\", \"cant\", \"future\", \"writing\", \"content\", \"using\", \"see\", \"way\", \"one\", \"think\", \"defeated\", \"aiassisted\", \"terror\", \"sounds\", \"ethics\", \"unique\", \"rlhf\", \"caused\", \"deeplearning\", \"bring\", \"cloud\", \"breakthrough\", \"facebook\", \"draw\", \"counter\", \"sold\", \"maker\", \"universities\", \"law\", \"schools\", \"valley\", \"horror\", \"eyeopening\", \"south\", \"economic\", \"ass\", \"overhyped\", \"pro\", \"guest\", \"governments\", \"insane\", \"conversations\", \"traffic\", \"guide\", \"focus\", \"else\", \"solve\", \"problems\", \"doesnt\", \"seem\", \"engineers\", \"wrong\", \"startup\", \"know\", \"gets\", \"comes\", \"something\", \"everything\", \"dont\", \"really\", \"ideas\", \"thing\", \"right\", \"learned\", \"bias\", \"problem\", \"think\", \"chatgpt\", \"like\", \"human\", \"software\", \"writers\", \"needs\", \"one\", \"data\", \"answer\", \"still\", \"ask\", \"would\", \"things\", \"ai\", \"get\", \"people\", \"need\", \"work\", \"using\", \"time\", \"make\", \"grader\", \"journal\", \"cheat\", \"cheating\", \"generator\", \"artificial\", \"educators\", \"intelligence\", \"concerned\", \"exam\", \"hundreds\", \"nai\", \"process\", \"caught\", \"higher\", \"ap\", \"machines\", \"tests\", \"transformer\", \"replicate\", \"city\", \"arrival\", \"codes\", \"average\", \"include\", \"disease\", \"easier\", \"former\", \"protect\", \"immediately\", \"students\", \"learning\", \"experiment\", \"random\", \"papers\", \"education\", \"woke\", \"teachers\", \"essays\", \"homework\", \"exams\", \"code\", \"kids\", \"test\", \"student\", \"images\", \"language\", \"tried\", \"generate\", \"school\", \"using\", \"research\", \"machinelearning\", \"chatgpt\", \"question\", \"model\", \"first\", \"end\", \"text\", \"ask\", \"used\", \"writing\", \"ai\", \"answer\", \"write\", \"business\", \"many\", \"chatgptnjoin\", \"watermark\", \"chatgptn\", \"predictions\", \"businesses\", \"dalle\", \"pros\", \"search\", \"biz\", \"york\", \"buy\", \"disrupt\", \"nnwhat\", \"tiktok\", \"engine\", \"philosophy\", \"autogenerated\", \"chatsonic\", \"formula\", \"daysofcode\", \"todays\", \"tinder\", \"platforms\", \"engines\", \"censorship\", \"solving\", \"headlines\", \"push\", \"musks\", \"iot\", \"google\", \"articles\", \"bigdata\", \"midjourney\", \"datascience\", \"discord\", \"musk\", \"rival\", \"cybersecurity\", \"elon\", \"check\", \"gpt\", \"threat\", \"chat\", \"openai\", \"kill\", \"chatbots\", \"vs\", \"business\", \"googles\", \"chatgpt\", \"new\", \"bot\", \"replace\", \"ai\", \"seo\", \"could\", \"nn\", \"professor\", \"dec\", \"warns\", \"chatbot\", \"owners\", \"forbes\", \"sources\", \"stack\", \"truth\", \"revolution\", \"button\", \"overflow\", \"nytimes\", \"wave\", \"cnet\", \"worries\", \"mindblowing\", \"professors\", \"founded\", \"waves\", \"arrived\", \"garbage\", \"hunt\", \"irony\", \"meet\", \"grammarly\", \"searches\", \"leverage\", \"pushing\", \"evolution\", \"via\", \"scary\", \"redditnn\", \"stackoverflow\", \"taking\", \"dangerous\", \"everyones\", \"github\", \"openais\", \"new\", \"writer\", \"bot\", \"reddit\", \"ai\", \"replace\", \"future\", \"could\", \"chatgpt\", \"works\", \"humans\", \"say\", \"tech\", \"good\", \"news\", \"thats\", \"tool\", \"technology\", \"need\", \"know\", \"stablediffusion\", \"poem\", \"architecture\", \"report\", \"compass\", \"sales\", \"insight\", \"billion\", \"dreamlike\", \"btc\", \"customer\", \"poe\", \"defeat\", \"movies\", \"rap\", \"nthis\", \"download\", \"detector\", \"cat\", \"fantasy\", \"author\", \"shown\", \"regulation\", \"picked\", \"black\", \"desktop\", \"everyday\", \"blew\", \"trump\", \"cnn\", \"style\", \"catch\", \"official\", \"trends\", \"review\", \"song\", \"bitcoin\", \"movie\", \"crisis\", \"asked\", \"write\", \"happened\", \"nft\", \"detect\", \"heres\", \"story\", \"sample\", \"wrote\", \"short\", \"script\", \"aiart\", \"hey\", \"tweet\", \"chatgpt\", \"article\", \"crypto\", \"tell\", \"written\", \"told\", \"christmas\", \"openai\", \"ai\", \"got\", \"make\", \"youtube\", \"strategy\", \"chrome\", \"extension\", \"fintech\", \"helped\", \"cryptocurrency\", \"creator\", \"eerily\", \"tips\", \"browser\", \"buzz\", \"bro\", \"hasnt\", \"notion\", \"roll\", \"stand\", \"policy\", \"fears\", \"evidence\", \"medical\", \"brand\", \"american\", \"rails\", \"andrew\", \"comments\", \"authors\", \"meme\", \"total\", \"display\", \"launch\", \"client\", \"hack\", \"trending\", \"linkedin\", \"haiku\", \"purpose\", \"control\", \"explained\", \"javascript\", \"developer\", \"twitter\", \"elonmusk\", \"lie\", \"page\", \"personality\", \"show\", \"source\", \"thread\", \"content\", \"account\", \"chatgpt\", \"front\", \"made\", \"plan\", \"power\", \"response\", \"programming\", \"make\", \"ai\", \"openai\", \"web\", \"using\", \"nn\", \"letters\", \"published\", \"inevitable\", \"threatening\", \"society\", \"hiring\", \"biased\", \"exploring\", \"towards\", \"essential\", \"services\", \"phishing\", \"british\", \"firms\", \"virtual\", \"challenges\", \"malware\", \"allows\", \"drjdrooghaag\", \"explore\", \"spirosmargaris\", \"session\", \"worlds\", \"demo\", \"jimharris\", \"resume\", \"atlantic\", \"spanish\", \"computers\", \"jolaburnett\", \"management\", \"beat\", \"requests\", \"cover\", \"emails\", \"theory\", \"series\", \"leading\", \"family\", \"email\", \"academic\", \"capabilities\", \"thoughts\", \"perspective\", \"month\", \"feedback\", \"questions\", \"christmas\", \"company\", \"conversational\", \"chatgpt\", \"available\", \"asking\", \"go\", \"ukraine\", \"gpt\", \"chat\", \"heard\", \"whats\", \"nn\", \"version\", \"answer\", \"openai\", \"using\", \"model\", \"covid\", \"managers\", \"seos\", \"blowing\", \"washington\", \"social\", \"media\", \"tactics\", \"generative\", \"publicly\", \"mind\", \"propaganda\", \"technologies\", \"alternative\", \"floor\", \"technews\", \"min\", \"owns\", \"emerging\", \"site\", \"overview\", \"offers\", \"woman\", \"rtechnology\", \"hitting\", \"disruption\", \"pretrained\", \"bet\", \"government\", \"linux\", \"games\", \"martinibuster\", \"nchatgpt\", \"revolutionary\", \"sejournal\", \"lack\", \"blue\", \"million\", \"blown\", \"terrible\", \"seo\", \"users\", \"blog\", \"call\", \"summary\", \"art\", \"coding\", \"post\", \"music\", \"ml\", \"ai\", \"interview\", \"amp\", \"app\", \"chatgpt\", \"rt\", \"nn\", \"top\", \"open\", \"tech\", \"industry\", \"chatgptnn\", \"inside\", \"reinforcement\", \"revolutionize\", \"revenue\", \"lives\", \"building\", \"raise\", \"bills\", \"ux\", \"statistics\", \"designs\", \"cards\", \"css\", \"instagram\", \"child\", \"share\", \"price\", \"chatgpts\", \"controversial\", \"determine\", \"lying\", \"machine\", \"attempt\", \"bullish\", \"gotten\", \"weighs\", \"saving\", \"sad\", \"names\", \"red\", \"newsletter\", \"automate\", \"magic\", \"lies\", \"santa\", \"mean\", \"book\", \"step\", \"useless\", \"programmed\", \"oh\", \"googles\", \"crazy\", \"chatgpt\", \"developers\", \"yall\", \"build\"], \"Freq\": [6735.0, 23401.0, 6780.0, 102914.0, 5382.0, 4573.0, 4074.0, 3987.0, 6169.0, 2338.0, 4119.0, 2427.0, 4087.0, 1970.0, 1301.0, 1848.0, 6475.0, 1795.0, 2365.0, 1518.0, 1680.0, 2450.0, 2464.0, 1435.0, 900.0, 1825.0, 2111.0, 1690.0, 3021.0, 1376.0, 829.4783692904379, 529.8229753704376, 502.7618827418477, 482.74384739600634, 360.8851858647602, 461.60893782288696, 318.14800294697227, 409.5920803053576, 281.68729118820823, 1173.2735590542256, 236.97979962928056, 216.10847331269923, 214.24488635421451, 202.6930205432618, 197.6559240375743, 194.59917719155595, 184.48993189731476, 176.87847472410073, 173.41994369378548, 221.75516396539032, 441.43488852160993, 159.84247843836238, 183.798353486033, 154.2553427618059, 153.79555539514706, 196.81237415883623, 147.00962642845346, 150.27237063772967, 130.69430142716445, 258.2673587646141, 315.1951350017397, 223.18849980003313, 198.046989108584, 183.18397355487318, 277.4556147714148, 245.21445196550616, 286.67671241630694, 1087.9247972322537, 821.1505310861461, 216.4182582947562, 2179.9870157099626, 889.6078481683513, 988.8563006585528, 1326.2493370080101, 526.5047447535737, 440.5216513662212, 1090.5893966637066, 334.21986584963344, 552.658390112784, 1344.2285500616035, 925.8063198198092, 1677.4856256773915, 518.1617798200689, 426.8776806633957, 407.41031042204594, 1623.873263355828, 23395.053648540834, 1477.3405331463848, 6426.402082870484, 883.7310617079319, 483.0354281418724, 1214.8359688846442, 896.7560101385632, 1321.8486063519765, 993.5536195294333, 1391.457849944326, 880.2865489827063, 1082.0976681725613, 955.8935928691799, 972.5981964225974, 1415.1687371801636, 836.0587573038067, 756.562996464595, 884.4478600280913, 787.7817488591047, 754.6923148454312, 505.9798832603178, 390.49386362488093, 354.8040101593393, 308.4645929270031, 284.77885830552185, 266.1690656997654, 252.00733727659212, 247.57053212220669, 325.5631439114605, 204.05720769002045, 192.66989945717643, 186.0450258875996, 206.91270439175, 167.6625237147965, 169.53792872512943, 162.30756111441582, 161.92408283373769, 530.6144451507726, 159.9820730952671, 153.73834736015715, 162.31007377658602, 166.62162943500647, 132.35431678003036, 125.94820785459272, 154.36088338860864, 123.564218922321, 120.93430557771923, 120.2194531902969, 120.10334326321816, 716.4973180155715, 287.3793293872896, 400.31806582033255, 211.75168893838568, 193.36379700932434, 555.108374682205, 466.84860329170846, 642.569234586341, 858.0714458359838, 235.66749518377202, 270.42749102069376, 1133.0373226129973, 530.0004732723897, 2317.763213328654, 452.96125374139575, 345.5220442963426, 828.7872313705122, 903.7346884157544, 1504.6049708243215, 1272.0385610936323, 685.3243488231985, 875.1566279232457, 899.6103164987003, 389.5058695150559, 397.05333125552346, 692.1741344279493, 1379.9531432045349, 17530.211921466347, 1054.850411069666, 949.8948626864072, 564.1757860487447, 458.19817876165865, 495.17865827383014, 1140.3363952305328, 760.2866900351894, 956.5748613787105, 759.7275363894969, 930.7835925811094, 956.1651631805768, 700.9209607905749, 2252.592812497074, 949.6587875261717, 821.0245246310064, 789.198186551872, 698.7618359419089, 854.5475809969806, 735.567695023565, 715.7758962633148, 446.2902231373818, 363.3653321885282, 651.7407177484362, 1789.8743245547114, 288.8869694663709, 281.1786502516293, 259.7886356208482, 258.0700619042025, 274.0654966884848, 239.61046953145495, 199.6618803401334, 185.36024841965687, 236.93408950499864, 331.7122601227895, 163.7107110241833, 149.96135488401185, 146.69656226391308, 175.30264590422615, 131.73291375624171, 112.32939716284085, 111.36812756099575, 108.20818809556266, 107.52087284692972, 111.94374983395114, 142.92542044180442, 94.3412246313123, 115.34055244562943, 92.86531995549159, 92.46786562056347, 111.18034338412515, 1353.7571566409179, 1625.2758973104521, 117.67438469187637, 285.04385768828774, 222.53855103557729, 771.2349069539845, 370.3244234830466, 834.5544704383141, 767.7441977933614, 356.1039005605731, 181.53427234537716, 3139.832647497754, 289.87236642838144, 655.8326370536436, 1036.1429389248085, 308.89178296741323, 815.7124265092849, 677.19144590484, 894.4374070676955, 426.14910487342695, 2844.4949025681717, 508.3161205173531, 529.1568960748323, 11963.46504973227, 673.8195442905875, 562.9914227675531, 791.429182051004, 543.6719506555917, 528.334555818381, 734.1284875309814, 673.7472995849317, 669.0703659058235, 1389.2730935407699, 641.3986191683396, 864.2949376704157, 598.3098291071053, 538.4804542050555, 930.5733612412004, 902.1257815497544, 588.4054832416925, 400.8550795666014, 337.4568190097061, 1841.6743616998815, 327.75436360602697, 4551.478734948729, 188.61679367750386, 302.91506282979196, 175.34372670635932, 182.3395983380071, 189.50138069697636, 151.48273304436253, 843.0069836558025, 146.7343751516905, 134.25274005406146, 129.80440682329893, 270.3816259758465, 119.90362982477286, 114.69584573566583, 114.28893521544865, 111.84872480672135, 426.8026625275641, 99.25444996998294, 100.02922813513752, 95.8882823230414, 92.04319160501663, 153.91147253597396, 84.18538003222785, 6631.899284183442, 637.589779149538, 257.6187691864411, 1391.7216198970998, 351.0599757445799, 223.77531429707716, 413.1207322783636, 165.49627596277662, 183.6448265900475, 593.8598429228073, 714.317540150969, 3232.251346184563, 729.4319840751101, 1626.85498436326, 3172.79534754079, 566.7338995618459, 597.0214929602499, 570.3795879133897, 938.4719350986867, 664.7402855021822, 12670.572057621626, 1968.219750786707, 764.8015622007179, 607.4502023390144, 1906.337518076474, 516.145730427362, 541.6464880066229, 523.3487786123583, 890.5727414294377, 534.9019799150444, 462.0666410408916, 4061.419476411123, 266.1013464878152, 223.1857100407521, 197.95176489863658, 207.13004156427363, 163.14560328689586, 721.8318915113327, 147.20531951610366, 150.2632509291938, 158.72631365833593, 133.61072471803743, 132.77796040918474, 123.45261986724742, 329.1663657926716, 118.26840669742948, 128.43162856528528, 118.34675346659822, 111.95955778864398, 111.84623802094684, 111.13712824260524, 111.30232328173707, 222.89933839669612, 108.78518401870241, 112.08028111449732, 107.80346213432036, 113.68089009639756, 105.19066084161283, 3881.6408580588513, 604.6025616100425, 126.96694286741216, 291.62412105383714, 501.5126780227745, 398.3641703423511, 209.80793373154637, 371.71829111333403, 1071.4447897748703, 3435.5533316958163, 281.929267413393, 1408.2333956932396, 213.6079232749903, 7257.648872361616, 807.3184708542949, 1150.2520904795304, 1113.6015967659605, 9310.54196741715, 487.7789668414491, 372.53749734153604, 513.6452060687099, 555.4844356699373, 344.7036643237964, 385.18096155606435, 328.456792662391, 383.697107189931, 374.62636846562145, 388.7345485966276, 326.19787137668226, 1969.414862131043, 1073.666016816164, 446.62094832847106, 478.3461219744145, 241.20511037937723, 250.78416777017424, 214.11941130453428, 204.40048334816103, 350.87669592764314, 161.10131297753978, 170.8836073966174, 150.55329799663136, 155.21943480442232, 148.3308755155114, 272.0205779474014, 201.27765117961388, 124.75983495202688, 121.6027996168368, 141.6986417792648, 119.01174929831623, 131.2850894129154, 118.62901171087942, 118.55396105383069, 126.25572328078115, 143.57807936000646, 109.2928874076622, 108.29461551413111, 105.97257536636761, 166.35957795089675, 99.89011223169874, 597.4731842666721, 182.2880039820641, 183.47286434262912, 434.12335284891526, 1455.3063847879525, 485.0771994645936, 440.8465024527864, 432.0887929594144, 222.36282748755673, 4646.018625977472, 5165.807698123096, 257.1001826602918, 345.75078890378967, 310.1688495763793, 1273.1650844544254, 945.6832790068717, 276.4334282256128, 816.5237408547608, 437.8968757241485, 384.88347750117947, 459.6924472730444, 412.66822738918717, 453.682127903778, 11947.092114772173, 602.0197893124506, 518.7185432311722, 513.463487164178, 486.4287153209039, 339.39360563263, 376.4622124019817, 570.9280915343533, 734.3464425409146, 408.0565381720041, 416.70597538951307, 839.794792384551, 488.4717455167984, 579.7876607974017, 378.8842159821149, 310.2696086229467, 225.121807002429, 205.64841289207496, 181.3469416546591, 155.4565210757204, 186.96499583340596, 157.22260844285876, 166.45442269568147, 130.13265347571416, 127.19491294887919, 128.744740355672, 119.53181209320583, 121.01058647470835, 155.34165469134402, 111.17124613365534, 109.33098480792998, 106.21386747035227, 101.55117307625306, 100.0395654071987, 99.9180628627289, 99.09175734551737, 184.70922267101543, 95.89582140558134, 95.41962178461773, 95.4790197613653, 93.88347435739313, 304.4452386995834, 144.00031674993187, 464.4082404310508, 432.2063838462425, 259.85307643863615, 173.18363605510615, 123.9352284378141, 184.45164877139743, 227.55447760457065, 393.8673957143326, 286.0990695592975, 892.3599167286557, 591.0157496260816, 212.71454002284887, 389.98252210282476, 197.27984745253272, 383.17420945753327, 375.83684849639525, 399.0853556005588, 758.1541713001737, 185.73084381248714, 6045.118681303558, 222.9168375550739, 441.21605715092284, 249.45276337411696, 250.58271498398176, 270.7858862163918, 266.18318458076055, 357.8889826205282, 504.94118452407815, 353.45078825263073, 278.07678737393525, 292.0823865437504, 260.9114403879564, 584.6055040374193, 446.17113128317976, 342.0056236342014, 247.3166367457931, 247.24263530641412, 254.08193965583047, 188.60762925154742, 204.9672532141411, 172.68877428965334, 166.15826843193028, 158.80895106003075, 149.0708488585397, 142.3367944018768, 138.30379248254675, 137.6792060491809, 137.46848943767102, 133.88455967950864, 130.12788336930404, 127.45413815387917, 126.3204952833375, 125.58241956910395, 134.6100722400386, 124.52985686921586, 135.9368050434928, 110.63475378361673, 106.53942076565777, 102.88493327522296, 97.87071716546471, 100.27922040685903, 97.08147051452168, 343.2104364516122, 188.6153457063603, 178.08753769297869, 479.740388158035, 319.19147219623227, 149.65279709613793, 179.25446973221722, 138.80218618216296, 170.50112746402712, 385.38832336935695, 194.23807761632042, 259.2610965815227, 323.9260592889369, 180.96211480507048, 210.6855033556609, 256.905983554751, 838.5473740953078, 503.78644290931993, 279.0338934476759, 192.87394870458303, 4614.676497003509, 220.46990428602916, 351.1200449697509, 345.41254684708605, 197.04857626728847, 486.98166240808354, 395.8648711647337, 220.71305551669462, 255.89271737929013, 352.6369086689001, 234.23215680413927, 260.3812452219949, 266.04338844661913, 258.65293790650225, 222.65903063026414, 323.82765839761737, 259.87311461414043, 250.6653308997169, 253.81888864741614, 237.17190781552617, 533.9568600401451, 536.3402684754841, 214.8079111743172, 924.576562326235, 205.41788298887198, 654.5778088699936, 159.1941271346375, 225.19818558233268, 143.7312650405155, 128.05867467776335, 113.4108356173271, 111.46295914803811, 107.6793483042213, 107.24034317726242, 125.44983639218552, 103.17534600189788, 89.86235242096227, 88.82120008102136, 88.2226647141928, 106.41029389881136, 96.45961553749275, 85.93726453824982, 112.52311739628567, 85.27550075945946, 85.12684223680961, 123.52231650488996, 661.8405259987801, 789.4937573787835, 249.82588720339092, 854.0507498649047, 148.08147143634474, 110.65285642563985, 247.3057954147856, 265.44331701754237, 169.87805247366, 1627.979150723996, 370.8269783185456, 651.9663777733207, 216.43771604995896, 220.08996181815112, 523.5987364897093, 455.6390593181992, 717.7025083879898, 210.43098073482835, 304.5305593155977, 2797.7158185985486, 315.69923179313184, 815.0121318195729, 478.397717986847, 3559.4859373128193, 277.1291286828976, 496.71926887942584, 309.1744889999529, 282.85229488132603, 279.7606028123153, 265.4693657243586, 568.1465379782647, 319.45619131621896, 269.1088026875246, 250.11678045607323, 239.19193752855355, 196.05391857099647, 456.4099254685143, 163.16419210914972, 167.4602796155978, 231.87895801881973, 127.9437238824339, 122.33804019597673, 129.4482943779444, 139.92410461091035, 111.36155479552362, 154.89061309539025, 100.959270881496, 242.15927565502506, 1289.316561476733, 101.70961837618506, 97.02979387830356, 154.1180181842607, 635.2902309448795, 168.90957966936034, 85.41827469556684, 87.60574650219739, 81.32002365485764, 76.60908681034067, 191.97575673073786, 90.40073677112588, 2248.840639625046, 227.56473840384018, 237.1762102072538, 292.944325732735, 138.9639382971909, 148.5185848150789, 842.8048488521802, 538.1599291799935, 318.725956228604, 242.36273585920353, 150.4082073440238, 210.36940390956883, 459.0480234911821, 303.2881366909652, 1878.3250495275438, 201.47005055632104, 170.28413892421887, 206.41889396990155], \"Total\": [6735.0, 23401.0, 6780.0, 102914.0, 5382.0, 4573.0, 4074.0, 3987.0, 6169.0, 2338.0, 4119.0, 2427.0, 4087.0, 1970.0, 1301.0, 1848.0, 6475.0, 1795.0, 2365.0, 1518.0, 1680.0, 2450.0, 2464.0, 1435.0, 900.0, 1825.0, 2111.0, 1690.0, 3021.0, 1376.0, 830.4559712322913, 530.8013599524878, 503.74606720112945, 483.72113628507566, 361.8631729593431, 462.94063262441864, 319.1252873565753, 410.9359564467664, 282.6692076098091, 1177.6647889275855, 237.9718874481135, 217.08666757970013, 215.26570648433972, 203.67588271613783, 198.63590971145422, 195.57725357991166, 185.4673500021292, 177.85580433277852, 174.40222929775265, 223.0123591886075, 444.112277898375, 160.8492909521661, 184.95755667911004, 155.2325924910855, 154.7732406540144, 198.13914826718775, 148.01603979777272, 151.3271286468855, 131.6837524538862, 260.2233043712966, 317.87041116166193, 224.94364036461275, 199.69522010695684, 184.62372752782989, 280.8837496742251, 248.64186860431067, 292.24179260117756, 1166.0304062303703, 877.603272624189, 219.26258246558365, 2505.422803760896, 1006.7461048680489, 1134.372230749164, 1566.6264241180077, 577.2044762411315, 476.9172054478855, 1345.1601192114153, 360.87562970276144, 661.7324052408796, 1950.3952546750604, 1249.1208943063154, 2579.654629521368, 625.3375043520031, 495.1557250416333, 468.1423382043034, 2910.538269920639, 102914.54292469783, 2677.9523730459573, 23401.195806148844, 1413.5760526574375, 603.2644373184562, 2567.5564012838413, 1588.8358305820714, 3021.3497651754274, 1920.9288310403997, 3530.081704488541, 1588.8784095454423, 2464.4017763962224, 1942.797378135591, 2111.044589988368, 6346.2955652287155, 1977.9154154383045, 1612.510583173341, 2704.280141013221, 2707.276808003355, 755.7450268024722, 506.9460088003104, 391.4637701027687, 355.8829010716586, 309.4627513175929, 285.7437562456106, 267.13465342350315, 252.97269572046287, 248.53558071389097, 326.9130557384581, 205.0231222356892, 193.63611645884475, 187.04877424076852, 208.08259347384816, 168.62809685865167, 170.53445538798553, 163.27450751311017, 162.89511555747583, 533.8031226625739, 160.95268934308328, 154.70765408601068, 163.45287639245535, 167.80552849729597, 133.32105165858053, 126.91326033735169, 155.56290917470994, 124.5311698026512, 121.89923864402338, 121.18465332968883, 121.06822129676802, 729.677231046399, 290.84545517338086, 408.2832682796672, 215.46250611172252, 196.48665522122997, 583.2847479466151, 491.75060133713833, 702.0199554524419, 958.9561813932329, 242.9518095172502, 282.32917588560844, 1390.3850805802817, 602.1150613087211, 3247.6282170265918, 523.0293707384985, 386.9123661543701, 1105.619791411697, 1253.4825389688028, 2350.0871445336484, 1935.7322509938663, 909.1639454910006, 1241.676803587497, 1332.9026088034916, 453.84127292397375, 467.8145630262083, 1001.9785850007469, 2707.276808003355, 102914.54292469783, 1894.9975395114084, 1775.656970023433, 798.5741474105891, 588.8177753327687, 669.0462822892803, 2704.280141013221, 1461.7696653599317, 2259.904936951523, 1482.515643009837, 2245.6376289089067, 2419.5780375783256, 1307.3188278165107, 23401.195806148844, 2910.538269920639, 2567.5564012838413, 2429.2230568293094, 1739.5515381025348, 6346.2955652287155, 2677.9523730459573, 3530.081704488541, 447.2769976457163, 364.3488646235761, 653.7825378700466, 1795.7113495806964, 289.8871776355196, 282.1620401940981, 260.7721907081857, 259.078596806605, 275.2064910583994, 240.65042763128454, 200.6900693843276, 186.3633671151577, 238.26882643986684, 333.677611705882, 164.78102686106922, 150.9454972726944, 147.69281657266242, 176.60350489486913, 132.71648225350148, 113.31343376545655, 112.36153310122289, 109.19179967525785, 108.50875239620828, 112.99010127052209, 144.3299488489636, 95.32523448887261, 116.54801650545417, 93.8488946658624, 93.45211618315854, 112.36804840099381, 1376.3712304468377, 1680.7545160586878, 119.03971652282272, 292.5896446060867, 227.29229031468145, 808.5535765017074, 388.85932542322377, 908.4600160165488, 844.9331187785876, 385.228792910269, 189.35079789098523, 4087.2686232697656, 314.3200979761221, 780.5164851277443, 1305.0844989873897, 339.06566828837094, 1086.1112370707858, 889.6762852970257, 1283.7721243227043, 533.8075502435742, 6346.2955652287155, 717.1581413290806, 774.3536227478596, 102914.54292469783, 1256.7985776014714, 1003.7963895672957, 1895.1395141724827, 1104.7806985280845, 1047.2554823320854, 2245.6376289089067, 1958.5716549235694, 1942.797378135591, 23401.195806148844, 2259.904936951523, 6780.294478720625, 1984.885357579512, 1386.1360483569044, 931.57764337922, 903.2668682636173, 589.6719956374959, 401.85534875599615, 338.4891799432704, 1848.4843084977092, 329.17693475952615, 4573.032579854773, 189.63501978411986, 304.6528957121711, 176.35468336670877, 183.42822740197587, 190.64139380149092, 152.482760776318, 848.8429751103772, 147.8201894137676, 135.25463659955858, 130.83326278693835, 272.6376484427024, 120.90961497341243, 115.695865693748, 115.28918169561229, 112.84899550533348, 431.06297292231494, 100.25458709611696, 101.05156789256873, 96.88858112434268, 93.04346933221699, 155.7324592699838, 85.1854887292752, 6735.505402781894, 649.3895039280337, 260.79028387575875, 1435.7728141351888, 357.9755541194815, 227.3070355633436, 425.09280635115755, 167.63079235142456, 187.75410066822351, 638.6311397569461, 777.946285745392, 4119.497565533704, 856.7517320377331, 2450.9084999353904, 6475.667529842547, 773.1452837902932, 866.4255859763641, 847.1000541083547, 1984.885357579512, 1218.9781737485098, 102914.54292469783, 6169.956534910981, 2365.972891949258, 1526.1091463975652, 23401.195806148844, 2427.656279786228, 3180.627123061001, 3035.9842409657535, 891.551197288844, 535.8799955305243, 463.0454955010093, 4074.0623268485538, 267.08245598329563, 224.1637289349118, 198.93009765457688, 208.223596332082, 164.12364970858275, 726.3283337781721, 148.193273108051, 151.3027698515826, 159.8819562136549, 134.5925919459119, 133.75604272557482, 124.43073350827017, 331.7819062901209, 119.24635923399025, 129.5263623211154, 119.35651325029684, 112.9377898540807, 112.82429724125895, 112.11514527655824, 112.28828477400646, 224.90243089110362, 109.7632478686406, 113.0911876018065, 108.7829713718505, 114.72538222740695, 106.1751249629223, 3987.4133784863457, 618.291156764713, 128.26731438560518, 302.29520556368533, 536.7444718718223, 432.4169633694625, 219.92757229274258, 424.86885896343426, 1534.279410232024, 6169.956534910981, 330.7239034669224, 2365.972891949258, 248.51539213113975, 23401.195806148844, 1526.1091463975652, 2464.4017763962224, 3180.627123061001, 102914.54292469783, 1132.9493749497406, 751.4339232839123, 1496.5960929546334, 1896.3941813656525, 789.2593075216929, 1139.743506482598, 796.1269990931053, 1400.0046269788616, 1396.8152381619288, 2429.2230568293094, 3247.6282170265918, 1970.9626431267905, 1074.7328615516594, 447.6407767062877, 479.44480372961425, 242.1912782318313, 251.8713004370418, 215.087013503913, 205.36720158371224, 352.57233122676837, 162.07379870460755, 171.94642934221034, 151.5202633494229, 156.22487815300363, 149.29750622631758, 273.8394115047815, 202.79870579777673, 125.74794470106029, 122.5695037028441, 142.83693666557548, 119.97835009051529, 132.35305686848366, 119.59577742515819, 119.52139480462338, 127.34720269396307, 144.82762651150122, 110.25949232513304, 109.26129250226982, 106.9392130116501, 167.93341447543014, 100.85711366220502, 606.5436486657029, 184.31890949204617, 185.6529974281193, 443.53900133235686, 1518.4573355837113, 496.7824620855686, 453.08990230644395, 444.11489125782265, 227.76729683047225, 5382.5875447345115, 6780.294478720625, 271.356898793461, 374.87177716073165, 339.7132585073437, 1690.8440674850888, 1216.6672672997456, 301.11775313278036, 1054.63494716081, 537.7974429980768, 462.5098958523772, 580.5583500373784, 518.9678417818174, 590.3348332788141, 102914.54292469783, 1152.176709710655, 985.7157127475866, 1100.3019277477592, 1505.5908888695299, 580.9204958436724, 883.6223338701164, 6475.667529842547, 23401.195806148844, 1635.4673000818536, 3530.081704488541, 840.7927421228663, 489.4754796454597, 581.0679453476271, 379.97287221771, 311.24047833479403, 226.09253908734811, 206.64697139566903, 182.32544625844133, 156.43254970960885, 188.19571143727484, 158.28715611700488, 167.66106803419302, 131.12310830507198, 128.1717893149681, 129.78411584266428, 120.50265065668538, 121.99537854460358, 156.64550870509743, 112.14224060980378, 110.30180212763456, 107.22081861628843, 102.52419811992988, 101.01049535723321, 100.88935694698401, 100.06293059431287, 186.53125189797834, 96.86657853256516, 96.394833694026, 96.45803616774091, 94.85774154233084, 309.1596026459082, 145.57846051842435, 480.66645650770073, 446.9931498678498, 266.64414324703773, 177.43847609320107, 126.04722875698583, 190.76004596823066, 245.4647584186319, 488.7099282596588, 337.61720032593905, 1325.6772109466483, 840.3384437401064, 243.27297193123385, 520.3921017120929, 223.47871396026275, 541.1497317339823, 533.6674131665765, 724.5214585611981, 2111.044589988368, 210.07372050303005, 102914.54292469783, 294.8931372882517, 1369.135160972014, 403.483660693889, 468.8816538576336, 775.7131068218545, 762.8176203175267, 3530.081704488541, 23401.195806148844, 6475.667529842547, 1475.7489057210062, 6346.2955652287155, 3035.9842409657535, 585.7935873597929, 447.1623510033669, 342.97945133136056, 248.29043453058202, 248.2269365852316, 255.0955648190765, 189.59866736903098, 206.0557800210116, 173.6624476342723, 167.13181964975098, 159.78459811179613, 150.04417292335296, 143.3102529044609, 139.27897893053535, 138.65253685234322, 138.44483541071028, 134.85788872815783, 131.10899181982862, 128.43600529012824, 127.29431491052426, 126.55579821021072, 135.6608122532866, 125.50562694277359, 137.02238818625287, 111.63231289445383, 107.51282381670235, 103.86301767131589, 98.84404284344276, 101.278207064439, 98.07275664502289, 349.5537883929513, 191.116687283163, 180.51344375058767, 491.47427425878374, 328.1972510247169, 151.69148844476814, 182.37698044112196, 140.4985264815621, 174.84804550748223, 434.49166625209665, 206.49289555128698, 302.8123235920548, 433.27599134525093, 203.16372495995944, 250.99793678752232, 333.32681492141313, 1825.455320768276, 883.6223338701164, 421.53436393937955, 238.9620331706623, 102914.54292469783, 314.6823147550587, 1078.2025335261867, 1049.059253117908, 260.6782831566633, 4119.497565533704, 2450.9084999353904, 418.92789392270953, 761.7959742881309, 3035.9842409657535, 682.3273620327973, 2259.904936951523, 6475.667529842547, 6346.2955652287155, 1003.7963895672957, 324.90737888645356, 260.8576944218461, 251.6484157276314, 254.86453752156126, 238.1745009604303, 536.2189266236863, 538.6133583648233, 215.7916652623233, 928.8726146509597, 206.4027435004301, 658.3323518622602, 160.27972089509905, 226.81084211349662, 144.8137805968287, 129.0424617855471, 114.39393498119848, 112.44588883705288, 108.66224242634766, 108.22325093112515, 126.63466136687123, 104.15820038938395, 90.84534661546462, 89.81040355114368, 89.20561896953177, 107.61160095294495, 97.55892694673658, 86.92139320678714, 113.812617395416, 86.25835763435853, 86.12436988865089, 124.9940574880957, 688.6509373503825, 825.6804493496973, 258.85867885967576, 924.7557254162544, 152.6868671557979, 113.11490975814031, 272.361896660394, 294.4492917231027, 181.23904931923724, 2427.656279786228, 444.7284005173488, 895.0676780138408, 247.3924223659946, 254.7766833831605, 738.3615224030164, 720.6563537683052, 1341.194370104048, 259.5817280770322, 455.09900724290617, 23401.195806148844, 538.0797693626853, 3021.3497651754274, 1191.9887246975309, 102914.54292469783, 463.03724434301307, 3035.9842409657535, 842.0705268121831, 1074.5361886401056, 1896.3941813656525, 906.1302548887513, 569.3614937063924, 320.5659074714985, 270.074735322302, 251.08266530592962, 240.15774576527105, 197.02421990047435, 458.8055877565037, 164.1303849667032, 168.45627124538308, 233.3392168013079, 128.9096690680294, 123.30421020571637, 130.4775582075689, 141.06156307015567, 112.3273534497403, 156.34383564093417, 101.92600271954298, 244.48933576162116, 1301.7491611388953, 102.70930173202402, 97.9958191684194, 155.74363081437727, 642.0548801633537, 170.77786398828698, 86.39033503619876, 88.63251774486119, 82.28571704003187, 77.5780181823034, 194.44393550561287, 91.59382258771384, 2338.384028567788, 231.28798769914354, 241.22936388594243, 299.24831004371345, 141.22098718757383, 151.06341310344493, 900.9651516650667, 577.4790854170537, 335.4347673772616, 254.10885089268228, 163.10464125139242, 285.28414463619276, 1218.9781737485098, 637.6535718234004, 102914.54292469783, 435.1071532798677, 278.89361890270754, 1227.5605215476828], \"Category\": [\"Default\", \"Default\", \"Default\", \"Default\", \"Default\", \"Default\", \"Default\", \"Default\", \"Default\", \"Default\", \"Default\", \"Default\", \"Default\", \"Default\", \"Default\", \"Default\", \"Default\", \"Default\", \"Default\", \"Default\", \"Default\", \"Default\", \"Default\", \"Default\", \"Default\", \"Default\", \"Default\", \"Default\", \"Default\", \"Default\", \"Topic1\", \"Topic1\", \"Topic1\", \"Topic1\", \"Topic1\", \"Topic1\", \"Topic1\", \"Topic1\", \"Topic1\", \"Topic1\", \"Topic1\", \"Topic1\", \"Topic1\", \"Topic1\", \"Topic1\", \"Topic1\", \"Topic1\", \"Topic1\", \"Topic1\", \"Topic1\", \"Topic1\", \"Topic1\", \"Topic1\", \"Topic1\", \"Topic1\", \"Topic1\", \"Topic1\", \"Topic1\", \"Topic1\", \"Topic1\", \"Topic1\", \"Topic1\", \"Topic1\", \"Topic1\", \"Topic1\", \"Topic1\", \"Topic1\", \"Topic1\", \"Topic1\", \"Topic1\", \"Topic1\", \"Topic1\", \"Topic1\", \"Topic1\", \"Topic1\", \"Topic1\", \"Topic1\", \"Topic1\", \"Topic1\", \"Topic1\", \"Topic1\", \"Topic1\", \"Topic1\", \"Topic1\", \"Topic1\", \"Topic1\", \"Topic1\", \"Topic1\", \"Topic1\", \"Topic1\", \"Topic1\", \"Topic1\", \"Topic1\", \"Topic1\", \"Topic1\", \"Topic1\", \"Topic1\", \"Topic1\", \"Topic1\", \"Topic1\", \"Topic1\", \"Topic1\", \"Topic1\", \"Topic1\", \"Topic1\", \"Topic2\", \"Topic2\", \"Topic2\", \"Topic2\", \"Topic2\", \"Topic2\", \"Topic2\", \"Topic2\", \"Topic2\", \"Topic2\", \"Topic2\", \"Topic2\", \"Topic2\", \"Topic2\", \"Topic2\", \"Topic2\", \"Topic2\", \"Topic2\", \"Topic2\", \"Topic2\", \"Topic2\", \"Topic2\", \"Topic2\", \"Topic2\", \"Topic2\", \"Topic2\", \"Topic2\", \"Topic2\", \"Topic2\", \"Topic2\", \"Topic2\", \"Topic2\", \"Topic2\", \"Topic2\", \"Topic2\", \"Topic2\", \"Topic2\", \"Topic2\", \"Topic2\", \"Topic2\", \"Topic2\", \"Topic2\", \"Topic2\", \"Topic2\", \"Topic2\", \"Topic2\", \"Topic2\", \"Topic2\", \"Topic2\", \"Topic2\", \"Topic2\", \"Topic2\", \"Topic2\", \"Topic2\", \"Topic2\", \"Topic2\", \"Topic2\", \"Topic2\", \"Topic2\", \"Topic2\", \"Topic2\", \"Topic2\", \"Topic2\", \"Topic2\", \"Topic2\", \"Topic2\", \"Topic2\", \"Topic2\", \"Topic2\", \"Topic2\", \"Topic2\", \"Topic2\", \"Topic2\", \"Topic2\", \"Topic2\", \"Topic2\", \"Topic2\", \"Topic2\", \"Topic3\", \"Topic3\", \"Topic3\", \"Topic3\", \"Topic3\", \"Topic3\", \"Topic3\", \"Topic3\", \"Topic3\", \"Topic3\", \"Topic3\", \"Topic3\", \"Topic3\", \"Topic3\", \"Topic3\", \"Topic3\", \"Topic3\", \"Topic3\", \"Topic3\", \"Topic3\", \"Topic3\", \"Topic3\", \"Topic3\", \"Topic3\", \"Topic3\", \"Topic3\", \"Topic3\", \"Topic3\", \"Topic3\", \"Topic3\", \"Topic3\", \"Topic3\", \"Topic3\", \"Topic3\", \"Topic3\", \"Topic3\", \"Topic3\", \"Topic3\", \"Topic3\", \"Topic3\", \"Topic3\", \"Topic3\", \"Topic3\", \"Topic3\", \"Topic3\", \"Topic3\", \"Topic3\", \"Topic3\", \"Topic3\", \"Topic3\", \"Topic3\", \"Topic3\", \"Topic3\", \"Topic3\", \"Topic3\", \"Topic3\", \"Topic3\", \"Topic3\", \"Topic3\", \"Topic3\", \"Topic3\", \"Topic3\", \"Topic3\", \"Topic3\", \"Topic3\", \"Topic3\", \"Topic3\", \"Topic4\", \"Topic4\", \"Topic4\", \"Topic4\", \"Topic4\", \"Topic4\", \"Topic4\", \"Topic4\", \"Topic4\", \"Topic4\", \"Topic4\", \"Topic4\", \"Topic4\", \"Topic4\", \"Topic4\", \"Topic4\", \"Topic4\", \"Topic4\", \"Topic4\", \"Topic4\", \"Topic4\", \"Topic4\", \"Topic4\", \"Topic4\", \"Topic4\", \"Topic4\", \"Topic4\", \"Topic4\", \"Topic4\", \"Topic4\", \"Topic4\", \"Topic4\", \"Topic4\", \"Topic4\", \"Topic4\", \"Topic4\", \"Topic4\", \"Topic4\", \"Topic4\", \"Topic4\", \"Topic4\", \"Topic4\", \"Topic4\", \"Topic4\", \"Topic4\", \"Topic4\", \"Topic4\", \"Topic4\", \"Topic4\", \"Topic4\", \"Topic4\", \"Topic4\", \"Topic4\", \"Topic4\", \"Topic4\", \"Topic4\", \"Topic4\", \"Topic4\", \"Topic5\", \"Topic5\", \"Topic5\", \"Topic5\", \"Topic5\", \"Topic5\", \"Topic5\", \"Topic5\", \"Topic5\", \"Topic5\", \"Topic5\", \"Topic5\", \"Topic5\", \"Topic5\", \"Topic5\", \"Topic5\", \"Topic5\", \"Topic5\", \"Topic5\", \"Topic5\", \"Topic5\", \"Topic5\", \"Topic5\", \"Topic5\", \"Topic5\", \"Topic5\", \"Topic5\", \"Topic5\", \"Topic5\", \"Topic5\", \"Topic5\", \"Topic5\", \"Topic5\", \"Topic5\", \"Topic5\", \"Topic5\", \"Topic5\", \"Topic5\", \"Topic5\", \"Topic5\", \"Topic5\", \"Topic5\", \"Topic5\", \"Topic5\", \"Topic5\", \"Topic5\", \"Topic5\", \"Topic5\", \"Topic5\", \"Topic5\", \"Topic5\", \"Topic5\", \"Topic5\", \"Topic5\", \"Topic5\", \"Topic5\", \"Topic5\", \"Topic5\", \"Topic5\", \"Topic6\", \"Topic6\", \"Topic6\", \"Topic6\", \"Topic6\", \"Topic6\", \"Topic6\", \"Topic6\", \"Topic6\", \"Topic6\", \"Topic6\", \"Topic6\", \"Topic6\", \"Topic6\", \"Topic6\", \"Topic6\", \"Topic6\", \"Topic6\", \"Topic6\", \"Topic6\", \"Topic6\", \"Topic6\", \"Topic6\", \"Topic6\", \"Topic6\", \"Topic6\", \"Topic6\", \"Topic6\", \"Topic6\", \"Topic6\", \"Topic6\", \"Topic6\", \"Topic6\", \"Topic6\", \"Topic6\", \"Topic6\", \"Topic6\", \"Topic6\", \"Topic6\", \"Topic6\", \"Topic6\", \"Topic6\", \"Topic6\", \"Topic6\", \"Topic6\", \"Topic6\", \"Topic6\", \"Topic6\", \"Topic6\", \"Topic6\", \"Topic6\", \"Topic6\", \"Topic6\", \"Topic6\", \"Topic6\", \"Topic6\", \"Topic6\", \"Topic6\", \"Topic6\", \"Topic6\", \"Topic6\", \"Topic6\", \"Topic6\", \"Topic6\", \"Topic7\", \"Topic7\", \"Topic7\", \"Topic7\", \"Topic7\", \"Topic7\", \"Topic7\", \"Topic7\", \"Topic7\", \"Topic7\", \"Topic7\", \"Topic7\", \"Topic7\", \"Topic7\", \"Topic7\", \"Topic7\", \"Topic7\", \"Topic7\", \"Topic7\", \"Topic7\", \"Topic7\", \"Topic7\", \"Topic7\", \"Topic7\", \"Topic7\", \"Topic7\", \"Topic7\", \"Topic7\", \"Topic7\", \"Topic7\", \"Topic7\", \"Topic7\", \"Topic7\", \"Topic7\", \"Topic7\", \"Topic7\", \"Topic7\", \"Topic7\", \"Topic7\", \"Topic7\", \"Topic7\", \"Topic7\", \"Topic7\", \"Topic7\", \"Topic7\", \"Topic7\", \"Topic7\", \"Topic7\", \"Topic7\", \"Topic7\", \"Topic7\", \"Topic7\", \"Topic7\", \"Topic7\", \"Topic7\", \"Topic7\", \"Topic7\", \"Topic7\", \"Topic7\", \"Topic7\", \"Topic7\", \"Topic7\", \"Topic7\", \"Topic7\", \"Topic8\", \"Topic8\", \"Topic8\", \"Topic8\", \"Topic8\", \"Topic8\", \"Topic8\", \"Topic8\", \"Topic8\", \"Topic8\", \"Topic8\", \"Topic8\", \"Topic8\", \"Topic8\", \"Topic8\", \"Topic8\", \"Topic8\", \"Topic8\", \"Topic8\", \"Topic8\", \"Topic8\", \"Topic8\", \"Topic8\", \"Topic8\", \"Topic8\", \"Topic8\", \"Topic8\", \"Topic8\", \"Topic8\", \"Topic8\", \"Topic8\", \"Topic8\", \"Topic8\", \"Topic8\", \"Topic8\", \"Topic8\", \"Topic8\", \"Topic8\", \"Topic8\", \"Topic8\", \"Topic8\", \"Topic8\", \"Topic8\", \"Topic8\", \"Topic8\", \"Topic8\", \"Topic8\", \"Topic8\", \"Topic8\", \"Topic8\", \"Topic8\", \"Topic8\", \"Topic8\", \"Topic8\", \"Topic8\", \"Topic8\", \"Topic8\", \"Topic8\", \"Topic8\", \"Topic8\", \"Topic8\", \"Topic8\", \"Topic8\", \"Topic8\", \"Topic8\", \"Topic9\", \"Topic9\", \"Topic9\", \"Topic9\", \"Topic9\", \"Topic9\", \"Topic9\", \"Topic9\", \"Topic9\", \"Topic9\", \"Topic9\", \"Topic9\", \"Topic9\", \"Topic9\", \"Topic9\", \"Topic9\", \"Topic9\", \"Topic9\", \"Topic9\", \"Topic9\", \"Topic9\", \"Topic9\", \"Topic9\", \"Topic9\", \"Topic9\", \"Topic9\", \"Topic9\", \"Topic9\", \"Topic9\", \"Topic9\", \"Topic9\", \"Topic9\", \"Topic9\", \"Topic9\", \"Topic9\", \"Topic9\", \"Topic9\", \"Topic9\", \"Topic9\", \"Topic9\", \"Topic9\", \"Topic9\", \"Topic9\", \"Topic9\", \"Topic9\", \"Topic9\", \"Topic9\", \"Topic9\", \"Topic9\", \"Topic9\", \"Topic9\", \"Topic9\", \"Topic9\", \"Topic9\", \"Topic9\", \"Topic9\", \"Topic9\", \"Topic9\", \"Topic9\", \"Topic9\", \"Topic9\", \"Topic10\", \"Topic10\", \"Topic10\", \"Topic10\", \"Topic10\", \"Topic10\", \"Topic10\", \"Topic10\", \"Topic10\", \"Topic10\", \"Topic10\", \"Topic10\", \"Topic10\", \"Topic10\", \"Topic10\", \"Topic10\", \"Topic10\", \"Topic10\", \"Topic10\", \"Topic10\", \"Topic10\", \"Topic10\", \"Topic10\", \"Topic10\", \"Topic10\", \"Topic10\", \"Topic10\", \"Topic10\", \"Topic10\", \"Topic10\", \"Topic10\", \"Topic10\", \"Topic10\", \"Topic10\", \"Topic10\", \"Topic10\", \"Topic10\", \"Topic10\", \"Topic10\", \"Topic10\", \"Topic10\", \"Topic10\", \"Topic10\", \"Topic10\", \"Topic10\", \"Topic10\", \"Topic10\", \"Topic10\"], \"logprob\": [30.0, 29.0, 28.0, 27.0, 26.0, 25.0, 24.0, 23.0, 22.0, 21.0, 20.0, 19.0, 18.0, 17.0, 16.0, 15.0, 14.0, 13.0, 12.0, 11.0, 10.0, 9.0, 8.0, 7.0, 6.0, 5.0, 4.0, 3.0, 2.0, 1.0, -5.5987, -6.047, -6.0994, -6.1401, -6.431, -6.1848, -6.557, -6.3044, -6.6787, -5.252, -6.8516, -6.9438, -6.9524, -7.0078, -7.033, -7.0486, -7.1019, -7.1441, -7.1638, -6.918, -6.2295, -7.2453, -7.1057, -7.2809, -7.2839, -7.0373, -7.329, -7.3071, -7.4467, -6.7655, -6.5663, -6.9115, -7.031, -7.109, -6.6939, -6.8174, -6.6612, -5.3275, -5.6088, -6.9423, -4.6325, -5.5288, -5.423, -5.1294, -6.0533, -6.2316, -5.3251, -6.5077, -6.0048, -5.116, -5.4889, -4.8945, -6.0692, -6.263, -6.3097, -4.927, -2.2593, -5.0215, -3.5514, -5.5354, -6.1394, -5.2172, -5.5208, -5.1328, -5.4182, -5.0814, -5.5393, -5.3329, -5.4569, -5.4396, -5.0645, -5.5908, -5.6908, -5.5346, -5.6503, -5.3859, -5.7858, -6.0448, -6.1407, -6.2806, -6.3605, -6.4281, -6.4828, -6.5006, -6.2267, -6.6938, -6.7513, -6.7863, -6.68, -6.8903, -6.8792, -6.9228, -6.9251, -5.7382, -6.9372, -6.977, -6.9227, -6.8965, -7.1268, -7.1764, -6.973, -7.1955, -7.217, -7.2229, -7.2239, -5.4379, -6.3514, -6.02, -6.6568, -6.7477, -5.6931, -5.8662, -5.5468, -5.2576, -6.5498, -6.4122, -4.9796, -5.7394, -4.2639, -5.8964, -6.1672, -5.2923, -5.2057, -4.696, -4.8639, -5.4824, -5.2378, -5.2103, -6.0474, -6.0282, -5.4724, -4.7824, -2.2406, -5.0511, -5.1559, -5.6769, -5.8849, -5.8073, -4.9732, -5.3786, -5.1489, -5.3793, -5.1762, -5.1493, -5.4599, -4.2924, -5.1561, -5.3017, -5.3412, -5.4629, -5.2617, -5.4116, -5.4389, -5.6288, -5.8344, -5.2501, -4.2399, -6.0637, -6.0908, -6.1699, -6.1765, -6.1164, -6.2508, -6.4331, -6.5075, -6.262, -5.9255, -6.6317, -6.7194, -6.7414, -6.5633, -6.849, -7.0083, -7.0169, -7.0457, -7.0521, -7.0118, -6.7674, -7.1828, -6.9819, -7.1986, -7.2029, -7.0186, -4.5191, -4.3363, -6.9618, -6.0771, -6.3247, -5.0818, -5.8154, -5.0029, -5.0863, -5.8545, -6.5283, -3.6778, -6.0603, -5.2439, -4.7865, -5.9968, -5.0257, -5.2118, -4.9336, -5.675, -3.7766, -5.4987, -5.4585, -2.3402, -5.2168, -5.3965, -5.0559, -5.4314, -5.46, -5.1311, -5.2169, -5.2239, -4.4932, -5.2661, -4.9679, -5.3357, -5.441, -4.7306, -4.7617, -5.189, -5.5728, -5.745, -4.048, -5.7742, -3.1432, -6.3267, -5.853, -6.3997, -6.3606, -6.322, -6.546, -4.8295, -6.5778, -6.6667, -6.7004, -5.9666, -6.7798, -6.8242, -6.8277, -6.8493, -5.5101, -6.9688, -6.961, -7.0033, -7.0442, -6.5301, -7.1334, -2.7668, -5.1087, -6.015, -4.3281, -5.7055, -6.1558, -5.5427, -6.4575, -6.3534, -5.1798, -4.9951, -3.4855, -4.9742, -4.172, -3.5041, -5.2266, -5.1745, -5.2201, -4.7222, -5.067, -2.1194, -3.9816, -4.9268, -5.1572, -4.0135, -5.3201, -5.2718, -5.3062, -4.5763, -5.0861, -5.2325, -3.0589, -5.7843, -5.9602, -6.0802, -6.0348, -6.2735, -4.7864, -6.3764, -6.3558, -6.301, -6.4733, -6.4795, -6.5523, -5.5716, -6.5952, -6.5128, -6.5946, -6.6501, -6.6511, -6.6574, -6.6559, -5.9615, -6.6788, -6.649, -6.6879, -6.6348, -6.7124, -3.1042, -4.9636, -6.5243, -5.6927, -5.1506, -5.3808, -6.022, -5.4501, -4.3914, -3.2263, -5.7265, -4.1181, -6.004, -2.4784, -4.6745, -4.3205, -4.3528, -2.2293, -5.1783, -5.4479, -5.1267, -5.0484, -5.5255, -5.4145, -5.5738, -5.4183, -5.4423, -5.4053, -5.5807, -3.7176, -4.3243, -5.2014, -5.1328, -5.8174, -5.7785, -5.9366, -5.983, -5.4427, -6.2211, -6.1621, -6.2888, -6.2582, -6.3036, -5.6972, -5.9984, -6.4767, -6.5023, -6.3494, -6.5239, -6.4257, -6.5271, -6.5277, -6.4648, -6.3362, -6.6091, -6.6182, -6.6399, -6.1889, -6.699, -4.9104, -6.0975, -6.091, -5.2298, -4.0201, -5.1188, -5.2144, -5.2345, -5.8988, -2.8593, -2.7533, -5.7536, -5.4574, -5.566, -4.1538, -4.4512, -5.6811, -4.598, -5.2211, -5.3501, -5.1725, -5.2804, -5.1857, -1.9148, -4.9028, -5.0517, -5.0619, -5.116, -5.4759, -5.3723, -4.9558, -4.7041, -5.2917, -5.2707, -4.2247, -4.7666, -4.5952, -5.0207, -5.2205, -5.5413, -5.6317, -5.7575, -5.9115, -5.727, -5.9002, -5.8432, -6.0894, -6.1122, -6.1001, -6.1743, -6.162, -5.9123, -6.2468, -6.2635, -6.2924, -6.3373, -6.3523, -6.3536, -6.3619, -5.7391, -6.3946, -6.3996, -6.399, -6.4159, -5.2394, -5.9881, -4.8171, -4.889, -5.3978, -5.8036, -6.1381, -5.7405, -5.5305, -4.9819, -5.3016, -4.164, -4.5761, -5.598, -4.9918, -5.6733, -5.0094, -5.0287, -4.9687, -4.327, -5.7336, -2.2509, -5.5511, -4.8684, -5.4386, -5.4341, -5.3566, -5.3737, -5.0777, -4.7335, -5.0902, -5.33, -5.2809, -5.3937, -4.5401, -4.8104, -5.0763, -5.4004, -5.4007, -5.3734, -5.6714, -5.5882, -5.7596, -5.7981, -5.8434, -5.9067, -5.9529, -5.9816, -5.9862, -5.9877, -6.0141, -6.0426, -6.0633, -6.0723, -6.0781, -6.0087, -6.0865, -5.9989, -6.2048, -6.2426, -6.2775, -6.3274, -6.3031, -6.3355, -5.0727, -5.6714, -5.7288, -4.7378, -5.1453, -5.9028, -5.7223, -5.978, -5.7723, -4.9568, -5.642, -5.3532, -5.1306, -5.7128, -5.5607, -5.3624, -4.1794, -4.6889, -5.2797, -5.649, -2.4741, -5.5153, -5.05, -5.0663, -5.6276, -4.7229, -4.93, -5.5142, -5.3663, -5.0456, -5.4548, -5.3489, -5.3274, -5.3556, -5.5054, -5.0748, -5.2949, -5.3309, -5.3184, -5.3863, -4.5747, -4.5703, -5.4853, -4.0257, -5.53, -4.3711, -5.7849, -5.4381, -5.8871, -6.0026, -6.124, -6.1414, -6.1759, -6.18, -6.0232, -6.2186, -6.3568, -6.3684, -6.3752, -6.1878, -6.2859, -6.4014, -6.1319, -6.4092, -6.4109, -6.0386, -4.36, -4.1837, -5.3343, -4.1051, -5.8573, -6.1487, -5.3444, -5.2737, -5.72, -3.46, -4.9393, -4.3751, -5.4778, -5.461, -4.5943, -4.7334, -4.279, -5.5059, -5.1363, -2.9185, -5.1003, -4.1519, -4.6846, -2.6777, -5.2306, -4.647, -5.1212, -5.2101, -5.2211, -5.2736, -4.0686, -4.6444, -4.8159, -4.8891, -4.9338, -5.1326, -4.2876, -5.3163, -5.2903, -4.9648, -5.5594, -5.6042, -5.5477, -5.4699, -5.6982, -5.3683, -5.7963, -4.9214, -3.2492, -5.7889, -5.836, -5.3733, -3.9569, -5.2817, -5.9635, -5.9382, -6.0126, -6.0723, -5.1537, -5.9068, -2.6929, -4.9836, -4.9422, -4.731, -5.4768, -5.4103, -3.6743, -4.1229, -4.6467, -4.9206, -5.3977, -5.0622, -4.2819, -4.6963, -2.8729, -5.1054, -5.2736, -5.0811], \"loglift\": [30.0, 29.0, 28.0, 27.0, 26.0, 25.0, 24.0, 23.0, 22.0, 21.0, 20.0, 19.0, 18.0, 17.0, 16.0, 15.0, 14.0, 13.0, 12.0, 11.0, 10.0, 9.0, 8.0, 7.0, 6.0, 5.0, 4.0, 3.0, 2.0, 1.0, 1.478, 1.4773, 1.4772, 1.4771, 1.4764, 1.4763, 1.4761, 1.4759, 1.4757, 1.4754, 1.475, 1.4746, 1.4744, 1.4743, 1.4742, 1.4741, 1.4739, 1.4736, 1.4735, 1.4735, 1.4731, 1.4729, 1.4729, 1.4728, 1.4728, 1.4724, 1.4723, 1.4721, 1.4716, 1.4716, 1.4707, 1.4713, 1.4708, 1.4713, 1.4669, 1.4653, 1.4599, 1.4098, 1.4126, 1.4661, 1.34, 1.3554, 1.3419, 1.3126, 1.3872, 1.3998, 1.2693, 1.4024, 1.299, 1.1069, 1.1796, 1.0488, 1.2911, 1.3308, 1.3402, 0.8956, -0.0022, 0.8843, 0.1868, 1.0094, 1.2569, 0.7308, 0.9072, 0.6525, 0.8199, 0.5482, 0.8886, 0.6561, 0.7699, 0.7042, -0.0215, 0.618, 0.7224, 0.3615, 0.2447, 1.785, 1.7845, 1.7839, 1.7834, 1.7832, 1.783, 1.7828, 1.7826, 1.7825, 1.7823, 1.7817, 1.7814, 1.781, 1.7808, 1.7807, 1.7806, 1.7805, 1.7804, 1.7804, 1.7804, 1.7801, 1.7794, 1.7793, 1.7791, 1.7788, 1.7787, 1.7786, 1.7785, 1.7784, 1.7784, 1.7682, 1.7744, 1.7667, 1.7691, 1.7704, 1.7369, 1.7345, 1.6979, 1.6753, 1.756, 1.7434, 1.5817, 1.6589, 1.4491, 1.6426, 1.6733, 1.4982, 1.4593, 1.3405, 1.3666, 1.5038, 1.4366, 1.3933, 1.6336, 1.6224, 1.4165, 1.1125, 0.0165, 1.2006, 1.1609, 1.439, 1.5356, 1.4855, 0.9229, 1.1327, 0.9267, 1.1179, 0.9057, 0.858, 1.1631, -0.5543, 0.6664, 0.6463, 0.6621, 0.8744, -0.2186, 0.4943, 0.1907, 2.0667, 2.0662, 2.0658, 2.0657, 2.0655, 2.0654, 2.0651, 2.065, 2.0648, 2.0646, 2.0638, 2.0635, 2.0633, 2.063, 2.0624, 2.0624, 2.0621, 2.0615, 2.0615, 2.0602, 2.06, 2.0599, 2.0598, 2.0596, 2.0591, 2.0585, 2.0585, 2.0584, 2.0583, 2.0583, 2.0523, 2.0353, 2.0574, 2.0428, 2.0478, 2.0217, 2.0201, 1.9841, 1.9731, 1.9903, 2.0267, 1.8052, 1.9879, 1.8949, 1.8381, 1.9757, 1.7826, 1.796, 1.7075, 1.8437, 1.2664, 1.7247, 1.6882, -0.0831, 1.4455, 1.4906, 1.1957, 1.3599, 1.3847, 0.9508, 1.0018, 1.0029, -0.7551, 0.8095, 0.009, 0.8697, 1.1234, 2.2312, 2.231, 2.2301, 2.2297, 2.2292, 2.2285, 2.2279, 2.2275, 2.2269, 2.2265, 2.2265, 2.2263, 2.2262, 2.2257, 2.2253, 2.2249, 2.2248, 2.2243, 2.2239, 2.2239, 2.2236, 2.2235, 2.2233, 2.2223, 2.2222, 2.2221, 2.2219, 2.2214, 2.2205, 2.2204, 2.2167, 2.2139, 2.22, 2.2011, 2.2127, 2.2166, 2.2037, 2.2194, 2.2101, 2.1596, 2.1469, 1.9897, 2.0714, 1.8224, 1.5188, 1.9217, 1.8598, 1.8367, 1.4832, 1.6259, 0.1376, 1.0897, 1.1029, 1.311, -0.2754, 0.6839, 0.462, 0.4742, 2.4294, 2.4287, 2.4284, 2.4274, 2.4268, 2.4261, 2.4256, 2.4252, 2.4245, 2.4243, 2.4238, 2.4236, 2.4232, 2.4232, 2.4231, 2.4226, 2.4226, 2.4222, 2.422, 2.422, 2.4218, 2.4218, 2.4217, 2.4217, 2.4215, 2.4215, 2.4215, 2.4214, 2.4213, 2.4212, 2.4036, 2.4081, 2.4203, 2.3945, 2.3626, 2.3485, 2.3834, 2.2968, 2.0714, 1.845, 2.2709, 1.9116, 2.2791, 1.2598, 1.7937, 1.6685, 1.381, 0.0277, 1.5878, 1.7288, 1.3611, 1.2026, 1.6021, 1.3456, 1.5451, 1.1361, 1.1145, 0.5981, 0.1323, 2.4948, 2.4946, 2.4933, 2.4933, 2.4915, 2.4913, 2.4911, 2.4909, 2.4908, 2.4896, 2.4894, 2.4892, 2.4891, 2.4891, 2.4889, 2.4881, 2.4877, 2.4877, 2.4876, 2.4875, 2.4875, 2.4875, 2.4875, 2.487, 2.4869, 2.4868, 2.4867, 2.4865, 2.4862, 2.486, 2.4805, 2.4845, 2.4838, 2.4741, 2.4531, 2.4717, 2.4682, 2.4681, 2.4716, 2.3484, 2.2236, 2.4416, 2.4147, 2.4046, 2.2119, 2.2436, 2.4101, 2.2397, 2.2901, 2.3119, 2.2622, 2.2664, 2.2323, 0.3422, 1.8465, 1.8536, 1.7334, 1.3657, 1.9581, 1.6424, 0.067, -0.966, 1.1073, 0.3589, 2.8396, 2.8387, 2.8386, 2.8379, 2.8376, 2.8365, 2.8359, 2.8354, 2.8345, 2.8342, 2.834, 2.8335, 2.8332, 2.8331, 2.8327, 2.8327, 2.8327, 2.8324, 2.8321, 2.8319, 2.8313, 2.8312, 2.8311, 2.8311, 2.831, 2.831, 2.8307, 2.8306, 2.8306, 2.8304, 2.8254, 2.8299, 2.8064, 2.8071, 2.815, 2.8165, 2.8239, 2.8071, 2.765, 2.625, 2.6752, 2.445, 2.4888, 2.7065, 2.5523, 2.7161, 2.4956, 2.4902, 2.2444, 1.8167, 2.7176, 0.0061, 2.561, 1.7084, 2.3599, 2.2142, 1.7883, 1.7879, 0.5519, -0.9953, -0.0673, 1.1717, -0.2378, 0.3867, 2.8856, 2.8854, 2.8848, 2.8837, 2.8836, 2.8836, 2.8824, 2.8823, 2.882, 2.8818, 2.8815, 2.8811, 2.8808, 2.8806, 2.8805, 2.8805, 2.8803, 2.8801, 2.8799, 2.8799, 2.8799, 2.8798, 2.8798, 2.8796, 2.8786, 2.8785, 2.8781, 2.8777, 2.8777, 2.8774, 2.8693, 2.8744, 2.8741, 2.8634, 2.8598, 2.8741, 2.8703, 2.8754, 2.8624, 2.7677, 2.8264, 2.7323, 2.5967, 2.7719, 2.7125, 2.6272, 2.1097, 2.3257, 2.475, 2.6733, -0.2171, 2.5318, 1.7657, 1.7767, 2.6078, 0.7523, 1.0645, 2.2468, 1.7967, 0.7347, 1.8184, 0.7267, -0.3046, -0.3125, 1.3817, 2.9403, 2.9398, 2.9397, 2.9395, 2.9394, 2.9394, 2.9394, 2.939, 2.939, 2.9388, 2.9379, 2.9368, 2.9365, 2.9361, 2.936, 2.935, 2.9348, 2.9345, 2.9345, 2.9342, 2.9341, 2.9327, 2.9325, 2.9325, 2.9324, 2.9323, 2.9322, 2.9322, 2.9322, 2.932, 2.9318, 2.9039, 2.8988, 2.9081, 2.8641, 2.913, 2.9216, 2.8471, 2.8399, 2.8789, 2.544, 2.7619, 2.6267, 2.8099, 2.7973, 2.5999, 2.4852, 2.3184, 2.7337, 2.5419, 0.8196, 2.4104, 1.6334, 2.0307, -0.4207, 2.4303, 1.1333, 1.9417, 1.6089, 1.0298, 1.7159, 3.3855, 3.3842, 3.3841, 3.3838, 3.3836, 3.3827, 3.3824, 3.3817, 3.3817, 3.3814, 3.3801, 3.3798, 3.3797, 3.3796, 3.379, 3.3783, 3.3781, 3.3781, 3.3781, 3.3779, 3.3777, 3.3772, 3.3771, 3.3766, 3.3763, 3.376, 3.3758, 3.3751, 3.3749, 3.3745, 3.3486, 3.3714, 3.3707, 3.3664, 3.3715, 3.3707, 3.3209, 3.3171, 3.3366, 3.3403, 3.3066, 3.083, 2.411, 2.6445, -0.6159, 2.6177, 2.8943, 1.6048]}, \"token.table\": {\"Topic\": [1, 5, 6, 8, 1, 2, 3, 7, 8, 1, 4, 9, 1, 2, 3, 4, 5, 6, 7, 8, 9, 10, 2, 6, 9, 2, 8, 9, 7, 1, 2, 3, 4, 5, 6, 7, 8, 9, 7, 1, 2, 3, 4, 5, 6, 8, 9, 1, 3, 1, 2, 4, 5, 6, 7, 8, 9, 6, 3, 5, 1, 2, 3, 5, 6, 9, 1, 2, 3, 4, 6, 9, 2, 3, 4, 3, 1, 2, 3, 4, 5, 6, 7, 8, 1, 2, 3, 4, 5, 6, 7, 8, 9, 1, 2, 3, 4, 5, 6, 7, 8, 9, 2, 8, 10, 1, 2, 5, 6, 7, 4, 5, 10, 4, 8, 3, 5, 8, 9, 1, 3, 9, 2, 4, 8, 8, 4, 5, 6, 10, 1, 2, 4, 6, 10, 4, 6, 6, 2, 4, 5, 6, 9, 9, 1, 3, 5, 9, 1, 9, 1, 4, 8, 9, 10, 1, 2, 3, 4, 5, 6, 7, 8, 9, 7, 2, 2, 8, 7, 7, 6, 1, 2, 3, 4, 5, 6, 9, 10, 2, 8, 10, 10, 1, 2, 3, 4, 5, 7, 8, 4, 5, 4, 7, 4, 6, 8, 9, 1, 2, 3, 4, 5, 7, 8, 1, 4, 8, 9, 10, 6, 6, 8, 1, 3, 2, 4, 1, 8, 1, 2, 3, 4, 5, 6, 1, 1, 1, 2, 3, 4, 5, 6, 7, 8, 9, 4, 5, 9, 1, 2, 3, 4, 9, 1, 2, 3, 4, 5, 6, 7, 8, 9, 10, 4, 4, 10, 2, 4, 6, 8, 10, 4, 1, 3, 1, 3, 1, 2, 3, 4, 5, 3, 10, 6, 8, 9, 7, 3, 1, 7, 2, 5, 6, 1, 2, 3, 4, 5, 6, 7, 8, 9, 10, 3, 1, 2, 3, 4, 5, 8, 9, 1, 2, 5, 6, 9, 1, 7, 1, 2, 6, 8, 9, 6, 8, 3, 1, 2, 3, 4, 5, 6, 7, 8, 1, 7, 10, 4, 5, 8, 2, 4, 8, 1, 2, 3, 5, 6, 1, 1, 2, 3, 4, 5, 6, 7, 8, 9, 10, 2, 1, 3, 5, 8, 10, 9, 1, 2, 3, 4, 5, 6, 9, 10, 7, 1, 6, 8, 1, 5, 6, 7, 7, 10, 6, 1, 4, 1, 3, 4, 5, 1, 3, 4, 5, 8, 9, 1, 2, 3, 4, 5, 6, 7, 8, 9, 4, 5, 4, 5, 2, 6, 2, 8, 10, 6, 6, 8, 6, 10, 1, 3, 7, 9, 1, 2, 3, 5, 10, 4, 8, 3, 7, 4, 9, 1, 2, 3, 4, 5, 6, 7, 1, 2, 3, 4, 5, 6, 7, 8, 6, 2, 6, 8, 1, 3, 2, 1, 5, 1, 2, 3, 5, 7, 3, 7, 1, 2, 3, 4, 5, 7, 9, 1, 2, 3, 4, 5, 6, 7, 8, 9, 1, 2, 1, 7, 8, 1, 5, 7, 8, 9, 1, 3, 4, 5, 6, 7, 8, 4, 7, 2, 9, 2, 4, 3, 7, 8, 9, 8, 2, 6, 1, 5, 1, 2, 3, 4, 5, 7, 7, 5, 3, 1, 2, 3, 8, 3, 1, 9, 1, 1, 2, 4, 7, 8, 8, 1, 7, 2, 2, 1, 8, 9, 6, 7, 1, 7, 8, 1, 7, 8, 1, 2, 3, 4, 5, 7, 8, 9, 1, 9, 2, 4, 8, 5, 3, 1, 4, 1, 9, 5, 1, 2, 7, 1, 2, 3, 4, 5, 7, 8, 1, 3, 5, 6, 8, 7, 9, 5, 1, 2, 3, 5, 7, 8, 1, 2, 3, 9, 3, 1, 2, 3, 4, 5, 6, 7, 8, 9, 1, 2, 6, 7, 1, 3, 5, 1, 2, 3, 4, 5, 6, 7, 8, 9, 10, 1, 2, 3, 4, 5, 6, 7, 8, 1, 2, 3, 5, 9, 10, 1, 2, 3, 4, 5, 7, 9, 1, 4, 5, 8, 10, 1, 2, 3, 4, 5, 6, 7, 9, 10, 9, 2, 1, 2, 3, 4, 5, 6, 7, 8, 9, 3, 5, 2, 2, 3, 2, 5, 6, 7, 7, 8, 1, 4, 5, 6, 7, 4, 1, 1, 4, 7, 8, 7, 1, 3, 5, 6, 7, 8, 9, 1, 2, 3, 4, 6, 7, 8, 3, 8, 9, 1, 2, 3, 6, 2, 1, 2, 3, 4, 5, 6, 7, 8, 9, 10, 1, 2, 3, 4, 5, 6, 7, 8, 3, 5, 1, 2, 4, 5, 8, 9, 1, 2, 3, 4, 5, 6, 8, 9, 1, 3, 5, 3, 1, 8, 3, 8, 1, 2, 3, 4, 6, 9, 8, 1, 2, 10, 6, 10, 3, 2, 4, 6, 7, 8, 9, 10, 1, 4, 5, 1, 4, 7, 8, 1, 2, 3, 4, 5, 7, 8, 9, 8, 3, 1, 3, 1, 2, 3, 4, 5, 7, 8, 1, 2, 3, 4, 5, 6, 7, 8, 9, 10, 7, 9, 1, 2, 3, 4, 8, 3, 7, 2, 3, 4, 1, 8, 1, 2, 3, 1, 2, 3, 4, 5, 7, 10, 8, 5, 1, 3, 7, 2, 10, 1, 2, 3, 4, 5, 7, 8, 9, 10, 3, 7, 9, 10, 4, 10, 8, 10, 3, 4, 3, 1, 2, 3, 4, 5, 6, 7, 8, 9, 1, 7, 10, 1, 2, 3, 4, 5, 6, 7, 8, 9, 2, 8, 1, 7, 8, 9, 1, 2, 3, 4, 5, 7, 8, 10, 1, 4, 1, 9, 5, 9, 1, 1, 2, 3, 8, 10, 1, 9, 7, 1, 5, 7, 1, 1, 3, 4, 6, 2, 8, 9, 9, 1, 3, 6, 9, 1, 3, 5, 1, 2, 4, 6, 7, 9, 1, 2, 3, 4, 5, 7, 8, 9, 3, 8, 1, 6, 6, 1, 3, 4, 9, 1, 3, 4, 5, 9, 4, 5, 3, 10, 1, 2, 4, 6, 7, 8, 9, 10, 1, 2, 3, 4, 5, 6, 7, 8, 9, 10, 1, 2, 3, 4, 5, 7, 8, 1, 2, 3, 4, 5, 6, 7, 8, 9, 1, 2, 3, 4, 5, 6, 7, 9, 2, 10, 1, 2, 3, 4, 5, 6, 7, 8, 9, 3, 6, 9, 1, 2, 3, 4, 5, 6, 7, 8, 9, 4, 1, 7, 1, 6, 5, 1, 9, 1, 6, 1, 3, 6, 10, 1, 2, 3, 4, 5, 6, 7, 8, 9, 10, 1, 2, 5, 7, 8, 1, 2, 3, 4, 5, 7, 8, 9, 1, 2, 3, 4, 5, 6, 7, 8, 9, 1, 2, 3, 4, 5, 7, 8, 9, 5, 2, 9, 5, 9, 1, 2, 3, 4, 7, 1, 2, 3, 7, 1, 2, 3, 4, 8, 1, 2, 3, 4, 5, 6, 7, 8, 9, 5, 7, 3, 8, 4, 8, 6, 1, 1, 2, 5, 7, 10, 4, 6, 6, 1, 2, 3, 4, 5, 7, 8, 9, 7, 1, 2, 3, 4, 5, 6, 9, 1, 2, 3, 5, 6, 7, 9, 4, 9, 6, 10, 2, 1, 2, 3, 4, 6, 8, 1, 2, 3, 4, 10, 3, 5, 5, 1, 7, 3, 10, 1, 1, 2, 3, 4, 5, 6, 7, 9, 4, 3, 1, 9, 8, 5, 6, 7, 4, 5, 1, 2, 3, 4, 5, 6, 7, 8, 9, 1, 2, 3, 4, 5, 6, 7, 8, 9, 7, 10, 2, 3, 4, 5, 7, 6, 1, 2, 6, 1, 2, 4, 5, 6, 7, 8, 1, 2, 3, 4, 5, 6, 7, 8, 10, 1, 6, 10, 4, 5, 9, 5, 6, 10, 1, 2, 3, 6, 7, 1, 3, 4, 5, 7, 3, 6, 4, 8, 1, 2, 3, 5, 7, 8, 9, 1, 2, 3, 4, 5, 7, 9, 8, 10, 1, 3, 6, 8, 3, 5, 6, 1, 2, 9, 10, 1, 2, 3, 4, 5, 7, 9, 4, 7, 9, 2, 7, 2, 3, 4, 5, 8, 9, 9, 1, 3, 10, 6, 2, 6, 1, 10, 10, 1, 2, 3, 4, 5, 6, 8, 1, 2, 3, 5, 1, 2, 3, 2, 1, 2, 3, 4, 5, 6, 7, 1, 4, 7, 9, 5, 1, 2, 3, 4, 5, 6, 7, 8, 9, 1, 2, 5, 5, 9, 1, 2, 4, 5, 7, 9, 9, 3, 4, 8, 8, 8, 10, 1, 2, 4, 5, 6, 7, 8, 1, 2, 5, 7, 9, 6, 9, 1, 4, 9, 8, 1, 2, 3, 5, 6, 7, 8, 9, 2, 2, 3, 4, 8, 4, 1, 2, 3, 4, 5, 6, 8, 9, 1, 6, 7, 2, 1, 3, 4, 7, 9, 5, 2, 8, 8, 1, 6, 5, 1, 3, 5, 7, 7, 2, 5, 7, 10, 1, 2, 3, 10, 1, 2, 3, 4, 5, 6, 7, 8, 9, 1, 2, 3, 4, 5, 6, 7, 8, 7, 1, 2, 3, 7, 8, 1, 2, 3, 1, 1, 6, 7, 8, 9, 9, 1, 2, 3, 4, 5, 7, 8, 9, 10, 1, 5, 9, 1, 6, 1, 2, 3, 1, 1, 2, 3, 4, 5, 6, 7, 8, 9, 9, 2, 9, 1, 2, 3, 4, 5, 6, 7, 8, 9, 1, 2, 3, 4, 5, 6, 8, 1, 2, 9, 2, 1, 2, 3, 5, 7, 3, 1, 2, 3, 4, 5, 7, 8, 1, 2, 3, 5, 7, 6, 8, 1, 2, 3, 4, 5, 6, 7, 8, 9, 1, 2, 3, 4, 5, 9, 1, 2, 3, 4, 5, 6, 7, 8, 9, 10, 1, 2, 3, 4, 5, 7, 8, 1, 2, 3, 4, 5, 7, 8, 1, 2, 3, 4, 5, 8, 4, 1, 2, 3, 4, 5, 6, 7, 8, 9, 4, 1, 7, 4, 1, 2, 3, 4, 5, 6, 7, 8, 1, 2, 3, 4, 5, 6, 7, 9, 1, 2, 1, 2, 3, 9, 7, 8, 2, 8, 3, 1, 5, 7, 6, 8, 1, 2, 3, 4, 5, 7, 8, 6, 5, 1, 7, 1, 2, 3, 4, 5, 6, 8, 1, 2, 3, 4, 5, 6, 7, 8, 9, 10, 5, 7, 8, 2, 2, 1, 2, 3, 4, 5, 6, 7, 8, 10, 1, 2, 5, 8, 10, 1, 2, 4, 7, 8, 9, 1, 2, 3, 4, 5, 6, 7, 8, 9, 10, 1, 3, 10, 2, 1, 2, 3, 4, 5, 6, 7, 8, 9, 3, 5, 7, 1, 4, 5, 6, 8, 9, 8, 1, 3, 4, 5, 6, 7, 8, 9, 5, 9, 4, 5, 5, 1, 2, 3, 4, 5, 6, 7, 8, 9, 10, 1, 2, 3, 5, 1, 2, 3, 4, 5, 7, 8, 9, 10, 10, 1, 2, 3, 4, 5, 8, 10, 1, 2, 1, 3, 7, 9, 1, 2, 3, 4, 5, 7, 8, 9, 10, 1, 3, 4, 5, 6, 7, 8, 9, 1, 2, 3, 4, 5, 6, 7, 8, 9, 8, 5, 1, 2, 3, 4, 5, 6, 7, 8, 9, 1, 2, 3, 4, 5, 6, 7, 8, 1, 2, 5, 10, 2, 4, 5, 1, 2, 3, 4, 5, 6, 7, 8, 9, 1, 2, 3, 4, 5, 6, 7, 8, 9, 10, 1, 2, 3, 4, 5, 1, 2, 3, 6, 8, 9, 1, 6, 10, 1, 2, 3, 4, 5, 8, 9, 4, 10, 7], \"Freq\": [0.009685563247396358, 0.004842781623698179, 0.043585034613283606, 0.9394996349974467, 0.0761637389088333, 0.019040934727208324, 0.014280701045406243, 0.8854034648151871, 0.004760233681802081, 0.9820635079106189, 0.006843648138749958, 0.010265472208124937, 0.2746013517100489, 0.0962771312484812, 0.05935594110259227, 0.08144882918757441, 0.31015509036905303, 0.03136591848041953, 0.021580093777400357, 0.0054698059475391005, 0.11956653938448752, 0.0001709314358605969, 0.0017224797471875417, 0.7923406837062692, 0.2049750899153175, 0.9981339062071933, 0.991541451090154, 0.9943805030607251, 0.9899961350188463, 0.43755278360605204, 0.04832277337858064, 0.08837109926082898, 0.04699886177916747, 0.045012994380047716, 0.010591292795305345, 0.03607659108400883, 0.017210850792371186, 0.269746988380433, 0.9893773789354388, 0.09557924161684922, 0.4234691399413181, 0.2836402494277794, 0.051329592720159765, 0.021682327959377832, 0.007964936801404102, 0.11504908713139257, 0.0008849929779337891, 0.9966815770864742, 0.9937361677573839, 0.5109108730491849, 0.016778682201943673, 0.005033604660583103, 0.0016778682201943674, 0.004194670550485918, 0.057886453596705675, 0.0016778682201943674, 0.4010105046264538, 0.9985685470590895, 0.9890852639227274, 0.9916964033447763, 0.025732651856185593, 0.2288851665102824, 0.017606551270021722, 0.008126100586163872, 0.010834800781551829, 0.7096794511916448, 0.19007501032979332, 0.0017358448431944594, 0.013018836323958446, 0.27079179553833566, 0.5224892978015323, 0.0017358448431944594, 0.004619723573993066, 0.012319262863981509, 0.9824612134025253, 0.9958816565357312, 0.12780334471837532, 0.41458158164741266, 0.3268559408476916, 0.06679617319775714, 0.0004453078213183809, 0.004007770391865428, 0.01424985028218819, 0.045421397774474855, 0.028982343288147017, 0.0039014692887890216, 0.08490340309412299, 0.0033441165332477327, 0.0013004897629296738, 0.8631536340816093, 0.007245585822036754, 0.007245585822036754, 0.00018578425184709627, 0.13355561271875144, 0.33667144039518593, 0.11778863066167661, 0.0037098781310764286, 0.0027824085983073218, 0.06306792822829929, 0.014839512524305714, 0.32554180600195665, 0.0027824085983073218, 0.9899532016789769, 0.9916908088108225, 0.9895896110493049, 0.8623549691646953, 0.1312718337135953, 0.004039133345033702, 0.9897769125965246, 0.9910538955159459, 0.9907238921259822, 0.01243629694027819, 0.982467458281977, 0.29553615071247014, 0.6991177758789616, 0.9912372742444794, 0.010464810940536829, 0.9889246338807303, 0.9928600412325749, 0.9246888033444826, 0.020968000075838607, 0.05242000018959651, 0.848626852126788, 0.147494339538409, 0.0021375991237450576, 0.9968424494890266, 0.9893006601538574, 0.007668997365533778, 0.9933426488106722, 0.9913551971997422, 0.0044141350090104526, 0.0022070675045052263, 0.0022070675045052263, 0.9733167694868048, 0.019863607540547036, 0.996651358041132, 0.9942854375823421, 0.9912173188374991, 0.0011172339528771774, 0.014524041387403305, 0.015641275340280484, 0.23908806591571596, 0.7284365372759196, 0.996607854784473, 0.06792341011574858, 0.023773193540512005, 0.0033961705057874293, 0.8999851840336688, 0.01768113508887868, 0.9813029974327667, 0.055413262242890914, 0.008658322225451705, 0.001731664445090341, 0.001731664445090341, 0.9316354714586035, 0.030431456017520654, 0.015215728008760327, 0.032967410685647375, 0.323334220186157, 0.5951040287870706, 0.0004226591113544535, 0.0012679773340633607, 0.0004226591113544535, 0.0004226591113544535, 0.9948870790550667, 0.9967148873336347, 0.9972070380107774, 0.9908572284403518, 0.9914347034661584, 0.9918682213479568, 0.9933746311051508, 0.3258495145279585, 0.25253337375916785, 0.036658070384395336, 0.01547785194007803, 0.009775485435838756, 0.18573422328093636, 0.005702366504239274, 0.16781249998189862, 0.0021795724086314263, 0.0021795724086314263, 0.9938850183359303, 0.9839063590201821, 0.10882240587607706, 0.007557111519172018, 0.3012768458976578, 0.47257137366555685, 0.016121837907566973, 0.029220831207465138, 0.06398354419565642, 0.9956005094652657, 0.9919478591502534, 0.9923184157015447, 0.9900927027743002, 0.09296970287139025, 0.004042160994408272, 0.024252965966449633, 0.8731067747921868, 0.5538498067021734, 0.23727429218945384, 0.05538498067021735, 0.04342685984369315, 0.016993119069271232, 0.0012587495606867579, 0.09062996836944656, 0.0033023755048595324, 0.016511877524297662, 0.8553152557586189, 0.12218789367980269, 0.9886757674816512, 0.9941406145699204, 0.987419036394927, 0.005425379320851248, 0.0029969046915902875, 0.9949723576079755, 0.9961549379165501, 0.9874859880983385, 0.996473838328838, 0.9895638186399367, 0.8464047200956172, 0.12000308248716142, 0.00702145695403604, 0.022340999399205582, 0.002553257074194924, 0.001276628537097462, 0.9985189617354738, 0.9977223787987323, 0.01999258642307198, 0.006936203452902524, 0.019584574455254185, 0.6638354716395533, 0.0648739028830295, 0.00040801196781779553, 0.0028560837747245685, 0.16157273925584703, 0.05997775926921594, 0.0012272762660132633, 0.9967937832559725, 0.0017181867724185686, 0.08771670785132292, 0.17889591732835594, 0.0011541672085700384, 0.6890378235163129, 0.04270418671709142, 0.2273245290232502, 0.17033549877228366, 0.1162420748324489, 0.12312156902131238, 0.0904731220233162, 0.11608660603722035, 0.058738054197287774, 0.044843030623735826, 0.03458209013865131, 0.018248149839951436, 0.9971645327404631, 0.9993799299679148, 0.997608735888461, 0.002304591460136077, 0.0007681971533786923, 0.003840985766893462, 0.0007681971533786923, 0.9902061307051344, 0.9936311090223645, 0.0015295605833369195, 0.9972735003356714, 0.0027844118717451523, 0.9968194500847645, 0.0012854357920635182, 0.0025708715841270364, 0.07584071173174757, 0.9178011555333521, 0.0025708715841270364, 0.006396158798973322, 0.991404613840865, 0.42552115942246904, 0.5703794264599054, 0.0022634104224599416, 0.9981620990175457, 0.9878825692063464, 0.006869148062418481, 0.9891573209882613, 0.9950097226862391, 0.9943475994791056, 0.9915017034388303, 0.16098770613065502, 0.0166370273812835, 0.7682392055475027, 0.0318060817583361, 0.0026912838410899777, 0.005871892016923588, 0.0026912838410899777, 0.01027581102961628, 0.0007339865021154485, 0.0004893243347436323, 0.9953114160381218, 0.04717921353529227, 0.02636485462266333, 0.2705866658641763, 0.0013876239275085963, 0.019426734985120347, 0.0027752478550171927, 0.6327565109439199, 0.06719867927309031, 0.8942593472495864, 0.015507387524559303, 0.010338258349706203, 0.012922822937132752, 0.0053610319441105845, 0.9917909096604581, 0.12098657751977313, 0.004744571667442083, 0.2111334392011727, 0.6618677476081706, 0.0023722858337210414, 0.9950812504871006, 0.9873792486904341, 0.9956160515918085, 0.46090926009543043, 0.04831731195245006, 0.000473699136788726, 0.01894796547154904, 0.10326641181994227, 0.001894796547154904, 0.3590639456858543, 0.0066317879150421645, 0.026210939374761443, 0.9645625689912212, 0.9930940847609437, 0.1129886603396829, 0.0753257735597886, 0.8076596831688444, 0.9867783556353374, 0.006876504220455313, 0.0034382521102276566, 0.9255266150144364, 0.005542075539008601, 0.0027710377695043006, 0.04156556654256451, 0.022168302156034405, 0.9985091900457072, 0.24712107694144358, 0.11475724310894009, 0.10563954434138047, 0.1704066459316316, 0.3502453940366007, 0.0009432102173337542, 0.006602471521336279, 0.0040872442751129345, 0.0006288068115558361, 0.00031440340577791804, 0.9962752538257124, 0.008138777977815002, 0.0020346944944537506, 0.0020346944944537506, 0.9766533573378003, 0.010173472472268753, 0.9972072690698396, 0.061161736910651444, 0.3387419275051465, 0.006272998657502712, 0.001568249664375678, 0.10820922684192179, 0.001568249664375678, 0.0047047489931270345, 0.4751796483058304, 0.992730327633135, 0.9942507663066583, 0.9746789951378979, 0.01756178369617834, 0.44028921765918416, 0.017246351843792928, 0.5265209768781488, 0.015217369273934935, 0.9968691948819793, 0.9924744696779823, 0.9944957894977468, 0.015978346088436384, 0.9800052267574315, 0.0005409837645918212, 0.0010819675291836423, 0.9964920943781346, 0.0010819675291836423, 0.995460524285332, 0.05318940270238314, 0.011562913630952857, 0.9204079250238474, 0.0023125827261905713, 0.011562913630952857, 0.12655892674749647, 0.5199177531248503, 0.04515075224505279, 0.19428505511507566, 0.027364092269728964, 0.006841023067432241, 0.039677933791107, 0.03625742225739088, 0.0034205115337161206, 0.9805138813552803, 0.01676092104880821, 0.9924769012488175, 0.9983578496345006, 0.9978450541674855, 0.9921595192296837, 0.9990141823286295, 0.9925385318429631, 0.9894228250313556, 0.9885770168302693, 0.9125342983729868, 0.08536611178327942, 0.9953536264271348, 0.9898381463936952, 0.14217285124590903, 0.005923868801912876, 0.8471132386735413, 0.002961934400956438, 0.0022982844397338243, 0.0022982844397338243, 0.018386275517870594, 0.510219145620909, 0.4619551723864987, 0.985451239750905, 0.008798671783490223, 0.9860977578919325, 0.9909576010520125, 0.9922136989371545, 0.9840206632491182, 0.050054424729045, 0.8947228420316794, 0.011470805667072813, 0.03649801803159531, 0.0010428005151884375, 0.0010428005151884375, 0.00417120206075375, 0.25530968134335463, 0.6404017840362479, 0.044679194235087066, 0.03233922630349159, 0.01702064542289031, 0.0012765484067167733, 0.008084806575872898, 0.0008510322711445155, 0.9940520323983157, 0.9947972895965264, 0.9955404009687956, 0.9888192934147679, 0.9919597971688845, 0.9867177790590566, 0.9928040589696921, 0.991205206667788, 0.005416421894359497, 0.016078093496594097, 0.02226197561066875, 0.9535546219903115, 0.0049471056912597225, 0.0012367764228149306, 0.9970388303059132, 0.9908423808710646, 0.0015658491071709809, 0.0015658491071709809, 0.0015658491071709809, 0.9301143696595626, 0.05323886964381335, 0.0031316982143419617, 0.007829245535854904, 0.022609937866743816, 0.0011899967298286218, 0.007139980378971731, 0.20229944407086572, 0.03569990189485866, 0.021419941136915196, 0.7032880673287155, 0.0035699901894858657, 0.0023799934596572436, 0.04628956970853482, 0.951507821786549, 0.10587084534162346, 0.004603080232244498, 0.8860929447070659, 0.018281688774864642, 0.003046948129144107, 0.006093896258288214, 0.9719764531969702, 0.988696967420581, 0.20999642762504542, 0.49240541650010644, 0.23534082406255089, 0.0009051570156251957, 0.01267219821875274, 0.04616300779688498, 0.0027154710468755873, 0.9931165418319949, 0.0058903709479952255, 0.9563304931311674, 0.038961612683121635, 0.006959539994033893, 0.9905745258174908, 0.9089476822854333, 0.07456211456247695, 0.0011835256279758247, 0.014202307535709896, 0.9932279822470498, 0.9952732556297487, 0.9884561817512489, 0.04092256330652449, 0.9548598104855714, 0.08695773304482611, 0.7211907401148882, 0.008775551041220984, 0.11727327300540769, 0.06382218939069806, 0.0015955547347674516, 0.9881978163318837, 0.9889322008019047, 0.997297209742419, 0.021124811960406508, 0.010562405980203254, 0.961178944198496, 0.005281202990101627, 0.9912658014216341, 0.9914561673226457, 0.003842853361715681, 0.9979681355272572, 0.04481295022090246, 0.004073904565536588, 0.024443427393219523, 0.9288502409423419, 0.9898321074948709, 0.994876241661826, 0.9948076171802164, 0.9974396271711929, 0.9951996307600262, 0.9943930440334319, 0.9959159568866074, 0.9779920587827357, 0.017157755417240978, 0.9918456113975797, 0.9898143589463476, 0.22500440001408945, 0.003000058666854526, 0.7710150773816132, 0.9947199583713512, 0.99601440551232, 0.9908171431155219, 0.36936594628794744, 0.016885300401734738, 0.4173835193053806, 0.050128235567650004, 0.012663975301301054, 0.0031659938253252636, 0.06754120160693895, 0.06226454523139685, 0.9967986165624435, 0.9919215599956583, 0.9822550024208807, 0.010178808315242288, 0.005089404157621144, 0.9948085761222785, 0.9909546652745908, 0.003667872011484724, 0.9903254431008756, 0.9851202041456583, 0.009121483371719058, 0.9882158172763986, 0.22720094681114583, 0.01356423563051617, 0.7562061364012764, 0.4390517854528757, 0.030433349268914674, 0.004463557892774152, 0.05478002868404641, 0.466644688790025, 0.00040577799025219563, 0.003652001912269761, 0.9330802989240797, 0.007718495119776394, 0.0008576105688640438, 0.057459908113890935, 0.0008576105688640438, 0.00800038033884322, 0.9920471620165593, 0.9926939740692884, 0.2064229273865947, 0.020252815517175327, 0.696385272013644, 0.0038947722148414093, 0.013242225530460791, 0.05920053766558942, 0.0010765738856191468, 0.0021531477712382935, 0.0010765738856191468, 0.9958308441977107, 0.9969395761387037, 0.5579723918367447, 0.3264001060621352, 0.03779369649140513, 0.02645558754398359, 0.024050534130894172, 0.003435790590127739, 0.004122948708153286, 0.011338108947421538, 0.008245897416306573, 0.03823877036152047, 0.8661081486884387, 0.08603723331342106, 0.007647754072304095, 0.09650036507742406, 0.0258903418500406, 0.8755642880195549, 0.3012222608597338, 0.13821907539449813, 0.0695861551986094, 0.09913644028295038, 0.05242792514963722, 0.0019064700054413533, 0.0019064700054413533, 0.32886607593863343, 0.0019064700054413533, 0.004766175013603383, 0.8701126200047341, 0.008780953045919335, 0.08701126200047342, 0.024746322220318126, 0.006785281899119486, 0.0003991342293599698, 0.0003991342293599698, 0.0011974026880799094, 0.09755982509953948, 0.3256217539036577, 0.0912247715216473, 0.43711869687456, 0.04687939647640209, 0.0025340214311568693, 0.0008908017500100117, 0.00044540087500500583, 0.0005938678333400078, 0.984632867677733, 0.0014846695833500194, 0.010244220125115134, 0.0016331365416850214, 0.0533233501631263, 0.545538890130446, 0.018047903132135057, 0.005742514632952063, 0.3765448880749996, 0.23418383234004814, 0.18832537953194473, 0.22684647989075157, 0.04524700677066204, 0.004280122262089653, 0.2494699832760826, 0.04952712903275169, 0.0018343381123241368, 0.9928635927202027, 0.9854117598703583, 0.9911766995060616, 0.012865646636966408, 0.01772060763204807, 0.007767937592130661, 0.7845616968051967, 0.008738929791146993, 0.011651906388195991, 0.0075251895423765775, 0.1182183002302385, 0.03082900231876856, 0.9971449512216415, 0.9930464168702987, 0.9902243947798743, 0.9839298902894635, 0.013923536183341466, 0.0020804447376368547, 0.0020804447376368547, 0.029126226326915965, 0.9653263582635006, 0.9749858306330937, 0.016907268739302202, 0.029481469001048217, 0.014740734500524108, 0.007370367250262054, 0.947092191658674, 0.9908576659401348, 0.9908288354104152, 0.9941202595387306, 0.45831276165970275, 0.011935228168221425, 0.002387045633644285, 0.527537085035387, 0.995167734894047, 0.014785514809289456, 0.059142059237157825, 0.1437152039462935, 0.7528784140890191, 0.01715119717877577, 0.0011828411847431566, 0.010645570662688408, 0.011561410008372925, 0.0019269016680621542, 0.00963450834031077, 0.08092987005861048, 0.7958103889096697, 0.02312282001674585, 0.07707606672248617, 0.9952602136547691, 0.995705276883769, 0.9850239106316274, 0.033746179515268156, 0.0025958599627129353, 0.924126146725805, 0.03893789944069403, 0.9911113439878112, 0.2438534059843134, 0.535013246385907, 0.10474996192397758, 0.008447577574514321, 0.007321233897912412, 0.005068546544708593, 0.07828088552383271, 0.0016895155149028642, 0.01295295228092196, 0.002252687353203819, 0.3114046262076837, 0.1650178361100546, 0.0013307890008875372, 0.003992367002662612, 0.4963842973310514, 0.015969468010650446, 0.0013307890008875372, 0.003992367002662612, 0.996561517037467, 0.9900535714973434, 0.20018391721606335, 0.7534394686428758, 0.016498674495829396, 0.025297967560271743, 0.0010999116330552932, 0.0021998232661105863, 0.6500870235916629, 0.20661680594773782, 0.09497395395346298, 0.001162946374940363, 0.0027135415415275137, 0.019382439582339383, 0.017831844415752234, 0.006590029457995391, 0.08257987351342916, 0.9113278898446289, 0.002949281196908184, 0.9878252900138318, 0.9853529551368263, 0.008043697592953685, 0.9907853577197943, 0.006928568935103456, 0.6654672402192688, 0.012139535062043048, 0.02648625831718483, 0.002207188193098736, 0.001103594096549368, 0.2924524355855825, 0.9971442856778778, 0.015075158620785479, 0.9812557793165821, 0.9951151777684352, 0.9949461685937946, 0.9881831681333594, 0.9958367969415469, 0.014867684041485882, 0.0037169210103714704, 0.0018584605051857352, 0.18212912950820206, 0.20443065557043089, 0.5872735196386923, 0.0037169210103714704, 0.9920597055598598, 0.9860834427675497, 0.988526988575885, 0.0532012928253543, 0.13914184277400354, 0.8062042066611382, 0.9943357538864963, 0.8718478583937506, 0.07669440210339362, 0.029972524959946935, 0.0008815448517631452, 0.008815448517631452, 0.0017630897035262904, 0.010578538221157742, 0.0008815448517631452, 0.9890616244335237, 0.9962978761441464, 0.0731738127726953, 0.9226263349600711, 0.05303013658571418, 0.001293417965505224, 0.002586835931010448, 0.733367986441462, 0.0038802538965156718, 0.019401269482578358, 0.184958769067247, 0.09945719719596686, 0.713751650465174, 0.0024633361534604796, 0.07543966969972718, 0.10038094825351454, 0.0012316680767302398, 0.005234589326103519, 0.0012316680767302398, 0.0006158340383651199, 0.00030791701918255995, 0.026197406984049907, 0.9693040584098465, 0.007365728046029424, 0.00460358002876839, 0.7513042606950012, 0.22005112537512905, 0.016572888103566205, 0.01293830101270167, 0.9833108769653269, 0.9947487705793251, 0.0018733498504318739, 0.0018733498504318739, 0.007117512368581545, 0.9893342192328348, 0.13440822516426035, 0.859331275640353, 0.004406827054565913, 0.012494388561420787, 0.009519534142034885, 0.966827686300418, 0.0005949708838771803, 0.004759767071017443, 0.0023798835355087213, 0.0023798835355087213, 0.9986452781714978, 0.9928024454381368, 0.024663652325898434, 0.09865460930359374, 0.8755596575693944, 0.007081100478867003, 0.9842729665625135, 0.2712404577224548, 0.5567289550528984, 0.11662284271724223, 0.040633298141301594, 0.0031662310239975264, 0.006860167218661308, 0.0005277051706662544, 0.004221641365330035, 0.0005277051706662544, 0.02250190057405904, 0.9750823582092252, 0.9869448114383353, 0.9948015533268361, 0.006420808316661424, 0.9888044807658593, 0.007787496294285441, 0.989012029374251, 0.6831504166310975, 0.31510151542152703, 0.9953090706187354, 0.3096845454607873, 0.1555726608093106, 0.07815152444411377, 0.0021911642367508535, 0.0036519403945847557, 0.08326424099653243, 0.32210114280237545, 0.024833194683176338, 0.01972047813075768, 0.016708532119261134, 0.0033417064238522266, 0.9791199821887024, 0.3940418711077783, 0.20282816658027983, 0.08951634167509558, 0.030877472286662714, 0.035126665720607124, 0.1181275774636546, 0.10141408329013991, 0.019263010233881325, 0.008781666430151781, 0.9921940814122019, 0.9936385721573386, 0.002860790050645507, 0.011443160202582028, 0.981250987371409, 0.9967120217644067, 0.29145768229525004, 0.19478607480128096, 0.3881292897892191, 0.019478607480128095, 0.026692906546842206, 0.016592887853442453, 0.025250046733499384, 0.03679292524024196, 0.9861731065655114, 0.007120383440906219, 0.9355024367047593, 0.0626706869899656, 0.0377549765633606, 0.9612997878824892, 0.998490282781944, 0.035517466952923814, 0.015538891791904168, 0.011099208422788692, 0.0011099208422788692, 0.9356632700410867, 0.0018566193809895484, 0.995147988210398, 0.9886139778445697, 0.0044463725715983655, 0.9915410834664354, 0.9855299953267884, 0.9949943145204844, 0.0006964890198191498, 0.0006964890198191498, 0.9695127155882565, 0.029252538832404293, 0.08444646729964041, 0.003671585534766974, 0.9068816270874426, 0.9871414699816359, 0.0015189896063458616, 0.0015189896063458616, 0.0015189896063458616, 0.9949381921565394, 0.0030140281342695267, 0.0030140281342695267, 0.9916152561746743, 0.004394648127484297, 0.0021973240637421483, 0.2768628320315107, 0.010986620318710743, 0.03295986095613222, 0.6701838394413553, 0.008965961716478787, 0.010958397653474073, 0.5608707162641731, 0.1942625038570404, 0.000996217968497643, 0.000996217968497643, 0.22215660697497439, 0.000996217968497643, 0.15537976327277436, 0.840644360270651, 0.02476836561108273, 0.972721267635249, 0.9913092572065423, 0.0808993766840482, 0.10401348430806197, 0.003852351270668962, 0.808993766840482, 0.004704854963713158, 0.004704854963713158, 0.9715525500067672, 0.007057282445569737, 0.009409709927426317, 0.9888754131405558, 0.006421268916497115, 0.9926843610079482, 0.9825990165855614, 0.0012111222940879806, 0.0012111222940879806, 0.013322345234967786, 0.013322345234967786, 0.0012111222940879806, 0.004844489176351922, 0.9555754900354166, 0.008477856058615865, 0.26304706692272256, 0.32479520469800954, 0.047340238961053355, 0.11732146177304527, 0.1601335039639109, 0.06545302604180421, 0.010703010547716411, 0.009879702044045917, 0.0012349627555057396, 0.00041165425183524657, 0.11658386282800476, 0.7398591294854148, 0.05679726650595104, 0.061281261230105064, 0.002989329816102686, 0.007473324540256715, 0.013451984172462088, 0.05672649361784357, 0.02674248984841197, 0.022204370358984486, 0.3189649698283319, 0.5568920916311729, 0.0016207569605098163, 0.013614358468282458, 0.0016207569605098163, 0.0014586812644588347, 0.2009223993797735, 0.003509561561218751, 0.18161981079307035, 0.044746909905539076, 0.3377953002673048, 0.04211473873462501, 0.16845895493850005, 0.021057369367312506, 0.01297084223804291, 0.9857840100912612, 0.5645643072332925, 0.048463156808209056, 0.08685604726666038, 0.09063239714781952, 0.09881448855699768, 0.02643444916811403, 0.004405741528019005, 0.027693232461833747, 0.05161011504250834, 0.00800273635620669, 0.9229822597491716, 0.06935704842045798, 0.24604870800066392, 0.010540239164687076, 0.07246414425722364, 0.17226703384785438, 0.068511554570466, 0.06422958240981187, 0.08596882568697896, 0.1162720132854543, 0.16370308952654614, 0.9966356005445555, 0.9931356101733239, 0.9939583065495099, 0.0049309979374186075, 0.9911305854211401, 0.9944837038866581, 0.9976325415298405, 0.9906946624460266, 0.005386392968889057, 0.9857099133066974, 0.007010554345915334, 0.20681135320450236, 0.04556860324844968, 0.7361082063211101, 0.32688921040140057, 0.4215539591149283, 0.1371899287996828, 0.012942446113177623, 0.027733813099666337, 0.03956690668885731, 0.011463309414528753, 0.0166402878597998, 0.00517697844527105, 0.00036978417466221786, 0.8283526837827678, 0.0559697759312681, 0.01918963746214906, 0.015991364551790885, 0.07835768630377533, 0.012098243072159657, 0.07631199476285322, 0.14704018503086352, 0.3164155880410987, 0.0009306340824738198, 0.1833349142473425, 0.0009306340824738198, 0.263369445340091, 0.10608944897711635, 0.09404435870023851, 0.0718072689583102, 0.48998809549401773, 0.04107684632883981, 0.08817623779611854, 0.05451175471458817, 0.04107684632883981, 0.013126059917110466, 0.06908780714457347, 0.004562402358603909, 0.01955315296544532, 0.11862246132370162, 0.698047560866398, 0.018249609434415635, 0.022160240027504698, 0.04953465417912815, 0.991389649688102, 0.9957346437563145, 0.988880372500157, 0.9959471093699868, 0.9939054964119985, 0.10184628057503123, 0.0403541866429369, 0.06149209393209432, 0.0441974425136928, 0.7494348947973996, 0.995188212518624, 0.008799242584211905, 0.9811155481396273, 0.008799242584211905, 0.8006439135496893, 0.14255771545605234, 0.008288239270700718, 0.0016576478541401435, 0.04641413991592402, 0.4732125843048551, 0.31975928536155224, 0.07867402636179484, 0.043621242339212975, 0.03232645637638105, 0.0003894753780286873, 0.010905310584803244, 0.031936980998352356, 0.009347409072688495, 0.11186747747458985, 0.881515722499768, 0.10336490928259358, 0.8909070752452113, 0.9944514384873924, 0.9930408965372727, 0.9894210264107597, 0.9982467809459774, 0.18835954811478456, 0.07930928341675139, 0.002478415106773481, 0.6171253615865968, 0.11152867980480666, 0.9924767118968875, 0.9965663777377214, 0.9993180988710056, 0.8356852341222438, 0.10124938641264075, 0.018134218461965508, 0.001511184871830459, 0.006044739487321836, 0.001511184871830459, 0.0256901428211178, 0.010578294102813213, 0.9894953342824832, 0.11855104938120566, 0.0313153715346581, 0.020131310272280205, 0.029824163366341045, 0.08723567784654755, 0.1767081679455707, 0.5353437324258218, 0.2815209315911497, 0.02346007763259581, 0.0063982029907079475, 0.0021327343302359825, 0.0063982029907079475, 0.5353163168892316, 0.14289320012581083, 0.9978715008804934, 0.9893996958309775, 0.004090157948545482, 0.9898182235480066, 0.9926230987656175, 0.14371564637770443, 0.6906335228706352, 0.12076106397015442, 0.040919038204763065, 0.000998025322067392, 0.001996050644134784, 0.04273382795887252, 0.9159283792518343, 0.008546765591774504, 0.004273382795887252, 0.028489218639248345, 0.9946748113933945, 0.9993817547544995, 0.9895480311348995, 0.9909698699190906, 0.00314593609498124, 0.07357240056403089, 0.9196550070503862, 0.9912300678751244, 0.15862245021245464, 0.11405085263209548, 0.11011806461029909, 0.26349679746035853, 0.0026218586811975974, 0.0026218586811975974, 0.34870720459928045, 0.9920157029975326, 0.9964246135277189, 0.984461387901452, 0.9976146427051861, 0.9932038524457542, 0.9974006062881664, 0.007933534198740388, 0.007933534198740388, 0.9837582406438081, 0.9887851416149239, 0.9936772298045683, 0.05410572641622028, 0.2649589249500199, 0.5362832294784187, 0.05012736417973349, 0.005569707131081499, 0.08593262430811456, 0.000795672447297357, 0.001591344894594714, 0.000795672447297357, 0.017529873032735867, 0.23007958355465824, 0.25363535044239705, 0.0010956170645459917, 0.03396412900092574, 0.0016434255968189875, 0.0010956170645459917, 0.4596113585770435, 0.0016434255968189875, 0.9911848288670196, 0.9931128842052462, 0.006835511908470305, 0.9740604469570184, 0.006835511908470305, 0.006835511908470305, 0.0034177559542351525, 0.9932828824942557, 0.8693937009866856, 0.0021361024594267457, 0.12603004510617802, 0.7413213598626441, 0.20494413404410033, 0.0016011260472195339, 0.0008005630236097669, 0.0032022520944390677, 0.0008005630236097669, 0.04723321839297625, 0.18545953337073245, 0.65711567255591, 0.03409562451941042, 0.08730546278455094, 0.022213815974767397, 0.0010332007430124371, 0.0005166003715062186, 0.0005166003715062186, 0.011365208173136809, 0.03549459754514137, 0.0021382287677796006, 0.9617752997472644, 0.13278855573897871, 0.8611136644891346, 0.0040238956284539005, 0.9901197402340919, 0.995637644578398, 0.9960206002941392, 0.9130213324607722, 0.0017324882968895107, 0.0329172776409007, 0.0034649765937790214, 0.0485096723129063, 0.007863133530341801, 0.0019657833825854503, 0.39774350440978945, 0.5287957299154862, 0.06290506824273441, 0.9884088433135371, 0.9969865066460726, 0.005539753600743903, 0.9860761409324147, 0.1324672962980526, 0.04740934814877672, 0.7083514370464286, 0.00278878518522216, 0.00278878518522216, 0.012549533333499719, 0.0906355185197202, 0.13278104893959766, 0.11860054856740761, 0.36353646408705376, 0.024493591551964615, 0.002578272794943644, 0.3493559637148637, 0.009023954782302753, 0.9952301148970223, 0.9951792278796512, 0.00131712623932972, 0.00197568935899458, 0.9582093391123712, 0.037538097820897016, 0.0027535756310049443, 0.9940408027927848, 0.0027535756310049443, 0.011589335204890945, 0.019315558674818243, 0.9657779337409121, 0.9956880125332012, 0.25283167560345254, 0.6752181247569949, 0.03826236040289638, 0.009002908330093266, 0.005251696525887738, 0.003000969443364422, 0.015755089577663216, 0.984306031639406, 0.005965491100844885, 0.005965491100844885, 0.9957525038067437, 0.9958287170120644, 0.11014232790790311, 0.04751237674458565, 0.1554950511640985, 0.0064789604651707714, 0.07990717907043951, 0.5982240162841012, 0.9864849436228501, 0.0051428706038051455, 0.0051428706038051455, 0.987431155930588, 0.9965406918710867, 0.07970303892848524, 0.9165849476775801, 0.013239473138545094, 0.9863407488216095, 0.9925492014897173, 0.23185948542397986, 0.31939145254369555, 0.06080464891522238, 0.006681829551123338, 0.3434460389277396, 0.00868637841646034, 0.028731867069830355, 0.0032347219883675092, 0.012938887953470037, 0.004852082982551264, 0.9785034014811715, 0.014986674497859075, 0.18546009691100607, 0.7980404170109958, 0.9940809355409244, 0.036755970309932606, 0.0021621159005842713, 0.08432252012278657, 0.0021621159005842713, 0.0021621159005842713, 0.8324146217249444, 0.03891808621051688, 0.00021867327261240665, 0.9951820636590626, 0.00393611890702332, 0.00021867327261240665, 0.990351258794376, 0.42266721492473075, 0.26795888027524795, 0.06825367705124241, 0.1693702356456756, 0.029829384785357793, 0.000505582792972166, 0.003033496757832996, 0.03235729875021862, 0.006066993515665992, 0.02058021304692109, 0.9713860558146754, 0.004116042609384218, 0.07569566543477343, 0.9234871183042358, 0.1136899001304681, 0.0016476797120357697, 0.21255068285261428, 0.0008238398560178849, 0.00041191992800894243, 0.6706056427985583, 0.9974233268039596, 0.005483148134053229, 0.005483148134053229, 0.9814835159955279, 0.9950896511862353, 0.9951289378095952, 0.9909149510935796, 0.14317658256377272, 0.029750978195069656, 0.003718872274383707, 0.0018594361371918535, 0.8144330280900318, 0.0018594361371918535, 0.003718872274383707, 0.26055635202515925, 0.027718760853740348, 0.0018479173902493566, 0.7077523604655035, 0.0018479173902493566, 0.9950184075225313, 0.9870915170520693, 0.0018649099282946255, 0.0018649099282946255, 0.9958619017093301, 0.9950571980538852, 0.21037495459219058, 0.7062587761309255, 0.01252231872572563, 0.002504463745145126, 0.05008927490290252, 0.001252231872572563, 0.010017854980580504, 0.006261159362862815, 0.9968659976262886, 0.9496683862310732, 0.0427045741131746, 0.0020335511482464093, 0.0020335511482464093, 0.9895937498596095, 0.18903424271479524, 0.7498056804333265, 0.05607714377185313, 0.0009044700608363408, 0.0009044700608363408, 0.0009044700608363408, 0.0009044700608363408, 0.0009044700608363408, 0.006038860525400881, 0.9762824516064758, 0.01409067455926872, 0.9975191247767174, 0.011242957414990576, 0.0074953049433270505, 0.23422827947897032, 0.7045586646727428, 0.04122417718829878, 0.9953245000854928, 0.9900911998356899, 0.9914608627979773, 0.9956082754162908, 0.0005073662879848255, 0.9990042210421214, 0.9941236423074233, 0.023156172744940515, 0.003308024677848645, 0.9659432059318043, 0.00661604935569729, 0.9918408503954955, 0.8802304311206297, 0.009964872805139205, 0.10795278872234139, 0.9929433604584825, 0.03875567253104378, 0.005962411158622121, 0.0029812055793110603, 0.9510045798002283, 0.22259461581803378, 0.5126421455203203, 0.04519345230244928, 0.019561345026433273, 0.09983031254869394, 0.006070762249582739, 0.005396233110740213, 0.0661038556065676, 0.022933990720645905, 0.011506843634473216, 0.00657533921969898, 0.1799999111392596, 0.00657533921969898, 0.001643834804924745, 0.7775338627294044, 0.00328766960984949, 0.01315067843939796, 0.9969855902760881, 0.0015324678222381712, 0.07738962502302765, 0.7938183319193728, 0.002298701733357257, 0.12412989360129188, 0.01525751158950218, 0.0007265481709286752, 0.9837462234374262, 0.9970484625929376, 0.009892115782926788, 0.9842655204012154, 0.0032973719276422624, 0.13345020254018752, 0.8635013105541546, 0.9963313445801489, 0.6253643009430823, 0.12875147372357576, 0.07710939909818548, 0.07427969637898602, 0.04598266918699134, 0.0028297027191994673, 0.016978216315196804, 0.0028297027191994673, 0.027589601512194806, 0.0018630839298868565, 0.935268132803202, 0.061481769686266265, 0.9913594340277312, 0.004445558000124355, 0.07265041811019861, 0.007705347375324095, 0.9191378654850885, 0.9920883648679277, 0.2858055594800913, 0.09228039282106268, 0.023729243868273263, 0.05905945140548012, 0.29266067437537024, 0.0026365826520303626, 0.027420459581115768, 0.06907846548319549, 0.14764862851370028, 0.9878146076413266, 0.0044089603066664595, 0.9920160689999534, 0.3586730630596976, 0.06443228677719118, 0.020761514628206048, 0.16609211702564838, 0.26846786157162994, 0.047250343636606865, 0.004295485785146079, 0.03436388628116863, 0.03507980057869298, 0.1944920704065683, 0.2553844475899331, 0.05089512122788703, 0.021812194811951582, 0.004544207252489913, 0.4662356641054651, 0.005453048702987896, 0.005517574737652616, 0.05517574737652616, 0.9379877054009448, 0.9962607775877077, 0.14093232122060395, 0.0012812029201873085, 0.8404691156428744, 0.015374435042247702, 0.0012812029201873085, 0.9909203110333303, 0.2549521148415761, 0.04201458072295636, 0.5041749686754763, 0.03628531971528049, 0.0964425602958771, 0.001909753669225289, 0.06302187108443454, 0.12937634336899856, 0.4559574043004513, 0.0012560810035825104, 0.4119945691750634, 0.0012560810035825104, 0.006592327692559405, 0.9888491538839107, 0.1642939607235924, 0.7046922334958008, 0.011275075735932812, 0.0016107251051332588, 0.08858988078232924, 0.005637537867966406, 0.0008053625525666294, 0.0136911633936327, 0.008858988078232924, 0.3105592846682265, 0.5362119668778985, 0.006884319118261179, 0.03824621732367322, 0.10555955981333809, 0.002294773039420393, 0.2910673920267349, 0.5097373109097642, 0.023639991230597755, 0.0842174687590045, 0.07535247204753034, 0.004801873218715169, 0.0033243737668028094, 0.005909997807649439, 0.0018468743148904497, 0.0003693748629780899, 0.07847192246779143, 0.009231990878563696, 0.004615995439281848, 0.12924787229989176, 0.025387974916050167, 0.004615995439281848, 0.7477912611636595, 0.2208354191713499, 0.1877101062956474, 0.023463763286955926, 0.004140664109462811, 0.002760442739641874, 0.5507083265585538, 0.009661549588746559, 0.09571034050315588, 0.003501597823286191, 0.04902236952600667, 0.8508882710585444, 0.0011671992744287302, 0.9948027215264184, 0.9902758792615703, 0.5515408021689461, 0.2748368519948167, 0.12584241728567017, 0.009335490896563069, 0.008588651624838023, 0.002240517815175136, 0.008962071260700545, 0.011576008711738205, 0.007094973081387932, 0.9888178432993305, 0.9950040417145305, 0.9936464469453473, 0.9939853884183728, 0.1566479417598108, 0.005164217860213542, 0.17041918938704692, 0.055084990508944456, 0.013771247627236114, 0.5835566182041303, 0.013771247627236114, 0.0017214059534045143, 0.22428497302726488, 0.045714134629761, 0.21357072272341465, 0.07214261871259157, 0.27428480777856595, 0.0007142833535900156, 0.01142853365744025, 0.15857090449698347, 0.9960389501567476, 0.0025474141947742905, 0.0011875489856956385, 0.09737901682704236, 0.5343970435630373, 0.3669526365799523, 0.9848842437015265, 0.9961854295888574, 0.9797119575470986, 0.017144959257074228, 0.9946014071399742, 0.029083219740265266, 0.0022371707492511743, 0.9664577636765073, 0.9784934328126671, 0.020291338468465446, 0.14387255467562132, 0.056200216670164574, 0.7609509337140283, 0.017984069334452665, 0.011240043334032914, 0.005620021667016457, 0.004496017333613166, 0.9884870174201513, 0.9931536392800313, 0.9915109630263114, 0.005007631126395512, 0.17108934507393006, 0.0169395391162307, 0.0338790782324614, 0.0016939539116230698, 0.00508186173486921, 0.7690550758768737, 0.0016939539116230698, 0.22177344346898634, 0.03696224057816439, 0.0030173257614828073, 0.007543314403707019, 0.0022629943211121056, 0.021875611770750356, 0.6728636448106661, 0.0015086628807414037, 0.027155931853345267, 0.004525988642224211, 0.176462724255226, 0.06137833887138295, 0.7557207973539025, 0.9973971216190939, 0.9945049576568795, 0.33749084356364517, 0.021444198834603776, 0.34412833367911777, 0.0449307023201222, 0.12100655056669274, 0.0857767953384151, 0.019912470346417792, 0.02603938429916173, 0.0005105761627286614, 0.003935321404535923, 0.007870642809071847, 0.003935321404535923, 0.027547249831751466, 0.9523477798976935, 0.008994253560930298, 0.06745690170697723, 0.0022485633902325744, 0.017988507121860595, 0.0697054650972098, 0.8342170177762851, 0.22296471783519975, 0.13472426413363658, 0.44813544701293856, 0.020484391037862874, 0.0059877450726060705, 0.05483513908597139, 0.04601109371581507, 0.04081120983697296, 0.025369130439199406, 0.0006302889550111653, 0.9948228301870826, 0.004285606224741536, 0.9942606441400363, 0.9954258624746695, 0.2872521474385471, 0.10405562483743289, 0.0952621917525794, 0.15535065116574487, 0.001465572180808914, 0.0073278609040445695, 0.004396716542426742, 0.34294389030928585, 0.001465572180808914, 0.024326547260776356, 0.9735634687250908, 0.0017555240291281906, 0.8110558619888212, 0.011894494767938716, 0.10110320552747909, 0.07434059229961698, 0.0007434059229961698, 0.0007434059229961698, 0.995293725833245, 0.027151456180946026, 0.008263486663766181, 0.672883914049532, 0.007082988568942442, 0.1381182770943776, 0.11804980948237402, 0.025970958086122285, 0.0011804980948237403, 0.9977421322285446, 0.9950687376033364, 0.9985974596122931, 0.9955971429233637, 0.9886347781670518, 0.4694542832148496, 0.1928669512282936, 0.11410777821866887, 0.11658838209298776, 0.026046340680348327, 0.0012403019371594443, 0.011162717434434997, 0.05953449298365332, 0.008061962591536388, 0.0012403019371594443, 0.8840361990937622, 0.021852580202317715, 0.08939691900948157, 0.003973196400421403, 0.47026970327376433, 0.021006283575629243, 0.0020328661524802493, 0.1768593552657817, 0.012197196914881496, 0.18837893012983645, 0.02574963793141649, 0.10299855172566597, 0.0006776220508267497, 0.9843749670504011, 0.09057543269965145, 0.2835404849728219, 0.05382018464761897, 0.2323456751860624, 0.001312687430429731, 0.33604798219001114, 0.002625374860859462, 0.9929921372291194, 0.004503365701719363, 0.01800136847015664, 0.9515009048511366, 0.028287864738817576, 0.9909765069624458, 0.3431919014317878, 0.40182770368646514, 0.1471643664431117, 0.01379665935404172, 0.0229944322567362, 0.04024025644928835, 0.02816817951450185, 0.001724582419255215, 0.0005748608064184051, 0.1050355846705675, 0.20918851736911342, 0.15622939904781888, 0.4307341623465289, 0.0008826519720215757, 0.06443359395757502, 0.015005083524366785, 0.01853569141245309, 0.6890910941146199, 0.151251393425456, 0.0005127165878829016, 0.030250278685091198, 0.04768264267310986, 0.06614043983689431, 0.004101732703063213, 0.003589016115180312, 0.007690748818243525, 0.9959712806900353, 0.9885017674658723, 0.20044817421364108, 0.3951102155633832, 0.15043945446137186, 0.0392630444335998, 0.12564174218751936, 0.026450893092109337, 0.006199428068463126, 0.05166190057052605, 0.004132952045642084, 0.0766928341581587, 0.002359779512558729, 0.12742809367817137, 0.0008849173172095234, 0.0005899448781396823, 0.7619138101173997, 0.008259228293955553, 0.021827960491168245, 0.012094680662838943, 0.13001781712551863, 0.8526749867301455, 0.003023670165709736, 0.7778297789008876, 0.21568642340701466, 0.0050949548836302675, 0.49207396034136464, 0.06228132761642795, 0.3443488278957876, 0.011323877748441446, 0.022133033781044642, 0.021103590349368147, 0.0025736085791912373, 0.00205888686335299, 0.042207180698736295, 0.33209552720887153, 0.029888597448798435, 0.1574132798970051, 0.013283821088354861, 0.02191830479578552, 0.3227968524470231, 0.0431724185371533, 0.03320955272088715, 0.003985146326506458, 0.04117984537390007, 0.04315351253262787, 0.8148821616577896, 0.09493772757178132, 0.016542179804174016, 0.02948823356396238, 0.18015712499524153, 0.0028445861841353928, 0.0379278157884719, 0.7746756374795386, 0.00379278157884719, 0.001896390789423595, 0.3729020420373281, 0.014342386232204926, 0.6095514148687093, 0.5174580046579013, 0.06194919774073466, 0.1754359633498116, 0.08329303897913903, 0.09734873930686876, 0.05830512728539733, 0.006246977923435428, 0.9945744953176723, 0.0032824240769560144, 0.9990571491841559], \"Term\": [\"academic\", \"academic\", \"academic\", \"academic\", \"account\", \"account\", \"account\", \"account\", \"account\", \"ago\", \"ago\", \"ago\", \"ai\", \"ai\", \"ai\", \"ai\", \"ai\", \"ai\", \"ai\", \"ai\", \"ai\", \"ai\", \"aiart\", \"aiart\", \"aiart\", \"aiassisted\", \"allows\", \"alternative\", \"american\", \"amp\", \"amp\", \"amp\", \"amp\", \"amp\", \"amp\", \"amp\", \"amp\", \"amp\", \"andrew\", \"answer\", \"answer\", \"answer\", \"answer\", \"answer\", \"answer\", \"answer\", \"answer\", \"anytime\", \"ap\", \"app\", \"app\", \"app\", \"app\", \"app\", \"app\", \"app\", \"app\", \"architecture\", \"arrival\", \"arrived\", \"art\", \"art\", \"art\", \"art\", \"art\", \"art\", \"article\", \"article\", \"article\", \"article\", \"article\", \"article\", \"articles\", \"articles\", \"articles\", \"artificial\", \"ask\", \"ask\", \"ask\", \"ask\", \"ask\", \"ask\", \"ask\", \"ask\", \"asked\", \"asked\", \"asked\", \"asked\", \"asked\", \"asked\", \"asked\", \"asked\", \"asked\", \"asking\", \"asking\", \"asking\", \"asking\", \"asking\", \"asking\", \"asking\", \"asking\", \"asking\", \"ass\", \"atlantic\", \"attempt\", \"attention\", \"attention\", \"attention\", \"author\", \"authors\", \"autogenerated\", \"automate\", \"automate\", \"available\", \"available\", \"average\", \"beat\", \"beat\", \"bet\", \"beyond\", \"beyond\", \"beyond\", \"bias\", \"bias\", \"bias\", \"biased\", \"bigdata\", \"bigdata\", \"billion\", \"bills\", \"bitcoin\", \"bitcoin\", \"bitcoin\", \"bitcoin\", \"bitcoin\", \"biz\", \"black\", \"blew\", \"blog\", \"blog\", \"blog\", \"blog\", \"blog\", \"blowing\", \"blown\", \"blown\", \"blown\", \"blown\", \"blue\", \"blue\", \"book\", \"book\", \"book\", \"book\", \"book\", \"bot\", \"bot\", \"bot\", \"bot\", \"bot\", \"bot\", \"bot\", \"bot\", \"bot\", \"brand\", \"breakthrough\", \"bring\", \"british\", \"bro\", \"browser\", \"btc\", \"build\", \"build\", \"build\", \"build\", \"build\", \"build\", \"build\", \"build\", \"building\", \"building\", \"building\", \"bullish\", \"business\", \"business\", \"business\", \"business\", \"business\", \"business\", \"business\", \"businesses\", \"button\", \"buy\", \"buzz\", \"call\", \"call\", \"call\", \"call\", \"cant\", \"cant\", \"cant\", \"cant\", \"cant\", \"cant\", \"cant\", \"capabilities\", \"capabilities\", \"capabilities\", \"capabilities\", \"cards\", \"cat\", \"catch\", \"catch\", \"caught\", \"caught\", \"caused\", \"censorship\", \"ceo\", \"challenges\", \"change\", \"change\", \"change\", \"change\", \"change\", \"change\", \"changer\", \"changing\", \"chat\", \"chat\", \"chat\", \"chat\", \"chat\", \"chat\", \"chat\", \"chat\", \"chat\", \"chatbot\", \"chatbot\", \"chatbot\", \"chatbots\", \"chatbots\", \"chatbots\", \"chatbots\", \"chatbots\", \"chatgpt\", \"chatgpt\", \"chatgpt\", \"chatgpt\", \"chatgpt\", \"chatgpt\", \"chatgpt\", \"chatgpt\", \"chatgpt\", \"chatgpt\", \"chatgptn\", \"chatgptnjoin\", \"chatgptnn\", \"chatgpts\", \"chatgpts\", \"chatgpts\", \"chatgpts\", \"chatgpts\", \"chatsonic\", \"cheat\", \"cheat\", \"cheating\", \"cheating\", \"check\", \"check\", \"check\", \"check\", \"check\", \"child\", \"child\", \"christmas\", \"christmas\", \"christmas\", \"chrome\", \"city\", \"client\", \"client\", \"cloud\", \"cnet\", \"cnn\", \"code\", \"code\", \"code\", \"code\", \"code\", \"code\", \"code\", \"code\", \"code\", \"code\", \"codes\", \"coding\", \"coding\", \"coding\", \"coding\", \"coding\", \"coding\", \"coding\", \"comes\", \"comes\", \"comes\", \"comes\", \"comes\", \"comments\", \"comments\", \"company\", \"company\", \"company\", \"company\", \"company\", \"compass\", \"computers\", \"concerned\", \"content\", \"content\", \"content\", \"content\", \"content\", \"content\", \"content\", \"content\", \"control\", \"control\", \"controversial\", \"conversational\", \"conversational\", \"conversational\", \"conversations\", \"conversations\", \"conversations\", \"copy\", \"copy\", \"copy\", \"copy\", \"copy\", \"copywriting\", \"could\", \"could\", \"could\", \"could\", \"could\", \"could\", \"could\", \"could\", \"could\", \"could\", \"counter\", \"cover\", \"cover\", \"cover\", \"cover\", \"cover\", \"covid\", \"crazy\", \"crazy\", \"crazy\", \"crazy\", \"crazy\", \"crazy\", \"crazy\", \"crazy\", \"creator\", \"creepy\", \"crisis\", \"crisis\", \"crypto\", \"crypto\", \"crypto\", \"crypto\", \"cryptocurrency\", \"css\", \"customer\", \"cybersecurity\", \"cybersecurity\", \"dalle\", \"dalle\", \"dalle\", \"dalle\", \"danger\", \"dangerous\", \"dangerous\", \"dangerous\", \"dangerous\", \"dangerous\", \"data\", \"data\", \"data\", \"data\", \"data\", \"data\", \"data\", \"data\", \"data\", \"datascience\", \"datascience\", \"daysofcode\", \"dec\", \"deeplearning\", \"defeat\", \"defeated\", \"demo\", \"designs\", \"desktop\", \"detect\", \"detect\", \"detector\", \"determine\", \"developer\", \"developer\", \"developer\", \"developer\", \"developers\", \"developers\", \"developers\", \"developers\", \"developers\", \"discord\", \"discord\", \"disease\", \"display\", \"disrupt\", \"disruption\", \"doesnt\", \"doesnt\", \"doesnt\", \"doesnt\", \"doesnt\", \"doesnt\", \"doesnt\", \"dont\", \"dont\", \"dont\", \"dont\", \"dont\", \"dont\", \"dont\", \"dont\", \"download\", \"draw\", \"dreamlike\", \"drjdrooghaag\", \"earn\", \"easier\", \"economic\", \"economy\", \"economy\", \"education\", \"education\", \"education\", \"education\", \"education\", \"educators\", \"eerily\", \"elon\", \"elon\", \"elon\", \"elon\", \"elon\", \"elon\", \"elon\", \"elonmusk\", \"elonmusk\", \"elonmusk\", \"elonmusk\", \"elonmusk\", \"elonmusk\", \"elonmusk\", \"elonmusk\", \"elonmusk\", \"else\", \"else\", \"email\", \"email\", \"email\", \"emails\", \"emails\", \"emails\", \"emails\", \"emerging\", \"end\", \"end\", \"end\", \"end\", \"end\", \"end\", \"end\", \"engine\", \"engine\", \"engineers\", \"engineers\", \"engines\", \"engines\", \"essays\", \"essays\", \"essays\", \"essays\", \"essential\", \"ethics\", \"everyday\", \"everyones\", \"everyones\", \"everything\", \"everything\", \"everything\", \"everything\", \"everything\", \"everything\", \"evidence\", \"evolution\", \"exam\", \"exams\", \"exams\", \"exams\", \"exams\", \"experiment\", \"expert\", \"expert\", \"experts\", \"explained\", \"explained\", \"explained\", \"explained\", \"explore\", \"exploring\", \"expose\", \"extension\", \"eyeopening\", \"facebook\", \"fall\", \"family\", \"family\", \"fantasy\", \"fears\", \"feedback\", \"feedback\", \"feedback\", \"film\", \"fintech\", \"firms\", \"first\", \"first\", \"first\", \"first\", \"first\", \"first\", \"first\", \"first\", \"flood\", \"floor\", \"focus\", \"focus\", \"focus\", \"forbes\", \"former\", \"formula\", \"formula\", \"forward\", \"forward\", \"founded\", \"front\", \"front\", \"front\", \"future\", \"future\", \"future\", \"future\", \"future\", \"future\", \"future\", \"game\", \"game\", \"game\", \"game\", \"game\", \"games\", \"games\", \"garbage\", \"generate\", \"generate\", \"generate\", \"generate\", \"generate\", \"generate\", \"generative\", \"generative\", \"generative\", \"generative\", \"generator\", \"get\", \"get\", \"get\", \"get\", \"get\", \"get\", \"get\", \"get\", \"get\", \"gets\", \"gets\", \"gets\", \"gets\", \"github\", \"github\", \"github\", \"go\", \"go\", \"go\", \"go\", \"go\", \"go\", \"go\", \"go\", \"go\", \"go\", \"going\", \"going\", \"going\", \"going\", \"going\", \"going\", \"going\", \"going\", \"good\", \"good\", \"good\", \"good\", \"good\", \"good\", \"google\", \"google\", \"google\", \"google\", \"google\", \"google\", \"google\", \"googles\", \"googles\", \"googles\", \"googles\", \"googles\", \"got\", \"got\", \"got\", \"got\", \"got\", \"got\", \"got\", \"got\", \"gotten\", \"government\", \"governments\", \"gpt\", \"gpt\", \"gpt\", \"gpt\", \"gpt\", \"gpt\", \"gpt\", \"gpt\", \"gpt\", \"grader\", \"grammarly\", \"guest\", \"guide\", \"guide\", \"hack\", \"hack\", \"hack\", \"hack\", \"haiku\", \"haiku\", \"happened\", \"happened\", \"happened\", \"happened\", \"hasnt\", \"headlines\", \"hear\", \"heard\", \"heard\", \"heard\", \"heard\", \"helped\", \"heres\", \"heres\", \"heres\", \"heres\", \"heres\", \"heres\", \"heres\", \"hey\", \"hey\", \"hey\", \"hey\", \"hey\", \"hey\", \"hey\", \"higher\", \"hiring\", \"hitting\", \"homework\", \"homework\", \"homework\", \"homework\", \"horror\", \"human\", \"human\", \"human\", \"human\", \"human\", \"human\", \"human\", \"human\", \"human\", \"human\", \"humans\", \"humans\", \"humans\", \"humans\", \"humans\", \"humans\", \"humans\", \"humans\", \"hundreds\", \"hunt\", \"ideas\", \"ideas\", \"ideas\", \"ideas\", \"ideas\", \"ideas\", \"im\", \"im\", \"im\", \"im\", \"im\", \"im\", \"im\", \"im\", \"images\", \"images\", \"images\", \"immediately\", \"implications\", \"implications\", \"include\", \"include\", \"industry\", \"industry\", \"industry\", \"industry\", \"industry\", \"industry\", \"inevitable\", \"insane\", \"insane\", \"inside\", \"insight\", \"instagram\", \"intelligence\", \"interview\", \"interview\", \"interview\", \"interview\", \"interview\", \"interview\", \"interview\", \"introducing\", \"iot\", \"irony\", \"javascript\", \"javascript\", \"javascript\", \"jimharris\", \"job\", \"job\", \"job\", \"job\", \"job\", \"job\", \"job\", \"job\", \"jolaburnett\", \"journal\", \"kids\", \"kids\", \"kill\", \"kill\", \"kill\", \"kill\", \"kill\", \"kill\", \"kill\", \"know\", \"know\", \"know\", \"know\", \"know\", \"know\", \"know\", \"know\", \"know\", \"know\", \"lack\", \"lack\", \"language\", \"language\", \"language\", \"language\", \"language\", \"launch\", \"launch\", \"law\", \"law\", \"law\", \"leading\", \"leading\", \"learned\", \"learned\", \"learned\", \"learning\", \"learning\", \"learning\", \"learning\", \"learning\", \"learning\", \"learning\", \"letters\", \"leverage\", \"lie\", \"lie\", \"lie\", \"lies\", \"lies\", \"like\", \"like\", \"like\", \"like\", \"like\", \"like\", \"like\", \"like\", \"like\", \"linkedin\", \"linkedin\", \"linux\", \"lives\", \"lying\", \"lying\", \"machine\", \"machine\", \"machinelearning\", \"machinelearning\", \"machines\", \"made\", \"made\", \"made\", \"made\", \"made\", \"made\", \"made\", \"made\", \"made\", \"magic\", \"magic\", \"magic\", \"make\", \"make\", \"make\", \"make\", \"make\", \"make\", \"make\", \"make\", \"make\", \"maker\", \"malware\", \"management\", \"management\", \"management\", \"managers\", \"many\", \"many\", \"many\", \"many\", \"many\", \"many\", \"many\", \"many\", \"market\", \"market\", \"marketing\", \"marketing\", \"martinibuster\", \"martinibuster\", \"master\", \"mean\", \"mean\", \"mean\", \"mean\", \"mean\", \"media\", \"media\", \"medical\", \"meet\", \"meet\", \"meme\", \"metaverse\", \"midjourney\", \"midjourney\", \"midjourney\", \"midjourney\", \"million\", \"million\", \"million\", \"min\", \"mind\", \"mind\", \"mind\", \"mind\", \"mindblowing\", \"mindblowing\", \"mindblowing\", \"ml\", \"ml\", \"ml\", \"ml\", \"ml\", \"ml\", \"model\", \"model\", \"model\", \"model\", \"model\", \"model\", \"model\", \"model\", \"month\", \"month\", \"movie\", \"movie\", \"movies\", \"music\", \"music\", \"music\", \"music\", \"musk\", \"musk\", \"musk\", \"musk\", \"musk\", \"musks\", \"musks\", \"nai\", \"names\", \"nchatgpt\", \"nchatgpt\", \"nchatgpt\", \"nchatgpt\", \"nchatgpt\", \"nchatgpt\", \"nchatgpt\", \"nchatgpt\", \"need\", \"need\", \"need\", \"need\", \"need\", \"need\", \"need\", \"need\", \"need\", \"need\", \"needs\", \"needs\", \"needs\", \"needs\", \"needs\", \"needs\", \"needs\", \"new\", \"new\", \"new\", \"new\", \"new\", \"new\", \"new\", \"new\", \"new\", \"news\", \"news\", \"news\", \"news\", \"news\", \"news\", \"news\", \"news\", \"newsletter\", \"newsletter\", \"next\", \"next\", \"next\", \"next\", \"next\", \"next\", \"next\", \"next\", \"next\", \"nft\", \"nft\", \"nft\", \"nn\", \"nn\", \"nn\", \"nn\", \"nn\", \"nn\", \"nn\", \"nn\", \"nn\", \"nnwhat\", \"notes\", \"notion\", \"nthis\", \"nthis\", \"nytimes\", \"obsessed\", \"offers\", \"official\", \"official\", \"oh\", \"oh\", \"oh\", \"oh\", \"one\", \"one\", \"one\", \"one\", \"one\", \"one\", \"one\", \"one\", \"one\", \"one\", \"online\", \"online\", \"online\", \"online\", \"online\", \"open\", \"open\", \"open\", \"open\", \"open\", \"open\", \"open\", \"open\", \"openai\", \"openai\", \"openai\", \"openai\", \"openai\", \"openai\", \"openai\", \"openai\", \"openai\", \"openais\", \"openais\", \"openais\", \"openais\", \"openais\", \"openais\", \"openais\", \"openais\", \"overflow\", \"overhyped\", \"overview\", \"owners\", \"owns\", \"page\", \"page\", \"page\", \"page\", \"page\", \"panic\", \"papers\", \"papers\", \"papers\", \"pay\", \"pay\", \"pay\", \"pay\", \"pay\", \"people\", \"people\", \"people\", \"people\", \"people\", \"people\", \"people\", \"people\", \"people\", \"personality\", \"personality\", \"perspective\", \"perspective\", \"philosophy\", \"phishing\", \"picked\", \"plagiarism\", \"plan\", \"plan\", \"plan\", \"plan\", \"plan\", \"platforms\", \"poe\", \"poem\", \"point\", \"point\", \"point\", \"point\", \"point\", \"point\", \"point\", \"point\", \"policy\", \"post\", \"post\", \"post\", \"post\", \"post\", \"post\", \"post\", \"power\", \"power\", \"power\", \"power\", \"power\", \"power\", \"power\", \"predictions\", \"pretrained\", \"price\", \"price\", \"pro\", \"problem\", \"problem\", \"problem\", \"problem\", \"problem\", \"problem\", \"problems\", \"problems\", \"problems\", \"problems\", \"problems\", \"process\", \"professor\", \"professors\", \"program\", \"program\", \"programmed\", \"programmed\", \"programmer\", \"programming\", \"programming\", \"programming\", \"programming\", \"programming\", \"programming\", \"programming\", \"propaganda\", \"pros\", \"protect\", \"proven\", \"publicly\", \"published\", \"purpose\", \"purpose\", \"purpose\", \"push\", \"pushing\", \"question\", \"question\", \"question\", \"question\", \"question\", \"question\", \"question\", \"question\", \"question\", \"questions\", \"questions\", \"questions\", \"questions\", \"questions\", \"questions\", \"questions\", \"questions\", \"questions\", \"rails\", \"raise\", \"random\", \"random\", \"random\", \"random\", \"random\", \"rap\", \"react\", \"react\", \"react\", \"real\", \"real\", \"real\", \"real\", \"real\", \"real\", \"real\", \"really\", \"really\", \"really\", \"really\", \"really\", \"really\", \"really\", \"really\", \"really\", \"red\", \"red\", \"red\", \"reddit\", \"reddit\", \"reddit\", \"redditnn\", \"regulation\", \"reinforcement\", \"release\", \"release\", \"release\", \"release\", \"release\", \"replace\", \"replace\", \"replace\", \"replace\", \"replace\", \"replicate\", \"report\", \"requests\", \"requests\", \"research\", \"research\", \"research\", \"research\", \"research\", \"research\", \"research\", \"response\", \"response\", \"response\", \"response\", \"response\", \"response\", \"response\", \"resume\", \"revenue\", \"review\", \"review\", \"review\", \"review\", \"revolution\", \"revolution\", \"revolution\", \"revolutionary\", \"revolutionary\", \"revolutionary\", \"revolutionize\", \"right\", \"right\", \"right\", \"right\", \"right\", \"right\", \"right\", \"rival\", \"rival\", \"rival\", \"rlhf\", \"roll\", \"rt\", \"rt\", \"rt\", \"rt\", \"rt\", \"rt\", \"rtechnology\", \"sad\", \"sad\", \"sad\", \"sales\", \"sample\", \"sample\", \"santa\", \"santa\", \"saving\", \"say\", \"say\", \"say\", \"say\", \"say\", \"say\", \"say\", \"scary\", \"scary\", \"scary\", \"scary\", \"school\", \"school\", \"school\", \"schools\", \"script\", \"script\", \"script\", \"script\", \"script\", \"script\", \"script\", \"search\", \"search\", \"search\", \"search\", \"searches\", \"see\", \"see\", \"see\", \"see\", \"see\", \"see\", \"see\", \"see\", \"see\", \"seem\", \"seem\", \"seem\", \"sejournal\", \"sejournal\", \"seo\", \"seo\", \"seo\", \"seo\", \"seo\", \"seo\", \"seos\", \"series\", \"series\", \"series\", \"services\", \"session\", \"share\", \"short\", \"short\", \"short\", \"short\", \"short\", \"short\", \"short\", \"show\", \"show\", \"show\", \"show\", \"show\", \"shown\", \"site\", \"social\", \"social\", \"social\", \"society\", \"software\", \"software\", \"software\", \"software\", \"software\", \"software\", \"software\", \"software\", \"sold\", \"solve\", \"solve\", \"solve\", \"solve\", \"solving\", \"something\", \"something\", \"something\", \"something\", \"something\", \"something\", \"something\", \"something\", \"song\", \"song\", \"song\", \"sounds\", \"source\", \"source\", \"source\", \"source\", \"source\", \"sources\", \"south\", \"spanish\", \"spirosmargaris\", \"stablediffusion\", \"stablediffusion\", \"stack\", \"stackoverflow\", \"stackoverflow\", \"stackoverflow\", \"stackoverflow\", \"stand\", \"startup\", \"startup\", \"startup\", \"statistics\", \"step\", \"step\", \"step\", \"step\", \"still\", \"still\", \"still\", \"still\", \"still\", \"still\", \"still\", \"still\", \"still\", \"story\", \"story\", \"story\", \"story\", \"story\", \"story\", \"story\", \"story\", \"strategy\", \"student\", \"student\", \"student\", \"student\", \"student\", \"students\", \"students\", \"students\", \"study\", \"style\", \"style\", \"style\", \"summary\", \"summary\", \"tactics\", \"take\", \"take\", \"take\", \"take\", \"take\", \"take\", \"take\", \"take\", \"take\", \"taking\", \"taking\", \"taking\", \"teacher\", \"teacher\", \"teachers\", \"teachers\", \"teachers\", \"teams\", \"tech\", \"tech\", \"tech\", \"tech\", \"tech\", \"tech\", \"tech\", \"tech\", \"tech\", \"technews\", \"technologies\", \"technologies\", \"technology\", \"technology\", \"technology\", \"technology\", \"technology\", \"technology\", \"technology\", \"technology\", \"technology\", \"tell\", \"tell\", \"tell\", \"tell\", \"tell\", \"tell\", \"tell\", \"terrible\", \"terrible\", \"terrible\", \"terror\", \"test\", \"test\", \"test\", \"test\", \"test\", \"tests\", \"text\", \"text\", \"text\", \"text\", \"text\", \"text\", \"text\", \"thats\", \"thats\", \"thats\", \"thats\", \"thats\", \"theory\", \"theory\", \"thing\", \"thing\", \"thing\", \"thing\", \"thing\", \"thing\", \"thing\", \"thing\", \"thing\", \"things\", \"things\", \"things\", \"things\", \"things\", \"things\", \"think\", \"think\", \"think\", \"think\", \"think\", \"think\", \"think\", \"think\", \"think\", \"think\", \"thoughts\", \"thoughts\", \"thoughts\", \"thoughts\", \"thoughts\", \"thoughts\", \"thoughts\", \"thread\", \"thread\", \"thread\", \"thread\", \"thread\", \"thread\", \"thread\", \"threat\", \"threat\", \"threat\", \"threat\", \"threat\", \"threatening\", \"tiktok\", \"time\", \"time\", \"time\", \"time\", \"time\", \"time\", \"time\", \"time\", \"time\", \"tinder\", \"tipping\", \"tips\", \"todays\", \"told\", \"told\", \"told\", \"told\", \"told\", \"told\", \"told\", \"told\", \"tool\", \"tool\", \"tool\", \"tool\", \"tool\", \"tool\", \"tool\", \"tool\", \"tools\", \"tools\", \"top\", \"top\", \"top\", \"top\", \"total\", \"towards\", \"traffic\", \"traffic\", \"transformer\", \"trending\", \"trending\", \"trending\", \"trends\", \"trends\", \"tried\", \"tried\", \"tried\", \"tried\", \"tried\", \"tried\", \"tried\", \"trump\", \"truth\", \"tutorial\", \"tutorial\", \"tweet\", \"tweet\", \"tweet\", \"tweet\", \"tweet\", \"tweet\", \"tweet\", \"twitter\", \"twitter\", \"twitter\", \"twitter\", \"twitter\", \"twitter\", \"twitter\", \"twitter\", \"twitter\", \"twitter\", \"ukraine\", \"ukraine\", \"ukraine\", \"unique\", \"universities\", \"used\", \"used\", \"used\", \"used\", \"used\", \"used\", \"used\", \"used\", \"used\", \"useless\", \"useless\", \"useless\", \"useless\", \"useless\", \"users\", \"users\", \"users\", \"users\", \"users\", \"users\", \"using\", \"using\", \"using\", \"using\", \"using\", \"using\", \"using\", \"using\", \"using\", \"using\", \"utc\", \"ux\", \"ux\", \"valley\", \"version\", \"version\", \"version\", \"version\", \"version\", \"version\", \"version\", \"version\", \"version\", \"via\", \"via\", \"via\", \"video\", \"video\", \"video\", \"video\", \"video\", \"video\", \"virtual\", \"vs\", \"vs\", \"vs\", \"vs\", \"vs\", \"vs\", \"vs\", \"vs\", \"warns\", \"washington\", \"watermark\", \"wave\", \"waves\", \"way\", \"way\", \"way\", \"way\", \"way\", \"way\", \"way\", \"way\", \"way\", \"way\", \"ways\", \"ways\", \"ways\", \"ways\", \"web\", \"web\", \"web\", \"web\", \"web\", \"web\", \"web\", \"web\", \"web\", \"weighs\", \"whats\", \"whats\", \"whats\", \"whats\", \"whats\", \"whats\", \"whats\", \"wild\", \"wild\", \"woke\", \"woke\", \"woke\", \"woman\", \"work\", \"work\", \"work\", \"work\", \"work\", \"work\", \"work\", \"work\", \"work\", \"works\", \"works\", \"works\", \"works\", \"works\", \"works\", \"works\", \"works\", \"world\", \"world\", \"world\", \"world\", \"world\", \"world\", \"world\", \"world\", \"world\", \"worlds\", \"worries\", \"would\", \"would\", \"would\", \"would\", \"would\", \"would\", \"would\", \"would\", \"would\", \"write\", \"write\", \"write\", \"write\", \"write\", \"write\", \"write\", \"write\", \"writer\", \"writer\", \"writer\", \"writer\", \"writers\", \"writers\", \"writers\", \"writing\", \"writing\", \"writing\", \"writing\", \"writing\", \"writing\", \"writing\", \"writing\", \"writing\", \"written\", \"written\", \"written\", \"written\", \"written\", \"written\", \"written\", \"written\", \"written\", \"written\", \"wrong\", \"wrong\", \"wrong\", \"wrong\", \"wrong\", \"wrote\", \"wrote\", \"wrote\", \"wrote\", \"wrote\", \"wrote\", \"yall\", \"yall\", \"yall\", \"year\", \"year\", \"year\", \"year\", \"year\", \"year\", \"year\", \"york\", \"york\", \"youtube\"]}, \"R\": 30, \"lambda.step\": 0.01, \"plot.opts\": {\"xlab\": \"PC1\", \"ylab\": \"PC2\"}, \"topic.order\": [5, 7, 6, 4, 8, 1, 9, 3, 2, 10]};\n",
              "\n",
              "function LDAvis_load_lib(url, callback){\n",
              "  var s = document.createElement('script');\n",
              "  s.src = url;\n",
              "  s.async = true;\n",
              "  s.onreadystatechange = s.onload = callback;\n",
              "  s.onerror = function(){console.warn(\"failed to load library \" + url);};\n",
              "  document.getElementsByTagName(\"head\")[0].appendChild(s);\n",
              "}\n",
              "\n",
              "if(typeof(LDAvis) !== \"undefined\"){\n",
              "   // already loaded: just create the visualization\n",
              "   !function(LDAvis){\n",
              "       new LDAvis(\"#\" + \"ldavis_el49861402423839325449324954759\", ldavis_el49861402423839325449324954759_data);\n",
              "   }(LDAvis);\n",
              "}else if(typeof define === \"function\" && define.amd){\n",
              "   // require.js is available: use it to load d3/LDAvis\n",
              "   require.config({paths: {d3: \"https://d3js.org/d3.v5\"}});\n",
              "   require([\"d3\"], function(d3){\n",
              "      window.d3 = d3;\n",
              "      LDAvis_load_lib(\"https://cdn.jsdelivr.net/gh/bmabey/pyLDAvis@3.4.0/pyLDAvis/js/ldavis.v3.0.0.js\", function(){\n",
              "        new LDAvis(\"#\" + \"ldavis_el49861402423839325449324954759\", ldavis_el49861402423839325449324954759_data);\n",
              "      });\n",
              "    });\n",
              "}else{\n",
              "    // require.js not available: dynamically load d3 & LDAvis\n",
              "    LDAvis_load_lib(\"https://d3js.org/d3.v5.js\", function(){\n",
              "         LDAvis_load_lib(\"https://cdn.jsdelivr.net/gh/bmabey/pyLDAvis@3.4.0/pyLDAvis/js/ldavis.v3.0.0.js\", function(){\n",
              "                 new LDAvis(\"#\" + \"ldavis_el49861402423839325449324954759\", ldavis_el49861402423839325449324954759_data);\n",
              "            })\n",
              "         });\n",
              "}\n",
              "</script>"
            ]
          },
          "metadata": {},
          "execution_count": 22
        }
      ],
      "source": [
        "#model for negative comments\n",
        "chatgpt_pos = chatgpt[chatgpt['labels'] == -1]\n",
        "data = chatgpt_pos.tweet_text.values.tolist()\n",
        "data_words = list(sent_to_words(data))\n",
        "# remove stop words\n",
        "data_words = remove_stopwords(data_words)\n",
        "print(data_words[:1][0][:30])\n",
        "import gensim.corpora as corpora\n",
        "# Create Dictionary\n",
        "id2word = corpora.Dictionary(data_words)\n",
        "# Create Corpus\n",
        "texts = data_words\n",
        "# Term Document Frequency\n",
        "corpus = [id2word.doc2bow(text) for text in texts]\n",
        "# View\n",
        "print(corpus[:1][0][:30])\n",
        "from pprint import pprint\n",
        "# number of topics\n",
        "num_topics = 10\n",
        "# Build LDA model\n",
        "lda_model = gensim.models.LdaMulticore(corpus=corpus,\n",
        "                                       id2word=id2word,\n",
        "                                       num_topics=num_topics)\n",
        "# Print the Keyword in the 10 topics\n",
        "pprint(lda_model.print_topics())\n",
        "doc_lda = lda_model[corpus]\n",
        "pyLDAvis.enable_notebook()\n",
        "vis = pyLDAvis.gensim.prepare(lda_model, corpus, id2word)\n",
        "vis"
      ],
      "id": "CNpSNB1xW4KD"
    },
    {
      "cell_type": "markdown",
      "metadata": {
        "id": "fc699308"
      },
      "source": [
        "## Feature Extraction"
      ],
      "id": "fc699308"
    },
    {
      "cell_type": "code",
      "execution_count": null,
      "metadata": {
        "id": "4530a58a"
      },
      "outputs": [],
      "source": [
        "# Bag of Words representation\n",
        "count_vectorizer = CountVectorizer()\n",
        "bow_vectors = count_vectorizer.fit_transform(chatgpt['tweet_text'])\n",
        "\n",
        "# TF-IDF representation\n",
        "tfidf_vectorizer = TfidfVectorizer()\n",
        "tfidf_vectors = tfidf_vectorizer.fit_transform(chatgpt['tweet_text'])\n",
        "\n",
        "# n-Grams representation\n",
        "ngram_vectorizer = CountVectorizer(ngram_range=(1, 2))  # Example of 2 to 3-gram representation\n",
        "ngram_vectors = ngram_vectorizer.fit_transform(chatgpt['tweet_text'])"
      ],
      "id": "4530a58a"
    },
    {
      "cell_type": "code",
      "execution_count": null,
      "metadata": {
        "colab": {
          "base_uri": "https://localhost:8080/"
        },
        "id": "cee37cf5",
        "outputId": "1c0bd7cb-b0b8-4a04-ab55-e219b36f54fb"
      },
      "outputs": [
        {
          "output_type": "stream",
          "name": "stdout",
          "text": [
            "Bag of Words Vocabulary Size: 162551\n",
            "TF-IDF Vocabulary Size: 162551\n",
            "n-Grams Vocabulary Size: 1238589\n"
          ]
        }
      ],
      "source": [
        "# Print the vocabulary size for each representation\n",
        "print(\"Bag of Words Vocabulary Size:\", len(count_vectorizer.vocabulary_))\n",
        "print(\"TF-IDF Vocabulary Size:\", len(tfidf_vectorizer.vocabulary_))\n",
        "print(\"n-Grams Vocabulary Size:\", len(ngram_vectorizer.vocabulary_))"
      ],
      "id": "cee37cf5"
    },
    {
      "cell_type": "code",
      "execution_count": null,
      "metadata": {
        "colab": {
          "base_uri": "https://localhost:8080/",
          "height": 206
        },
        "id": "2a5aa256",
        "outputId": "f775a70a-9d37-4752-898f-955bac997bc8"
      },
      "outputs": [
        {
          "output_type": "execute_result",
          "data": {
            "text/plain": [
              "                                          tweet_text  labels  text_length\n",
              "0   ChatGPT Optimizing Language Models for Dialogue        0           48\n",
              "1  Try talking with ChatGPT our new AI system whi...       1          113\n",
              "2   ChatGPT Optimizing Language Models for Dialogue        0           48\n",
              "3  THRILLED to share that ChatGPT our new model o...       1          112\n",
              "4  As of 2 minutes ago OpenAI released their new ...      -1           86"
            ],
            "text/html": [
              "\n",
              "  <div id=\"df-1276524f-42c5-4deb-a480-be7707bb7b9c\">\n",
              "    <div class=\"colab-df-container\">\n",
              "      <div>\n",
              "<style scoped>\n",
              "    .dataframe tbody tr th:only-of-type {\n",
              "        vertical-align: middle;\n",
              "    }\n",
              "\n",
              "    .dataframe tbody tr th {\n",
              "        vertical-align: top;\n",
              "    }\n",
              "\n",
              "    .dataframe thead th {\n",
              "        text-align: right;\n",
              "    }\n",
              "</style>\n",
              "<table border=\"1\" class=\"dataframe\">\n",
              "  <thead>\n",
              "    <tr style=\"text-align: right;\">\n",
              "      <th></th>\n",
              "      <th>tweet_text</th>\n",
              "      <th>labels</th>\n",
              "      <th>text_length</th>\n",
              "    </tr>\n",
              "  </thead>\n",
              "  <tbody>\n",
              "    <tr>\n",
              "      <th>0</th>\n",
              "      <td>ChatGPT Optimizing Language Models for Dialogue</td>\n",
              "      <td>0</td>\n",
              "      <td>48</td>\n",
              "    </tr>\n",
              "    <tr>\n",
              "      <th>1</th>\n",
              "      <td>Try talking with ChatGPT our new AI system whi...</td>\n",
              "      <td>1</td>\n",
              "      <td>113</td>\n",
              "    </tr>\n",
              "    <tr>\n",
              "      <th>2</th>\n",
              "      <td>ChatGPT Optimizing Language Models for Dialogue</td>\n",
              "      <td>0</td>\n",
              "      <td>48</td>\n",
              "    </tr>\n",
              "    <tr>\n",
              "      <th>3</th>\n",
              "      <td>THRILLED to share that ChatGPT our new model o...</td>\n",
              "      <td>1</td>\n",
              "      <td>112</td>\n",
              "    </tr>\n",
              "    <tr>\n",
              "      <th>4</th>\n",
              "      <td>As of 2 minutes ago OpenAI released their new ...</td>\n",
              "      <td>-1</td>\n",
              "      <td>86</td>\n",
              "    </tr>\n",
              "  </tbody>\n",
              "</table>\n",
              "</div>\n",
              "      <button class=\"colab-df-convert\" onclick=\"convertToInteractive('df-1276524f-42c5-4deb-a480-be7707bb7b9c')\"\n",
              "              title=\"Convert this dataframe to an interactive table.\"\n",
              "              style=\"display:none;\">\n",
              "        \n",
              "  <svg xmlns=\"http://www.w3.org/2000/svg\" height=\"24px\"viewBox=\"0 0 24 24\"\n",
              "       width=\"24px\">\n",
              "    <path d=\"M0 0h24v24H0V0z\" fill=\"none\"/>\n",
              "    <path d=\"M18.56 5.44l.94 2.06.94-2.06 2.06-.94-2.06-.94-.94-2.06-.94 2.06-2.06.94zm-11 1L8.5 8.5l.94-2.06 2.06-.94-2.06-.94L8.5 2.5l-.94 2.06-2.06.94zm10 10l.94 2.06.94-2.06 2.06-.94-2.06-.94-.94-2.06-.94 2.06-2.06.94z\"/><path d=\"M17.41 7.96l-1.37-1.37c-.4-.4-.92-.59-1.43-.59-.52 0-1.04.2-1.43.59L10.3 9.45l-7.72 7.72c-.78.78-.78 2.05 0 2.83L4 21.41c.39.39.9.59 1.41.59.51 0 1.02-.2 1.41-.59l7.78-7.78 2.81-2.81c.8-.78.8-2.07 0-2.86zM5.41 20L4 18.59l7.72-7.72 1.47 1.35L5.41 20z\"/>\n",
              "  </svg>\n",
              "      </button>\n",
              "      \n",
              "  <style>\n",
              "    .colab-df-container {\n",
              "      display:flex;\n",
              "      flex-wrap:wrap;\n",
              "      gap: 12px;\n",
              "    }\n",
              "\n",
              "    .colab-df-convert {\n",
              "      background-color: #E8F0FE;\n",
              "      border: none;\n",
              "      border-radius: 50%;\n",
              "      cursor: pointer;\n",
              "      display: none;\n",
              "      fill: #1967D2;\n",
              "      height: 32px;\n",
              "      padding: 0 0 0 0;\n",
              "      width: 32px;\n",
              "    }\n",
              "\n",
              "    .colab-df-convert:hover {\n",
              "      background-color: #E2EBFA;\n",
              "      box-shadow: 0px 1px 2px rgba(60, 64, 67, 0.3), 0px 1px 3px 1px rgba(60, 64, 67, 0.15);\n",
              "      fill: #174EA6;\n",
              "    }\n",
              "\n",
              "    [theme=dark] .colab-df-convert {\n",
              "      background-color: #3B4455;\n",
              "      fill: #D2E3FC;\n",
              "    }\n",
              "\n",
              "    [theme=dark] .colab-df-convert:hover {\n",
              "      background-color: #434B5C;\n",
              "      box-shadow: 0px 1px 3px 1px rgba(0, 0, 0, 0.15);\n",
              "      filter: drop-shadow(0px 1px 2px rgba(0, 0, 0, 0.3));\n",
              "      fill: #FFFFFF;\n",
              "    }\n",
              "  </style>\n",
              "\n",
              "      <script>\n",
              "        const buttonEl =\n",
              "          document.querySelector('#df-1276524f-42c5-4deb-a480-be7707bb7b9c button.colab-df-convert');\n",
              "        buttonEl.style.display =\n",
              "          google.colab.kernel.accessAllowed ? 'block' : 'none';\n",
              "\n",
              "        async function convertToInteractive(key) {\n",
              "          const element = document.querySelector('#df-1276524f-42c5-4deb-a480-be7707bb7b9c');\n",
              "          const dataTable =\n",
              "            await google.colab.kernel.invokeFunction('convertToInteractive',\n",
              "                                                     [key], {});\n",
              "          if (!dataTable) return;\n",
              "\n",
              "          const docLinkHtml = 'Like what you see? Visit the ' +\n",
              "            '<a target=\"_blank\" href=https://colab.research.google.com/notebooks/data_table.ipynb>data table notebook</a>'\n",
              "            + ' to learn more about interactive tables.';\n",
              "          element.innerHTML = '';\n",
              "          dataTable['output_type'] = 'display_data';\n",
              "          await google.colab.output.renderOutput(dataTable, element);\n",
              "          const docLink = document.createElement('div');\n",
              "          docLink.innerHTML = docLinkHtml;\n",
              "          element.appendChild(docLink);\n",
              "        }\n",
              "      </script>\n",
              "    </div>\n",
              "  </div>\n",
              "  "
            ]
          },
          "metadata": {},
          "execution_count": 30
        }
      ],
      "source": [
        "chatgpt.head()"
      ],
      "id": "2a5aa256"
    },
    {
      "cell_type": "markdown",
      "metadata": {
        "id": "557208e1"
      },
      "source": [
        "## Logistic Regression"
      ],
      "id": "557208e1"
    },
    {
      "cell_type": "code",
      "execution_count": null,
      "metadata": {
        "colab": {
          "base_uri": "https://localhost:8080/"
        },
        "id": "ab189f4e",
        "outputId": "309c1c41-6ca6-442f-cc66-adb34a1425cb"
      },
      "outputs": [
        {
          "output_type": "stream",
          "name": "stdout",
          "text": [
            "Accuracy - Bag of Words: 0.8488109624022435\n",
            "              precision    recall  f1-score   support\n",
            "\n",
            "          -1       0.88      0.94      0.91     21474\n",
            "           0       0.76      0.70      0.73     11181\n",
            "           1       0.86      0.82      0.84     11204\n",
            "\n",
            "    accuracy                           0.85     43859\n",
            "   macro avg       0.83      0.82      0.83     43859\n",
            "weighted avg       0.85      0.85      0.85     43859\n",
            "\n"
          ]
        },
        {
          "output_type": "stream",
          "name": "stderr",
          "text": [
            "/usr/local/lib/python3.10/dist-packages/sklearn/linear_model/_logistic.py:458: ConvergenceWarning: lbfgs failed to converge (status=1):\n",
            "STOP: TOTAL NO. of ITERATIONS REACHED LIMIT.\n",
            "\n",
            "Increase the number of iterations (max_iter) or scale the data as shown in:\n",
            "    https://scikit-learn.org/stable/modules/preprocessing.html\n",
            "Please also refer to the documentation for alternative solver options:\n",
            "    https://scikit-learn.org/stable/modules/linear_model.html#logistic-regression\n",
            "  n_iter_i = _check_optimize_result(\n"
          ]
        }
      ],
      "source": [
        "# Split the dataset into training and testing sets\n",
        "X_train_bow, X_test_bow, y_train, y_test = train_test_split(bow_vectors, chatgpt['labels'], test_size=0.2, random_state=42)\n",
        "\n",
        "# Initialize and train logistic regression models\n",
        "logreg_bow = LogisticRegression()\n",
        "logreg_bow.fit(X_train_bow, y_train)\n",
        "\n",
        "# Evaluate the models\n",
        "accuracy_log_bow = logreg_bow.score(X_test_bow, y_test)\n",
        "preds_log_bow = logreg_bow.predict(X_test_bow)\n",
        "print(\"Accuracy - Bag of Words:\", accuracy_log_bow)\n",
        "print(classification_report(y_test, preds_log_bow))"
      ],
      "id": "ab189f4e"
    },
    {
      "cell_type": "code",
      "execution_count": null,
      "metadata": {
        "colab": {
          "base_uri": "https://localhost:8080/"
        },
        "id": "31df4d48",
        "outputId": "b863e407-f07f-4622-a737-ea195dc86f92"
      },
      "outputs": [
        {
          "output_type": "stream",
          "name": "stdout",
          "text": [
            "Accuracy - TF-IDF: 0.8135160400373925\n",
            "              precision    recall  f1-score   support\n",
            "\n",
            "          -1       0.58      1.00      0.73     21474\n",
            "           0       0.30      0.17      0.22     11181\n",
            "           1       0.99      0.06      0.10     11204\n",
            "\n",
            "    accuracy                           0.55     43859\n",
            "   macro avg       0.62      0.41      0.35     43859\n",
            "weighted avg       0.61      0.55      0.44     43859\n",
            "\n"
          ]
        },
        {
          "output_type": "stream",
          "name": "stderr",
          "text": [
            "/usr/local/lib/python3.10/dist-packages/sklearn/linear_model/_logistic.py:458: ConvergenceWarning: lbfgs failed to converge (status=1):\n",
            "STOP: TOTAL NO. of ITERATIONS REACHED LIMIT.\n",
            "\n",
            "Increase the number of iterations (max_iter) or scale the data as shown in:\n",
            "    https://scikit-learn.org/stable/modules/preprocessing.html\n",
            "Please also refer to the documentation for alternative solver options:\n",
            "    https://scikit-learn.org/stable/modules/linear_model.html#logistic-regression\n",
            "  n_iter_i = _check_optimize_result(\n"
          ]
        }
      ],
      "source": [
        "# Split the dataset into training and testing sets\n",
        "X_train_tfidf, X_test_tfidf, _, _ = train_test_split(tfidf_vectors, chatgpt['labels'], test_size=0.2, random_state=42)\n",
        "\n",
        "# Initialize and train logistic regression models\n",
        "logreg_tfidf = LogisticRegression()\n",
        "logreg_tfidf.fit(X_train_tfidf, y_train)\n",
        "\n",
        "# Evaluate the models\n",
        "accuracy_log_tfidf = logreg_tfidf.score(X_test_tfidf, y_test)\n",
        "preds_log_tfidf = logreg_bow.predict(X_test_tfidf)\n",
        "print(\"Accuracy - TF-IDF:\", accuracy_log_tfidf)\n",
        "print(classification_report(y_test, preds_log_tfidf))"
      ],
      "id": "31df4d48"
    },
    {
      "cell_type": "code",
      "execution_count": null,
      "metadata": {
        "colab": {
          "base_uri": "https://localhost:8080/"
        },
        "id": "b6de754a",
        "outputId": "96b57a14-c543-46db-9d7b-30a522de8b70"
      },
      "outputs": [
        {
          "output_type": "stream",
          "name": "stdout",
          "text": [
            "Accuracy - n-Grams: 0.831026699195148\n",
            "              precision    recall  f1-score   support\n",
            "\n",
            "          -1       0.58      1.00      0.73     21474\n",
            "           0       0.30      0.17      0.22     11181\n",
            "           1       0.99      0.06      0.10     11204\n",
            "\n",
            "    accuracy                           0.55     43859\n",
            "   macro avg       0.62      0.41      0.35     43859\n",
            "weighted avg       0.61      0.55      0.44     43859\n",
            "\n"
          ]
        },
        {
          "output_type": "stream",
          "name": "stderr",
          "text": [
            "/usr/local/lib/python3.10/dist-packages/sklearn/linear_model/_logistic.py:458: ConvergenceWarning: lbfgs failed to converge (status=1):\n",
            "STOP: TOTAL NO. of ITERATIONS REACHED LIMIT.\n",
            "\n",
            "Increase the number of iterations (max_iter) or scale the data as shown in:\n",
            "    https://scikit-learn.org/stable/modules/preprocessing.html\n",
            "Please also refer to the documentation for alternative solver options:\n",
            "    https://scikit-learn.org/stable/modules/linear_model.html#logistic-regression\n",
            "  n_iter_i = _check_optimize_result(\n"
          ]
        }
      ],
      "source": [
        "#Split the datset into train and test\n",
        "X_train_ngram, X_test_ngram, _, _ = train_test_split(ngram_vectors, chatgpt['labels'], test_size=0.2, random_state=42)\n",
        "\n",
        "#Train the logistic model\n",
        "logreg_ngram = LogisticRegression()\n",
        "logreg_ngram.fit(X_train_ngram, y_train)\n",
        "\n",
        "accuracy_log_ngram = logreg_ngram.score(X_test_ngram, y_test)\n",
        "preds_log_ngram =logreg_bow.predict(X_test_tfidf)\n",
        "\n",
        "# Evaluate the models\n",
        "print(\"Accuracy - n-Grams:\", accuracy_log_ngram)\n",
        "print(classification_report(y_test, preds_log_ngram))"
      ],
      "id": "b6de754a"
    },
    {
      "cell_type": "markdown",
      "metadata": {
        "id": "a9aa8f12"
      },
      "source": [
        "## Naive Bayes"
      ],
      "id": "a9aa8f12"
    },
    {
      "cell_type": "code",
      "execution_count": null,
      "metadata": {
        "colab": {
          "base_uri": "https://localhost:8080/"
        },
        "id": "a73b4f38",
        "outputId": "2b9f5f03-f82f-408d-fe26-1d862a039c08"
      },
      "outputs": [
        {
          "output_type": "stream",
          "name": "stdout",
          "text": [
            "Accuracy - bag of words : 0.8340239974919486\n",
            "              precision    recall  f1-score   support\n",
            "\n",
            "          -1       0.81      0.88      0.85     21474\n",
            "           0       0.60      0.33      0.43     11181\n",
            "           1       0.63      0.80      0.71     11204\n",
            "\n",
            "    accuracy                           0.72     43859\n",
            "   macro avg       0.68      0.67      0.66     43859\n",
            "weighted avg       0.71      0.72      0.70     43859\n",
            "\n"
          ]
        }
      ],
      "source": [
        "# Initialize and train the Naive Bayes classifier\n",
        "nb = MultinomialNB()\n",
        "nb.fit(X_train_bow, y_train)\n",
        "\n",
        "# Calculate accuracy on the testing set\n",
        "accuracy_nv_bow = nb.score(X_train_bow, y_train)\n",
        "\n",
        "# Make predictions on the testing set\n",
        "preds_nv_bow = nb.predict(X_test_bow)\n",
        "\n",
        "# Print accuracy and classification report\n",
        "print(\"Accuracy - bag of words :\", accuracy_nv_bow)\n",
        "print(classification_report(y_test, preds_nv_bow))"
      ],
      "id": "a73b4f38"
    },
    {
      "cell_type": "code",
      "execution_count": null,
      "metadata": {
        "colab": {
          "base_uri": "https://localhost:8080/"
        },
        "id": "0aa24376",
        "outputId": "c2289aa9-43cf-4b7b-8ed0-b34051f5bca7"
      },
      "outputs": [
        {
          "output_type": "stream",
          "name": "stdout",
          "text": [
            "Accuracy - tfidf: 0.6507900316924691\n",
            "              precision    recall  f1-score   support\n",
            "\n",
            "          -1       0.61      0.99      0.76     21474\n",
            "           0       0.73      0.14      0.23     11181\n",
            "           1       0.82      0.52      0.64     11204\n",
            "\n",
            "    accuracy                           0.65     43859\n",
            "   macro avg       0.72      0.55      0.54     43859\n",
            "weighted avg       0.69      0.65      0.59     43859\n",
            "\n"
          ]
        }
      ],
      "source": [
        "# Initialize and train the Naive Bayes classifier\n",
        "nb = MultinomialNB()\n",
        "nb.fit(X_train_tfidf, y_train)\n",
        "\n",
        "# Calculate accuracy on the testing set\n",
        "accuracy_nv_tfidf = nb.score(X_test_tfidf, y_test)\n",
        "\n",
        "# Make predictions on the testing set\n",
        "preds_nv_tfidf = nb.predict(X_test_tfidf)\n",
        "\n",
        "# Print accuracy and classification report\n",
        "print(\"Accuracy - tfidf:\", accuracy_nv_tfidf)\n",
        "print(classification_report(y_test, preds_nv_tfidf))"
      ],
      "id": "0aa24376"
    },
    {
      "cell_type": "code",
      "execution_count": null,
      "metadata": {
        "colab": {
          "base_uri": "https://localhost:8080/"
        },
        "id": "fb22b659",
        "outputId": "accad8cc-f590-4a3a-f450-663082e78b42"
      },
      "outputs": [
        {
          "output_type": "stream",
          "name": "stdout",
          "text": [
            "Accuracy - n-Grams: 0.7193506463895666\n",
            "              precision    recall  f1-score   support\n",
            "\n",
            "          -1       0.81      0.87      0.84     21474\n",
            "           0       0.64      0.33      0.43     11181\n",
            "           1       0.61      0.82      0.70     11204\n",
            "\n",
            "    accuracy                           0.72     43859\n",
            "   macro avg       0.69      0.67      0.66     43859\n",
            "weighted avg       0.72      0.72      0.70     43859\n",
            "\n"
          ]
        }
      ],
      "source": [
        "# Initialize and train the Naive Bayes classifier\n",
        "nb = MultinomialNB()\n",
        "nb.fit(X_train_ngram, y_train)\n",
        "\n",
        "# Calculate accuracy on the testing set\n",
        "accuracy_nv_ngram = nb.score(X_test_ngram, y_test)\n",
        "\n",
        "# Make predictions on the testing set\n",
        "preds_nv_ngram = nb.predict(X_test_ngram)\n",
        "\n",
        "# Print accuracy and classification report\n",
        "print(\"Accuracy - n-Grams:\", accuracy_nv_ngram)\n",
        "print(classification_report(y_test, preds_nv_ngram))"
      ],
      "id": "fb22b659"
    },
    {
      "cell_type": "markdown",
      "metadata": {
        "id": "a72352d8"
      },
      "source": [
        "## Decision Tree"
      ],
      "id": "a72352d8"
    },
    {
      "cell_type": "code",
      "execution_count": null,
      "metadata": {
        "colab": {
          "base_uri": "https://localhost:8080/"
        },
        "id": "3a07e8dd",
        "outputId": "94672309-08bf-4255-fe68-b8c1973b37bc"
      },
      "outputs": [
        {
          "output_type": "stream",
          "name": "stdout",
          "text": [
            "Accuracy - Bag of words: 0.7421965845094507\n",
            "              precision    recall  f1-score   support\n",
            "\n",
            "          -1       0.84      0.86      0.85     21474\n",
            "           0       0.60      0.60      0.60     11181\n",
            "           1       0.69      0.66      0.68     11204\n",
            "\n",
            "    accuracy                           0.74     43859\n",
            "   macro avg       0.71      0.71      0.71     43859\n",
            "weighted avg       0.74      0.74      0.74     43859\n",
            "\n"
          ]
        }
      ],
      "source": [
        "from sklearn.tree import DecisionTreeClassifier\n",
        "\n",
        "DT = DecisionTreeClassifier()\n",
        "DT.fit(X_train_bow, y_train)\n",
        "\n",
        "# Make predictions on the testing set\n",
        "preds_dt_bow = DT.predict(X_test_bow)\n",
        "\n",
        "# Accuracy for Test Dataset\n",
        "accuracy_dt_bow = accuracy_score(y_test, preds_dt_bow)\n",
        "print(\"Accuracy - Bag of words:\", accuracy_dt_bow)\n",
        "print(classification_report(y_test, preds_dt_bow))"
      ],
      "id": "3a07e8dd"
    },
    {
      "cell_type": "code",
      "execution_count": null,
      "metadata": {
        "colab": {
          "base_uri": "https://localhost:8080/"
        },
        "id": "d4cc1248",
        "outputId": "60f2f076-081b-4caf-912c-9629e462c659"
      },
      "outputs": [
        {
          "output_type": "stream",
          "name": "stdout",
          "text": [
            "Accuracy - Bag of words: 0.7287215850794592\n",
            "              precision    recall  f1-score   support\n",
            "\n",
            "          -1       0.82      0.85      0.84     21474\n",
            "           0       0.59      0.57      0.58     11181\n",
            "           1       0.68      0.65      0.67     11204\n",
            "\n",
            "    accuracy                           0.73     43859\n",
            "   macro avg       0.70      0.69      0.69     43859\n",
            "weighted avg       0.73      0.73      0.73     43859\n",
            "\n"
          ]
        }
      ],
      "source": [
        "DT = DecisionTreeClassifier()\n",
        "DT.fit(X_train_tfidf, y_train)\n",
        "\n",
        "# Make predictions on the testing set\n",
        "preds_dt_tfidf = DT.predict(X_test_tfidf)\n",
        "# Accuracy for Test Dataset\n",
        "accuracy_dt_tfidf = accuracy_score(y_test, preds_dt_tfidf)\n",
        "print(\"Accuracy - Bag of words:\", accuracy_dt_tfidf)\n",
        "print(classification_report(y_test, preds_dt_tfidf))\n"
      ],
      "id": "d4cc1248"
    },
    {
      "cell_type": "code",
      "execution_count": null,
      "metadata": {
        "colab": {
          "base_uri": "https://localhost:8080/"
        },
        "id": "d6368b32",
        "outputId": "49791b82-6991-44d7-d807-3789239acd3a"
      },
      "outputs": [
        {
          "output_type": "stream",
          "name": "stdout",
          "text": [
            "Accuracy - Bag of words: 0.7399621514398413\n",
            "              precision    recall  f1-score   support\n",
            "\n",
            "          -1       0.83      0.86      0.84     21474\n",
            "           0       0.60      0.59      0.60     11181\n",
            "           1       0.70      0.66      0.68     11204\n",
            "\n",
            "    accuracy                           0.74     43859\n",
            "   macro avg       0.71      0.70      0.71     43859\n",
            "weighted avg       0.74      0.74      0.74     43859\n",
            "\n"
          ]
        }
      ],
      "source": [
        "DT = DecisionTreeClassifier()\n",
        "DT.fit(X_train_ngram, y_train)\n",
        "\n",
        "# Make predictions on the testing set\n",
        "preds_dt_ngram = DT.predict(X_test_ngram)\n",
        "\n",
        "# Accuracy for Test Dataset\n",
        "accuracy_dt_ngram = accuracy_score(y_test, preds_dt_ngram)\n",
        "print(\"Accuracy - Bag of words:\", accuracy_dt_ngram)\n",
        "print(classification_report(y_test, preds_dt_ngram))"
      ],
      "id": "d6368b32"
    },
    {
      "cell_type": "markdown",
      "metadata": {
        "id": "bELw3L3zRbx6"
      },
      "source": [
        "## Hyperparameter Tuning(Optional)"
      ],
      "id": "bELw3L3zRbx6"
    },
    {
      "cell_type": "code",
      "execution_count": null,
      "metadata": {
        "id": "wBAW5G3LRel0",
        "colab": {
          "base_uri": "https://localhost:8080/",
          "height": 935
        },
        "outputId": "a39a7c83-e3d8-4897-ed4a-f8b679042229"
      },
      "outputs": [
        {
          "output_type": "stream",
          "name": "stdout",
          "text": [
            "Fitting 5 folds for each of 5 candidates, totalling 25 fits\n",
            "[CV] END ..........................................alpha=0.1; total time=   0.1s\n",
            "[CV] END ..........................................alpha=0.1; total time=   0.1s\n",
            "[CV] END ..........................................alpha=0.1; total time=   0.1s\n",
            "[CV] END ..........................................alpha=0.1; total time=   0.1s\n",
            "[CV] END ..........................................alpha=0.1; total time=   0.1s\n",
            "[CV] END ............................................alpha=0; total time=   0.1s\n",
            "[CV] END ............................................alpha=0; total time=   0.1s\n"
          ]
        },
        {
          "output_type": "stream",
          "name": "stderr",
          "text": [
            "/usr/local/lib/python3.10/dist-packages/sklearn/naive_bayes.py:629: FutureWarning: The default value for `force_alpha` will change to `True` in 1.4. To suppress this warning, manually set the value of `force_alpha`.\n",
            "  warnings.warn(\n",
            "/usr/local/lib/python3.10/dist-packages/sklearn/naive_bayes.py:635: UserWarning: alpha too small will result in numeric errors, setting alpha = 1.0e-10. Use `force_alpha=True` to keep alpha unchanged.\n",
            "  warnings.warn(\n",
            "/usr/local/lib/python3.10/dist-packages/sklearn/naive_bayes.py:629: FutureWarning: The default value for `force_alpha` will change to `True` in 1.4. To suppress this warning, manually set the value of `force_alpha`.\n",
            "  warnings.warn(\n",
            "/usr/local/lib/python3.10/dist-packages/sklearn/naive_bayes.py:635: UserWarning: alpha too small will result in numeric errors, setting alpha = 1.0e-10. Use `force_alpha=True` to keep alpha unchanged.\n",
            "  warnings.warn(\n",
            "/usr/local/lib/python3.10/dist-packages/sklearn/naive_bayes.py:629: FutureWarning: The default value for `force_alpha` will change to `True` in 1.4. To suppress this warning, manually set the value of `force_alpha`.\n",
            "  warnings.warn(\n",
            "/usr/local/lib/python3.10/dist-packages/sklearn/naive_bayes.py:635: UserWarning: alpha too small will result in numeric errors, setting alpha = 1.0e-10. Use `force_alpha=True` to keep alpha unchanged.\n",
            "  warnings.warn(\n"
          ]
        },
        {
          "output_type": "stream",
          "name": "stdout",
          "text": [
            "[CV] END ............................................alpha=0; total time=   0.1s\n",
            "[CV] END ............................................alpha=0; total time=   0.1s\n",
            "[CV] END ............................................alpha=0; total time=   0.1s\n"
          ]
        },
        {
          "output_type": "stream",
          "name": "stderr",
          "text": [
            "/usr/local/lib/python3.10/dist-packages/sklearn/naive_bayes.py:629: FutureWarning: The default value for `force_alpha` will change to `True` in 1.4. To suppress this warning, manually set the value of `force_alpha`.\n",
            "  warnings.warn(\n",
            "/usr/local/lib/python3.10/dist-packages/sklearn/naive_bayes.py:635: UserWarning: alpha too small will result in numeric errors, setting alpha = 1.0e-10. Use `force_alpha=True` to keep alpha unchanged.\n",
            "  warnings.warn(\n",
            "/usr/local/lib/python3.10/dist-packages/sklearn/naive_bayes.py:629: FutureWarning: The default value for `force_alpha` will change to `True` in 1.4. To suppress this warning, manually set the value of `force_alpha`.\n",
            "  warnings.warn(\n",
            "/usr/local/lib/python3.10/dist-packages/sklearn/naive_bayes.py:635: UserWarning: alpha too small will result in numeric errors, setting alpha = 1.0e-10. Use `force_alpha=True` to keep alpha unchanged.\n",
            "  warnings.warn(\n"
          ]
        },
        {
          "output_type": "stream",
          "name": "stdout",
          "text": [
            "[CV] END ..........................................alpha=1.0; total time=   0.1s\n",
            "[CV] END ..........................................alpha=1.0; total time=   0.1s\n",
            "[CV] END ..........................................alpha=1.0; total time=   0.1s\n",
            "[CV] END ..........................................alpha=1.0; total time=   0.1s\n",
            "[CV] END ..........................................alpha=1.0; total time=   0.1s\n",
            "[CV] END ...........................................alpha=10; total time=   0.1s\n",
            "[CV] END ...........................................alpha=10; total time=   0.1s\n",
            "[CV] END ...........................................alpha=10; total time=   0.1s\n",
            "[CV] END ...........................................alpha=10; total time=   0.1s\n",
            "[CV] END ...........................................alpha=10; total time=   0.1s\n",
            "[CV] END ..........................................alpha=100; total time=   0.1s\n",
            "[CV] END ..........................................alpha=100; total time=   0.1s\n",
            "[CV] END ..........................................alpha=100; total time=   0.1s\n",
            "[CV] END ..........................................alpha=100; total time=   0.1s\n",
            "[CV] END ..........................................alpha=100; total time=   0.1s\n"
          ]
        },
        {
          "output_type": "execute_result",
          "data": {
            "text/plain": [
              "GridSearchCV(estimator=MultinomialNB(),\n",
              "             param_grid={'alpha': [0.1, 0, 1.0, 10, 100]}, verbose=2)"
            ],
            "text/html": [
              "<style>#sk-container-id-1 {color: black;background-color: white;}#sk-container-id-1 pre{padding: 0;}#sk-container-id-1 div.sk-toggleable {background-color: white;}#sk-container-id-1 label.sk-toggleable__label {cursor: pointer;display: block;width: 100%;margin-bottom: 0;padding: 0.3em;box-sizing: border-box;text-align: center;}#sk-container-id-1 label.sk-toggleable__label-arrow:before {content: \"▸\";float: left;margin-right: 0.25em;color: #696969;}#sk-container-id-1 label.sk-toggleable__label-arrow:hover:before {color: black;}#sk-container-id-1 div.sk-estimator:hover label.sk-toggleable__label-arrow:before {color: black;}#sk-container-id-1 div.sk-toggleable__content {max-height: 0;max-width: 0;overflow: hidden;text-align: left;background-color: #f0f8ff;}#sk-container-id-1 div.sk-toggleable__content pre {margin: 0.2em;color: black;border-radius: 0.25em;background-color: #f0f8ff;}#sk-container-id-1 input.sk-toggleable__control:checked~div.sk-toggleable__content {max-height: 200px;max-width: 100%;overflow: auto;}#sk-container-id-1 input.sk-toggleable__control:checked~label.sk-toggleable__label-arrow:before {content: \"▾\";}#sk-container-id-1 div.sk-estimator input.sk-toggleable__control:checked~label.sk-toggleable__label {background-color: #d4ebff;}#sk-container-id-1 div.sk-label input.sk-toggleable__control:checked~label.sk-toggleable__label {background-color: #d4ebff;}#sk-container-id-1 input.sk-hidden--visually {border: 0;clip: rect(1px 1px 1px 1px);clip: rect(1px, 1px, 1px, 1px);height: 1px;margin: -1px;overflow: hidden;padding: 0;position: absolute;width: 1px;}#sk-container-id-1 div.sk-estimator {font-family: monospace;background-color: #f0f8ff;border: 1px dotted black;border-radius: 0.25em;box-sizing: border-box;margin-bottom: 0.5em;}#sk-container-id-1 div.sk-estimator:hover {background-color: #d4ebff;}#sk-container-id-1 div.sk-parallel-item::after {content: \"\";width: 100%;border-bottom: 1px solid gray;flex-grow: 1;}#sk-container-id-1 div.sk-label:hover label.sk-toggleable__label {background-color: #d4ebff;}#sk-container-id-1 div.sk-serial::before {content: \"\";position: absolute;border-left: 1px solid gray;box-sizing: border-box;top: 0;bottom: 0;left: 50%;z-index: 0;}#sk-container-id-1 div.sk-serial {display: flex;flex-direction: column;align-items: center;background-color: white;padding-right: 0.2em;padding-left: 0.2em;position: relative;}#sk-container-id-1 div.sk-item {position: relative;z-index: 1;}#sk-container-id-1 div.sk-parallel {display: flex;align-items: stretch;justify-content: center;background-color: white;position: relative;}#sk-container-id-1 div.sk-item::before, #sk-container-id-1 div.sk-parallel-item::before {content: \"\";position: absolute;border-left: 1px solid gray;box-sizing: border-box;top: 0;bottom: 0;left: 50%;z-index: -1;}#sk-container-id-1 div.sk-parallel-item {display: flex;flex-direction: column;z-index: 1;position: relative;background-color: white;}#sk-container-id-1 div.sk-parallel-item:first-child::after {align-self: flex-end;width: 50%;}#sk-container-id-1 div.sk-parallel-item:last-child::after {align-self: flex-start;width: 50%;}#sk-container-id-1 div.sk-parallel-item:only-child::after {width: 0;}#sk-container-id-1 div.sk-dashed-wrapped {border: 1px dashed gray;margin: 0 0.4em 0.5em 0.4em;box-sizing: border-box;padding-bottom: 0.4em;background-color: white;}#sk-container-id-1 div.sk-label label {font-family: monospace;font-weight: bold;display: inline-block;line-height: 1.2em;}#sk-container-id-1 div.sk-label-container {text-align: center;}#sk-container-id-1 div.sk-container {/* jupyter's `normalize.less` sets `[hidden] { display: none; }` but bootstrap.min.css set `[hidden] { display: none !important; }` so we also need the `!important` here to be able to override the default hidden behavior on the sphinx rendered scikit-learn.org. See: https://github.com/scikit-learn/scikit-learn/issues/21755 */display: inline-block !important;position: relative;}#sk-container-id-1 div.sk-text-repr-fallback {display: none;}</style><div id=\"sk-container-id-1\" class=\"sk-top-container\"><div class=\"sk-text-repr-fallback\"><pre>GridSearchCV(estimator=MultinomialNB(),\n",
              "             param_grid={&#x27;alpha&#x27;: [0.1, 0, 1.0, 10, 100]}, verbose=2)</pre><b>In a Jupyter environment, please rerun this cell to show the HTML representation or trust the notebook. <br />On GitHub, the HTML representation is unable to render, please try loading this page with nbviewer.org.</b></div><div class=\"sk-container\" hidden><div class=\"sk-item sk-dashed-wrapped\"><div class=\"sk-label-container\"><div class=\"sk-label sk-toggleable\"><input class=\"sk-toggleable__control sk-hidden--visually\" id=\"sk-estimator-id-1\" type=\"checkbox\" ><label for=\"sk-estimator-id-1\" class=\"sk-toggleable__label sk-toggleable__label-arrow\">GridSearchCV</label><div class=\"sk-toggleable__content\"><pre>GridSearchCV(estimator=MultinomialNB(),\n",
              "             param_grid={&#x27;alpha&#x27;: [0.1, 0, 1.0, 10, 100]}, verbose=2)</pre></div></div></div><div class=\"sk-parallel\"><div class=\"sk-parallel-item\"><div class=\"sk-item\"><div class=\"sk-label-container\"><div class=\"sk-label sk-toggleable\"><input class=\"sk-toggleable__control sk-hidden--visually\" id=\"sk-estimator-id-2\" type=\"checkbox\" ><label for=\"sk-estimator-id-2\" class=\"sk-toggleable__label sk-toggleable__label-arrow\">estimator: MultinomialNB</label><div class=\"sk-toggleable__content\"><pre>MultinomialNB()</pre></div></div></div><div class=\"sk-serial\"><div class=\"sk-item\"><div class=\"sk-estimator sk-toggleable\"><input class=\"sk-toggleable__control sk-hidden--visually\" id=\"sk-estimator-id-3\" type=\"checkbox\" ><label for=\"sk-estimator-id-3\" class=\"sk-toggleable__label sk-toggleable__label-arrow\">MultinomialNB</label><div class=\"sk-toggleable__content\"><pre>MultinomialNB()</pre></div></div></div></div></div></div></div></div></div></div>"
            ]
          },
          "metadata": {},
          "execution_count": 41
        }
      ],
      "source": [
        "# Hyperparameter tuning for Multinomial Naive Bayes model\n",
        "\n",
        "param_grid = {\"alpha\": [0.1,0,1.0, 10, 100]}\n",
        "\n",
        "grid_search = GridSearchCV(MultinomialNB(), param_grid, verbose=2)\n",
        "\n",
        "grid_search.fit(X_train_bow, y_train)"
      ],
      "id": "wBAW5G3LRel0"
    },
    {
      "cell_type": "code",
      "execution_count": null,
      "metadata": {
        "id": "A0FMvAykRsVb",
        "colab": {
          "base_uri": "https://localhost:8080/",
          "height": 935
        },
        "outputId": "206ebbe7-848d-4b1a-84b5-92b4f5c856f9"
      },
      "outputs": [
        {
          "output_type": "stream",
          "name": "stdout",
          "text": [
            "Fitting 5 folds for each of 5 candidates, totalling 25 fits\n",
            "[CV] END ..........................................alpha=0.1; total time=   0.1s\n",
            "[CV] END ..........................................alpha=0.1; total time=   0.1s\n",
            "[CV] END ..........................................alpha=0.1; total time=   0.1s\n",
            "[CV] END ..........................................alpha=0.1; total time=   0.1s\n",
            "[CV] END ..........................................alpha=0.1; total time=   0.1s\n"
          ]
        },
        {
          "output_type": "stream",
          "name": "stderr",
          "text": [
            "/usr/local/lib/python3.10/dist-packages/sklearn/naive_bayes.py:629: FutureWarning: The default value for `force_alpha` will change to `True` in 1.4. To suppress this warning, manually set the value of `force_alpha`.\n",
            "  warnings.warn(\n",
            "/usr/local/lib/python3.10/dist-packages/sklearn/naive_bayes.py:635: UserWarning: alpha too small will result in numeric errors, setting alpha = 1.0e-10. Use `force_alpha=True` to keep alpha unchanged.\n",
            "  warnings.warn(\n",
            "/usr/local/lib/python3.10/dist-packages/sklearn/naive_bayes.py:629: FutureWarning: The default value for `force_alpha` will change to `True` in 1.4. To suppress this warning, manually set the value of `force_alpha`.\n",
            "  warnings.warn(\n",
            "/usr/local/lib/python3.10/dist-packages/sklearn/naive_bayes.py:635: UserWarning: alpha too small will result in numeric errors, setting alpha = 1.0e-10. Use `force_alpha=True` to keep alpha unchanged.\n",
            "  warnings.warn(\n",
            "/usr/local/lib/python3.10/dist-packages/sklearn/naive_bayes.py:629: FutureWarning: The default value for `force_alpha` will change to `True` in 1.4. To suppress this warning, manually set the value of `force_alpha`.\n",
            "  warnings.warn(\n",
            "/usr/local/lib/python3.10/dist-packages/sklearn/naive_bayes.py:635: UserWarning: alpha too small will result in numeric errors, setting alpha = 1.0e-10. Use `force_alpha=True` to keep alpha unchanged.\n",
            "  warnings.warn(\n"
          ]
        },
        {
          "output_type": "stream",
          "name": "stdout",
          "text": [
            "[CV] END ............................................alpha=0; total time=   0.1s\n",
            "[CV] END ............................................alpha=0; total time=   0.1s\n",
            "[CV] END ............................................alpha=0; total time=   0.1s\n"
          ]
        },
        {
          "output_type": "stream",
          "name": "stderr",
          "text": [
            "/usr/local/lib/python3.10/dist-packages/sklearn/naive_bayes.py:629: FutureWarning: The default value for `force_alpha` will change to `True` in 1.4. To suppress this warning, manually set the value of `force_alpha`.\n",
            "  warnings.warn(\n",
            "/usr/local/lib/python3.10/dist-packages/sklearn/naive_bayes.py:635: UserWarning: alpha too small will result in numeric errors, setting alpha = 1.0e-10. Use `force_alpha=True` to keep alpha unchanged.\n",
            "  warnings.warn(\n",
            "/usr/local/lib/python3.10/dist-packages/sklearn/naive_bayes.py:629: FutureWarning: The default value for `force_alpha` will change to `True` in 1.4. To suppress this warning, manually set the value of `force_alpha`.\n",
            "  warnings.warn(\n",
            "/usr/local/lib/python3.10/dist-packages/sklearn/naive_bayes.py:635: UserWarning: alpha too small will result in numeric errors, setting alpha = 1.0e-10. Use `force_alpha=True` to keep alpha unchanged.\n",
            "  warnings.warn(\n"
          ]
        },
        {
          "output_type": "stream",
          "name": "stdout",
          "text": [
            "[CV] END ............................................alpha=0; total time=   0.1s\n",
            "[CV] END ............................................alpha=0; total time=   0.1s\n",
            "[CV] END ..........................................alpha=1.0; total time=   0.1s\n",
            "[CV] END ..........................................alpha=1.0; total time=   0.1s\n",
            "[CV] END ..........................................alpha=1.0; total time=   0.1s\n",
            "[CV] END ..........................................alpha=1.0; total time=   0.1s\n",
            "[CV] END ..........................................alpha=1.0; total time=   0.1s\n",
            "[CV] END ...........................................alpha=10; total time=   0.1s\n",
            "[CV] END ...........................................alpha=10; total time=   0.1s\n",
            "[CV] END ...........................................alpha=10; total time=   0.1s\n",
            "[CV] END ...........................................alpha=10; total time=   0.1s\n",
            "[CV] END ...........................................alpha=10; total time=   0.1s\n",
            "[CV] END ..........................................alpha=100; total time=   0.1s\n",
            "[CV] END ..........................................alpha=100; total time=   0.1s\n",
            "[CV] END ..........................................alpha=100; total time=   0.1s\n",
            "[CV] END ..........................................alpha=100; total time=   0.1s\n",
            "[CV] END ..........................................alpha=100; total time=   0.1s\n"
          ]
        },
        {
          "output_type": "execute_result",
          "data": {
            "text/plain": [
              "GridSearchCV(estimator=MultinomialNB(),\n",
              "             param_grid={'alpha': [0.1, 0, 1.0, 10, 100]}, verbose=2)"
            ],
            "text/html": [
              "<style>#sk-container-id-2 {color: black;background-color: white;}#sk-container-id-2 pre{padding: 0;}#sk-container-id-2 div.sk-toggleable {background-color: white;}#sk-container-id-2 label.sk-toggleable__label {cursor: pointer;display: block;width: 100%;margin-bottom: 0;padding: 0.3em;box-sizing: border-box;text-align: center;}#sk-container-id-2 label.sk-toggleable__label-arrow:before {content: \"▸\";float: left;margin-right: 0.25em;color: #696969;}#sk-container-id-2 label.sk-toggleable__label-arrow:hover:before {color: black;}#sk-container-id-2 div.sk-estimator:hover label.sk-toggleable__label-arrow:before {color: black;}#sk-container-id-2 div.sk-toggleable__content {max-height: 0;max-width: 0;overflow: hidden;text-align: left;background-color: #f0f8ff;}#sk-container-id-2 div.sk-toggleable__content pre {margin: 0.2em;color: black;border-radius: 0.25em;background-color: #f0f8ff;}#sk-container-id-2 input.sk-toggleable__control:checked~div.sk-toggleable__content {max-height: 200px;max-width: 100%;overflow: auto;}#sk-container-id-2 input.sk-toggleable__control:checked~label.sk-toggleable__label-arrow:before {content: \"▾\";}#sk-container-id-2 div.sk-estimator input.sk-toggleable__control:checked~label.sk-toggleable__label {background-color: #d4ebff;}#sk-container-id-2 div.sk-label input.sk-toggleable__control:checked~label.sk-toggleable__label {background-color: #d4ebff;}#sk-container-id-2 input.sk-hidden--visually {border: 0;clip: rect(1px 1px 1px 1px);clip: rect(1px, 1px, 1px, 1px);height: 1px;margin: -1px;overflow: hidden;padding: 0;position: absolute;width: 1px;}#sk-container-id-2 div.sk-estimator {font-family: monospace;background-color: #f0f8ff;border: 1px dotted black;border-radius: 0.25em;box-sizing: border-box;margin-bottom: 0.5em;}#sk-container-id-2 div.sk-estimator:hover {background-color: #d4ebff;}#sk-container-id-2 div.sk-parallel-item::after {content: \"\";width: 100%;border-bottom: 1px solid gray;flex-grow: 1;}#sk-container-id-2 div.sk-label:hover label.sk-toggleable__label {background-color: #d4ebff;}#sk-container-id-2 div.sk-serial::before {content: \"\";position: absolute;border-left: 1px solid gray;box-sizing: border-box;top: 0;bottom: 0;left: 50%;z-index: 0;}#sk-container-id-2 div.sk-serial {display: flex;flex-direction: column;align-items: center;background-color: white;padding-right: 0.2em;padding-left: 0.2em;position: relative;}#sk-container-id-2 div.sk-item {position: relative;z-index: 1;}#sk-container-id-2 div.sk-parallel {display: flex;align-items: stretch;justify-content: center;background-color: white;position: relative;}#sk-container-id-2 div.sk-item::before, #sk-container-id-2 div.sk-parallel-item::before {content: \"\";position: absolute;border-left: 1px solid gray;box-sizing: border-box;top: 0;bottom: 0;left: 50%;z-index: -1;}#sk-container-id-2 div.sk-parallel-item {display: flex;flex-direction: column;z-index: 1;position: relative;background-color: white;}#sk-container-id-2 div.sk-parallel-item:first-child::after {align-self: flex-end;width: 50%;}#sk-container-id-2 div.sk-parallel-item:last-child::after {align-self: flex-start;width: 50%;}#sk-container-id-2 div.sk-parallel-item:only-child::after {width: 0;}#sk-container-id-2 div.sk-dashed-wrapped {border: 1px dashed gray;margin: 0 0.4em 0.5em 0.4em;box-sizing: border-box;padding-bottom: 0.4em;background-color: white;}#sk-container-id-2 div.sk-label label {font-family: monospace;font-weight: bold;display: inline-block;line-height: 1.2em;}#sk-container-id-2 div.sk-label-container {text-align: center;}#sk-container-id-2 div.sk-container {/* jupyter's `normalize.less` sets `[hidden] { display: none; }` but bootstrap.min.css set `[hidden] { display: none !important; }` so we also need the `!important` here to be able to override the default hidden behavior on the sphinx rendered scikit-learn.org. See: https://github.com/scikit-learn/scikit-learn/issues/21755 */display: inline-block !important;position: relative;}#sk-container-id-2 div.sk-text-repr-fallback {display: none;}</style><div id=\"sk-container-id-2\" class=\"sk-top-container\"><div class=\"sk-text-repr-fallback\"><pre>GridSearchCV(estimator=MultinomialNB(),\n",
              "             param_grid={&#x27;alpha&#x27;: [0.1, 0, 1.0, 10, 100]}, verbose=2)</pre><b>In a Jupyter environment, please rerun this cell to show the HTML representation or trust the notebook. <br />On GitHub, the HTML representation is unable to render, please try loading this page with nbviewer.org.</b></div><div class=\"sk-container\" hidden><div class=\"sk-item sk-dashed-wrapped\"><div class=\"sk-label-container\"><div class=\"sk-label sk-toggleable\"><input class=\"sk-toggleable__control sk-hidden--visually\" id=\"sk-estimator-id-4\" type=\"checkbox\" ><label for=\"sk-estimator-id-4\" class=\"sk-toggleable__label sk-toggleable__label-arrow\">GridSearchCV</label><div class=\"sk-toggleable__content\"><pre>GridSearchCV(estimator=MultinomialNB(),\n",
              "             param_grid={&#x27;alpha&#x27;: [0.1, 0, 1.0, 10, 100]}, verbose=2)</pre></div></div></div><div class=\"sk-parallel\"><div class=\"sk-parallel-item\"><div class=\"sk-item\"><div class=\"sk-label-container\"><div class=\"sk-label sk-toggleable\"><input class=\"sk-toggleable__control sk-hidden--visually\" id=\"sk-estimator-id-5\" type=\"checkbox\" ><label for=\"sk-estimator-id-5\" class=\"sk-toggleable__label sk-toggleable__label-arrow\">estimator: MultinomialNB</label><div class=\"sk-toggleable__content\"><pre>MultinomialNB()</pre></div></div></div><div class=\"sk-serial\"><div class=\"sk-item\"><div class=\"sk-estimator sk-toggleable\"><input class=\"sk-toggleable__control sk-hidden--visually\" id=\"sk-estimator-id-6\" type=\"checkbox\" ><label for=\"sk-estimator-id-6\" class=\"sk-toggleable__label sk-toggleable__label-arrow\">MultinomialNB</label><div class=\"sk-toggleable__content\"><pre>MultinomialNB()</pre></div></div></div></div></div></div></div></div></div></div>"
            ]
          },
          "metadata": {},
          "execution_count": 42
        }
      ],
      "source": [
        "# Hyperparameter tuning for Multinomial Naive Bayes model\n",
        "\n",
        "param_grid = {\"alpha\": [0.1,0,1.0, 10, 100]}\n",
        "\n",
        "grid_search = GridSearchCV(MultinomialNB(), param_grid, verbose=2)\n",
        "\n",
        "grid_search.fit(X_train_tfidf, y_train)"
      ],
      "id": "A0FMvAykRsVb"
    },
    {
      "cell_type": "code",
      "execution_count": null,
      "metadata": {
        "id": "6hXPSw_FRtJo",
        "colab": {
          "base_uri": "https://localhost:8080/",
          "height": 935
        },
        "outputId": "ae9dceae-06f0-4310-ff20-8b728558f89c"
      },
      "outputs": [
        {
          "output_type": "stream",
          "name": "stdout",
          "text": [
            "Fitting 5 folds for each of 5 candidates, totalling 25 fits\n",
            "[CV] END ..........................................alpha=0.1; total time=   0.3s\n",
            "[CV] END ..........................................alpha=0.1; total time=   1.0s\n",
            "[CV] END ..........................................alpha=0.1; total time=   0.8s\n",
            "[CV] END ..........................................alpha=0.1; total time=   1.1s\n",
            "[CV] END ..........................................alpha=0.1; total time=   1.1s\n"
          ]
        },
        {
          "output_type": "stream",
          "name": "stderr",
          "text": [
            "/usr/local/lib/python3.10/dist-packages/sklearn/naive_bayes.py:629: FutureWarning: The default value for `force_alpha` will change to `True` in 1.4. To suppress this warning, manually set the value of `force_alpha`.\n",
            "  warnings.warn(\n",
            "/usr/local/lib/python3.10/dist-packages/sklearn/naive_bayes.py:635: UserWarning: alpha too small will result in numeric errors, setting alpha = 1.0e-10. Use `force_alpha=True` to keep alpha unchanged.\n",
            "  warnings.warn(\n"
          ]
        },
        {
          "output_type": "stream",
          "name": "stdout",
          "text": [
            "[CV] END ............................................alpha=0; total time=   0.6s\n"
          ]
        },
        {
          "output_type": "stream",
          "name": "stderr",
          "text": [
            "/usr/local/lib/python3.10/dist-packages/sklearn/naive_bayes.py:629: FutureWarning: The default value for `force_alpha` will change to `True` in 1.4. To suppress this warning, manually set the value of `force_alpha`.\n",
            "  warnings.warn(\n",
            "/usr/local/lib/python3.10/dist-packages/sklearn/naive_bayes.py:635: UserWarning: alpha too small will result in numeric errors, setting alpha = 1.0e-10. Use `force_alpha=True` to keep alpha unchanged.\n",
            "  warnings.warn(\n"
          ]
        },
        {
          "output_type": "stream",
          "name": "stdout",
          "text": [
            "[CV] END ............................................alpha=0; total time=   0.5s\n"
          ]
        },
        {
          "output_type": "stream",
          "name": "stderr",
          "text": [
            "/usr/local/lib/python3.10/dist-packages/sklearn/naive_bayes.py:629: FutureWarning: The default value for `force_alpha` will change to `True` in 1.4. To suppress this warning, manually set the value of `force_alpha`.\n",
            "  warnings.warn(\n",
            "/usr/local/lib/python3.10/dist-packages/sklearn/naive_bayes.py:635: UserWarning: alpha too small will result in numeric errors, setting alpha = 1.0e-10. Use `force_alpha=True` to keep alpha unchanged.\n",
            "  warnings.warn(\n"
          ]
        },
        {
          "output_type": "stream",
          "name": "stdout",
          "text": [
            "[CV] END ............................................alpha=0; total time=   0.5s\n"
          ]
        },
        {
          "output_type": "stream",
          "name": "stderr",
          "text": [
            "/usr/local/lib/python3.10/dist-packages/sklearn/naive_bayes.py:629: FutureWarning: The default value for `force_alpha` will change to `True` in 1.4. To suppress this warning, manually set the value of `force_alpha`.\n",
            "  warnings.warn(\n",
            "/usr/local/lib/python3.10/dist-packages/sklearn/naive_bayes.py:635: UserWarning: alpha too small will result in numeric errors, setting alpha = 1.0e-10. Use `force_alpha=True` to keep alpha unchanged.\n",
            "  warnings.warn(\n"
          ]
        },
        {
          "output_type": "stream",
          "name": "stdout",
          "text": [
            "[CV] END ............................................alpha=0; total time=   0.4s\n"
          ]
        },
        {
          "output_type": "stream",
          "name": "stderr",
          "text": [
            "/usr/local/lib/python3.10/dist-packages/sklearn/naive_bayes.py:629: FutureWarning: The default value for `force_alpha` will change to `True` in 1.4. To suppress this warning, manually set the value of `force_alpha`.\n",
            "  warnings.warn(\n",
            "/usr/local/lib/python3.10/dist-packages/sklearn/naive_bayes.py:635: UserWarning: alpha too small will result in numeric errors, setting alpha = 1.0e-10. Use `force_alpha=True` to keep alpha unchanged.\n",
            "  warnings.warn(\n"
          ]
        },
        {
          "output_type": "stream",
          "name": "stdout",
          "text": [
            "[CV] END ............................................alpha=0; total time=   0.3s\n",
            "[CV] END ..........................................alpha=1.0; total time=   0.3s\n",
            "[CV] END ..........................................alpha=1.0; total time=   0.3s\n",
            "[CV] END ..........................................alpha=1.0; total time=   0.3s\n",
            "[CV] END ..........................................alpha=1.0; total time=   0.3s\n",
            "[CV] END ..........................................alpha=1.0; total time=   0.3s\n",
            "[CV] END ...........................................alpha=10; total time=   0.2s\n",
            "[CV] END ...........................................alpha=10; total time=   0.3s\n",
            "[CV] END ...........................................alpha=10; total time=   0.2s\n",
            "[CV] END ...........................................alpha=10; total time=   0.2s\n",
            "[CV] END ...........................................alpha=10; total time=   0.2s\n",
            "[CV] END ..........................................alpha=100; total time=   0.3s\n",
            "[CV] END ..........................................alpha=100; total time=   0.2s\n",
            "[CV] END ..........................................alpha=100; total time=   0.2s\n",
            "[CV] END ..........................................alpha=100; total time=   0.2s\n",
            "[CV] END ..........................................alpha=100; total time=   0.2s\n"
          ]
        },
        {
          "output_type": "execute_result",
          "data": {
            "text/plain": [
              "GridSearchCV(estimator=MultinomialNB(),\n",
              "             param_grid={'alpha': [0.1, 0, 1.0, 10, 100]}, verbose=2)"
            ],
            "text/html": [
              "<style>#sk-container-id-3 {color: black;background-color: white;}#sk-container-id-3 pre{padding: 0;}#sk-container-id-3 div.sk-toggleable {background-color: white;}#sk-container-id-3 label.sk-toggleable__label {cursor: pointer;display: block;width: 100%;margin-bottom: 0;padding: 0.3em;box-sizing: border-box;text-align: center;}#sk-container-id-3 label.sk-toggleable__label-arrow:before {content: \"▸\";float: left;margin-right: 0.25em;color: #696969;}#sk-container-id-3 label.sk-toggleable__label-arrow:hover:before {color: black;}#sk-container-id-3 div.sk-estimator:hover label.sk-toggleable__label-arrow:before {color: black;}#sk-container-id-3 div.sk-toggleable__content {max-height: 0;max-width: 0;overflow: hidden;text-align: left;background-color: #f0f8ff;}#sk-container-id-3 div.sk-toggleable__content pre {margin: 0.2em;color: black;border-radius: 0.25em;background-color: #f0f8ff;}#sk-container-id-3 input.sk-toggleable__control:checked~div.sk-toggleable__content {max-height: 200px;max-width: 100%;overflow: auto;}#sk-container-id-3 input.sk-toggleable__control:checked~label.sk-toggleable__label-arrow:before {content: \"▾\";}#sk-container-id-3 div.sk-estimator input.sk-toggleable__control:checked~label.sk-toggleable__label {background-color: #d4ebff;}#sk-container-id-3 div.sk-label input.sk-toggleable__control:checked~label.sk-toggleable__label {background-color: #d4ebff;}#sk-container-id-3 input.sk-hidden--visually {border: 0;clip: rect(1px 1px 1px 1px);clip: rect(1px, 1px, 1px, 1px);height: 1px;margin: -1px;overflow: hidden;padding: 0;position: absolute;width: 1px;}#sk-container-id-3 div.sk-estimator {font-family: monospace;background-color: #f0f8ff;border: 1px dotted black;border-radius: 0.25em;box-sizing: border-box;margin-bottom: 0.5em;}#sk-container-id-3 div.sk-estimator:hover {background-color: #d4ebff;}#sk-container-id-3 div.sk-parallel-item::after {content: \"\";width: 100%;border-bottom: 1px solid gray;flex-grow: 1;}#sk-container-id-3 div.sk-label:hover label.sk-toggleable__label {background-color: #d4ebff;}#sk-container-id-3 div.sk-serial::before {content: \"\";position: absolute;border-left: 1px solid gray;box-sizing: border-box;top: 0;bottom: 0;left: 50%;z-index: 0;}#sk-container-id-3 div.sk-serial {display: flex;flex-direction: column;align-items: center;background-color: white;padding-right: 0.2em;padding-left: 0.2em;position: relative;}#sk-container-id-3 div.sk-item {position: relative;z-index: 1;}#sk-container-id-3 div.sk-parallel {display: flex;align-items: stretch;justify-content: center;background-color: white;position: relative;}#sk-container-id-3 div.sk-item::before, #sk-container-id-3 div.sk-parallel-item::before {content: \"\";position: absolute;border-left: 1px solid gray;box-sizing: border-box;top: 0;bottom: 0;left: 50%;z-index: -1;}#sk-container-id-3 div.sk-parallel-item {display: flex;flex-direction: column;z-index: 1;position: relative;background-color: white;}#sk-container-id-3 div.sk-parallel-item:first-child::after {align-self: flex-end;width: 50%;}#sk-container-id-3 div.sk-parallel-item:last-child::after {align-self: flex-start;width: 50%;}#sk-container-id-3 div.sk-parallel-item:only-child::after {width: 0;}#sk-container-id-3 div.sk-dashed-wrapped {border: 1px dashed gray;margin: 0 0.4em 0.5em 0.4em;box-sizing: border-box;padding-bottom: 0.4em;background-color: white;}#sk-container-id-3 div.sk-label label {font-family: monospace;font-weight: bold;display: inline-block;line-height: 1.2em;}#sk-container-id-3 div.sk-label-container {text-align: center;}#sk-container-id-3 div.sk-container {/* jupyter's `normalize.less` sets `[hidden] { display: none; }` but bootstrap.min.css set `[hidden] { display: none !important; }` so we also need the `!important` here to be able to override the default hidden behavior on the sphinx rendered scikit-learn.org. See: https://github.com/scikit-learn/scikit-learn/issues/21755 */display: inline-block !important;position: relative;}#sk-container-id-3 div.sk-text-repr-fallback {display: none;}</style><div id=\"sk-container-id-3\" class=\"sk-top-container\"><div class=\"sk-text-repr-fallback\"><pre>GridSearchCV(estimator=MultinomialNB(),\n",
              "             param_grid={&#x27;alpha&#x27;: [0.1, 0, 1.0, 10, 100]}, verbose=2)</pre><b>In a Jupyter environment, please rerun this cell to show the HTML representation or trust the notebook. <br />On GitHub, the HTML representation is unable to render, please try loading this page with nbviewer.org.</b></div><div class=\"sk-container\" hidden><div class=\"sk-item sk-dashed-wrapped\"><div class=\"sk-label-container\"><div class=\"sk-label sk-toggleable\"><input class=\"sk-toggleable__control sk-hidden--visually\" id=\"sk-estimator-id-7\" type=\"checkbox\" ><label for=\"sk-estimator-id-7\" class=\"sk-toggleable__label sk-toggleable__label-arrow\">GridSearchCV</label><div class=\"sk-toggleable__content\"><pre>GridSearchCV(estimator=MultinomialNB(),\n",
              "             param_grid={&#x27;alpha&#x27;: [0.1, 0, 1.0, 10, 100]}, verbose=2)</pre></div></div></div><div class=\"sk-parallel\"><div class=\"sk-parallel-item\"><div class=\"sk-item\"><div class=\"sk-label-container\"><div class=\"sk-label sk-toggleable\"><input class=\"sk-toggleable__control sk-hidden--visually\" id=\"sk-estimator-id-8\" type=\"checkbox\" ><label for=\"sk-estimator-id-8\" class=\"sk-toggleable__label sk-toggleable__label-arrow\">estimator: MultinomialNB</label><div class=\"sk-toggleable__content\"><pre>MultinomialNB()</pre></div></div></div><div class=\"sk-serial\"><div class=\"sk-item\"><div class=\"sk-estimator sk-toggleable\"><input class=\"sk-toggleable__control sk-hidden--visually\" id=\"sk-estimator-id-9\" type=\"checkbox\" ><label for=\"sk-estimator-id-9\" class=\"sk-toggleable__label sk-toggleable__label-arrow\">MultinomialNB</label><div class=\"sk-toggleable__content\"><pre>MultinomialNB()</pre></div></div></div></div></div></div></div></div></div></div>"
            ]
          },
          "metadata": {},
          "execution_count": 43
        }
      ],
      "source": [
        "# Hyperparameter tuning for Multinomial Naive Bayes model\n",
        "\n",
        "param_grid = {\"alpha\": [0.1,0,1.0, 10, 100]}\n",
        "\n",
        "grid_search = GridSearchCV(MultinomialNB(), param_grid, verbose=2)\n",
        "\n",
        "grid_search.fit(X_train_ngram, y_train)"
      ],
      "id": "6hXPSw_FRtJo"
    },
    {
      "cell_type": "code",
      "source": [],
      "metadata": {
        "id": "3CWeSzxAh_T5"
      },
      "id": "3CWeSzxAh_T5",
      "execution_count": null,
      "outputs": []
    }
  ],
  "metadata": {
    "colab": {
      "provenance": [],
      "gpuType": "T4"
    },
    "kernelspec": {
      "display_name": "Python 3",
      "name": "python3"
    },
    "language_info": {
      "codemirror_mode": {
        "name": "ipython",
        "version": 3
      },
      "file_extension": ".py",
      "mimetype": "text/x-python",
      "name": "python",
      "nbconvert_exporter": "python",
      "pygments_lexer": "ipython3",
      "version": "3.9.12"
    },
    "accelerator": "GPU"
  },
  "nbformat": 4,
  "nbformat_minor": 5
}